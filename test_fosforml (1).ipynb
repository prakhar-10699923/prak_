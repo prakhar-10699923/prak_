{
 "cells": [
  {
   "cell_type": "code",
   "execution_count": null,
   "id": "0afc2275",
   "metadata": {},
   "outputs": [],
   "source": [
    "# !pip install fosforml"
   ]
  },
  {
   "cell_type": "code",
   "execution_count": 1,
   "id": "7210557a",
   "metadata": {},
   "outputs": [],
   "source": [
    "from fosforml.model_manager.snowflakesession import get_session\n",
    "session = get_session()"
   ]
  },
  {
   "cell_type": "code",
   "execution_count": 2,
   "id": "5280c9e3",
   "metadata": {},
   "outputs": [
    {
     "name": "stdout",
     "output_type": "stream",
     "text": [
      "{'user': 'SUNNYCHUGH', 'password': 'Password@1209', 'account': 'rwb76633', 'role': 'SUNNYCHUGH', 'warehouse': 'FOSFOR_WAREHOUSE', 'database': 'INSIGHT_DESIGNER_SPCS', 'schema': 'INSIGHT_SPCS_SCHEMA'}\n"
     ]
    }
   ],
   "source": [
    "from fosforml.model_manager import snowflakesession\n",
    "session_instance = snowflakesession()\n",
    "params = session_instance.connection_params\n",
    "print(params)"
   ]
  },
  {
   "cell_type": "markdown",
   "id": "c721c386",
   "metadata": {},
   "source": [
    "#### Snowflake Modeling"
   ]
  },
  {
   "cell_type": "code",
   "execution_count": 3,
   "id": "916edb20",
   "metadata": {},
   "outputs": [],
   "source": [
    "from snowflake.snowpark.session import Session,col\n",
    "import snowflake.snowpark.functions\n",
    "from snowflake.ml.modeling.metrics import confusion_matrix, accuracy_score, f1_score, recall_score,precision_score\n",
    "from snowflake.ml.modeling.preprocessing import LabelEncoder, StandardScaler\n",
    "from snowflake.ml.modeling.impute import SimpleImputer\n",
    "from snowflake.ml.modeling.ensemble import GradientBoostingClassifier\n",
    "from snowflake.ml.modeling.pipeline import Pipeline\n",
    "import snowflake"
   ]
  },
  {
   "cell_type": "code",
   "execution_count": 4,
   "id": "22b68ee6",
   "metadata": {},
   "outputs": [],
   "source": [
    "def apply_label_encoding(input_data_frame):\n",
    "    for i in input_data_frame.dtypes:\n",
    "        if i[1].find('string') >= 0:\n",
    "            label_encoder = LabelEncoder(input_cols=i[0],output_cols=i[0],drop_input_cols=True)\n",
    "            input_data_frame = label_encoder.fit(input_data_frame).transform(input_data_frame)\n",
    "    return input_data_frame"
   ]
  },
  {
   "cell_type": "code",
   "execution_count": 6,
   "id": "eb482cda",
   "metadata": {},
   "outputs": [],
   "source": [
    "# snow_df = session.table(\"HR_CHURN\")\n",
    "import pandas as pd\n",
    "df =pd.read_csv(\"HR_CHURN.csv\")\n",
    "snow_df = session.create_dataframe(df)\n",
    "input_data_frame, test_df = snow_df.randomSplit([0.75, 0.25])"
   ]
  },
  {
   "cell_type": "code",
   "execution_count": 7,
   "id": "666efab7",
   "metadata": {},
   "outputs": [],
   "source": [
    "input_data_frame = input_data_frame.drop(\"Unnamed: 0\")\n",
    "test_df = test_df.drop(\"Unnamed: 0\")"
   ]
  },
  {
   "cell_type": "code",
   "execution_count": 8,
   "id": "7f902d8a",
   "metadata": {},
   "outputs": [],
   "source": [
    "label_encoder_column = []     \n",
    "input_data_frame = apply_label_encoding(input_data_frame)\n",
    "feature_cols = input_data_frame.columns\n",
    "target_col = \"SALARY\"\n",
    "feature_cols.remove(target_col)\n",
    "OUTPUT_COLS = [target_col + '_PREDICTION']"
   ]
  },
  {
   "cell_type": "code",
   "execution_count": 9,
   "id": "cad75394",
   "metadata": {},
   "outputs": [
    {
     "name": "stdout",
     "output_type": "stream",
     "text": [
      "----------------------------------------------------------------------------------------------------------------------------------------------------------------------------------------------\n",
      "|\"SALARY\"  |\"DEPARTMENT\"  |\"SATISFACTION_LEVEL\"  |\"LAST_EVALUATION\"  |\"NUMBER_PROJECT\"  |\"AVERAGE_MONTLY_HOURS\"  |\"TIME_SPEND_COMPANY\"  |\"WORK_ACCIDENT\"  |\"LEFT\"  |\"PROMOTION_LAST_5YEARS\"  |\n",
      "----------------------------------------------------------------------------------------------------------------------------------------------------------------------------------------------\n",
      "|1.0       |7.0           |0.38                  |0.53               |2                 |157                     |3                     |0                |1       |0                        |\n",
      "|2.0       |7.0           |0.11                  |0.88               |7                 |272                     |4                     |0                |1       |0                        |\n",
      "|1.0       |7.0           |0.37                  |0.52               |2                 |159                     |3                     |0                |1       |0                        |\n",
      "|1.0       |7.0           |0.41                  |0.5                |2                 |153                     |3                     |0                |1       |0                        |\n",
      "|1.0       |7.0           |0.92                  |0.85               |5                 |259                     |5                     |0                |1       |0                        |\n",
      "|1.0       |7.0           |0.89                  |1.0                |5                 |224                     |5                     |0                |1       |0                        |\n",
      "|1.0       |7.0           |0.42                  |0.53               |2                 |142                     |3                     |0                |1       |0                        |\n",
      "|1.0       |7.0           |0.11                  |0.81               |6                 |305                     |4                     |0                |1       |0                        |\n",
      "|1.0       |7.0           |0.41                  |0.55               |2                 |148                     |3                     |0                |1       |0                        |\n",
      "|1.0       |7.0           |0.36                  |0.56               |2                 |137                     |3                     |0                |1       |0                        |\n",
      "----------------------------------------------------------------------------------------------------------------------------------------------------------------------------------------------\n",
      "\n"
     ]
    }
   ],
   "source": [
    "input_data_frame.show()"
   ]
  },
  {
   "cell_type": "code",
   "execution_count": 10,
   "id": "98b3c359",
   "metadata": {
    "scrolled": true
   },
   "outputs": [
    {
     "name": "stderr",
     "output_type": "stream",
     "text": [
      "The version of package 'snowflake-snowpark-python' in the local environment is 1.20.0, which does not fit the criteria for the requirement 'snowflake-snowpark-python'. Your UDF might not work when the package version is different between the server and your local environment.\n",
      "The version of package 'scikit-learn' in the local environment is 1.3.2, which does not fit the criteria for the requirement 'scikit-learn==1.3.0'. Your UDF might not work when the package version is different between the server and your local environment.\n"
     ]
    },
    {
     "data": {
      "text/plain": [
       "<snowflake.ml.modeling.ensemble.gradient_boosting_classifier.GradientBoostingClassifier at 0x7f9cc87e4e50>"
      ]
     },
     "execution_count": 10,
     "metadata": {},
     "output_type": "execute_result"
    }
   ],
   "source": [
    "pipeline = GradientBoostingClassifier(input_cols=feature_cols, label_cols=target_col)\n",
    "pipeline.fit(input_data_frame)"
   ]
  },
  {
   "cell_type": "code",
   "execution_count": 10,
   "id": "5f755f59",
   "metadata": {},
   "outputs": [
    {
     "data": {
      "text/plain": [
       "['SALARY']"
      ]
     },
     "execution_count": 10,
     "metadata": {},
     "output_type": "execute_result"
    }
   ],
   "source": [
    "pipeline.label_cols"
   ]
  },
  {
   "cell_type": "code",
   "execution_count": null,
   "id": "0bd9a983",
   "metadata": {},
   "outputs": [],
   "source": []
  },
  {
   "cell_type": "code",
   "execution_count": null,
   "id": "e3e7e53c",
   "metadata": {},
   "outputs": [],
   "source": []
  },
  {
   "cell_type": "code",
   "execution_count": null,
   "id": "2bc52f29",
   "metadata": {},
   "outputs": [],
   "source": []
  },
  {
   "cell_type": "code",
   "execution_count": null,
   "id": "027e41ad",
   "metadata": {},
   "outputs": [],
   "source": []
  },
  {
   "cell_type": "code",
   "execution_count": 11,
   "id": "e6143a26",
   "metadata": {},
   "outputs": [
    {
     "name": "stdout",
     "output_type": "stream",
     "text": [
      "scikit-learn==1.3.2\n",
      "scipy==1.13.1\n"
     ]
    }
   ],
   "source": [
    "!pip freeze | grep -i sci"
   ]
  },
  {
   "cell_type": "code",
   "execution_count": 11,
   "id": "888ee0a1",
   "metadata": {},
   "outputs": [],
   "source": [
    "test_df = apply_label_encoding(test_df)"
   ]
  },
  {
   "cell_type": "code",
   "execution_count": 12,
   "id": "00a0138f",
   "metadata": {},
   "outputs": [
    {
     "name": "stderr",
     "output_type": "stream",
     "text": [
      "The version of package 'scikit-learn' in the local environment is 1.3.2, which does not fit the criteria for the requirement 'scikit-learn==1.3.0'. Your UDF might not work when the package version is different between the server and your local environment.\n"
     ]
    }
   ],
   "source": [
    "pred_df = pipeline.predict(test_df)"
   ]
  },
  {
   "cell_type": "code",
   "execution_count": 13,
   "id": "e423babd",
   "metadata": {
    "scrolled": true
   },
   "outputs": [
    {
     "name": "stdout",
     "output_type": "stream",
     "text": [
      "----------------------------------------------------------------------------------------------------------------------------------------------------------------------------------------------------------------\n",
      "|\"SALARY\"  |\"DEPARTMENT\"  |\"SATISFACTION_LEVEL\"  |\"LAST_EVALUATION\"  |\"NUMBER_PROJECT\"  |\"AVERAGE_MONTLY_HOURS\"  |\"TIME_SPEND_COMPANY\"  |\"WORK_ACCIDENT\"  |\"LEFT\"  |\"PROMOTION_LAST_5YEARS\"  |\"OUTPUT_SALARY\"  |\n",
      "----------------------------------------------------------------------------------------------------------------------------------------------------------------------------------------------------------------\n",
      "|2.0       |7.0           |0.8                   |0.86               |5                 |262                     |6                     |0                |1       |0                        |1.0              |\n",
      "|1.0       |7.0           |0.72                  |0.87               |5                 |223                     |5                     |0                |1       |0                        |1.0              |\n",
      "|1.0       |7.0           |0.1                   |0.77               |6                 |247                     |4                     |0                |1       |0                        |1.0              |\n",
      "|1.0       |7.0           |0.45                  |0.54               |2                 |135                     |3                     |0                |1       |0                        |1.0              |\n",
      "|1.0       |7.0           |0.84                  |0.92               |4                 |234                     |5                     |0                |1       |0                        |1.0              |\n",
      "|1.0       |7.0           |0.45                  |0.47               |2                 |160                     |3                     |0                |1       |0                        |1.0              |\n",
      "|1.0       |7.0           |0.45                  |0.51               |2                 |160                     |3                     |1                |1       |1                        |1.0              |\n",
      "|1.0       |7.0           |0.09                  |0.95               |6                 |304                     |4                     |0                |1       |0                        |1.0              |\n",
      "|1.0       |7.0           |0.89                  |0.92               |5                 |242                     |5                     |0                |1       |0                        |1.0              |\n",
      "|1.0       |2.0           |0.09                  |0.62               |6                 |294                     |4                     |0                |1       |0                        |1.0              |\n",
      "----------------------------------------------------------------------------------------------------------------------------------------------------------------------------------------------------------------\n",
      "\n"
     ]
    }
   ],
   "source": [
    "pred_df.show()"
   ]
  },
  {
   "cell_type": "markdown",
   "id": "ab53c5b7",
   "metadata": {},
   "source": [
    "#### Model Registration,"
   ]
  },
  {
   "cell_type": "code",
   "execution_count": 14,
   "id": "37401e62",
   "metadata": {},
   "outputs": [],
   "source": [
    "from fosforml import register_model"
   ]
  },
  {
   "cell_type": "code",
   "execution_count": 15,
   "id": "32b7c319",
   "metadata": {},
   "outputs": [
    {
     "name": "stdout",
     "output_type": "stream",
     "text": [
      "Calculating build time metrics\n",
      "\n",
      "Progress: ██████████████                                                         20.0%\n",
      "Calculating build time metrics\n",
      "\n",
      "Progress: ████████████████████████████                                           40.0%\n"
     ]
    },
    {
     "name": "stderr",
     "output_type": "stream",
     "text": [
      "The version of package 'scikit-learn' in the local environment is 1.3.2, which does not fit the criteria for the requirement 'scikit-learn<1.4'. Your UDF might not work when the package version is different between the server and your local environment.\n",
      "DataFrame.flatten() is deprecated since 0.7.0. Use `DataFrame.join_table_function()` instead.\n",
      "The version of package 'scikit-learn' in the local environment is 1.3.2, which does not fit the criteria for the requirement 'scikit-learn<1.4'. Your UDF might not work when the package version is different between the server and your local environment.\n",
      "The version of package 'scikit-learn' in the local environment is 1.3.2, which does not fit the criteria for the requirement 'scikit-learn<1.4'. Your UDF might not work when the package version is different between the server and your local environment.\n"
     ]
    },
    {
     "name": "stdout",
     "output_type": "stream",
     "text": [
      "Calculating build time metrics\n",
      "\n",
      "Progress: ██████████████████████████████████████████                             60.0%\n",
      "Calculating build time metrics\n",
      "\n",
      "Progress: ████████████████████████████████████████████████████████               80.0%\n",
      "Calculating build time metrics\n",
      "\n",
      "Progress: ██████████████████████████████████████████████████████████████████████ 100.0%\n",
      "Failed to set tags for model MODEL_E237AE1B_F676_46E0_A829_0EE7B6185891_FDC_SAURABH_HR_CHURN_22JULY.\n",
      "(1304): 01b5d505-0002-a40c-0033-ac8700ace166: 000002 (0A000): Unsupported feature 'TAG'.\n"
     ]
    },
    {
     "data": {
      "text/plain": [
       "\"Model 'MODEL_E237AE1B_F676_46E0_A829_0EE7B6185891_FDC_SAURABH_HR_CHURN_22JULY' registered successfully.\""
      ]
     },
     "execution_count": 15,
     "metadata": {},
     "output_type": "execute_result"
    }
   ],
   "source": [
    "register_model(\n",
    "  model_obj=pipeline,\n",
    "  session=session,\n",
    "  name=\"SAURABH_HR_CHURN_22July\",\n",
    "  snowflake_df=pred_df,\n",
    "  dataset_name=\"HR_CHURN\",\n",
    "  dataset_source=\"SnowflakeDataset\",\n",
    "  description=\"This is a test model\",\n",
    "  flavour=\"snowflake\",\n",
    "  model_type=\"classification\",\n",
    "  conda_dependencies=[\"scikit-learn==1.3.2\"]\n",
    ")"
   ]
  },
  {
   "cell_type": "code",
   "execution_count": 16,
   "id": "089a320e",
   "metadata": {},
   "outputs": [
    {
     "data": {
      "text/plain": [
       "'2024-07-16 07:52:42 AM'"
      ]
     },
     "execution_count": 16,
     "metadata": {},
     "output_type": "execute_result"
    }
   ],
   "source": [
    "session.sql(\"SELECT TO_CHAR(CURRENT_TIMESTAMP,'YYYY-MM-DD HH12:MI:SS PM')\").to_pandas().squeeze()"
   ]
  },
  {
   "cell_type": "code",
   "execution_count": null,
   "id": "5780264c",
   "metadata": {},
   "outputs": [],
   "source": []
  },
  {
   "cell_type": "code",
   "execution_count": null,
   "id": "c17a754e",
   "metadata": {},
   "outputs": [],
   "source": []
  },
  {
   "cell_type": "code",
   "execution_count": 17,
   "id": "73723c99",
   "metadata": {},
   "outputs": [
    {
     "name": "stderr",
     "output_type": "stream",
     "text": [
      "WARNING:snowflake.snowpark.session:The version of package 'scikit-learn' in the local environment is 1.3.2, which does not fit the criteria for the requirement 'scikit-learn==1.3.0'. Your UDF might not work when the package version is different between the server and your local environment.\n",
      "WARNING:snowflake.snowpark.session:The version of package 'scikit-learn' in the local environment is 1.3.2, which does not fit the criteria for the requirement 'scikit-learn==1.3.0'. Your UDF might not work when the package version is different between the server and your local environment.\n"
     ]
    }
   ],
   "source": [
    "current_data = pipeline.predict_proba(test_df)\n",
    "predict_col = list(pipeline.predict(test_df).to_pandas()['OUTPUT_SALARY'].to_numpy())\n",
    "from snowflake.snowpark.functions import lit\n",
    "current = None\n",
    "for i in range(len(predict_col)):\n",
    "    current = current_data.with_column('OUTPUT_SALARY',lit(predict_col[i]))"
   ]
  },
  {
   "cell_type": "code",
   "execution_count": 18,
   "id": "19ec66b1",
   "metadata": {},
   "outputs": [
    {
     "data": {
      "text/html": [
       "<div>\n",
       "<style scoped>\n",
       "    .dataframe tbody tr th:only-of-type {\n",
       "        vertical-align: middle;\n",
       "    }\n",
       "\n",
       "    .dataframe tbody tr th {\n",
       "        vertical-align: top;\n",
       "    }\n",
       "\n",
       "    .dataframe thead th {\n",
       "        text-align: right;\n",
       "    }\n",
       "</style>\n",
       "<table border=\"1\" class=\"dataframe\">\n",
       "  <thead>\n",
       "    <tr style=\"text-align: right;\">\n",
       "      <th></th>\n",
       "      <th>SALARY</th>\n",
       "      <th>DEPARTMENT</th>\n",
       "      <th>SATISFACTION_LEVEL</th>\n",
       "      <th>LAST_EVALUATION</th>\n",
       "      <th>NUMBER_PROJECT</th>\n",
       "      <th>AVERAGE_MONTLY_HOURS</th>\n",
       "      <th>TIME_SPEND_COMPANY</th>\n",
       "      <th>WORK_ACCIDENT</th>\n",
       "      <th>LEFT</th>\n",
       "      <th>PROMOTION_LAST_5YEARS</th>\n",
       "      <th>\"PREDICT_PROBA_0.0\"</th>\n",
       "      <th>\"PREDICT_PROBA_1.0\"</th>\n",
       "      <th>\"PREDICT_PROBA_2.0\"</th>\n",
       "      <th>OUTPUT_SALARY</th>\n",
       "    </tr>\n",
       "  </thead>\n",
       "  <tbody>\n",
       "    <tr>\n",
       "      <th>0</th>\n",
       "      <td>1.0</td>\n",
       "      <td>2.0</td>\n",
       "      <td>0.38</td>\n",
       "      <td>0.50</td>\n",
       "      <td>2</td>\n",
       "      <td>132</td>\n",
       "      <td>3</td>\n",
       "      <td>0</td>\n",
       "      <td>1</td>\n",
       "      <td>0</td>\n",
       "      <td>0.027671</td>\n",
       "      <td>0.535198</td>\n",
       "      <td>0.437131</td>\n",
       "      <td>1.0</td>\n",
       "    </tr>\n",
       "    <tr>\n",
       "      <th>1</th>\n",
       "      <td>2.0</td>\n",
       "      <td>6.0</td>\n",
       "      <td>0.90</td>\n",
       "      <td>0.98</td>\n",
       "      <td>4</td>\n",
       "      <td>264</td>\n",
       "      <td>6</td>\n",
       "      <td>0</td>\n",
       "      <td>1</td>\n",
       "      <td>0</td>\n",
       "      <td>0.018951</td>\n",
       "      <td>0.644719</td>\n",
       "      <td>0.336330</td>\n",
       "      <td>1.0</td>\n",
       "    </tr>\n",
       "    <tr>\n",
       "      <th>2</th>\n",
       "      <td>1.0</td>\n",
       "      <td>7.0</td>\n",
       "      <td>0.11</td>\n",
       "      <td>0.97</td>\n",
       "      <td>6</td>\n",
       "      <td>284</td>\n",
       "      <td>4</td>\n",
       "      <td>0</td>\n",
       "      <td>1</td>\n",
       "      <td>0</td>\n",
       "      <td>0.018491</td>\n",
       "      <td>0.643398</td>\n",
       "      <td>0.338111</td>\n",
       "      <td>1.0</td>\n",
       "    </tr>\n",
       "    <tr>\n",
       "      <th>3</th>\n",
       "      <td>2.0</td>\n",
       "      <td>9.0</td>\n",
       "      <td>0.37</td>\n",
       "      <td>0.48</td>\n",
       "      <td>2</td>\n",
       "      <td>137</td>\n",
       "      <td>3</td>\n",
       "      <td>0</td>\n",
       "      <td>1</td>\n",
       "      <td>0</td>\n",
       "      <td>0.031146</td>\n",
       "      <td>0.551970</td>\n",
       "      <td>0.416884</td>\n",
       "      <td>1.0</td>\n",
       "    </tr>\n",
       "    <tr>\n",
       "      <th>4</th>\n",
       "      <td>1.0</td>\n",
       "      <td>5.0</td>\n",
       "      <td>0.40</td>\n",
       "      <td>0.52</td>\n",
       "      <td>2</td>\n",
       "      <td>155</td>\n",
       "      <td>3</td>\n",
       "      <td>0</td>\n",
       "      <td>1</td>\n",
       "      <td>0</td>\n",
       "      <td>0.038289</td>\n",
       "      <td>0.589165</td>\n",
       "      <td>0.372546</td>\n",
       "      <td>1.0</td>\n",
       "    </tr>\n",
       "  </tbody>\n",
       "</table>\n",
       "</div>"
      ],
      "text/plain": [
       "   SALARY  DEPARTMENT  SATISFACTION_LEVEL  LAST_EVALUATION  NUMBER_PROJECT  \\\n",
       "0     1.0         2.0                0.38             0.50               2   \n",
       "1     2.0         6.0                0.90             0.98               4   \n",
       "2     1.0         7.0                0.11             0.97               6   \n",
       "3     2.0         9.0                0.37             0.48               2   \n",
       "4     1.0         5.0                0.40             0.52               2   \n",
       "\n",
       "   AVERAGE_MONTLY_HOURS  TIME_SPEND_COMPANY  WORK_ACCIDENT  LEFT  \\\n",
       "0                   132                   3              0     1   \n",
       "1                   264                   6              0     1   \n",
       "2                   284                   4              0     1   \n",
       "3                   137                   3              0     1   \n",
       "4                   155                   3              0     1   \n",
       "\n",
       "   PROMOTION_LAST_5YEARS  \"PREDICT_PROBA_0.0\"  \"PREDICT_PROBA_1.0\"  \\\n",
       "0                      0             0.027671             0.535198   \n",
       "1                      0             0.018951             0.644719   \n",
       "2                      0             0.018491             0.643398   \n",
       "3                      0             0.031146             0.551970   \n",
       "4                      0             0.038289             0.589165   \n",
       "\n",
       "   \"PREDICT_PROBA_2.0\"  OUTPUT_SALARY  \n",
       "0             0.437131            1.0  \n",
       "1             0.336330            1.0  \n",
       "2             0.338111            1.0  \n",
       "3             0.416884            1.0  \n",
       "4             0.372546            1.0  "
      ]
     },
     "execution_count": 18,
     "metadata": {},
     "output_type": "execute_result"
    }
   ],
   "source": [
    "current_pandas = current.to_pandas()\n",
    "current_pandas.head()"
   ]
  },
  {
   "cell_type": "code",
   "execution_count": 19,
   "id": "433fa1ac",
   "metadata": {},
   "outputs": [
    {
     "name": "stderr",
     "output_type": "stream",
     "text": [
      "WARNING:snowflake.snowpark.session:The version of package 'scikit-learn' in the local environment is 1.3.2, which does not fit the criteria for the requirement 'scikit-learn==1.3.0'. Your UDF might not work when the package version is different between the server and your local environment.\n",
      "WARNING:snowflake.snowpark.session:The version of package 'scikit-learn' in the local environment is 1.3.2, which does not fit the criteria for the requirement 'scikit-learn==1.3.0'. Your UDF might not work when the package version is different between the server and your local environment.\n"
     ]
    }
   ],
   "source": [
    "reference_data = pipeline.predict_proba(input_data_frame)\n",
    "predict_col = list(pipeline.predict(input_data_frame).to_pandas()['OUTPUT_SALARY'].to_numpy())\n",
    "from snowflake.snowpark.functions import lit\n",
    "reference = None\n",
    "for i in range(len(predict_col)):\n",
    "    reference = reference_data.with_column('OUTPUT_SALARY',lit(predict_col[i]))"
   ]
  },
  {
   "cell_type": "code",
   "execution_count": 20,
   "id": "56861256",
   "metadata": {},
   "outputs": [
    {
     "data": {
      "text/html": [
       "<div>\n",
       "<style scoped>\n",
       "    .dataframe tbody tr th:only-of-type {\n",
       "        vertical-align: middle;\n",
       "    }\n",
       "\n",
       "    .dataframe tbody tr th {\n",
       "        vertical-align: top;\n",
       "    }\n",
       "\n",
       "    .dataframe thead th {\n",
       "        text-align: right;\n",
       "    }\n",
       "</style>\n",
       "<table border=\"1\" class=\"dataframe\">\n",
       "  <thead>\n",
       "    <tr style=\"text-align: right;\">\n",
       "      <th></th>\n",
       "      <th>SALARY</th>\n",
       "      <th>DEPARTMENT</th>\n",
       "      <th>SATISFACTION_LEVEL</th>\n",
       "      <th>LAST_EVALUATION</th>\n",
       "      <th>NUMBER_PROJECT</th>\n",
       "      <th>AVERAGE_MONTLY_HOURS</th>\n",
       "      <th>TIME_SPEND_COMPANY</th>\n",
       "      <th>WORK_ACCIDENT</th>\n",
       "      <th>LEFT</th>\n",
       "      <th>PROMOTION_LAST_5YEARS</th>\n",
       "      <th>\"PREDICT_PROBA_0.0\"</th>\n",
       "      <th>\"PREDICT_PROBA_1.0\"</th>\n",
       "      <th>\"PREDICT_PROBA_2.0\"</th>\n",
       "      <th>OUTPUT_SALARY</th>\n",
       "    </tr>\n",
       "  </thead>\n",
       "  <tbody>\n",
       "    <tr>\n",
       "      <th>0</th>\n",
       "      <td>1.0</td>\n",
       "      <td>7.0</td>\n",
       "      <td>0.37</td>\n",
       "      <td>0.52</td>\n",
       "      <td>2</td>\n",
       "      <td>159</td>\n",
       "      <td>3</td>\n",
       "      <td>0</td>\n",
       "      <td>1</td>\n",
       "      <td>0</td>\n",
       "      <td>0.027898</td>\n",
       "      <td>0.658963</td>\n",
       "      <td>0.313138</td>\n",
       "      <td>1.0</td>\n",
       "    </tr>\n",
       "    <tr>\n",
       "      <th>1</th>\n",
       "      <td>1.0</td>\n",
       "      <td>7.0</td>\n",
       "      <td>0.84</td>\n",
       "      <td>0.92</td>\n",
       "      <td>4</td>\n",
       "      <td>234</td>\n",
       "      <td>5</td>\n",
       "      <td>0</td>\n",
       "      <td>1</td>\n",
       "      <td>0</td>\n",
       "      <td>0.020352</td>\n",
       "      <td>0.659914</td>\n",
       "      <td>0.319734</td>\n",
       "      <td>1.0</td>\n",
       "    </tr>\n",
       "    <tr>\n",
       "      <th>2</th>\n",
       "      <td>1.0</td>\n",
       "      <td>7.0</td>\n",
       "      <td>0.82</td>\n",
       "      <td>0.87</td>\n",
       "      <td>4</td>\n",
       "      <td>239</td>\n",
       "      <td>5</td>\n",
       "      <td>0</td>\n",
       "      <td>1</td>\n",
       "      <td>0</td>\n",
       "      <td>0.025122</td>\n",
       "      <td>0.662690</td>\n",
       "      <td>0.312188</td>\n",
       "      <td>1.0</td>\n",
       "    </tr>\n",
       "    <tr>\n",
       "      <th>3</th>\n",
       "      <td>1.0</td>\n",
       "      <td>9.0</td>\n",
       "      <td>0.41</td>\n",
       "      <td>0.54</td>\n",
       "      <td>2</td>\n",
       "      <td>152</td>\n",
       "      <td>3</td>\n",
       "      <td>0</td>\n",
       "      <td>1</td>\n",
       "      <td>0</td>\n",
       "      <td>0.025384</td>\n",
       "      <td>0.665482</td>\n",
       "      <td>0.309134</td>\n",
       "      <td>1.0</td>\n",
       "    </tr>\n",
       "    <tr>\n",
       "      <th>4</th>\n",
       "      <td>1.0</td>\n",
       "      <td>8.0</td>\n",
       "      <td>0.40</td>\n",
       "      <td>0.54</td>\n",
       "      <td>2</td>\n",
       "      <td>148</td>\n",
       "      <td>3</td>\n",
       "      <td>0</td>\n",
       "      <td>1</td>\n",
       "      <td>0</td>\n",
       "      <td>0.024487</td>\n",
       "      <td>0.697544</td>\n",
       "      <td>0.277969</td>\n",
       "      <td>1.0</td>\n",
       "    </tr>\n",
       "  </tbody>\n",
       "</table>\n",
       "</div>"
      ],
      "text/plain": [
       "   SALARY  DEPARTMENT  SATISFACTION_LEVEL  LAST_EVALUATION  NUMBER_PROJECT  \\\n",
       "0     1.0         7.0                0.37             0.52               2   \n",
       "1     1.0         7.0                0.84             0.92               4   \n",
       "2     1.0         7.0                0.82             0.87               4   \n",
       "3     1.0         9.0                0.41             0.54               2   \n",
       "4     1.0         8.0                0.40             0.54               2   \n",
       "\n",
       "   AVERAGE_MONTLY_HOURS  TIME_SPEND_COMPANY  WORK_ACCIDENT  LEFT  \\\n",
       "0                   159                   3              0     1   \n",
       "1                   234                   5              0     1   \n",
       "2                   239                   5              0     1   \n",
       "3                   152                   3              0     1   \n",
       "4                   148                   3              0     1   \n",
       "\n",
       "   PROMOTION_LAST_5YEARS  \"PREDICT_PROBA_0.0\"  \"PREDICT_PROBA_1.0\"  \\\n",
       "0                      0             0.027898             0.658963   \n",
       "1                      0             0.020352             0.659914   \n",
       "2                      0             0.025122             0.662690   \n",
       "3                      0             0.025384             0.665482   \n",
       "4                      0             0.024487             0.697544   \n",
       "\n",
       "   \"PREDICT_PROBA_2.0\"  OUTPUT_SALARY  \n",
       "0             0.313138            1.0  \n",
       "1             0.319734            1.0  \n",
       "2             0.312188            1.0  \n",
       "3             0.309134            1.0  \n",
       "4             0.277969            1.0  "
      ]
     },
     "execution_count": 20,
     "metadata": {},
     "output_type": "execute_result"
    }
   ],
   "source": [
    "reference_pandas = reference.to_pandas()\n",
    "reference_pandas.head()"
   ]
  },
  {
   "cell_type": "code",
   "execution_count": 21,
   "id": "2a1ef154",
   "metadata": {},
   "outputs": [],
   "source": [
    "inference_pandas_data = test_df.to_pandas()"
   ]
  },
  {
   "cell_type": "code",
   "execution_count": 22,
   "id": "f289c026",
   "metadata": {},
   "outputs": [
    {
     "name": "stdout",
     "output_type": "stream",
     "text": [
      "----------------------------------------------------------------------------------------------------------------------------------------------------------------------------------------------------------------------------------------------------------------------------------------------\n",
      "|\"SALARY\"  |\"DEPARTMENT\"  |\"SATISFACTION_LEVEL\"  |\"LAST_EVALUATION\"  |\"NUMBER_PROJECT\"  |\"AVERAGE_MONTLY_HOURS\"  |\"TIME_SPEND_COMPANY\"  |\"WORK_ACCIDENT\"  |\"LEFT\"  |\"PROMOTION_LAST_5YEARS\"  |\"\"\"PREDICT_PROBA_0.0\"\"\"  |\"\"\"PREDICT_PROBA_1.0\"\"\"  |\"\"\"PREDICT_PROBA_2.0\"\"\"  |\"OUTPUT_SALARY\"  |\n",
      "----------------------------------------------------------------------------------------------------------------------------------------------------------------------------------------------------------------------------------------------------------------------------------------------\n",
      "|1.0       |7.0           |0.37                  |0.52               |2                 |159                     |3                     |0                |1       |0                        |0.027898480841698083     |0.658963417431772        |0.3131381017265299       |1.0              |\n",
      "|1.0       |7.0           |0.84                  |0.92               |4                 |234                     |5                     |0                |1       |0                        |0.02035170829595537      |0.659913899657006        |0.31973439204703863      |1.0              |\n",
      "|1.0       |7.0           |0.82                  |0.87               |4                 |239                     |5                     |0                |1       |0                        |0.025122082496133874     |0.6626897831239559       |0.3121881343799103       |1.0              |\n",
      "|1.0       |9.0           |0.41                  |0.54               |2                 |152                     |3                     |0                |1       |0                        |0.025384087413750114     |0.6654818136081238       |0.30913409897812605      |1.0              |\n",
      "|1.0       |8.0           |0.4                   |0.54               |2                 |148                     |3                     |0                |1       |0                        |0.024487282874855534     |0.6975440748878224       |0.27796864223732193      |1.0              |\n",
      "|1.0       |8.0           |0.11                  |0.94               |7                 |255                     |4                     |0                |1       |0                        |0.012793133545237558     |0.5592169947701037       |0.4279898716846588       |1.0              |\n",
      "|2.0       |6.0           |0.43                  |0.54               |2                 |153                     |3                     |0                |1       |0                        |0.03128328139216885      |0.6244960036597862       |0.34422071494804496      |1.0              |\n",
      "|1.0       |7.0           |0.43                  |0.56               |2                 |157                     |3                     |0                |1       |0                        |0.03182503045317669      |0.6291715766675633       |0.3390033928792599       |1.0              |\n",
      "|1.0       |7.0           |0.4                   |0.5                |2                 |130                     |3                     |0                |1       |0                        |0.034461097456761895     |0.6432990715733571       |0.3222398309698809       |1.0              |\n",
      "|2.0       |7.0           |0.9                   |1.0                |5                 |221                     |6                     |0                |1       |0                        |0.016357644876956515     |0.6324399352453018       |0.35120241987774176      |1.0              |\n",
      "----------------------------------------------------------------------------------------------------------------------------------------------------------------------------------------------------------------------------------------------------------------------------------------------\n",
      "\n"
     ]
    }
   ],
   "source": [
    "session.write_pandas(reference_pandas,table_name=\"HR_REFERENCE_DATA\",overwrite=True).show()"
   ]
  },
  {
   "cell_type": "code",
   "execution_count": 23,
   "id": "3b8bba5c",
   "metadata": {},
   "outputs": [
    {
     "name": "stdout",
     "output_type": "stream",
     "text": [
      "----------------------------------------------------------------------------------------------------------------------------------------------------------------------------------------------------------------------------------------------------------------------------------------------\n",
      "|\"SALARY\"  |\"DEPARTMENT\"  |\"SATISFACTION_LEVEL\"  |\"LAST_EVALUATION\"  |\"NUMBER_PROJECT\"  |\"AVERAGE_MONTLY_HOURS\"  |\"TIME_SPEND_COMPANY\"  |\"WORK_ACCIDENT\"  |\"LEFT\"  |\"PROMOTION_LAST_5YEARS\"  |\"\"\"PREDICT_PROBA_0.0\"\"\"  |\"\"\"PREDICT_PROBA_1.0\"\"\"  |\"\"\"PREDICT_PROBA_2.0\"\"\"  |\"OUTPUT_SALARY\"  |\n",
      "----------------------------------------------------------------------------------------------------------------------------------------------------------------------------------------------------------------------------------------------------------------------------------------------\n",
      "|1.0       |2.0           |0.38                  |0.5                |2                 |132                     |3                     |0                |1       |0                        |0.027670663462857976     |0.5351982443892525       |0.4371310921478894       |1.0              |\n",
      "|2.0       |6.0           |0.9                   |0.98               |4                 |264                     |6                     |0                |1       |0                        |0.018950705218065158     |0.6447193006589742       |0.33632999412296083      |1.0              |\n",
      "|1.0       |7.0           |0.11                  |0.97               |6                 |284                     |4                     |0                |1       |0                        |0.018491493994581137     |0.643397950052285        |0.3381105559531339       |1.0              |\n",
      "|2.0       |9.0           |0.37                  |0.48               |2                 |137                     |3                     |0                |1       |0                        |0.03114620477994488      |0.5519700693016684       |0.41688372591838685      |1.0              |\n",
      "|1.0       |5.0           |0.4                   |0.52               |2                 |155                     |3                     |0                |1       |0                        |0.03828868044443205      |0.5891652017743076       |0.37254611778126034      |1.0              |\n",
      "|2.0       |2.0           |0.1                   |0.84               |6                 |261                     |4                     |0                |1       |0                        |0.03154130029149381      |0.43602672353532035      |0.5324319761731858       |1.0              |\n",
      "|1.0       |7.0           |0.1                   |0.87               |7                 |289                     |4                     |0                |1       |0                        |0.028641925368699337     |0.6941061050515765       |0.2772519695797241       |1.0              |\n",
      "|2.0       |0.0           |0.38                  |0.51               |2                 |146                     |3                     |0                |1       |0                        |0.030253793003813773     |0.6060206666319301       |0.3637255403642561       |1.0              |\n",
      "|1.0       |7.0           |0.11                  |0.91               |7                 |287                     |4                     |0                |1       |0                        |0.02215999232277609      |0.723949940280458        |0.2538900673967659       |1.0              |\n",
      "|2.0       |3.0           |0.1                   |0.91               |6                 |246                     |4                     |0                |1       |0                        |0.02583276428250084      |0.46315354913625334      |0.5110136865812457       |1.0              |\n",
      "----------------------------------------------------------------------------------------------------------------------------------------------------------------------------------------------------------------------------------------------------------------------------------------------\n",
      "\n"
     ]
    }
   ],
   "source": [
    "session.write_pandas(current_pandas,table_name=\"HR_CURRENT_DATA\",overwrite=True).show()"
   ]
  },
  {
   "cell_type": "code",
   "execution_count": 24,
   "id": "89359823",
   "metadata": {},
   "outputs": [
    {
     "name": "stdout",
     "output_type": "stream",
     "text": [
      "----------------------------------------------------------------------------------------------------------------------------------------------------------------------------------------------\n",
      "|\"SALARY\"  |\"DEPARTMENT\"  |\"SATISFACTION_LEVEL\"  |\"LAST_EVALUATION\"  |\"NUMBER_PROJECT\"  |\"AVERAGE_MONTLY_HOURS\"  |\"TIME_SPEND_COMPANY\"  |\"WORK_ACCIDENT\"  |\"LEFT\"  |\"PROMOTION_LAST_5YEARS\"  |\n",
      "----------------------------------------------------------------------------------------------------------------------------------------------------------------------------------------------\n",
      "|1.0       |7.0           |0.78                  |0.99               |4                 |255                     |6                     |0                |1       |0                        |\n",
      "|1.0       |7.0           |0.45                  |0.51               |2                 |160                     |3                     |1                |1       |1                        |\n",
      "|1.0       |7.0           |0.76                  |0.89               |5                 |262                     |5                     |0                |1       |0                        |\n",
      "|1.0       |7.0           |0.38                  |0.55               |2                 |147                     |3                     |0                |1       |0                        |\n",
      "|1.0       |7.0           |0.4                   |0.53               |2                 |158                     |3                     |0                |1       |0                        |\n",
      "|1.0       |7.0           |0.89                  |0.92               |5                 |242                     |5                     |0                |1       |0                        |\n",
      "|1.0       |2.0           |0.38                  |0.5                |2                 |132                     |3                     |0                |1       |0                        |\n",
      "|1.0       |2.0           |0.09                  |0.62               |6                 |294                     |4                     |0                |1       |0                        |\n",
      "|1.0       |3.0           |0.45                  |0.57               |2                 |134                     |3                     |0                |1       |0                        |\n",
      "|1.0       |3.0           |0.4                   |0.51               |2                 |145                     |3                     |0                |1       |0                        |\n",
      "----------------------------------------------------------------------------------------------------------------------------------------------------------------------------------------------\n",
      "\n"
     ]
    }
   ],
   "source": [
    "session.write_pandas(inference_pandas_data,table_name=\"HR_INFERENCE_DATA\",overwrite=True).show()"
   ]
  },
  {
   "cell_type": "code",
   "execution_count": null,
   "id": "22a0fc54",
   "metadata": {},
   "outputs": [],
   "source": []
  }
 ],
 "metadata": {
  "kernelspec": {
   "display_name": "Python 3 (ipykernel)",
   "language": "python",
   "name": "python3"
  },
  "language_info": {
   "codemirror_mode": {
    "name": "ipython",
    "version": 3
   },
   "file_extension": ".py",
   "mimetype": "text/x-python",
   "name": "python",
   "nbconvert_exporter": "python",
   "pygments_lexer": "ipython3",
   "version": "3.9.19"
  }
 },
 "nbformat": 4,
 "nbformat_minor": 5
}
