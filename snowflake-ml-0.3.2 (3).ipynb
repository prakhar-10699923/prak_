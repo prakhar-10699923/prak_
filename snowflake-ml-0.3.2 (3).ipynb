{
 "cells": [
  {
   "cell_type": "code",
   "execution_count": 1,
   "id": "efced8ce",
   "metadata": {},
   "outputs": [
    {
     "name": "stdout",
     "output_type": "stream",
     "text": [
      "Processing /data/snowflake_ml_python-0.2.3-py3-none-any.whl\n",
      "Collecting fsspec[http]<=2023.1,>=2022.11\n",
      "\u001b[?25l  Downloading https://files.pythonhosted.org/packages/bd/64/f0d369ede0ca54fdd520bdee5086dbaf0af81dac53a2ce847bd1ec6e0bf1/fsspec-2023.1.0-py3-none-any.whl (143kB)\n",
      "\u001b[K     |████████████████████████████████| 143kB 9.9MB/s eta 0:00:01\n",
      "\u001b[?25hCollecting pyyaml<7,>=6.0\n",
      "\u001b[?25l  Downloading https://files.pythonhosted.org/packages/d7/42/7ad4b6d67a16229496d4f6e74201bdbebcf4bc1e87d5a70c9297d4961bd2/PyYAML-6.0-cp38-cp38-manylinux_2_5_x86_64.manylinux1_x86_64.manylinux_2_12_x86_64.manylinux2010_x86_64.whl (701kB)\n",
      "\u001b[K     |████████████████████████████████| 706kB 93.8MB/s eta 0:00:01\n",
      "\u001b[?25hCollecting numpy<1.24,>=1.23\n",
      "\u001b[?25l  Downloading https://files.pythonhosted.org/packages/c6/4f/63f6f16d3f44a764a3b66c6233e133baf912e198a93e14c39ee991f587d0/numpy-1.23.5-cp38-cp38-manylinux_2_17_x86_64.manylinux2014_x86_64.whl (17.1MB)\n",
      "\u001b[K     |████████████████████████████████| 17.1MB 73.6MB/s eta 0:00:01\n",
      "\u001b[?25hCollecting scipy<2,>=1.9\n",
      "\u001b[?25l  Downloading https://files.pythonhosted.org/packages/69/f0/fb07a9548e48b687b8bf2fa81d71aba9cfc548d365046ca1c791e24db99d/scipy-1.10.1-cp38-cp38-manylinux_2_17_x86_64.manylinux2014_x86_64.whl (34.5MB)\n",
      "\u001b[K     |████████████████████████████████| 34.5MB 98.3MB/s eta 0:00:01\n",
      "\u001b[?25hCollecting snowflake-snowpark-python<=1.3,>=1.0.0\n",
      "\u001b[?25l  Downloading https://files.pythonhosted.org/packages/85/d5/6d04a16611b0eb2673fb6d900b8e3779a7fff6dfefc803194fa6d26b32ef/snowflake_snowpark_python-1.3.0-py3-none-any.whl (275kB)\n",
      "\u001b[K     |████████████████████████████████| 276kB 70.8MB/s eta 0:00:01\n",
      "\u001b[?25hCollecting absl-py<2,>=0.15\n",
      "\u001b[?25l  Downloading https://files.pythonhosted.org/packages/dd/87/de5c32fa1b1c6c3305d576e299801d8655c175ca9557019906247b994331/absl_py-1.4.0-py3-none-any.whl (126kB)\n",
      "\u001b[K     |████████████████████████████████| 133kB 100.1MB/s eta 0:00:01\n",
      "\u001b[?25hCollecting scikit-learn==1.2.1\n",
      "\u001b[?25l  Downloading https://files.pythonhosted.org/packages/f0/95/0ea0a2412e33080a47ec02802210c008a7a540471581c95145f030d304b4/scikit_learn-1.2.1-cp38-cp38-manylinux_2_17_x86_64.manylinux2014_x86_64.whl (9.8MB)\n",
      "\u001b[K     |████████████████████████████████| 9.8MB 76.4MB/s eta 0:00:01\n",
      "\u001b[?25hCollecting sqlparse<1,>=0.4\n",
      "\u001b[?25l  Downloading https://files.pythonhosted.org/packages/98/5a/66d7c9305baa9f11857f247d4ba761402cea75db6058ff850ed7128957b7/sqlparse-0.4.4-py3-none-any.whl (41kB)\n",
      "\u001b[K     |████████████████████████████████| 51kB 757kB/s  eta 0:00:01\n",
      "\u001b[?25hCollecting xgboost==1.7.3\n",
      "\u001b[?25l  Downloading https://files.pythonhosted.org/packages/62/c9/479450f314a76925dfeac1bf23c53f06bd0f1a2a7185621a5ad1979dd139/xgboost-1.7.3-py3-none-manylinux2014_x86_64.whl (193.6MB)\n",
      "\u001b[K     |████████████████████████████████| 193.6MB 32kB/s /s eta 0:00:01\n",
      "\u001b[?25hCollecting snowflake-connector-python[pandas]\n",
      "\u001b[?25l  Downloading https://files.pythonhosted.org/packages/10/a9/908a05d8e2a4c4a4e9fda61d9b983456c78e92dbdb2acb9373ce9673b469/snowflake_connector_python-3.0.4-cp38-cp38-manylinux_2_17_x86_64.manylinux2014_x86_64.whl (24.6MB)\n",
      "\u001b[K     |████████████████████████████████| 24.6MB 97.0MB/s eta 0:00:01\n",
      "\u001b[?25hCollecting aiohttp!=4.0.0a0,!=4.0.0a1; extra == \"http\"\n",
      "\u001b[?25l  Downloading https://files.pythonhosted.org/packages/d2/e5/cef5eeb11d7e8bac830b3bee1c8311b19bf8e8a1c45fe14b876c70adcd06/aiohttp-3.8.4-cp38-cp38-manylinux_2_17_x86_64.manylinux2014_x86_64.whl (1.0MB)\n",
      "\u001b[K     |████████████████████████████████| 1.0MB 66.9MB/s eta 0:00:01\n",
      "\u001b[?25hCollecting requests; extra == \"http\"\n",
      "\u001b[?25l  Downloading https://files.pythonhosted.org/packages/70/8e/0e2d847013cb52cd35b38c009bb167a1a26b2ce6cd6965bf26b47bc0bf44/requests-2.31.0-py3-none-any.whl (62kB)\n",
      "\u001b[K     |████████████████████████████████| 71kB 6.4MB/s  eta 0:00:01\n",
      "\u001b[?25hCollecting cloudpickle<=2.0.0,>=1.6.0\n",
      "  Downloading https://files.pythonhosted.org/packages/07/3c/bf72ebd3e78eb1ef773f4f0650ecdc29c6454aeafe9c08f6da3f227dd2bc/cloudpickle-2.0.0-py3-none-any.whl\n",
      "Collecting typing-extensions<5.0.0,>=4.1.0\n",
      "  Downloading https://files.pythonhosted.org/packages/38/60/300ad6f93adca578bf05d5f6cd1d854b7d140bebe2f9829561aa9977d9f3/typing_extensions-4.6.2-py3-none-any.whl\n",
      "Collecting setuptools>=40.6.0\n",
      "\u001b[?25l  Downloading https://files.pythonhosted.org/packages/f5/2c/074ab1c5be9c7d523d8d6d69d1f46f450fe7f11713147dc9e779aa4ca4ea/setuptools-67.8.0-py3-none-any.whl (1.1MB)\n",
      "\u001b[K     |████████████████████████████████| 1.1MB 86.2MB/s eta 0:00:01\n",
      "\u001b[?25hCollecting wheel\n",
      "\u001b[?25l  Downloading https://files.pythonhosted.org/packages/61/86/cc8d1ff2ca31a312a25a708c891cf9facbad4eae493b3872638db6785eb5/wheel-0.40.0-py3-none-any.whl (64kB)\n",
      "\u001b[K     |████████████████████████████████| 71kB 4.3MB/s  eta 0:00:01\n",
      "\u001b[?25hCollecting threadpoolctl>=2.0.0\n",
      "  Downloading https://files.pythonhosted.org/packages/61/cf/6e354304bcb9c6413c4e02a747b600061c21d38ba51e7e544ac7bc66aecc/threadpoolctl-3.1.0-py3-none-any.whl\n",
      "Collecting joblib>=1.1.1\n",
      "\u001b[?25l  Downloading https://files.pythonhosted.org/packages/91/d4/3b4c8e5a30604df4c7518c562d4bf0502f2fa29221459226e140cf846512/joblib-1.2.0-py3-none-any.whl (297kB)\n",
      "\u001b[K     |████████████████████████████████| 307kB 87.0MB/s eta 0:00:01\n",
      "\u001b[?25hCollecting idna<4,>=2.5\n",
      "\u001b[?25l  Downloading https://files.pythonhosted.org/packages/fc/34/3030de6f1370931b9dbb4dad48f6ab1015ab1d32447850b9fc94e60097be/idna-3.4-py3-none-any.whl (61kB)\n",
      "\u001b[K     |████████████████████████████████| 71kB 6.0MB/s  eta 0:00:01\n",
      "\u001b[?25hCollecting cryptography<41.0.0,>=3.1.0\n",
      "\u001b[?25l  Downloading https://files.pythonhosted.org/packages/9c/1b/30faebcef9be2df5728a8086b8fc15fff92364fe114fb207b70cd7c81329/cryptography-40.0.2-cp36-abi3-manylinux_2_17_x86_64.manylinux2014_x86_64.whl (3.7MB)\n",
      "\u001b[K     |████████████████████████████████| 3.7MB 73.1MB/s eta 0:00:01\n",
      "\u001b[?25hCollecting asn1crypto<2.0.0,>0.24.0\n",
      "\u001b[?25l  Downloading https://files.pythonhosted.org/packages/c9/7f/09065fd9e27da0eda08b4d6897f1c13535066174cc023af248fc2a8d5e5a/asn1crypto-1.5.1-py2.py3-none-any.whl (105kB)\n",
      "\u001b[K     |████████████████████████████████| 112kB 95.7MB/s eta 0:00:01\n",
      "\u001b[?25hCollecting pyOpenSSL<24.0.0,>=16.2.0\n",
      "\u001b[?25l  Downloading https://files.pythonhosted.org/packages/b7/6d/d7377332703ffd8821878794aca4fb54637da654bf3e467ffb32109c2147/pyOpenSSL-23.1.1-py3-none-any.whl (57kB)\n",
      "\u001b[K     |████████████████████████████████| 61kB 6.3MB/s  eta 0:00:01\n",
      "\u001b[?25hCollecting oscrypto<2.0.0\n",
      "\u001b[?25l  Downloading https://files.pythonhosted.org/packages/01/7c/fa07d3da2b6253eb8474be16eab2eadf670460e364ccc895ca7ff388ee30/oscrypto-1.3.0-py2.py3-none-any.whl (194kB)\n",
      "\u001b[K     |████████████████████████████████| 194kB 96.7MB/s eta 0:00:01\n",
      "\u001b[?25hCollecting pycryptodomex!=3.5.0,<4.0.0,>=3.2\n",
      "\u001b[?25l  Downloading https://files.pythonhosted.org/packages/45/09/ce11344724e674957402b5f3c0d663388f755ecd1c864f0c405b5f959bd8/pycryptodomex-3.18.0-cp35-abi3-manylinux_2_17_x86_64.manylinux2014_x86_64.whl (2.1MB)\n",
      "\u001b[K     |████████████████████████████████| 2.1MB 74.1MB/s eta 0:00:01\n",
      "\u001b[?25hCollecting cffi<2.0.0,>=1.9\n",
      "\u001b[?25l  Downloading https://files.pythonhosted.org/packages/b7/8b/06f30caa03b5b3ac006de4f93478dbd0239e2a16566d81a106c322dc4f79/cffi-1.15.1-cp38-cp38-manylinux_2_17_x86_64.manylinux2014_x86_64.whl (442kB)\n",
      "\u001b[K     |████████████████████████████████| 450kB 96.0MB/s eta 0:00:01\n",
      "\u001b[?25hCollecting packaging\n",
      "\u001b[?25l  Downloading https://files.pythonhosted.org/packages/ab/c3/57f0601a2d4fe15de7a553c00adbc901425661bf048f2a22dfc500caf121/packaging-23.1-py3-none-any.whl (48kB)\n",
      "\u001b[K     |████████████████████████████████| 51kB 4.6MB/s  eta 0:00:01\n",
      "\u001b[?25hCollecting charset-normalizer<4,>=2\n",
      "\u001b[?25l  Downloading https://files.pythonhosted.org/packages/74/5f/361202de730532028458b729781b8435f320e31a622c27f30e25eec80513/charset_normalizer-3.1.0-cp38-cp38-manylinux_2_17_x86_64.manylinux2014_x86_64.whl (195kB)\n",
      "\u001b[K     |████████████████████████████████| 204kB 102.3MB/s eta 0:00:01\n",
      "\u001b[?25hCollecting pyjwt<3.0.0\n",
      "  Downloading https://files.pythonhosted.org/packages/c7/e8/01b2e35d81e618a8212e651e10c91660bdfda49c1d15ce66f4ca1ff43649/PyJWT-2.7.0-py3-none-any.whl\n",
      "Collecting certifi>=2017.4.17\n",
      "\u001b[?25l  Downloading https://files.pythonhosted.org/packages/9d/19/59961b522e6757f0c9097e4493fa906031b95b3ebe9360b2c3083561a6b4/certifi-2023.5.7-py3-none-any.whl (156kB)\n",
      "\u001b[K     |████████████████████████████████| 163kB 110.8MB/s eta 0:00:01\n"
     ]
    },
    {
     "name": "stdout",
     "output_type": "stream",
     "text": [
      "\u001b[?25hCollecting sortedcontainers>=2.4.0\n",
      "  Downloading https://files.pythonhosted.org/packages/32/46/9cb0e58b2deb7f82b84065f37f3bffeb12413f947f9388e4cac22c4621ce/sortedcontainers-2.4.0-py2.py3-none-any.whl\n",
      "Collecting filelock<4,>=3.5\n",
      "  Downloading https://files.pythonhosted.org/packages/ad/73/b094a662ae05cdc4ec95bc54e434e307986a5de5960166b8161b7c1373ee/filelock-3.12.0-py3-none-any.whl\n",
      "Collecting urllib3<1.27,>=1.21.1\n",
      "\u001b[?25l  Downloading https://files.pythonhosted.org/packages/c5/05/c214b32d21c0b465506f95c4f28ccbcba15022e000b043b72b3df7728471/urllib3-1.26.16-py2.py3-none-any.whl (143kB)\n",
      "\u001b[K     |████████████████████████████████| 143kB 107.8MB/s eta 0:00:01\n",
      "\u001b[?25hCollecting pytz\n",
      "\u001b[?25l  Downloading https://files.pythonhosted.org/packages/7f/99/ad6bd37e748257dd70d6f85d916cafe79c0b0f5e2e95b11f7fbc82bf3110/pytz-2023.3-py2.py3-none-any.whl (502kB)\n",
      "\u001b[K     |████████████████████████████████| 512kB 109.3MB/s eta 0:00:01\n",
      "\u001b[?25hCollecting pandas<2.1.0,>=1.0.0; extra == \"pandas\"\n",
      "\u001b[?25l  Downloading https://files.pythonhosted.org/packages/9b/52/18c98eb7cc3965faf26b7a49453c2d0145b50143b2e417ead4e97707e2c2/pandas-2.0.2-cp38-cp38-manylinux_2_17_x86_64.manylinux2014_x86_64.whl (12.3MB)\n",
      "\u001b[K     |████████████████████████████████| 12.3MB 96.6MB/s eta 0:00:01\n",
      "\u001b[?25hCollecting pyarrow<10.1.0,>=10.0.1; extra == \"pandas\"\n",
      "\u001b[?25l  Downloading https://files.pythonhosted.org/packages/89/b4/04ae9d39130d0dc40803eb6fbe84873c247f9c8e8111ac9b2cb30c35b515/pyarrow-10.0.1-cp38-cp38-manylinux_2_17_x86_64.manylinux2014_x86_64.whl (36.0MB)\n",
      "\u001b[K     |████████████████████████████████| 36.0MB 103.6MB/s eta 0:00:01\n",
      "\u001b[?25hCollecting aiosignal>=1.1.2\n",
      "  Downloading https://files.pythonhosted.org/packages/76/ac/a7305707cb852b7e16ff80eaf5692309bde30e2b1100a1fcacdc8f731d97/aiosignal-1.3.1-py3-none-any.whl\n",
      "Collecting async-timeout<5.0,>=4.0.0a3\n",
      "  Downloading https://files.pythonhosted.org/packages/d6/c1/8991e7c5385b897b8c020cdaad718c5b087a6626d1d11a23e1ea87e325a7/async_timeout-4.0.2-py3-none-any.whl\n",
      "Collecting attrs>=17.3.0\n",
      "\u001b[?25l  Downloading https://files.pythonhosted.org/packages/f0/eb/fcb708c7bf5056045e9e98f62b93bd7467eb718b0202e7698eb11d66416c/attrs-23.1.0-py3-none-any.whl (61kB)\n",
      "\u001b[K     |████████████████████████████████| 61kB 5.4MB/s  eta 0:00:01\n",
      "\u001b[?25hCollecting yarl<2.0,>=1.0\n",
      "\u001b[?25l  Downloading https://files.pythonhosted.org/packages/c4/0c/7898c35ca4945fdd416e1dadeda985cc391e4f9298ae5e71c3a5cd88e82d/yarl-1.9.2-cp38-cp38-manylinux_2_17_x86_64.manylinux2014_x86_64.whl (266kB)\n",
      "\u001b[K     |████████████████████████████████| 276kB 101.1MB/s eta 0:00:01\n",
      "\u001b[?25hCollecting frozenlist>=1.1.1\n",
      "\u001b[?25l  Downloading https://files.pythonhosted.org/packages/ec/ab/a440db757401a1e8863c9abb374a77cb2884eda74ffbf555dedcf1fbe7f6/frozenlist-1.3.3-cp38-cp38-manylinux_2_5_x86_64.manylinux1_x86_64.manylinux_2_17_x86_64.manylinux2014_x86_64.whl (161kB)\n",
      "\u001b[K     |████████████████████████████████| 163kB 94.0MB/s eta 0:00:01\n",
      "\u001b[?25hCollecting multidict<7.0,>=4.5\n",
      "\u001b[?25l  Downloading https://files.pythonhosted.org/packages/fe/0c/8469202f8f4b0e65816f91c3febc4bda7316c995b59ecdf3b15c574f7a24/multidict-6.0.4-cp38-cp38-manylinux_2_17_x86_64.manylinux2014_x86_64.whl (121kB)\n",
      "\u001b[K     |████████████████████████████████| 122kB 97.6MB/s eta 0:00:01\n",
      "\u001b[?25hCollecting pycparser\n",
      "\u001b[?25l  Downloading https://files.pythonhosted.org/packages/62/d5/5f610ebe421e85889f2e55e33b7f9a6795bd982198517d912eb1c76e1a53/pycparser-2.21-py2.py3-none-any.whl (118kB)\n",
      "\u001b[K     |████████████████████████████████| 122kB 106.1MB/s eta 0:00:01\n",
      "\u001b[?25hCollecting python-dateutil>=2.8.2\n",
      "\u001b[?25l  Downloading https://files.pythonhosted.org/packages/36/7a/87837f39d0296e723bb9b62bbb257d0355c7f6128853c78955f57342a56d/python_dateutil-2.8.2-py2.py3-none-any.whl (247kB)\n",
      "\u001b[K     |████████████████████████████████| 256kB 93.8MB/s eta 0:00:01\n",
      "\u001b[?25hCollecting tzdata>=2022.1\n",
      "\u001b[?25l  Downloading https://files.pythonhosted.org/packages/d5/fb/a79efcab32b8a1f1ddca7f35109a50e4a80d42ac1c9187ab46522b2407d7/tzdata-2023.3-py2.py3-none-any.whl (341kB)\n",
      "\u001b[K     |████████████████████████████████| 348kB 96.7MB/s eta 0:00:01\n",
      "\u001b[?25hCollecting six>=1.5\n",
      "  Downloading https://files.pythonhosted.org/packages/d9/5a/e7c31adbe875f2abbb91bd84cf2dc52d792b5a01506781dbcf25c91daf11/six-1.16.0-py2.py3-none-any.whl\n",
      "\u001b[31mERROR: jupyterlab 3.2.4 has requirement jupyter-server~=1.4, but you'll have jupyter-server 2.0.0a1 which is incompatible.\u001b[0m\n",
      "\u001b[31mERROR: jupyterlab-server 2.22.1 has requirement jsonschema>=4.17.3, but you'll have jsonschema 3.2.0 which is incompatible.\u001b[0m\n",
      "Installing collected packages: frozenlist, aiosignal, async-timeout, charset-normalizer, attrs, multidict, idna, yarl, aiohttp, urllib3, certifi, requests, fsspec, pyyaml, numpy, scipy, cloudpickle, typing-extensions, setuptools, wheel, pycparser, cffi, cryptography, asn1crypto, pyOpenSSL, oscrypto, pycryptodomex, packaging, pyjwt, sortedcontainers, filelock, pytz, six, python-dateutil, tzdata, pandas, pyarrow, snowflake-connector-python, snowflake-snowpark-python, absl-py, threadpoolctl, joblib, scikit-learn, sqlparse, xgboost, snowflake-ml-python\n",
      "Successfully installed absl-py-1.4.0 aiohttp-3.8.4 aiosignal-1.3.1 asn1crypto-1.5.1 async-timeout-4.0.2 attrs-23.1.0 certifi-2023.5.7 cffi-1.15.1 charset-normalizer-3.1.0 cloudpickle-2.0.0 cryptography-40.0.2 filelock-3.12.0 frozenlist-1.3.3 fsspec-2023.1.0 idna-3.4 joblib-1.2.0 multidict-6.0.4 numpy-1.23.5 oscrypto-1.3.0 packaging-23.1 pandas-2.0.2 pyOpenSSL-23.1.1 pyarrow-10.0.1 pycparser-2.21 pycryptodomex-3.18.0 pyjwt-2.7.0 python-dateutil-2.8.2 pytz-2023.3 pyyaml-6.0 requests-2.31.0 scikit-learn-1.2.1 scipy-1.10.1 setuptools-67.8.0 six-1.16.0 snowflake-connector-python-3.0.4 snowflake-ml-python-0.2.3 snowflake-snowpark-python-1.3.0 sortedcontainers-2.4.0 sqlparse-0.4.4 threadpoolctl-3.1.0 typing-extensions-4.6.2 tzdata-2023.3 urllib3-1.26.16 wheel-0.40.0 xgboost-1.7.3 yarl-1.9.2\n"
     ]
    }
   ],
   "source": [
    "!pip install /data/snowflake_ml_python-0.2.3-py3-none-any.whl"
   ]
  },
  {
   "cell_type": "code",
   "execution_count": 2,
   "id": "f57f536c",
   "metadata": {
    "scrolled": false
   },
   "outputs": [
    {
     "name": "stdout",
     "output_type": "stream",
     "text": [
      "Collecting pandas==1.5.3\n",
      "  Using cached https://files.pythonhosted.org/packages/54/a0/c62d63c5c69be9aae07836e4d7e25e7a6f5590be3d8f2d53f43eeec5c475/pandas-1.5.3-cp38-cp38-manylinux_2_17_x86_64.manylinux2014_x86_64.whl\n",
      "Collecting numpy>=1.20.3; python_version < \"3.10\"\n",
      "  Using cached https://files.pythonhosted.org/packages/8b/d9/814a619ab84d8eb0d95e08d4c723e665f1e694b5a6068ca505a61bdc3745/numpy-1.24.3-cp38-cp38-manylinux_2_17_x86_64.manylinux2014_x86_64.whl\n",
      "Collecting pytz>=2020.1\n",
      "  Using cached https://files.pythonhosted.org/packages/7f/99/ad6bd37e748257dd70d6f85d916cafe79c0b0f5e2e95b11f7fbc82bf3110/pytz-2023.3-py2.py3-none-any.whl\n",
      "Collecting python-dateutil>=2.8.1\n",
      "  Using cached https://files.pythonhosted.org/packages/36/7a/87837f39d0296e723bb9b62bbb257d0355c7f6128853c78955f57342a56d/python_dateutil-2.8.2-py2.py3-none-any.whl\n",
      "Collecting six>=1.5\n",
      "  Using cached https://files.pythonhosted.org/packages/d9/5a/e7c31adbe875f2abbb91bd84cf2dc52d792b5a01506781dbcf25c91daf11/six-1.16.0-py2.py3-none-any.whl\n",
      "\u001b[31mERROR: snowflake-ml-python 0.2.3 has requirement numpy<1.24,>=1.23, but you'll have numpy 1.24.3 which is incompatible.\u001b[0m\n",
      "Installing collected packages: numpy, pytz, six, python-dateutil, pandas\n",
      "Successfully installed numpy-1.24.3 pandas-1.5.3 python-dateutil-2.8.2 pytz-2023.3 six-1.16.0\n",
      "\u001b[33mWARNING: Target directory /tmp/pip_packages/pandas-1.5.3.dist-info already exists. Specify --upgrade to force replacement.\u001b[0m\n",
      "\u001b[33mWARNING: Target directory /tmp/pip_packages/six.py already exists. Specify --upgrade to force replacement.\u001b[0m\n",
      "\u001b[33mWARNING: Target directory /tmp/pip_packages/python_dateutil-2.8.2.dist-info already exists. Specify --upgrade to force replacement.\u001b[0m\n",
      "\u001b[33mWARNING: Target directory /tmp/pip_packages/numpy-1.24.3.dist-info already exists. Specify --upgrade to force replacement.\u001b[0m\n",
      "\u001b[33mWARNING: Target directory /tmp/pip_packages/six-1.16.0.dist-info already exists. Specify --upgrade to force replacement.\u001b[0m\n",
      "\u001b[33mWARNING: Target directory /tmp/pip_packages/numpy.libs already exists. Specify --upgrade to force replacement.\u001b[0m\n",
      "\u001b[33mWARNING: Target directory /tmp/pip_packages/numpy already exists. Specify --upgrade to force replacement.\u001b[0m\n",
      "\u001b[33mWARNING: Target directory /tmp/pip_packages/dateutil already exists. Specify --upgrade to force replacement.\u001b[0m\n",
      "\u001b[33mWARNING: Target directory /tmp/pip_packages/pytz-2023.3.dist-info already exists. Specify --upgrade to force replacement.\u001b[0m\n",
      "\u001b[33mWARNING: Target directory /tmp/pip_packages/pandas already exists. Specify --upgrade to force replacement.\u001b[0m\n",
      "\u001b[33mWARNING: Target directory /tmp/pip_packages/__pycache__ already exists. Specify --upgrade to force replacement.\u001b[0m\n",
      "\u001b[33mWARNING: Target directory /tmp/pip_packages/pytz already exists. Specify --upgrade to force replacement.\u001b[0m\n",
      "\u001b[33mWARNING: Target directory /tmp/pip_packages/bin already exists. Specify --upgrade to force replacement.\u001b[0m\n"
     ]
    }
   ],
   "source": [
    "# !pip install seaborn\n",
    "# !pip install matplotlib\n",
    "! pip install pandas==1.5.3"
   ]
  },
  {
   "cell_type": "code",
   "execution_count": 1,
   "id": "b77bf42d",
   "metadata": {},
   "outputs": [
    {
     "data": {
      "text/plain": [
       "'2.0.1'"
      ]
     },
     "execution_count": 1,
     "metadata": {},
     "output_type": "execute_result"
    }
   ],
   "source": [
    "import pandas as pd\n",
    "pd.__version__"
   ]
  },
  {
   "cell_type": "code",
   "execution_count": 1,
   "id": "45fe5b9f",
   "metadata": {},
   "outputs": [
    {
     "name": "stderr",
     "output_type": "stream",
     "text": [
      "/tmp/pip_packages/snowflake/connector/options.py:108: UserWarning: You have an incompatible version of 'pyarrow' installed (10.0.1), please install a version that adheres to: 'pyarrow<8.1.0,>=8.0.0; extra == \"pandas\"'\n",
      "  warn_incompatible_dep(\n"
     ]
    }
   ],
   "source": [
    "#  Snowpark Connector, Snowpark Library, Session\n",
    "import snowflake.connector\n",
    "import snowflake.snowpark\n",
    "import snowflake.ml.preprocessing as snowml\n",
    "from snowflake.snowpark import Session\n",
    "from snowflake.snowpark.version import VERSION\n",
    "from snowflake.ml.utils import connection_params\n",
    "from snowflake.ml.metrics.correlation import correlation"
   ]
  },
  {
   "cell_type": "code",
   "execution_count": 3,
   "id": "12cf283e",
   "metadata": {},
   "outputs": [],
   "source": [
    "from snowflake.ml.framework.pipeline import Pipeline\n",
    "from snowflake.ml.modeling.xgboost import XGBClassifier\n",
    "from snowflake.ml.preprocessing import MinMaxScaler, OrdinalEncoder, OneHotEncoder\n",
    "# import seaborn as sns\n",
    "from sklearn.metrics import mean_absolute_percentage_error"
   ]
  },
  {
   "cell_type": "code",
   "execution_count": 4,
   "id": "8ac0b49c",
   "metadata": {},
   "outputs": [],
   "source": [
    "# Pandas Tools\n",
    "from snowflake.connector.pandas_tools import write_pandas\n",
    "# Data Science Libs\n",
    "import numpy as np\n",
    "import pandas as pd\n",
    "# create_temp_table warning suppresion\n",
    "import warnings; warnings.simplefilter('ignore')"
   ]
  },
  {
   "cell_type": "code",
   "execution_count": 5,
   "id": "2953fffb",
   "metadata": {},
   "outputs": [],
   "source": [
    "import configparser\n",
    "def get_session():\n",
    "    parser = configparser.ConfigParser()\n",
    "    # Add the credential file name here\n",
    "    parser.read('/notebooks/notebooks/config.ini')\n",
    "\n",
    "    connection_params = dict(user=parser['Credentials']['user'], \n",
    "                         password=parser['Credentials']['password'], \n",
    "                         account=parser['Credentials']['account'], \n",
    "                         warehouse=parser['Credentials']['warehouse'], \n",
    "                         database=parser['Credentials']['database'],\n",
    "                         schema=parser['Credentials']['schema'], \n",
    "                         role=parser['Credentials']['role'])\n",
    "\n",
    "    session = Session.builder.configs(connection_params).create()\n",
    "    return session\n",
    "\n"
   ]
  },
  {
   "cell_type": "code",
   "execution_count": 6,
   "id": "8e80dc94",
   "metadata": {},
   "outputs": [
    {
     "data": {
      "text/plain": [
       "<snowflake.snowpark.session.Session at 0x7f44a454f5b0>"
      ]
     },
     "execution_count": 6,
     "metadata": {},
     "output_type": "execute_result"
    }
   ],
   "source": [
    "session = get_session()\n",
    "# session.close()\n",
    "session\n"
   ]
  },
  {
   "cell_type": "code",
   "execution_count": 7,
   "id": "a735f730",
   "metadata": {},
   "outputs": [
    {
     "data": {
      "text/plain": [
       "'\"ACCOUNTADMIN\"'"
      ]
     },
     "execution_count": 7,
     "metadata": {},
     "output_type": "execute_result"
    }
   ],
   "source": [
    "session.get_current_role()"
   ]
  },
  {
   "cell_type": "markdown",
   "id": "4c240610",
   "metadata": {},
   "source": [
    "# Model Building"
   ]
  },
  {
   "cell_type": "code",
   "execution_count": 8,
   "id": "94f5ae3d",
   "metadata": {},
   "outputs": [],
   "source": [
    "table_name = 'BANK_CUSTOMER_CHURN_PREDICTION'"
   ]
  },
  {
   "cell_type": "markdown",
   "id": "e899ff5b",
   "metadata": {},
   "source": [
    "### Bank Customer Churn Dataset\n",
    "Bank Customer Data for Predicting Customer Churn \n",
    "\n",
    "<b>About Dataset</b>\n",
    "\n",
    "This dataset is for ABC Multistate bank with following columns:\n",
    "\n",
    "    customer_id, unused variable.\n",
    "    credit_score, used as input.\n",
    "    country, used as input.\n",
    "    gender, used as input.\n",
    "    age, used as input.\n",
    "    tenure, used as input.\n",
    "    balance, used as input.\n",
    "    products_number, used as input.\n",
    "    credit_card, used as input.\n",
    "    active_member, used as input.\n",
    "    estimated_salary, used as input.\n",
    "    churn, used as the target. 1 if the client has left the bank during some period or 0 if he/she has not.\n",
    "    \n",
    "https://www.kaggle.com/datasets/gauravtopre/bank-customer-churn-dataset\n"
   ]
  },
  {
   "cell_type": "code",
   "execution_count": 9,
   "id": "6f27c1d2",
   "metadata": {},
   "outputs": [],
   "source": [
    "# # Define the Table and Cleanup Cols, have a work_schema for testing\n",
    "# ############################################################################\n",
    "# # NOTE:\n",
    "# #\n",
    "# # Set work_schema variable to some schema that exists in your account.\n",
    "# #\n",
    "# # set data_dir to point to the directory that contains the diamonds.csv f\n",
    "# ############################################################################\n",
    "# # Read csv of diamonds data to a dataframe, set data_dir to path of your csv\n",
    "# df = pd.read_csv(\"/data/bank_customer_churn_prediction.csv\")\n",
    "# # Cleanup - remove row column and force headers to Uppercase\n",
    "# df.columns = df.columns.str.upper()\n",
    "# df.rename(columns={'TABLE': 'TABLE_PCT'}, inplace=True)\n",
    "# # write the DF to Snowflake and create a Snowflake DF\n",
    "# session.write_pandas(df, table_name, auto_create_table=True)"
   ]
  },
  {
   "cell_type": "markdown",
   "id": "46550984",
   "metadata": {},
   "source": [
    "## Load data to snowflake dataframe"
   ]
  },
  {
   "cell_type": "code",
   "execution_count": 10,
   "id": "cbd387b2",
   "metadata": {},
   "outputs": [],
   "source": [
    "sf_df = session.table(table_name).drop('ROW')"
   ]
  },
  {
   "cell_type": "code",
   "execution_count": 11,
   "id": "ef03ec55",
   "metadata": {},
   "outputs": [
    {
     "name": "stdout",
     "output_type": "stream",
     "text": [
      "-----------------------------------------------------------------------------------------------------------------------------------------------------------------------------\n",
      "|\"CUSTOMER_ID\"  |\"CREDIT_SCORE\"  |\"COUNTRY\"  |\"GENDER\"  |\"AGE\"  |\"TENURE\"  |\"BALANCE\"  |\"PRODUCTS_NUMBER\"  |\"CREDIT_CARD\"  |\"ACTIVE_MEMBER\"  |\"ESTIMATED_SALARY\"  |\"CHURN\"  |\n",
      "-----------------------------------------------------------------------------------------------------------------------------------------------------------------------------\n",
      "|15634602       |619             |France     |Female    |42     |2         |0.0        |1                  |1              |1                |101348.88           |1        |\n",
      "|15647311       |608             |Spain      |Female    |41     |1         |83807.86   |1                  |0              |1                |112542.58           |0        |\n",
      "|15619304       |502             |France     |Female    |42     |8         |159660.8   |3                  |1              |0                |113931.57           |1        |\n",
      "-----------------------------------------------------------------------------------------------------------------------------------------------------------------------------\n",
      "\n"
     ]
    }
   ],
   "source": [
    "sf_df.show(3)"
   ]
  },
  {
   "cell_type": "code",
   "execution_count": 12,
   "id": "1530cdf7",
   "metadata": {},
   "outputs": [],
   "source": [
    "CATEGORICAL_COLUMNS = [\"COUNTRY\", \"GENDER\"]\n",
    "CATEGORICAL_COLUMNS_OE = [\"COUNTRY_OE\", \"GENDER_OE\"]\n",
    "NUMERICAL_COLUMNS = [\"CREDIT_SCORE\", \"AGE\", \"TENURE\", \"BALANCE\", \"PRODUCTS_NUMBER\", \"ESTIMATED_SALARY\"]\n",
    "LABEL_COLUMNS = [\"CHURN\"]\n",
    "OUTPUT_COLUMNS = [\"PREDICTION\"]"
   ]
  },
  {
   "cell_type": "markdown",
   "id": "b7cb28cc",
   "metadata": {},
   "source": [
    "1)Create temp table from base table with one extra column  : temp creates a table for this session only\n",
    "\n",
    "<i>CREATE  SCOPED TEMPORARY  TABLE SNOWPARK_TEMP_TABLE_V49HYUD3TS(\"CUSTOMER_ID\" BIGINT, \"CREDIT_SCORE\" BIGINT, \"COUNTRY\" STRING, \"GENDER\" STRING, \"AGE\" BIGINT, \"TENURE\" BIGINT, \"BALANCE\" DOUBLE, \"PRODUCTS_NUMBER\" BIGINT, \"CREDIT_CARD\" BIGINT, \"ACTIVE_MEMBER\" BIGINT, \"ESTIMATED_SALARY\" DOUBLE, \"CHURN\" BIGINT, \"SNOWPARK_TEMP_COLUMN_EQWFD9TDSN\" BIGINT)</i>\n",
    "\n",
    "2)Insert random integers into the new column create in the temp table\n",
    "\n",
    "<i>INSERT  INTO SNOWPARK_TEMP_TABLE_V49HYUD3TS SELECT  *  FROM ( SELECT \"CUSTOMER_ID\", \"CREDIT_SCORE\", \"COUNTRY\", \"GENDER\", \"AGE\", \"TENURE\", \"BALANCE\", \"PRODUCTS_NUMBER\", \"CREDIT_CARD\", \"ACTIVE_MEMBER\", \"ESTIMATED_SALARY\", \"CHURN\", (abs(random(6109115594032942777)) % 1000000 :: INT) AS \"SNOWPARK_TEMP_COLUMN_EQWFD9TDSN\" FROM BANK_CUSTOMER_CHURN_PREDICTION)</i>\n"
   ]
  },
  {
   "cell_type": "code",
   "execution_count": 13,
   "id": "33d1490e",
   "metadata": {},
   "outputs": [],
   "source": [
    "train_df, test_df = sf_df.random_split([0.8,0.2])"
   ]
  },
  {
   "cell_type": "markdown",
   "id": "5b45fbc6",
   "metadata": {},
   "source": [
    "<i>SELECT \"CUSTOMER_ID\", \"CREDIT_SCORE\", \"COUNTRY\", \"GENDER\", \"AGE\", \"TENURE\", \"BALANCE\", \"PRODUCTS_NUMBER\", \"CREDIT_CARD\", \"ACTIVE_MEMBER\", \"ESTIMATED_SALARY\", \"CHURN\" FROM ( SELECT  *  FROM SNOWPARK_TEMP_TABLE_V49HYUD3TS WHERE ((\"SNOWPARK_TEMP_COLUMN_EQWFD9TDSN\" >= 0 :: INT) AND (\"SNOWPARK_TEMP_COLUMN_EQWFD9TDSN\" < 800000 :: INT))) LIMIT 3 </i>"
   ]
  },
  {
   "cell_type": "code",
   "execution_count": 14,
   "id": "47e47db0",
   "metadata": {},
   "outputs": [
    {
     "name": "stdout",
     "output_type": "stream",
     "text": [
      "-----------------------------------------------------------------------------------------------------------------------------------------------------------------------------\n",
      "|\"CUSTOMER_ID\"  |\"CREDIT_SCORE\"  |\"COUNTRY\"  |\"GENDER\"  |\"AGE\"  |\"TENURE\"  |\"BALANCE\"  |\"PRODUCTS_NUMBER\"  |\"CREDIT_CARD\"  |\"ACTIVE_MEMBER\"  |\"ESTIMATED_SALARY\"  |\"CHURN\"  |\n",
      "-----------------------------------------------------------------------------------------------------------------------------------------------------------------------------\n",
      "|15634602       |619             |France     |Female    |42     |2         |0.0        |1                  |1              |1                |101348.88           |1        |\n",
      "|15619304       |502             |France     |Female    |42     |8         |159660.8   |3                  |1              |0                |113931.57           |1        |\n",
      "|15701354       |699             |France     |Female    |39     |1         |0.0        |2                  |0              |0                |93826.63            |0        |\n",
      "-----------------------------------------------------------------------------------------------------------------------------------------------------------------------------\n",
      "\n"
     ]
    }
   ],
   "source": [
    "train_df.show(3)"
   ]
  },
  {
   "cell_type": "code",
   "execution_count": 15,
   "id": "309a8b86",
   "metadata": {},
   "outputs": [],
   "source": [
    "pipeline = Pipeline(\n",
    "    steps=[\n",
    "            (\n",
    "                \"OE\",\n",
    "                OrdinalEncoder(\n",
    "                input_cols=CATEGORICAL_COLUMNS,\n",
    "                output_cols=CATEGORICAL_COLUMNS_OE\n",
    "                )\n",
    "            ),\n",
    "            (\n",
    "                \"MMS\",\n",
    "                MinMaxScaler(\n",
    "                clip=True,\n",
    "                input_cols=NUMERICAL_COLUMNS,\n",
    "                output_cols=NUMERICAL_COLUMNS,\n",
    "                )\n",
    "            ),\n",
    "            (\n",
    "                \"classification\",\n",
    "                XGBClassifier(\n",
    "#                 input_cols=NUMERICAL_COLUMNS,\n",
    "                input_cols=CATEGORICAL_COLUMNS_OE+NUMERICAL_COLUMNS + [\"CREDIT_CARD\"],\n",
    "                label_cols=LABEL_COLUMNS,\n",
    "                output_cols=OUTPUT_COLUMNS\n",
    "                )\n",
    "            )\n",
    "    ]\n",
    ")"
   ]
  },
  {
   "cell_type": "code",
   "execution_count": 17,
   "id": "5d7c82e9",
   "metadata": {
    "scrolled": false
   },
   "outputs": [
    {
     "ename": "RuntimeError",
     "evalue": "Package pandas==2.0.2 is not supported in snowflake conda channel for python runtime 3.8.",
     "output_type": "error",
     "traceback": [
      "\u001b[0;31m---------------------------------------------------------------------------\u001b[0m",
      "\u001b[0;31mRuntimeError\u001b[0m                              Traceback (most recent call last)",
      "Cell \u001b[0;32mIn[17], line 2\u001b[0m\n\u001b[1;32m      1\u001b[0m \u001b[38;5;66;03m# # Train\u001b[39;00m\n\u001b[0;32m----> 2\u001b[0m \u001b[43mpipeline\u001b[49m\u001b[38;5;241;43m.\u001b[39;49m\u001b[43mfit\u001b[49m\u001b[43m(\u001b[49m\u001b[43mtrain_df\u001b[49m\u001b[43m)\u001b[49m\n",
      "File \u001b[0;32m/tmp/pip_packages/snowflake/ml/_internal/telemetry.py:297\u001b[0m, in \u001b[0;36msend_api_usage_telemetry.<locals>.decorator.<locals>.wrap\u001b[0;34m(*args, **kwargs)\u001b[0m\n\u001b[1;32m    288\u001b[0m telemetry_args \u001b[38;5;241m=\u001b[39m \u001b[38;5;28mdict\u001b[39m(\n\u001b[1;32m    289\u001b[0m     func_name\u001b[38;5;241m=\u001b[39m_get_full_func_name(func),\n\u001b[1;32m    290\u001b[0m     function_category\u001b[38;5;241m=\u001b[39mTelemetryField\u001b[38;5;241m.\u001b[39mFUNC_CAT_USAGE\u001b[38;5;241m.\u001b[39mvalue,\n\u001b[0;32m   (...)\u001b[0m\n\u001b[1;32m    294\u001b[0m     custom_tags\u001b[38;5;241m=\u001b[39mcustom_tags,\n\u001b[1;32m    295\u001b[0m )\n\u001b[1;32m    296\u001b[0m \u001b[38;5;28;01mtry\u001b[39;00m:\n\u001b[0;32m--> 297\u001b[0m     res \u001b[38;5;241m=\u001b[39m \u001b[43mfunc\u001b[49m\u001b[43m(\u001b[49m\u001b[38;5;241;43m*\u001b[39;49m\u001b[43margs\u001b[49m\u001b[43m,\u001b[49m\u001b[43m \u001b[49m\u001b[38;5;241;43m*\u001b[39;49m\u001b[38;5;241;43m*\u001b[39;49m\u001b[43mkwargs\u001b[49m\u001b[43m)\u001b[49m\n\u001b[1;32m    298\u001b[0m \u001b[38;5;28;01mexcept\u001b[39;00m \u001b[38;5;167;01mException\u001b[39;00m \u001b[38;5;28;01mas\u001b[39;00m e:\n\u001b[1;32m    299\u001b[0m     error \u001b[38;5;241m=\u001b[39m \u001b[38;5;28mrepr\u001b[39m(e)\n",
      "File \u001b[0;32m/tmp/pip_packages/snowflake/ml/framework/pipeline.py:134\u001b[0m, in \u001b[0;36mPipeline.fit\u001b[0;34m(self, dataset)\u001b[0m\n\u001b[1;32m    132\u001b[0m estimator \u001b[38;5;241m=\u001b[39m \u001b[38;5;28mself\u001b[39m\u001b[38;5;241m.\u001b[39m_get_estimator()\n\u001b[1;32m    133\u001b[0m \u001b[38;5;28;01mif\u001b[39;00m estimator:\n\u001b[0;32m--> 134\u001b[0m     \u001b[43mestimator\u001b[49m\u001b[43m[\u001b[49m\u001b[38;5;241;43m1\u001b[39;49m\u001b[43m]\u001b[49m\u001b[38;5;241;43m.\u001b[39;49m\u001b[43mfit\u001b[49m\u001b[43m(\u001b[49m\u001b[43mtransformed_dataset\u001b[49m\u001b[43m)\u001b[49m\n\u001b[1;32m    136\u001b[0m \u001b[38;5;28mself\u001b[39m\u001b[38;5;241m.\u001b[39m_is_fitted \u001b[38;5;241m=\u001b[39m \u001b[38;5;28;01mTrue\u001b[39;00m\n\u001b[1;32m    137\u001b[0m \u001b[38;5;28;01mreturn\u001b[39;00m \u001b[38;5;28mself\u001b[39m\n",
      "File \u001b[0;32m/tmp/pip_packages/snowflake/ml/_internal/telemetry.py:297\u001b[0m, in \u001b[0;36msend_api_usage_telemetry.<locals>.decorator.<locals>.wrap\u001b[0;34m(*args, **kwargs)\u001b[0m\n\u001b[1;32m    288\u001b[0m telemetry_args \u001b[38;5;241m=\u001b[39m \u001b[38;5;28mdict\u001b[39m(\n\u001b[1;32m    289\u001b[0m     func_name\u001b[38;5;241m=\u001b[39m_get_full_func_name(func),\n\u001b[1;32m    290\u001b[0m     function_category\u001b[38;5;241m=\u001b[39mTelemetryField\u001b[38;5;241m.\u001b[39mFUNC_CAT_USAGE\u001b[38;5;241m.\u001b[39mvalue,\n\u001b[0;32m   (...)\u001b[0m\n\u001b[1;32m    294\u001b[0m     custom_tags\u001b[38;5;241m=\u001b[39mcustom_tags,\n\u001b[1;32m    295\u001b[0m )\n\u001b[1;32m    296\u001b[0m \u001b[38;5;28;01mtry\u001b[39;00m:\n\u001b[0;32m--> 297\u001b[0m     res \u001b[38;5;241m=\u001b[39m \u001b[43mfunc\u001b[49m\u001b[43m(\u001b[49m\u001b[38;5;241;43m*\u001b[39;49m\u001b[43margs\u001b[49m\u001b[43m,\u001b[49m\u001b[43m \u001b[49m\u001b[38;5;241;43m*\u001b[39;49m\u001b[38;5;241;43m*\u001b[39;49m\u001b[43mkwargs\u001b[49m\u001b[43m)\u001b[49m\n\u001b[1;32m    298\u001b[0m \u001b[38;5;28;01mexcept\u001b[39;00m \u001b[38;5;167;01mException\u001b[39;00m \u001b[38;5;28;01mas\u001b[39;00m e:\n\u001b[1;32m    299\u001b[0m     error \u001b[38;5;241m=\u001b[39m \u001b[38;5;28mrepr\u001b[39m(e)\n",
      "File \u001b[0;32m/tmp/pip_packages/snowflake/ml/modeling/xgboost/xgb_classifier.py:424\u001b[0m, in \u001b[0;36mXGBClassifier.fit\u001b[0;34m(self, dataset)\u001b[0m\n\u001b[1;32m    422\u001b[0m     \u001b[38;5;28mself\u001b[39m\u001b[38;5;241m.\u001b[39m_fit_pandas(dataset)\n\u001b[1;32m    423\u001b[0m \u001b[38;5;28;01melif\u001b[39;00m \u001b[38;5;28misinstance\u001b[39m(dataset, DataFrame):\n\u001b[0;32m--> 424\u001b[0m     \u001b[38;5;28;43mself\u001b[39;49m\u001b[38;5;241;43m.\u001b[39;49m\u001b[43m_fit_snowpark\u001b[49m\u001b[43m(\u001b[49m\u001b[43mdataset\u001b[49m\u001b[43m)\u001b[49m\n\u001b[1;32m    425\u001b[0m \u001b[38;5;28;01melse\u001b[39;00m:\n\u001b[1;32m    426\u001b[0m     \u001b[38;5;28;01mraise\u001b[39;00m \u001b[38;5;167;01mTypeError\u001b[39;00m(\n\u001b[1;32m    427\u001b[0m         \u001b[38;5;124mf\u001b[39m\u001b[38;5;124m\"\u001b[39m\u001b[38;5;124mUnexpected dataset type: \u001b[39m\u001b[38;5;132;01m{\u001b[39;00m\u001b[38;5;28mtype\u001b[39m(dataset)\u001b[38;5;132;01m}\u001b[39;00m\u001b[38;5;124m.\u001b[39m\u001b[38;5;124m\"\u001b[39m\n\u001b[1;32m    428\u001b[0m         \u001b[38;5;124m\"\u001b[39m\u001b[38;5;124mSupported dataset types: snowpark.DataFrame, pandas.DataFrame.\u001b[39m\u001b[38;5;124m\"\u001b[39m\n\u001b[1;32m    429\u001b[0m     )\n",
      "File \u001b[0;32m/tmp/pip_packages/snowflake/ml/modeling/xgboost/xgb_classifier.py:436\u001b[0m, in \u001b[0;36mXGBClassifier._fit_snowpark\u001b[0;34m(self, dataset)\u001b[0m\n\u001b[1;32m    434\u001b[0m session \u001b[38;5;241m=\u001b[39m dataset\u001b[38;5;241m.\u001b[39m_session\n\u001b[1;32m    435\u001b[0m \u001b[38;5;66;03m# Validate that key package version in user workspace are supported in snowflake conda channel\u001b[39;00m\n\u001b[0;32m--> 436\u001b[0m \u001b[43mpkg_version_utils\u001b[49m\u001b[38;5;241;43m.\u001b[39;49m\u001b[43mvalidate_pkg_versions_supported_in_snowflake_conda_channel\u001b[49m\u001b[43m(\u001b[49m\n\u001b[1;32m    437\u001b[0m \u001b[43m    \u001b[49m\u001b[43mpkg_versions\u001b[49m\u001b[38;5;241;43m=\u001b[39;49m\u001b[43m[\u001b[49m\u001b[38;5;124;43mf\u001b[39;49m\u001b[38;5;124;43m'\u001b[39;49m\u001b[38;5;124;43mnumpy==\u001b[39;49m\u001b[38;5;132;43;01m{\u001b[39;49;00m\u001b[43mnp\u001b[49m\u001b[38;5;241;43m.\u001b[39;49m\u001b[43m__version__\u001b[49m\u001b[38;5;132;43;01m}\u001b[39;49;00m\u001b[38;5;124;43m'\u001b[39;49m\u001b[43m,\u001b[49m\u001b[43m \u001b[49m\u001b[38;5;124;43mf\u001b[39;49m\u001b[38;5;124;43m'\u001b[39;49m\u001b[38;5;124;43mpandas==\u001b[39;49m\u001b[38;5;132;43;01m{\u001b[39;49;00m\u001b[43mpd\u001b[49m\u001b[38;5;241;43m.\u001b[39;49m\u001b[43m__version__\u001b[49m\u001b[38;5;132;43;01m}\u001b[39;49;00m\u001b[38;5;124;43m'\u001b[39;49m\u001b[43m,\u001b[49m\u001b[43m \u001b[49m\u001b[38;5;124;43mf\u001b[39;49m\u001b[38;5;124;43m'\u001b[39;49m\u001b[38;5;124;43mxgboost==\u001b[39;49m\u001b[38;5;132;43;01m{\u001b[39;49;00m\u001b[43mxgboost\u001b[49m\u001b[38;5;241;43m.\u001b[39;49m\u001b[43m__version__\u001b[49m\u001b[38;5;132;43;01m}\u001b[39;49;00m\u001b[38;5;124;43m'\u001b[39;49m\u001b[43m,\u001b[49m\u001b[43m \u001b[49m\u001b[38;5;124;43mf\u001b[39;49m\u001b[38;5;124;43m'\u001b[39;49m\u001b[38;5;124;43mcloudpickle==\u001b[39;49m\u001b[38;5;132;43;01m{\u001b[39;49;00m\u001b[43mcp\u001b[49m\u001b[38;5;241;43m.\u001b[39;49m\u001b[43m__version__\u001b[49m\u001b[38;5;132;43;01m}\u001b[39;49;00m\u001b[38;5;124;43m'\u001b[39;49m\u001b[43m]\u001b[49m\u001b[43m,\u001b[49m\u001b[43m \u001b[49m\u001b[43msession\u001b[49m\u001b[38;5;241;43m=\u001b[39;49m\u001b[43msession\u001b[49m\u001b[43m,\u001b[49m\u001b[43m \u001b[49m\u001b[43msubproject\u001b[49m\u001b[38;5;241;43m=\u001b[39;49m\u001b[43m_SUBPROJECT\u001b[49m\u001b[43m)\u001b[49m\n\u001b[1;32m    439\u001b[0m \u001b[38;5;66;03m# Specify input columns so column pruing will be enforced\u001b[39;00m\n\u001b[1;32m    440\u001b[0m selected_cols \u001b[38;5;241m=\u001b[39m (\n\u001b[1;32m    441\u001b[0m     \u001b[38;5;28mself\u001b[39m\u001b[38;5;241m.\u001b[39minput_cols \u001b[38;5;241m+\u001b[39m\n\u001b[1;32m    442\u001b[0m     \u001b[38;5;28mself\u001b[39m\u001b[38;5;241m.\u001b[39mlabel_cols \u001b[38;5;241m+\u001b[39m\n\u001b[1;32m    443\u001b[0m     [\u001b[38;5;28mself\u001b[39m\u001b[38;5;241m.\u001b[39msample_weight_col] \u001b[38;5;28;01mif\u001b[39;00m \u001b[38;5;28mself\u001b[39m\u001b[38;5;241m.\u001b[39msample_weight_col \u001b[38;5;129;01mis\u001b[39;00m \u001b[38;5;129;01mnot\u001b[39;00m \u001b[38;5;28;01mNone\u001b[39;00m \u001b[38;5;28;01melse\u001b[39;00m []\n\u001b[1;32m    444\u001b[0m )\n",
      "File \u001b[0;32m/tmp/pip_packages/snowflake/ml/_internal/utils/pkg_version_utils.py:23\u001b[0m, in \u001b[0;36mvalidate_pkg_versions_supported_in_snowflake_conda_channel\u001b[0;34m(pkg_versions, session, subproject)\u001b[0m\n\u001b[1;32m     19\u001b[0m \u001b[38;5;28;01mfor\u001b[39;00m pkg_version \u001b[38;5;129;01min\u001b[39;00m pkg_versions:\n\u001b[1;32m     20\u001b[0m     \u001b[38;5;28;01mif\u001b[39;00m \u001b[38;5;129;01mnot\u001b[39;00m _validate_pkg_version_supported_in_snowflake_conda_channel(\n\u001b[1;32m     21\u001b[0m         pkg_version\u001b[38;5;241m=\u001b[39mpkg_version, session\u001b[38;5;241m=\u001b[39msession, subproject\u001b[38;5;241m=\u001b[39msubproject\n\u001b[1;32m     22\u001b[0m     ):\n\u001b[0;32m---> 23\u001b[0m         \u001b[38;5;28;01mraise\u001b[39;00m \u001b[38;5;167;01mRuntimeError\u001b[39;00m(\n\u001b[1;32m     24\u001b[0m             \u001b[38;5;124mf\u001b[39m\u001b[38;5;124m\"\u001b[39m\u001b[38;5;124mPackage \u001b[39m\u001b[38;5;132;01m{\u001b[39;00mpkg_version\u001b[38;5;132;01m}\u001b[39;00m\u001b[38;5;124m is not supported in snowflake conda channel for \u001b[39m\u001b[38;5;124m\"\u001b[39m\n\u001b[1;32m     25\u001b[0m             \u001b[38;5;124mf\u001b[39m\u001b[38;5;124m\"\u001b[39m\u001b[38;5;124mpython runtime \u001b[39m\u001b[38;5;132;01m{\u001b[39;00m_RUNTIME_VERSION\u001b[38;5;132;01m}\u001b[39;00m\u001b[38;5;124m.\u001b[39m\u001b[38;5;124m\"\u001b[39m\n\u001b[1;32m     26\u001b[0m         )\n",
      "\u001b[0;31mRuntimeError\u001b[0m: Package pandas==2.0.2 is not supported in snowflake conda channel for python runtime 3.8."
     ]
    }
   ],
   "source": [
    "# # Train\n",
    "pipeline.fit(train_df)"
   ]
  },
  {
   "cell_type": "code",
   "execution_count": 16,
   "id": "9c6118a5",
   "metadata": {},
   "outputs": [
    {
     "data": {
      "text/plain": [
       "'2.0.2'"
      ]
     },
     "execution_count": 16,
     "metadata": {},
     "output_type": "execute_result"
    }
   ],
   "source": [
    "pd.__version__"
   ]
  },
  {
   "cell_type": "code",
   "execution_count": 16,
   "id": "5781ac8e",
   "metadata": {},
   "outputs": [],
   "source": [
    "# # Eval\n",
    "result = pipeline.predict(test_df)"
   ]
  },
  {
   "cell_type": "code",
   "execution_count": 17,
   "id": "cc73ab80",
   "metadata": {},
   "outputs": [
    {
     "name": "stdout",
     "output_type": "stream",
     "text": [
      "------------------------------------------------------------------------------------------------------------------------------------------------------------------------------------------------------------------------------------------------------------------\n",
      "|\"CUSTOMER_ID\"  |\"CREDIT_SCORE\"       |\"GENDER_OE\"  |\"ESTIMATED_SALARY\"   |\"ACTIVE_MEMBER\"  |\"COUNTRY\"  |\"CHURN\"  |\"GENDER\"  |\"AGE\"                |\"BALANCE\"            |\"CREDIT_CARD\"  |\"COUNTRY_OE\"  |\"PRODUCTS_NUMBER\"   |\"TENURE\"            |\"PREDICTION\"  |\n",
      "------------------------------------------------------------------------------------------------------------------------------------------------------------------------------------------------------------------------------------------------------------------\n",
      "|15574012       |0.59                 |1.0          |0.7486985274464675   |0                |Spain      |1        |Male      |0.35135135135135137  |0.47718840697895476  |1              |2.0           |0.3333333333333333  |0.8                 |0             |\n",
      "|15592389       |0.668                |1.0          |0.35835315842365284  |1                |France     |0        |Male      |0.12162162162162166  |0.5646430543607225   |1              |0.0           |0.0                 |0.2                 |0             |\n",
      "|15632264       |0.252                |0.0          |0.130918431648723    |0                |France     |0        |Female    |0.21621621621621623  |0.0                  |1              |0.0           |0.3333333333333333  |1.0                 |0             |\n",
      "|15736816       |0.8119999999999999   |1.0          |0.8501742425216385   |1                |Germany    |0        |Male      |0.24324324324324326  |0.5739210552765421   |1              |1.0           |0.0                 |0.2                 |0             |\n",
      "|15706552       |0.366                |1.0          |0.7835915534985296   |1                |France     |0        |Male      |0.24324324324324326  |0.3578697646806738   |0              |0.0           |0.0                 |0.7000000000000001  |0             |\n",
      "|15738148       |0.22999999999999998  |0.0          |0.9064802170218959   |0                |France     |1        |Female    |0.445945945945946    |0.5139627252361658   |0              |0.0           |0.0                 |0.8                 |0             |\n",
      "|15687946       |0.41200000000000003  |0.0          |0.4705484040937776   |1                |France     |0        |Female    |0.5810810810810811   |0.4925565327318254   |1              |0.0           |0.0                 |0.2                 |1             |\n",
      "|15755196       |0.9679999999999999   |0.0          |0.9718526655081348   |0                |France     |1        |Female    |0.4189189189189189   |0.5511804391135174   |0              |0.0           |0.0                 |0.2                 |0             |\n",
      "|15602280       |0.9580000000000001   |0.0          |0.5983826808291106   |1                |Germany    |1        |Female    |0.12162162162162166  |0.4700147524476529   |1              |1.0           |0.0                 |0.9                 |0             |\n",
      "|15771873       |0.852                |0.0          |0.9705188146556112   |0                |Germany    |0        |Female    |0.25675675675675674  |0.4352962881116783   |1              |1.0           |0.3333333333333333  |0.2                 |0             |\n",
      "------------------------------------------------------------------------------------------------------------------------------------------------------------------------------------------------------------------------------------------------------------------\n",
      "\n"
     ]
    }
   ],
   "source": [
    "#get 10 records and dispal\n",
    "result.show()"
   ]
  },
  {
   "cell_type": "markdown",
   "id": "673ce459",
   "metadata": {},
   "source": [
    "### Savind model/ pipeline in refract NAS"
   ]
  },
  {
   "cell_type": "code",
   "execution_count": 18,
   "id": "6b7b7276",
   "metadata": {},
   "outputs": [],
   "source": [
    "from snowflake.ml.model import model as mdl, model_signature"
   ]
  },
  {
   "cell_type": "code",
   "execution_count": 19,
   "id": "652ee719",
   "metadata": {},
   "outputs": [],
   "source": [
    "skl = pipeline.get_sklearn_object()"
   ]
  },
  {
   "cell_type": "code",
   "execution_count": 20,
   "id": "6e16f1ef",
   "metadata": {},
   "outputs": [],
   "source": [
    "from typing import Sequence\n",
    "import snowflake.snowpark.types as spt\n",
    "import numpy"
   ]
  },
  {
   "cell_type": "code",
   "execution_count": 21,
   "id": "42fd3da1",
   "metadata": {},
   "outputs": [
    {
     "data": {
      "text/plain": [
       "('double', DoubleType(), numpy.float64)"
      ]
     },
     "execution_count": 21,
     "metadata": {},
     "output_type": "execute_result"
    }
   ],
   "source": [
    "model_signature.DataType.DOUBLE.value"
   ]
  },
  {
   "cell_type": "code",
   "execution_count": 22,
   "id": "4db5b53a",
   "metadata": {},
   "outputs": [],
   "source": [
    "s1 = [\n",
    "        model_signature.FeatureSpec(\n",
    "            name=\"input_array\",\n",
    "            dtype=('double', spt.DoubleType(), numpy.float64)\n",
    "        )\n",
    "    ]"
   ]
  },
  {
   "cell_type": "code",
   "execution_count": 23,
   "id": "927df49c",
   "metadata": {},
   "outputs": [],
   "source": [
    "sign = model_signature.ModelSignature(\n",
    "    inputs=[\n",
    "        model_signature.FeatureSpec(\n",
    "            name=\"input_array\",\n",
    "            dtype=model_signature.DataType.DOUBLE\n",
    "        )\n",
    "    ],\n",
    "    outputs=[\n",
    "        model_signature.FeatureSpec(\n",
    "            name=\"output_array\",\n",
    "            dtype=model_signature.DataType.INT64\n",
    "        )\n",
    "    ]\n",
    ")"
   ]
  },
  {
   "cell_type": "code",
   "execution_count": 122,
   "id": "876b546a",
   "metadata": {},
   "outputs": [
    {
     "data": {
      "text/plain": [
       "<snowflake.ml.model.model_meta.ModelMetadata at 0x7fd15850f610>"
      ]
     },
     "execution_count": 122,
     "metadata": {},
     "output_type": "execute_result"
    }
   ],
   "source": [
    "mdl.save_model(name=\"churn.model\",model_dir_path=\"/data/models\",model=skl,signature=sign)"
   ]
  },
  {
   "cell_type": "markdown",
   "id": "07626518",
   "metadata": {},
   "source": [
    "### Pulling only ground truth and prediction out of snowflake\n",
    "Even this step can be pushed to snowflake as a UDF"
   ]
  },
  {
   "cell_type": "code",
   "execution_count": 24,
   "id": "f1ba4f52",
   "metadata": {},
   "outputs": [],
   "source": [
    "out_df = result[\"CHURN\", \"PREDICTION\"].to_pandas()"
   ]
  },
  {
   "cell_type": "code",
   "execution_count": 25,
   "id": "a39a731d",
   "metadata": {},
   "outputs": [],
   "source": [
    "y_true = out_df[\"CHURN\"]\n",
    "y_pred = out_df[\"PREDICTION\"]"
   ]
  },
  {
   "cell_type": "code",
   "execution_count": 26,
   "id": "11438fda",
   "metadata": {},
   "outputs": [],
   "source": [
    "#to make the datatype of values in both column consistant\n",
    "y_pred = y_pred.astype(y_true.dtype)"
   ]
  },
  {
   "cell_type": "code",
   "execution_count": 27,
   "id": "da4bb792",
   "metadata": {},
   "outputs": [],
   "source": [
    "# # example of a ordinal encoding\n",
    "# from numpy import asarray\n",
    "# from sklearn.preprocessing import OrdinalEncoder\n",
    "# # define data\n",
    "\n",
    "# # define ordinal encoding\n",
    "# encoder = OrdinalEncoder()\n",
    "# df[[\"GENDER\"]] = encoder.fit_transform(df[[\"GENDER\"]])\n",
    "# # d data\n",
    "# # result = encoder.fit_transform(train_df[[\"GENDER\"]])\n",
    "# print(df[[\"GENDER\"]])"
   ]
  },
  {
   "cell_type": "code",
   "execution_count": 28,
   "id": "73fec48e",
   "metadata": {},
   "outputs": [
    {
     "data": {
      "text/html": [
       "<div>\n",
       "<style scoped>\n",
       "    .dataframe tbody tr th:only-of-type {\n",
       "        vertical-align: middle;\n",
       "    }\n",
       "\n",
       "    .dataframe tbody tr th {\n",
       "        vertical-align: top;\n",
       "    }\n",
       "\n",
       "    .dataframe thead th {\n",
       "        text-align: right;\n",
       "    }\n",
       "</style>\n",
       "<table border=\"1\" class=\"dataframe\">\n",
       "  <thead>\n",
       "    <tr style=\"text-align: right;\">\n",
       "      <th></th>\n",
       "      <th>CHURN</th>\n",
       "      <th>PREDICTION</th>\n",
       "    </tr>\n",
       "  </thead>\n",
       "  <tbody>\n",
       "    <tr>\n",
       "      <th>0</th>\n",
       "      <td>1</td>\n",
       "      <td>0</td>\n",
       "    </tr>\n",
       "    <tr>\n",
       "      <th>1</th>\n",
       "      <td>0</td>\n",
       "      <td>0</td>\n",
       "    </tr>\n",
       "    <tr>\n",
       "      <th>2</th>\n",
       "      <td>0</td>\n",
       "      <td>0</td>\n",
       "    </tr>\n",
       "    <tr>\n",
       "      <th>3</th>\n",
       "      <td>0</td>\n",
       "      <td>0</td>\n",
       "    </tr>\n",
       "    <tr>\n",
       "      <th>4</th>\n",
       "      <td>0</td>\n",
       "      <td>0</td>\n",
       "    </tr>\n",
       "    <tr>\n",
       "      <th>5</th>\n",
       "      <td>1</td>\n",
       "      <td>0</td>\n",
       "    </tr>\n",
       "    <tr>\n",
       "      <th>6</th>\n",
       "      <td>0</td>\n",
       "      <td>1</td>\n",
       "    </tr>\n",
       "    <tr>\n",
       "      <th>7</th>\n",
       "      <td>1</td>\n",
       "      <td>0</td>\n",
       "    </tr>\n",
       "  </tbody>\n",
       "</table>\n",
       "</div>"
      ],
      "text/plain": [
       "   CHURN PREDICTION\n",
       "0      1          0\n",
       "1      0          0\n",
       "2      0          0\n",
       "3      0          0\n",
       "4      0          0\n",
       "5      1          0\n",
       "6      0          1\n",
       "7      1          0"
      ]
     },
     "execution_count": 28,
     "metadata": {},
     "output_type": "execute_result"
    }
   ],
   "source": [
    "out_df.head(8)"
   ]
  },
  {
   "cell_type": "code",
   "execution_count": 29,
   "id": "0893eb92",
   "metadata": {},
   "outputs": [],
   "source": [
    "# from snowflake.ml.metrics import classification_report\n",
    "from sklearn.metrics import confusion_matrix,log_loss,classification_report"
   ]
  },
  {
   "cell_type": "code",
   "execution_count": 30,
   "id": "e948d5d3",
   "metadata": {},
   "outputs": [],
   "source": [
    "target_names = [\"stay\", \"exit\"]"
   ]
  },
  {
   "cell_type": "code",
   "execution_count": 31,
   "id": "84f33132",
   "metadata": {},
   "outputs": [],
   "source": [
    "report = classification_report(y_true,y_pred,target_names=target_names, output_dict=True)"
   ]
  },
  {
   "cell_type": "code",
   "execution_count": 32,
   "id": "4b378279",
   "metadata": {
    "scrolled": true
   },
   "outputs": [
    {
     "data": {
      "text/plain": [
       "{'stay': {'precision': 0.8797250859106529,\n",
       "  'recall': 0.9360146252285192,\n",
       "  'f1-score': 0.9069973427812222,\n",
       "  'support': 1641},\n",
       " 'exit': {'precision': 0.5914396887159533,\n",
       "  'recall': 0.4198895027624309,\n",
       "  'f1-score': 0.4911147011308562,\n",
       "  'support': 362},\n",
       " 'accuracy': 0.8427358961557664,\n",
       " 'macro avg': {'precision': 0.7355823873133032,\n",
       "  'recall': 0.677952063995475,\n",
       "  'f1-score': 0.6990560219560392,\n",
       "  'support': 2003},\n",
       " 'weighted avg': {'precision': 0.8276235812753652,\n",
       "  'recall': 0.8427358961557664,\n",
       "  'f1-score': 0.83183532766518,\n",
       "  'support': 2003}}"
      ]
     },
     "execution_count": 32,
     "metadata": {},
     "output_type": "execute_result"
    }
   ],
   "source": [
    "report"
   ]
  },
  {
   "cell_type": "markdown",
   "id": "f094a0bc",
   "metadata": {},
   "source": [
    "# Model Registry"
   ]
  },
  {
   "cell_type": "code",
   "execution_count": 33,
   "id": "c97ba4a5",
   "metadata": {},
   "outputs": [],
   "source": [
    "from snowflake.ml.utils.connection_params import SnowflakeLoginOptions\n",
    "from snowflake.snowpark import Session, Column, functions"
   ]
  },
  {
   "cell_type": "code",
   "execution_count": 32,
   "id": "7042f8f7",
   "metadata": {},
   "outputs": [],
   "source": [
    "# session = Session.builder.configs(SnowflakeLoginOptions()).create()\n",
    "session = get_session()"
   ]
  },
  {
   "cell_type": "code",
   "execution_count": 34,
   "id": "754c05b2",
   "metadata": {},
   "outputs": [
    {
     "data": {
      "text/plain": [
       "<module 'snowflake.ml.registry.model_registry' from '/tmp/pip_packages/snowflake/ml/registry/model_registry.py'>"
      ]
     },
     "execution_count": 34,
     "metadata": {},
     "output_type": "execute_result"
    }
   ],
   "source": [
    "import importlib\n",
    "from snowflake.ml.registry import model_registry\n",
    "importlib.reload(model_registry)"
   ]
  },
  {
   "cell_type": "code",
   "execution_count": 41,
   "id": "00f78c69",
   "metadata": {},
   "outputs": [],
   "source": [
    "create_result = model_registry.create_model_registry(session=session,database_name=\"MODEL_REGISTRY_SNOWFRACT\")"
   ]
  },
  {
   "cell_type": "code",
   "execution_count": 18,
   "id": "9f253bfb",
   "metadata": {},
   "outputs": [
    {
     "name": "stderr",
     "output_type": "stream",
     "text": [
      "WARNING:absl:The database MODEL_REGISTRY already exists. Skipping creation.\n"
     ]
    }
   ],
   "source": [
    "#create new model registry. This will be a no-op if the registry already exists\n",
    "create_result = model_registry.create_model_registry(session)"
   ]
  },
  {
   "cell_type": "code",
   "execution_count": 42,
   "id": "8eb2e85f",
   "metadata": {},
   "outputs": [],
   "source": [
    "registry = model_registry.ModelRegistry(session=session, name=\"MODEL_REGISTRY\")"
   ]
  },
  {
   "cell_type": "code",
   "execution_count": 43,
   "id": "2a0ca3d5",
   "metadata": {},
   "outputs": [
    {
     "data": {
      "text/plain": [
       "<snowflake.ml.registry.model_registry.ModelRegistry at 0x7f46811b9760>"
      ]
     },
     "execution_count": 43,
     "metadata": {},
     "output_type": "execute_result"
    }
   ],
   "source": [
    "registry"
   ]
  },
  {
   "cell_type": "markdown",
   "id": "ffeb3e39",
   "metadata": {},
   "source": [
    "Registering a new model is always done using relational API\n",
    "The call to log_model executes a few steps:\n",
    "1. The given model object is serialized and uploaded to a stage\n",
    "2. An entry in the model registry is created for the model, referencing the model stage location.\n",
    "3. Additional metadata is updated for the model as provided in the call.\n",
    "\n",
    "For serialization to work, the model object needs to be serializable in python"
   ]
  },
  {
   "cell_type": "markdown",
   "id": "8f0dd047",
   "metadata": {},
   "source": [
    "<!-- Signature:\n",
    "registry.log_model(\n",
    "    *,\n",
    "    model: Any,\n",
    "    signature: snowflake.ml.model.model_signature.ModelSignature,\n",
    "    name: Union[str, NoneType] = None,\n",
    "    tags: Union[Dict[str, str], NoneType] = None,\n",
    "    pip_requirements: Union[List[str], NoneType] = None,\n",
    "    sample_input_data: Union[Any, NoneType] = None,\n",
    ") -> Union[str, NoneType]\n",
    "Docstring:\n",
    "Uploads a model to the Model Registry.\n",
    "\n",
    "Args:\n",
    "    model: Local model object in a supported format.\n",
    "    signature: Signature of the model, could be inferred by calling `infer_signature` method with sample\n",
    "        input data.\n",
    "    name: The given name for the model.\n",
    "    tags: string-to-string dictonary of tag names and values to be set for the model.\n",
    "    pip_requirements: List of dependencies to include with the model\n",
    "    sample_input_data: Sample of the input data for the model.\n",
    "\n",
    "Returns:\n",
    "    String of the auto-generate unique model identifier. None if failed.\n",
    "File:      /tmp/pip_packages/snowflake/ml/registry/model_registry.py\n",
    "Type:      method -->"
   ]
  },
  {
   "cell_type": "code",
   "execution_count": 94,
   "id": "8d79fa60",
   "metadata": {},
   "outputs": [],
   "source": [
    "# a name and model tags can be added to the model at the registration time\n",
    "model_id = registry.log_model(model=pipeline,name=\"Churn Prediction 19th May\",signature=sign, tags={\n",
    "    \"stage\": \"testing\",\"classifier_type\":\"xgb\"\n",
    "})"
   ]
  },
  {
   "cell_type": "markdown",
   "id": "bc0a3b6b",
   "metadata": {},
   "source": [
    "### Load model from snowflake repo"
   ]
  },
  {
   "cell_type": "code",
   "execution_count": 95,
   "id": "e23e7e97",
   "metadata": {},
   "outputs": [],
   "source": [
    "# need model id for this\n",
    "ppln_loaded = model_registry.ModelReference(registry=registry, id=model_id)"
   ]
  },
  {
   "cell_type": "code",
   "execution_count": 96,
   "id": "1be20eff",
   "metadata": {},
   "outputs": [
    {
     "data": {
      "text/plain": [
       "snowflake.ml.registry.model_registry.ModelReference"
      ]
     },
     "execution_count": 96,
     "metadata": {},
     "output_type": "execute_result"
    }
   ],
   "source": [
    "type(ppln_loaded)"
   ]
  },
  {
   "cell_type": "code",
   "execution_count": 97,
   "id": "f926d439",
   "metadata": {},
   "outputs": [
    {
     "data": {
      "text/plain": [
       "'bad9c44af62611ed95000a3279fc73b5'"
      ]
     },
     "execution_count": 97,
     "metadata": {},
     "output_type": "execute_result"
    }
   ],
   "source": [
    "model_id"
   ]
  },
  {
   "cell_type": "markdown",
   "id": "ee7469de",
   "metadata": {},
   "source": [
    "## List models form snowflake repository"
   ]
  },
  {
   "cell_type": "code",
   "execution_count": 98,
   "id": "d2545a93",
   "metadata": {},
   "outputs": [],
   "source": [
    "# this returns a snowpark dataframe\n",
    "model_list = registry.list_models()"
   ]
  },
  {
   "cell_type": "code",
   "execution_count": 99,
   "id": "fe77e708",
   "metadata": {},
   "outputs": [
    {
     "data": {
      "text/html": [
       "<div>\n",
       "<style scoped>\n",
       "    .dataframe tbody tr th:only-of-type {\n",
       "        vertical-align: middle;\n",
       "    }\n",
       "\n",
       "    .dataframe tbody tr th {\n",
       "        vertical-align: top;\n",
       "    }\n",
       "\n",
       "    .dataframe thead th {\n",
       "        text-align: right;\n",
       "    }\n",
       "</style>\n",
       "<table border=\"1\" class=\"dataframe\">\n",
       "  <thead>\n",
       "    <tr style=\"text-align: right;\">\n",
       "      <th></th>\n",
       "      <th>CREATION_CONTEXT</th>\n",
       "      <th>CREATION_ENVIRONMENT_SPEC</th>\n",
       "      <th>CREATION_ROLE</th>\n",
       "      <th>CREATION_TIME</th>\n",
       "      <th>ID</th>\n",
       "      <th>INPUT_SPEC</th>\n",
       "      <th>OUTPUT_SPEC</th>\n",
       "      <th>RUNTIME_ENVIRONMENT_SPEC</th>\n",
       "      <th>TYPE</th>\n",
       "      <th>URI</th>\n",
       "      <th>VERSION</th>\n",
       "      <th>DESCRIPTION</th>\n",
       "      <th>METRICS</th>\n",
       "      <th>NAME</th>\n",
       "      <th>TAGS</th>\n",
       "      <th>REGISTRATION_TIMESTAMP</th>\n",
       "    </tr>\n",
       "  </thead>\n",
       "  <tbody>\n",
       "    <tr>\n",
       "      <th>0</th>\n",
       "      <td>None</td>\n",
       "      <td>{\\n  \"python\": \"3.8.13\"\\n}</td>\n",
       "      <td>\"ACCOUNTADMIN\"</td>\n",
       "      <td>2023-05-14 21:05:06.402000-07:00</td>\n",
       "      <td>ac7b0372f2d511ed9bd81a58bc4a8d4c</td>\n",
       "      <td>None</td>\n",
       "      <td>None</td>\n",
       "      <td>None</td>\n",
       "      <td>Pipeline</td>\n",
       "      <td>sfc:MODEL_REGISTRY.PUBLIC.SNOWML_MODEL_AC7B037...</td>\n",
       "      <td>None</td>\n",
       "      <td>None</td>\n",
       "      <td>{\\n  \"classification_report\": {\\n    \"0\": {\\n ...</td>\n",
       "      <td>\"Diabeties detector\"</td>\n",
       "      <td>{\\n  \"classifier_type\": \"xgb\",\\n  \"stage\": \"te...</td>\n",
       "      <td>2023-05-14 21:05:09.854000-07:00</td>\n",
       "    </tr>\n",
       "    <tr>\n",
       "      <th>1</th>\n",
       "      <td>None</td>\n",
       "      <td>{\\n  \"python\": \"3.8.13\"\\n}</td>\n",
       "      <td>\"ACCOUNTADMIN\"</td>\n",
       "      <td>2023-05-15 03:36:44.798000-07:00</td>\n",
       "      <td>62b26578f30c11ed877cba735c640ef5</td>\n",
       "      <td>None</td>\n",
       "      <td>None</td>\n",
       "      <td>None</td>\n",
       "      <td>Pipeline</td>\n",
       "      <td>sfc:MODEL_REGISTRY.PUBLIC.SNOWML_MODEL_62B2657...</td>\n",
       "      <td>None</td>\n",
       "      <td>None</td>\n",
       "      <td>{\\n  \"classification_report\": {\\n    \"accuracy...</td>\n",
       "      <td>\"Diabeties detector\"</td>\n",
       "      <td>{\\n  \"classifier_type\": \"xgb\",\\n  \"stage\": \"te...</td>\n",
       "      <td>2023-05-15 03:36:46.579000-07:00</td>\n",
       "    </tr>\n",
       "    <tr>\n",
       "      <th>2</th>\n",
       "      <td>None</td>\n",
       "      <td>{\\n  \"python\": \"3.8.13\"\\n}</td>\n",
       "      <td>\"ACCOUNTADMIN\"</td>\n",
       "      <td>2023-05-05 03:59:15.005000-07:00</td>\n",
       "      <td>df39f65aeb3311edb54d8a8aaf1a29c2</td>\n",
       "      <td>None</td>\n",
       "      <td>None</td>\n",
       "      <td>None</td>\n",
       "      <td>Pipeline</td>\n",
       "      <td>sfc:MODEL_REGISTRY.PUBLIC.SNOWML_MODEL_DF39F65...</td>\n",
       "      <td>None</td>\n",
       "      <td>None</td>\n",
       "      <td>None</td>\n",
       "      <td>\"Diabeties detector\"</td>\n",
       "      <td>{\\n  \"classifier_type\": \"xgb\",\\n  \"stage\": \"te...</td>\n",
       "      <td>2023-05-05 03:59:18.195000-07:00</td>\n",
       "    </tr>\n",
       "    <tr>\n",
       "      <th>3</th>\n",
       "      <td>None</td>\n",
       "      <td>{\\n  \"python\": \"3.8.13\"\\n}</td>\n",
       "      <td>\"ACCOUNTADMIN\"</td>\n",
       "      <td>2023-05-15 03:14:06.021000-07:00</td>\n",
       "      <td>38dda12af30911ed82411a58bc4a8d4c</td>\n",
       "      <td>None</td>\n",
       "      <td>None</td>\n",
       "      <td>None</td>\n",
       "      <td>Pipeline</td>\n",
       "      <td>sfc:MODEL_REGISTRY.PUBLIC.SNOWML_MODEL_38DDA12...</td>\n",
       "      <td>None</td>\n",
       "      <td>None</td>\n",
       "      <td>{\\n  \"classification_report\": {\\n    \"accuracy...</td>\n",
       "      <td>\"Diabeties detector\"</td>\n",
       "      <td>{\\n  \"classifier_type\": \"xgb\",\\n  \"stage\": \"te...</td>\n",
       "      <td>2023-05-15 03:14:07.916000-07:00</td>\n",
       "    </tr>\n",
       "    <tr>\n",
       "      <th>4</th>\n",
       "      <td>None</td>\n",
       "      <td>{\\n  \"python\": \"3.8.13\"\\n}</td>\n",
       "      <td>\"ACCOUNTADMIN\"</td>\n",
       "      <td>2023-05-19 02:06:34.748000-07:00</td>\n",
       "      <td>73ca7a60f62411ed95000a3279fc73b5</td>\n",
       "      <td>None</td>\n",
       "      <td>None</td>\n",
       "      <td>None</td>\n",
       "      <td>Pipeline</td>\n",
       "      <td>sfc:MODEL_REGISTRY.PUBLIC.SNOWML_MODEL_73CA7A6...</td>\n",
       "      <td>None</td>\n",
       "      <td>None</td>\n",
       "      <td>None</td>\n",
       "      <td>\"Diabeties detector 19th May\"</td>\n",
       "      <td>{\\n  \"classifier_type\": \"xgb\",\\n  \"stage\": \"te...</td>\n",
       "      <td>2023-05-19 02:06:37.488000-07:00</td>\n",
       "    </tr>\n",
       "    <tr>\n",
       "      <th>5</th>\n",
       "      <td>None</td>\n",
       "      <td>{\\n  \"python\": \"3.8.13\"\\n}</td>\n",
       "      <td>\"ACCOUNTADMIN\"</td>\n",
       "      <td>2023-05-19 02:11:25.920000-07:00</td>\n",
       "      <td>20fb2b08f62511ed95000a3279fc73b5</td>\n",
       "      <td>None</td>\n",
       "      <td>None</td>\n",
       "      <td>None</td>\n",
       "      <td>Pipeline</td>\n",
       "      <td>sfc:MODEL_REGISTRY.PUBLIC.SNOWML_MODEL_20FB2B0...</td>\n",
       "      <td>None</td>\n",
       "      <td>None</td>\n",
       "      <td>{\\n  \"classification_report\": {\\n    \"accuracy...</td>\n",
       "      <td>\"Diabeties detector 19th May\"</td>\n",
       "      <td>{\\n  \"classifier_type\": \"xgb\",\\n  \"stage\": \"te...</td>\n",
       "      <td>2023-05-19 02:11:27.365000-07:00</td>\n",
       "    </tr>\n",
       "    <tr>\n",
       "      <th>6</th>\n",
       "      <td>None</td>\n",
       "      <td>{\\n  \"python\": \"3.8.13\"\\n}</td>\n",
       "      <td>\"ACCOUNTADMIN\"</td>\n",
       "      <td>2023-05-19 02:22:52.971000-07:00</td>\n",
       "      <td>bad9c44af62611ed95000a3279fc73b5</td>\n",
       "      <td>None</td>\n",
       "      <td>None</td>\n",
       "      <td>None</td>\n",
       "      <td>Pipeline</td>\n",
       "      <td>sfc:MODEL_REGISTRY.PUBLIC.SNOWML_MODEL_BAD9C44...</td>\n",
       "      <td>None</td>\n",
       "      <td>None</td>\n",
       "      <td>None</td>\n",
       "      <td>\"Churn Prediction 19th May\"</td>\n",
       "      <td>{\\n  \"classifier_type\": \"xgb\",\\n  \"stage\": \"te...</td>\n",
       "      <td>2023-05-19 02:22:54.607000-07:00</td>\n",
       "    </tr>\n",
       "  </tbody>\n",
       "</table>\n",
       "</div>"
      ],
      "text/plain": [
       "  CREATION_CONTEXT   CREATION_ENVIRONMENT_SPEC   CREATION_ROLE  \\\n",
       "0             None  {\\n  \"python\": \"3.8.13\"\\n}  \"ACCOUNTADMIN\"   \n",
       "1             None  {\\n  \"python\": \"3.8.13\"\\n}  \"ACCOUNTADMIN\"   \n",
       "2             None  {\\n  \"python\": \"3.8.13\"\\n}  \"ACCOUNTADMIN\"   \n",
       "3             None  {\\n  \"python\": \"3.8.13\"\\n}  \"ACCOUNTADMIN\"   \n",
       "4             None  {\\n  \"python\": \"3.8.13\"\\n}  \"ACCOUNTADMIN\"   \n",
       "5             None  {\\n  \"python\": \"3.8.13\"\\n}  \"ACCOUNTADMIN\"   \n",
       "6             None  {\\n  \"python\": \"3.8.13\"\\n}  \"ACCOUNTADMIN\"   \n",
       "\n",
       "                     CREATION_TIME                                ID  \\\n",
       "0 2023-05-14 21:05:06.402000-07:00  ac7b0372f2d511ed9bd81a58bc4a8d4c   \n",
       "1 2023-05-15 03:36:44.798000-07:00  62b26578f30c11ed877cba735c640ef5   \n",
       "2 2023-05-05 03:59:15.005000-07:00  df39f65aeb3311edb54d8a8aaf1a29c2   \n",
       "3 2023-05-15 03:14:06.021000-07:00  38dda12af30911ed82411a58bc4a8d4c   \n",
       "4 2023-05-19 02:06:34.748000-07:00  73ca7a60f62411ed95000a3279fc73b5   \n",
       "5 2023-05-19 02:11:25.920000-07:00  20fb2b08f62511ed95000a3279fc73b5   \n",
       "6 2023-05-19 02:22:52.971000-07:00  bad9c44af62611ed95000a3279fc73b5   \n",
       "\n",
       "  INPUT_SPEC OUTPUT_SPEC RUNTIME_ENVIRONMENT_SPEC      TYPE  \\\n",
       "0       None        None                     None  Pipeline   \n",
       "1       None        None                     None  Pipeline   \n",
       "2       None        None                     None  Pipeline   \n",
       "3       None        None                     None  Pipeline   \n",
       "4       None        None                     None  Pipeline   \n",
       "5       None        None                     None  Pipeline   \n",
       "6       None        None                     None  Pipeline   \n",
       "\n",
       "                                                 URI VERSION DESCRIPTION  \\\n",
       "0  sfc:MODEL_REGISTRY.PUBLIC.SNOWML_MODEL_AC7B037...    None        None   \n",
       "1  sfc:MODEL_REGISTRY.PUBLIC.SNOWML_MODEL_62B2657...    None        None   \n",
       "2  sfc:MODEL_REGISTRY.PUBLIC.SNOWML_MODEL_DF39F65...    None        None   \n",
       "3  sfc:MODEL_REGISTRY.PUBLIC.SNOWML_MODEL_38DDA12...    None        None   \n",
       "4  sfc:MODEL_REGISTRY.PUBLIC.SNOWML_MODEL_73CA7A6...    None        None   \n",
       "5  sfc:MODEL_REGISTRY.PUBLIC.SNOWML_MODEL_20FB2B0...    None        None   \n",
       "6  sfc:MODEL_REGISTRY.PUBLIC.SNOWML_MODEL_BAD9C44...    None        None   \n",
       "\n",
       "                                             METRICS  \\\n",
       "0  {\\n  \"classification_report\": {\\n    \"0\": {\\n ...   \n",
       "1  {\\n  \"classification_report\": {\\n    \"accuracy...   \n",
       "2                                               None   \n",
       "3  {\\n  \"classification_report\": {\\n    \"accuracy...   \n",
       "4                                               None   \n",
       "5  {\\n  \"classification_report\": {\\n    \"accuracy...   \n",
       "6                                               None   \n",
       "\n",
       "                            NAME  \\\n",
       "0           \"Diabeties detector\"   \n",
       "1           \"Diabeties detector\"   \n",
       "2           \"Diabeties detector\"   \n",
       "3           \"Diabeties detector\"   \n",
       "4  \"Diabeties detector 19th May\"   \n",
       "5  \"Diabeties detector 19th May\"   \n",
       "6    \"Churn Prediction 19th May\"   \n",
       "\n",
       "                                                TAGS  \\\n",
       "0  {\\n  \"classifier_type\": \"xgb\",\\n  \"stage\": \"te...   \n",
       "1  {\\n  \"classifier_type\": \"xgb\",\\n  \"stage\": \"te...   \n",
       "2  {\\n  \"classifier_type\": \"xgb\",\\n  \"stage\": \"te...   \n",
       "3  {\\n  \"classifier_type\": \"xgb\",\\n  \"stage\": \"te...   \n",
       "4  {\\n  \"classifier_type\": \"xgb\",\\n  \"stage\": \"te...   \n",
       "5  {\\n  \"classifier_type\": \"xgb\",\\n  \"stage\": \"te...   \n",
       "6  {\\n  \"classifier_type\": \"xgb\",\\n  \"stage\": \"te...   \n",
       "\n",
       "            REGISTRATION_TIMESTAMP  \n",
       "0 2023-05-14 21:05:09.854000-07:00  \n",
       "1 2023-05-15 03:36:46.579000-07:00  \n",
       "2 2023-05-05 03:59:18.195000-07:00  \n",
       "3 2023-05-15 03:14:07.916000-07:00  \n",
       "4 2023-05-19 02:06:37.488000-07:00  \n",
       "5 2023-05-19 02:11:27.365000-07:00  \n",
       "6 2023-05-19 02:22:54.607000-07:00  "
      ]
     },
     "execution_count": 99,
     "metadata": {},
     "output_type": "execute_result"
    }
   ],
   "source": [
    "model_list.to_pandas()"
   ]
  },
  {
   "cell_type": "code",
   "execution_count": 100,
   "id": "56748ef3",
   "metadata": {},
   "outputs": [
    {
     "name": "stdout",
     "output_type": "stream",
     "text": [
      "-------------------------------------------------------------------------\n",
      "|\"NAME\"                       |\"TAGS\"                       |\"METRICS\"  |\n",
      "-------------------------------------------------------------------------\n",
      "|\"Churn Prediction 19th May\"  |{                            |NULL       |\n",
      "|                             |  \"classifier_type\": \"xgb\",  |           |\n",
      "|                             |  \"stage\": \"testing\"         |           |\n",
      "|                             |}                            |           |\n",
      "-------------------------------------------------------------------------\n",
      "\n"
     ]
    }
   ],
   "source": [
    "model_list.filter(model_list[\"ID\"] == model_id).select(\"NAME\",\"TAGS\",\"METRICS\").show()"
   ]
  },
  {
   "cell_type": "markdown",
   "id": "6cb0e62b",
   "metadata": {},
   "source": [
    "## Adding metrics to a model registered"
   ]
  },
  {
   "cell_type": "code",
   "execution_count": 101,
   "id": "86d52747",
   "metadata": {},
   "outputs": [],
   "source": [
    "registry.set_metric(id=model_id,name=\"classification_report\", value=report)"
   ]
  },
  {
   "cell_type": "code",
   "execution_count": 102,
   "id": "93fd921e",
   "metadata": {},
   "outputs": [],
   "source": [
    "logloss = log_loss(y_true,y_pred,normalize=True)"
   ]
  },
  {
   "cell_type": "code",
   "execution_count": 103,
   "id": "d2521015",
   "metadata": {},
   "outputs": [],
   "source": [
    "registry.set_metric(id=model_id,name=\"log_loss\", value=logloss)"
   ]
  },
  {
   "cell_type": "markdown",
   "id": "b1615aef",
   "metadata": {},
   "source": [
    "------------------------------------------------------------------------------------------------\n",
    "<b>Adding confusion matrix as metrix</b>"
   ]
  },
  {
   "cell_type": "code",
   "execution_count": 104,
   "id": "a9a8b977",
   "metadata": {},
   "outputs": [],
   "source": [
    "cnf_mtr = confusion_matrix(y_true=y_true,y_pred=y_pred)"
   ]
  },
  {
   "cell_type": "code",
   "execution_count": 105,
   "id": "774ff494",
   "metadata": {},
   "outputs": [
    {
     "data": {
      "text/plain": [
       "array([[1536,  105],\n",
       "       [ 210,  152]])"
      ]
     },
     "execution_count": 105,
     "metadata": {},
     "output_type": "execute_result"
    }
   ],
   "source": [
    "cnf_mtr"
   ]
  },
  {
   "cell_type": "code",
   "execution_count": 106,
   "id": "302de10e",
   "metadata": {},
   "outputs": [],
   "source": [
    "# is numpy array as metics possible?\n",
    "registry.set_metric(id=model_id,name=\"confusion_matrix\", value=cnf_mtr)"
   ]
  },
  {
   "cell_type": "code",
   "execution_count": 107,
   "id": "0fe28161",
   "metadata": {},
   "outputs": [
    {
     "name": "stdout",
     "output_type": "stream",
     "text": [
      "------------------------------------------------------------------------------------------------------\n",
      "|\"NAME\"                       |\"TAGS\"                       |\"METRICS\"                               |\n",
      "------------------------------------------------------------------------------------------------------\n",
      "|\"Churn Prediction 19th May\"  |{                            |{                                       |\n",
      "|                             |  \"classifier_type\": \"xgb\",  |  \"classification_report\": {            |\n",
      "|                             |  \"stage\": \"testing\"         |    \"accuracy\": 0.8427358961557664,     |\n",
      "|                             |}                            |    \"exit\": {                           |\n",
      "|                             |                             |      \"f1-score\": 0.4911147011308562,   |\n",
      "|                             |                             |      \"precision\": 0.5914396887159533,  |\n",
      "|                             |                             |      \"recall\": 0.4198895027624309,     |\n",
      "|                             |                             |      \"support\": 362                    |\n",
      "|                             |                             |    },                                  |\n",
      "|                             |                             |    \"macro avg\": {                      |\n",
      "|                             |                             |      \"f1-score\": 0.6990560219560392,   |\n",
      "|                             |                             |      \"precision\": 0.7355823873133032,  |\n",
      "|                             |                             |      \"recall\": 0.677952063995475,      |\n",
      "|                             |                             |      \"support\": 2003                   |\n",
      "|                             |                             |    },                                  |\n",
      "|                             |                             |    \"stay\": {                           |\n",
      "|                             |                             |      \"f1-score\": 0.9069973427812222,   |\n",
      "|                             |                             |      \"precision\": 0.8797250859106529,  |\n",
      "|                             |                             |      \"recall\": 0.9360146252285192,     |\n",
      "|                             |                             |      \"support\": 1641                   |\n",
      "|                             |                             |    },                                  |\n",
      "|                             |                             |    \"weighted avg\": {                   |\n",
      "|                             |                             |      \"f1-score\": 0.83183532766518,     |\n",
      "|                             |                             |      \"precision\": 0.8276235812753652,  |\n",
      "|                             |                             |      \"recall\": 0.8427358961557664,     |\n",
      "|                             |                             |      \"support\": 2003                   |\n",
      "|                             |                             |    }                                   |\n",
      "|                             |                             |  },                                    |\n",
      "|                             |                             |  \"confusion_matrix\": [                 |\n",
      "|                             |                             |    [                                   |\n",
      "|                             |                             |      1536,                             |\n",
      "|                             |                             |      105                               |\n",
      "|                             |                             |    ],                                  |\n",
      "|                             |                             |    [                                   |\n",
      "|                             |                             |      210,                              |\n",
      "|                             |                             |      152                               |\n",
      "|                             |                             |    ]                                   |\n",
      "|                             |                             |  ],                                    |\n",
      "|                             |                             |  \"log_loss\": 5.668372849511684         |\n",
      "|                             |                             |}                                       |\n",
      "------------------------------------------------------------------------------------------------------\n",
      "\n"
     ]
    }
   ],
   "source": [
    "model_list.filter(model_list[\"ID\"] == model_id).select(\"NAME\",\"TAGS\",\"METRICS\").show()"
   ]
  },
  {
   "cell_type": "markdown",
   "id": "7f46a74c",
   "metadata": {},
   "source": [
    "<b>Overview:</b>\n",
    "- use case name : done\n",
    "- model name : done\n",
    "- model purpose : done\n",
    "- model type : done using tags, if existing not satisfactory we can add new\n",
    "- algorithm used : done using tags\n",
    "- Flavour used : done\n",
    "- created by :\n",
    "- hyperparameters : TB checked, but doable\n",
    "\n",
    "<b>Datasets used :</b>\n",
    "- datasets used : done\n",
    "\n",
    "<b>Model Development metrics:</b>\n",
    "- Build time metrics:\n",
    "    - accuracy : done\n",
    "    - precision : done\n",
    "    - recall : done\n",
    "    - f1 : done\n",
    "    - roc auc : doable\n",
    "    - log_loss :done\n",
    "- Class Representation : Done (suppor value in metrics)\n",
    "- Confusion matrix : Done\n",
    "- Quality by class : Done\n",
    "\n",
    "        "
   ]
  },
  {
   "cell_type": "markdown",
   "id": "804d7bce",
   "metadata": {},
   "source": [
    "### Load model from snowflake repo"
   ]
  },
  {
   "cell_type": "code",
   "execution_count": 62,
   "id": "cbeee84c",
   "metadata": {},
   "outputs": [],
   "source": [
    "# First list all models. This function call returns a snowpark dataframe\n",
    "model_list = registry.list_models()"
   ]
  },
  {
   "cell_type": "code",
   "execution_count": 63,
   "id": "1d15a0d9",
   "metadata": {},
   "outputs": [
    {
     "data": {
      "text/html": [
       "<div>\n",
       "<style scoped>\n",
       "    .dataframe tbody tr th:only-of-type {\n",
       "        vertical-align: middle;\n",
       "    }\n",
       "\n",
       "    .dataframe tbody tr th {\n",
       "        vertical-align: top;\n",
       "    }\n",
       "\n",
       "    .dataframe thead th {\n",
       "        text-align: right;\n",
       "    }\n",
       "</style>\n",
       "<table border=\"1\" class=\"dataframe\">\n",
       "  <thead>\n",
       "    <tr style=\"text-align: right;\">\n",
       "      <th></th>\n",
       "      <th>CREATION_CONTEXT</th>\n",
       "      <th>CREATION_ENVIRONMENT_SPEC</th>\n",
       "      <th>CREATION_ROLE</th>\n",
       "      <th>CREATION_TIME</th>\n",
       "      <th>ID</th>\n",
       "      <th>INPUT_SPEC</th>\n",
       "      <th>OUTPUT_SPEC</th>\n",
       "      <th>RUNTIME_ENVIRONMENT_SPEC</th>\n",
       "      <th>TYPE</th>\n",
       "      <th>URI</th>\n",
       "      <th>VERSION</th>\n",
       "      <th>DESCRIPTION</th>\n",
       "      <th>METRICS</th>\n",
       "      <th>NAME</th>\n",
       "      <th>TAGS</th>\n",
       "      <th>REGISTRATION_TIMESTAMP</th>\n",
       "    </tr>\n",
       "  </thead>\n",
       "  <tbody>\n",
       "    <tr>\n",
       "      <th>0</th>\n",
       "      <td>None</td>\n",
       "      <td>{\\n  \"python\": \"3.8.13\"\\n}</td>\n",
       "      <td>\"ACCOUNTADMIN\"</td>\n",
       "      <td>2023-05-05 03:59:15.005000-07:00</td>\n",
       "      <td>df39f65aeb3311edb54d8a8aaf1a29c2</td>\n",
       "      <td>None</td>\n",
       "      <td>None</td>\n",
       "      <td>None</td>\n",
       "      <td>Pipeline</td>\n",
       "      <td>sfc:MODEL_REGISTRY.PUBLIC.SNOWML_MODEL_DF39F65...</td>\n",
       "      <td>None</td>\n",
       "      <td>None</td>\n",
       "      <td>None</td>\n",
       "      <td>\"Diabeties detector\"</td>\n",
       "      <td>{\\n  \"classifier_type\": \"xgb\",\\n  \"stage\": \"te...</td>\n",
       "      <td>2023-05-05 03:59:18.195000-07:00</td>\n",
       "    </tr>\n",
       "    <tr>\n",
       "      <th>1</th>\n",
       "      <td>None</td>\n",
       "      <td>{\\n  \"python\": \"3.8.13\"\\n}</td>\n",
       "      <td>\"ACCOUNTADMIN\"</td>\n",
       "      <td>2023-05-14 21:05:06.402000-07:00</td>\n",
       "      <td>ac7b0372f2d511ed9bd81a58bc4a8d4c</td>\n",
       "      <td>None</td>\n",
       "      <td>None</td>\n",
       "      <td>None</td>\n",
       "      <td>Pipeline</td>\n",
       "      <td>sfc:MODEL_REGISTRY.PUBLIC.SNOWML_MODEL_AC7B037...</td>\n",
       "      <td>None</td>\n",
       "      <td>None</td>\n",
       "      <td>{\\n  \"classification_report\": {\\n    \"0\": {\\n ...</td>\n",
       "      <td>\"Diabeties detector\"</td>\n",
       "      <td>{\\n  \"classifier_type\": \"xgb\",\\n  \"stage\": \"te...</td>\n",
       "      <td>2023-05-14 21:05:09.854000-07:00</td>\n",
       "    </tr>\n",
       "    <tr>\n",
       "      <th>2</th>\n",
       "      <td>None</td>\n",
       "      <td>{\\n  \"python\": \"3.8.13\"\\n}</td>\n",
       "      <td>\"ACCOUNTADMIN\"</td>\n",
       "      <td>2023-05-15 03:14:06.021000-07:00</td>\n",
       "      <td>38dda12af30911ed82411a58bc4a8d4c</td>\n",
       "      <td>None</td>\n",
       "      <td>None</td>\n",
       "      <td>None</td>\n",
       "      <td>Pipeline</td>\n",
       "      <td>sfc:MODEL_REGISTRY.PUBLIC.SNOWML_MODEL_38DDA12...</td>\n",
       "      <td>None</td>\n",
       "      <td>None</td>\n",
       "      <td>{\\n  \"classification_report\": {\\n    \"accuracy...</td>\n",
       "      <td>\"Diabeties detector\"</td>\n",
       "      <td>{\\n  \"classifier_type\": \"xgb\",\\n  \"stage\": \"te...</td>\n",
       "      <td>2023-05-15 03:14:07.916000-07:00</td>\n",
       "    </tr>\n",
       "    <tr>\n",
       "      <th>3</th>\n",
       "      <td>None</td>\n",
       "      <td>{\\n  \"python\": \"3.8.13\"\\n}</td>\n",
       "      <td>\"ACCOUNTADMIN\"</td>\n",
       "      <td>2023-05-19 02:06:34.748000-07:00</td>\n",
       "      <td>73ca7a60f62411ed95000a3279fc73b5</td>\n",
       "      <td>None</td>\n",
       "      <td>None</td>\n",
       "      <td>None</td>\n",
       "      <td>Pipeline</td>\n",
       "      <td>sfc:MODEL_REGISTRY.PUBLIC.SNOWML_MODEL_73CA7A6...</td>\n",
       "      <td>None</td>\n",
       "      <td>None</td>\n",
       "      <td>None</td>\n",
       "      <td>\"Diabeties detector 19th May\"</td>\n",
       "      <td>{\\n  \"classifier_type\": \"xgb\",\\n  \"stage\": \"te...</td>\n",
       "      <td>2023-05-19 02:06:37.488000-07:00</td>\n",
       "    </tr>\n",
       "    <tr>\n",
       "      <th>4</th>\n",
       "      <td>None</td>\n",
       "      <td>{\\n  \"python\": \"3.8.13\"\\n}</td>\n",
       "      <td>\"ACCOUNTADMIN\"</td>\n",
       "      <td>2023-05-19 02:11:25.920000-07:00</td>\n",
       "      <td>20fb2b08f62511ed95000a3279fc73b5</td>\n",
       "      <td>None</td>\n",
       "      <td>None</td>\n",
       "      <td>None</td>\n",
       "      <td>Pipeline</td>\n",
       "      <td>sfc:MODEL_REGISTRY.PUBLIC.SNOWML_MODEL_20FB2B0...</td>\n",
       "      <td>None</td>\n",
       "      <td>None</td>\n",
       "      <td>{\\n  \"classification_report\": {\\n    \"accuracy...</td>\n",
       "      <td>\"Diabeties detector 19th May\"</td>\n",
       "      <td>{\\n  \"classifier_type\": \"xgb\",\\n  \"stage\": \"te...</td>\n",
       "      <td>2023-05-19 02:11:27.365000-07:00</td>\n",
       "    </tr>\n",
       "    <tr>\n",
       "      <th>5</th>\n",
       "      <td>None</td>\n",
       "      <td>{\\n  \"python\": \"3.8.13\"\\n}</td>\n",
       "      <td>\"ACCOUNTADMIN\"</td>\n",
       "      <td>2023-05-15 03:36:44.798000-07:00</td>\n",
       "      <td>62b26578f30c11ed877cba735c640ef5</td>\n",
       "      <td>None</td>\n",
       "      <td>None</td>\n",
       "      <td>None</td>\n",
       "      <td>Pipeline</td>\n",
       "      <td>sfc:MODEL_REGISTRY.PUBLIC.SNOWML_MODEL_62B2657...</td>\n",
       "      <td>None</td>\n",
       "      <td>None</td>\n",
       "      <td>{\\n  \"classification_report\": {\\n    \"accuracy...</td>\n",
       "      <td>\"Diabeties detector\"</td>\n",
       "      <td>{\\n  \"classifier_type\": \"xgb\",\\n  \"stage\": \"te...</td>\n",
       "      <td>2023-05-15 03:36:46.579000-07:00</td>\n",
       "    </tr>\n",
       "  </tbody>\n",
       "</table>\n",
       "</div>"
      ],
      "text/plain": [
       "  CREATION_CONTEXT   CREATION_ENVIRONMENT_SPEC   CREATION_ROLE  \\\n",
       "0             None  {\\n  \"python\": \"3.8.13\"\\n}  \"ACCOUNTADMIN\"   \n",
       "1             None  {\\n  \"python\": \"3.8.13\"\\n}  \"ACCOUNTADMIN\"   \n",
       "2             None  {\\n  \"python\": \"3.8.13\"\\n}  \"ACCOUNTADMIN\"   \n",
       "3             None  {\\n  \"python\": \"3.8.13\"\\n}  \"ACCOUNTADMIN\"   \n",
       "4             None  {\\n  \"python\": \"3.8.13\"\\n}  \"ACCOUNTADMIN\"   \n",
       "5             None  {\\n  \"python\": \"3.8.13\"\\n}  \"ACCOUNTADMIN\"   \n",
       "\n",
       "                     CREATION_TIME                                ID  \\\n",
       "0 2023-05-05 03:59:15.005000-07:00  df39f65aeb3311edb54d8a8aaf1a29c2   \n",
       "1 2023-05-14 21:05:06.402000-07:00  ac7b0372f2d511ed9bd81a58bc4a8d4c   \n",
       "2 2023-05-15 03:14:06.021000-07:00  38dda12af30911ed82411a58bc4a8d4c   \n",
       "3 2023-05-19 02:06:34.748000-07:00  73ca7a60f62411ed95000a3279fc73b5   \n",
       "4 2023-05-19 02:11:25.920000-07:00  20fb2b08f62511ed95000a3279fc73b5   \n",
       "5 2023-05-15 03:36:44.798000-07:00  62b26578f30c11ed877cba735c640ef5   \n",
       "\n",
       "  INPUT_SPEC OUTPUT_SPEC RUNTIME_ENVIRONMENT_SPEC      TYPE  \\\n",
       "0       None        None                     None  Pipeline   \n",
       "1       None        None                     None  Pipeline   \n",
       "2       None        None                     None  Pipeline   \n",
       "3       None        None                     None  Pipeline   \n",
       "4       None        None                     None  Pipeline   \n",
       "5       None        None                     None  Pipeline   \n",
       "\n",
       "                                                 URI VERSION DESCRIPTION  \\\n",
       "0  sfc:MODEL_REGISTRY.PUBLIC.SNOWML_MODEL_DF39F65...    None        None   \n",
       "1  sfc:MODEL_REGISTRY.PUBLIC.SNOWML_MODEL_AC7B037...    None        None   \n",
       "2  sfc:MODEL_REGISTRY.PUBLIC.SNOWML_MODEL_38DDA12...    None        None   \n",
       "3  sfc:MODEL_REGISTRY.PUBLIC.SNOWML_MODEL_73CA7A6...    None        None   \n",
       "4  sfc:MODEL_REGISTRY.PUBLIC.SNOWML_MODEL_20FB2B0...    None        None   \n",
       "5  sfc:MODEL_REGISTRY.PUBLIC.SNOWML_MODEL_62B2657...    None        None   \n",
       "\n",
       "                                             METRICS  \\\n",
       "0                                               None   \n",
       "1  {\\n  \"classification_report\": {\\n    \"0\": {\\n ...   \n",
       "2  {\\n  \"classification_report\": {\\n    \"accuracy...   \n",
       "3                                               None   \n",
       "4  {\\n  \"classification_report\": {\\n    \"accuracy...   \n",
       "5  {\\n  \"classification_report\": {\\n    \"accuracy...   \n",
       "\n",
       "                            NAME  \\\n",
       "0           \"Diabeties detector\"   \n",
       "1           \"Diabeties detector\"   \n",
       "2           \"Diabeties detector\"   \n",
       "3  \"Diabeties detector 19th May\"   \n",
       "4  \"Diabeties detector 19th May\"   \n",
       "5           \"Diabeties detector\"   \n",
       "\n",
       "                                                TAGS  \\\n",
       "0  {\\n  \"classifier_type\": \"xgb\",\\n  \"stage\": \"te...   \n",
       "1  {\\n  \"classifier_type\": \"xgb\",\\n  \"stage\": \"te...   \n",
       "2  {\\n  \"classifier_type\": \"xgb\",\\n  \"stage\": \"te...   \n",
       "3  {\\n  \"classifier_type\": \"xgb\",\\n  \"stage\": \"te...   \n",
       "4  {\\n  \"classifier_type\": \"xgb\",\\n  \"stage\": \"te...   \n",
       "5  {\\n  \"classifier_type\": \"xgb\",\\n  \"stage\": \"te...   \n",
       "\n",
       "            REGISTRATION_TIMESTAMP  \n",
       "0 2023-05-05 03:59:18.195000-07:00  \n",
       "1 2023-05-14 21:05:09.854000-07:00  \n",
       "2 2023-05-15 03:14:07.916000-07:00  \n",
       "3 2023-05-19 02:06:37.488000-07:00  \n",
       "4 2023-05-19 02:11:27.365000-07:00  \n",
       "5 2023-05-15 03:36:46.579000-07:00  "
      ]
     },
     "execution_count": 63,
     "metadata": {},
     "output_type": "execute_result"
    }
   ],
   "source": [
    "model_list.to_pandas()"
   ]
  },
  {
   "cell_type": "code",
   "execution_count": 82,
   "id": "a98436e3",
   "metadata": {},
   "outputs": [],
   "source": [
    "model_id = \"62b26578f30c11ed877cba735c640ef5\""
   ]
  },
  {
   "cell_type": "code",
   "execution_count": 65,
   "id": "0f613b1e",
   "metadata": {},
   "outputs": [],
   "source": [
    "# need model id for this\n",
    "ppln_loaded = model_registry.ModelReference(registry=registry, id=model_id)"
   ]
  },
  {
   "cell_type": "code",
   "execution_count": 66,
   "id": "41073d6e",
   "metadata": {},
   "outputs": [
    {
     "data": {
      "text/plain": [
       "<snowflake.ml.registry.model_registry.ModelReference at 0x7f46811bf850>"
      ]
     },
     "execution_count": 66,
     "metadata": {},
     "output_type": "execute_result"
    }
   ],
   "source": [
    "ppln_loaded"
   ]
  },
  {
   "cell_type": "code",
   "execution_count": 67,
   "id": "59915170",
   "metadata": {},
   "outputs": [],
   "source": [
    "pipeline_restored = registry.load_model(id=model_id)"
   ]
  },
  {
   "cell_type": "code",
   "execution_count": 68,
   "id": "ca4c015d",
   "metadata": {},
   "outputs": [
    {
     "data": {
      "text/plain": [
       "<snowflake.ml.framework.pipeline.Pipeline at 0x7f468115e2e0>"
      ]
     },
     "execution_count": 68,
     "metadata": {},
     "output_type": "execute_result"
    }
   ],
   "source": [
    "pipeline_restored"
   ]
  },
  {
   "cell_type": "code",
   "execution_count": 69,
   "id": "b238afaa",
   "metadata": {},
   "outputs": [
    {
     "ename": "SnowparkSessionException",
     "evalue": "(1404): Cannot perform this operation because the session has been closed.",
     "output_type": "error",
     "traceback": [
      "\u001b[0;31m---------------------------------------------------------------------------\u001b[0m",
      "\u001b[0;31mSnowparkSessionException\u001b[0m                  Traceback (most recent call last)",
      "Cell \u001b[0;32mIn[69], line 1\u001b[0m\n\u001b[0;32m----> 1\u001b[0m result_new \u001b[38;5;241m=\u001b[39m \u001b[43mpipeline_restored\u001b[49m\u001b[38;5;241;43m.\u001b[39;49m\u001b[43mpredict\u001b[49m\u001b[43m(\u001b[49m\u001b[43mtest_df\u001b[49m\u001b[43m)\u001b[49m\n",
      "File \u001b[0;32m/tmp/pip_packages/snowflake/ml/utils/telemetry.py:289\u001b[0m, in \u001b[0;36msend_api_usage_telemetry.<locals>.decorator.<locals>.wrap\u001b[0;34m(*args, **kwargs)\u001b[0m\n\u001b[1;32m    280\u001b[0m telemetry_args \u001b[38;5;241m=\u001b[39m \u001b[38;5;28mdict\u001b[39m(\n\u001b[1;32m    281\u001b[0m     func_name\u001b[38;5;241m=\u001b[39m_get_full_func_name(func),\n\u001b[1;32m    282\u001b[0m     function_category\u001b[38;5;241m=\u001b[39mTelemetryField\u001b[38;5;241m.\u001b[39mFUNC_CAT_USAGE\u001b[38;5;241m.\u001b[39mvalue,\n\u001b[0;32m   (...)\u001b[0m\n\u001b[1;32m    286\u001b[0m     custom_tags\u001b[38;5;241m=\u001b[39mcustom_tags,\n\u001b[1;32m    287\u001b[0m )\n\u001b[1;32m    288\u001b[0m \u001b[38;5;28;01mtry\u001b[39;00m:\n\u001b[0;32m--> 289\u001b[0m     res \u001b[38;5;241m=\u001b[39m \u001b[43mfunc\u001b[49m\u001b[43m(\u001b[49m\u001b[38;5;241;43m*\u001b[39;49m\u001b[43margs\u001b[49m\u001b[43m,\u001b[49m\u001b[43m \u001b[49m\u001b[38;5;241;43m*\u001b[39;49m\u001b[38;5;241;43m*\u001b[39;49m\u001b[43mkwargs\u001b[49m\u001b[43m)\u001b[49m\n\u001b[1;32m    290\u001b[0m \u001b[38;5;28;01mexcept\u001b[39;00m \u001b[38;5;167;01mException\u001b[39;00m \u001b[38;5;28;01mas\u001b[39;00m e:\n\u001b[1;32m    291\u001b[0m     error \u001b[38;5;241m=\u001b[39m \u001b[38;5;28mrepr\u001b[39m(e)\n",
      "File \u001b[0;32m/tmp/pip_packages/snowflake/ml/framework/pipeline.py:271\u001b[0m, in \u001b[0;36mPipeline.predict\u001b[0;34m(self, dataset)\u001b[0m\n\u001b[1;32m    268\u001b[0m \u001b[38;5;28;01mif\u001b[39;00m \u001b[38;5;129;01mnot\u001b[39;00m \u001b[38;5;28mself\u001b[39m\u001b[38;5;241m.\u001b[39m_is_fitted:\n\u001b[1;32m    269\u001b[0m     \u001b[38;5;28;01mraise\u001b[39;00m \u001b[38;5;167;01mRuntimeError\u001b[39;00m(\u001b[38;5;124m\"\u001b[39m\u001b[38;5;124mPipeline not fitted before calling predict().\u001b[39m\u001b[38;5;124m\"\u001b[39m)\n\u001b[0;32m--> 271\u001b[0m transformed_dataset \u001b[38;5;241m=\u001b[39m \u001b[38;5;28;43mself\u001b[39;49m\u001b[38;5;241;43m.\u001b[39;49m\u001b[43m_transform_dataset\u001b[49m\u001b[43m(\u001b[49m\u001b[43mdataset\u001b[49m\u001b[38;5;241;43m=\u001b[39;49m\u001b[43mdataset\u001b[49m\u001b[43m)\u001b[49m\n\u001b[1;32m    272\u001b[0m estimator \u001b[38;5;241m=\u001b[39m \u001b[38;5;28mself\u001b[39m\u001b[38;5;241m.\u001b[39m_get_estimator()\n\u001b[1;32m    273\u001b[0m \u001b[38;5;66;03m# Estimator is guaranteed to be not None because of _final_step_has(\"predict\") check.\u001b[39;00m\n",
      "File \u001b[0;32m/tmp/pip_packages/snowflake/ml/framework/pipeline.py:101\u001b[0m, in \u001b[0;36mPipeline._transform_dataset\u001b[0;34m(self, dataset)\u001b[0m\n\u001b[1;32m     99\u001b[0m transforms \u001b[38;5;241m=\u001b[39m \u001b[38;5;28mself\u001b[39m\u001b[38;5;241m.\u001b[39m_get_transforms()\n\u001b[1;32m    100\u001b[0m \u001b[38;5;28;01mfor\u001b[39;00m _, (_, trans) \u001b[38;5;129;01min\u001b[39;00m \u001b[38;5;28menumerate\u001b[39m(transforms):\n\u001b[0;32m--> 101\u001b[0m     transformed_dataset \u001b[38;5;241m=\u001b[39m \u001b[43mtrans\u001b[49m\u001b[38;5;241;43m.\u001b[39;49m\u001b[43mtransform\u001b[49m\u001b[43m(\u001b[49m\u001b[43mtransformed_dataset\u001b[49m\u001b[43m)\u001b[49m\n\u001b[1;32m    102\u001b[0m \u001b[38;5;28;01mreturn\u001b[39;00m transformed_dataset\n",
      "File \u001b[0;32m/tmp/pip_packages/snowflake/ml/utils/telemetry.py:289\u001b[0m, in \u001b[0;36msend_api_usage_telemetry.<locals>.decorator.<locals>.wrap\u001b[0;34m(*args, **kwargs)\u001b[0m\n\u001b[1;32m    280\u001b[0m telemetry_args \u001b[38;5;241m=\u001b[39m \u001b[38;5;28mdict\u001b[39m(\n\u001b[1;32m    281\u001b[0m     func_name\u001b[38;5;241m=\u001b[39m_get_full_func_name(func),\n\u001b[1;32m    282\u001b[0m     function_category\u001b[38;5;241m=\u001b[39mTelemetryField\u001b[38;5;241m.\u001b[39mFUNC_CAT_USAGE\u001b[38;5;241m.\u001b[39mvalue,\n\u001b[0;32m   (...)\u001b[0m\n\u001b[1;32m    286\u001b[0m     custom_tags\u001b[38;5;241m=\u001b[39mcustom_tags,\n\u001b[1;32m    287\u001b[0m )\n\u001b[1;32m    288\u001b[0m \u001b[38;5;28;01mtry\u001b[39;00m:\n\u001b[0;32m--> 289\u001b[0m     res \u001b[38;5;241m=\u001b[39m \u001b[43mfunc\u001b[49m\u001b[43m(\u001b[49m\u001b[38;5;241;43m*\u001b[39;49m\u001b[43margs\u001b[49m\u001b[43m,\u001b[49m\u001b[43m \u001b[49m\u001b[38;5;241;43m*\u001b[39;49m\u001b[38;5;241;43m*\u001b[39;49m\u001b[43mkwargs\u001b[49m\u001b[43m)\u001b[49m\n\u001b[1;32m    290\u001b[0m \u001b[38;5;28;01mexcept\u001b[39;00m \u001b[38;5;167;01mException\u001b[39;00m \u001b[38;5;28;01mas\u001b[39;00m e:\n\u001b[1;32m    291\u001b[0m     error \u001b[38;5;241m=\u001b[39m \u001b[38;5;28mrepr\u001b[39m(e)\n",
      "File \u001b[0;32m/tmp/pip_packages/snowflake/ml/preprocessing/ordinal_encoder.py:437\u001b[0m, in \u001b[0;36mOrdinalEncoder.transform\u001b[0;34m(self, dataset)\u001b[0m\n\u001b[1;32m    434\u001b[0m \u001b[38;5;28msuper\u001b[39m()\u001b[38;5;241m.\u001b[39m_check_output_cols()\n\u001b[1;32m    436\u001b[0m \u001b[38;5;28;01mif\u001b[39;00m \u001b[38;5;28misinstance\u001b[39m(dataset, snowpark\u001b[38;5;241m.\u001b[39mDataFrame):\n\u001b[0;32m--> 437\u001b[0m     output_df \u001b[38;5;241m=\u001b[39m \u001b[38;5;28;43mself\u001b[39;49m\u001b[38;5;241;43m.\u001b[39;49m\u001b[43m_transform_snowpark\u001b[49m\u001b[43m(\u001b[49m\u001b[43mdataset\u001b[49m\u001b[43m)\u001b[49m\n\u001b[1;32m    438\u001b[0m \u001b[38;5;28;01melif\u001b[39;00m \u001b[38;5;28misinstance\u001b[39m(dataset, pd\u001b[38;5;241m.\u001b[39mDataFrame):\n\u001b[1;32m    439\u001b[0m     output_df \u001b[38;5;241m=\u001b[39m \u001b[38;5;28mself\u001b[39m\u001b[38;5;241m.\u001b[39m_transform_sklearn(dataset)\n",
      "File \u001b[0;32m/tmp/pip_packages/snowflake/ml/preprocessing/ordinal_encoder.py:460\u001b[0m, in \u001b[0;36mOrdinalEncoder._transform_snowpark\u001b[0;34m(self, dataset)\u001b[0m\n\u001b[1;32m    448\u001b[0m \u001b[38;5;28;01mdef\u001b[39;00m \u001b[38;5;21m_transform_snowpark\u001b[39m(\u001b[38;5;28mself\u001b[39m, dataset: snowpark\u001b[38;5;241m.\u001b[39mDataFrame) \u001b[38;5;241m-\u001b[39m\u001b[38;5;241m>\u001b[39m snowpark\u001b[38;5;241m.\u001b[39mDataFrame:\n\u001b[1;32m    449\u001b[0m     \u001b[38;5;124;03m\"\"\"\u001b[39;00m\n\u001b[1;32m    450\u001b[0m \u001b[38;5;124;03m    Transform Snowpark dataframe to ordinal codes.\u001b[39;00m\n\u001b[1;32m    451\u001b[0m \n\u001b[0;32m   (...)\u001b[0m\n\u001b[1;32m    456\u001b[0m \u001b[38;5;124;03m        Output dataset.\u001b[39;00m\n\u001b[1;32m    457\u001b[0m \u001b[38;5;124;03m    \"\"\"\u001b[39;00m\n\u001b[1;32m    458\u001b[0m     state_df \u001b[38;5;241m=\u001b[39m (\n\u001b[1;32m    459\u001b[0m         dataset\u001b[38;5;241m.\u001b[39m_session\u001b[38;5;241m.\u001b[39mtable(\u001b[38;5;28mself\u001b[39m\u001b[38;5;241m.\u001b[39m_vocab_table_name)\n\u001b[0;32m--> 460\u001b[0m         \u001b[38;5;28;01mif\u001b[39;00m \u001b[43mdataset\u001b[49m\u001b[38;5;241;43m.\u001b[39;49m\u001b[43m_session\u001b[49m\u001b[38;5;241;43m.\u001b[39;49m\u001b[43m_table_exists\u001b[49m\u001b[43m(\u001b[49m\u001b[38;5;28;43mself\u001b[39;49m\u001b[38;5;241;43m.\u001b[39;49m\u001b[43m_vocab_table_name\u001b[49m\u001b[43m)\u001b[49m\n\u001b[1;32m    461\u001b[0m         \u001b[38;5;28;01melse\u001b[39;00m dataset\u001b[38;5;241m.\u001b[39m_session\u001b[38;5;241m.\u001b[39mcreate_dataframe(\u001b[38;5;28mself\u001b[39m\u001b[38;5;241m.\u001b[39m_state_pandas)\n\u001b[1;32m    462\u001b[0m     )\n\u001b[1;32m    464\u001b[0m     \u001b[38;5;66;03m# replace NULL with nan\u001b[39;00m\n\u001b[1;32m    465\u001b[0m     null_category_state_df \u001b[38;5;241m=\u001b[39m state_df\u001b[38;5;241m.\u001b[39mfilter(functions\u001b[38;5;241m.\u001b[39mcol(_CATEGORY)\u001b[38;5;241m.\u001b[39mis_null())\u001b[38;5;241m.\u001b[39mwith_column(\n\u001b[1;32m    466\u001b[0m         _INDEX, functions\u001b[38;5;241m.\u001b[39mlit(\u001b[38;5;28mself\u001b[39m\u001b[38;5;241m.\u001b[39mencoded_missing_value)\n\u001b[1;32m    467\u001b[0m     )\n",
      "File \u001b[0;32m/tmp/pip_packages/snowflake/snowpark/session.py:1978\u001b[0m, in \u001b[0;36mSession._table_exists\u001b[0;34m(self, table_name)\u001b[0m\n\u001b[1;32m   1975\u001b[0m qualified_table_name \u001b[38;5;241m=\u001b[39m table_name\u001b[38;5;241m.\u001b[39msplit(\u001b[38;5;124m\"\u001b[39m\u001b[38;5;124m.\u001b[39m\u001b[38;5;124m\"\u001b[39m)\n\u001b[1;32m   1976\u001b[0m \u001b[38;5;28;01mif\u001b[39;00m \u001b[38;5;28mlen\u001b[39m(qualified_table_name) \u001b[38;5;241m==\u001b[39m \u001b[38;5;241m1\u001b[39m:\n\u001b[1;32m   1977\u001b[0m     \u001b[38;5;66;03m# name in the form of \"table\"\u001b[39;00m\n\u001b[0;32m-> 1978\u001b[0m     tables \u001b[38;5;241m=\u001b[39m \u001b[38;5;28;43mself\u001b[39;49m\u001b[38;5;241;43m.\u001b[39;49m\u001b[43m_run_query\u001b[49m\u001b[43m(\u001b[49m\u001b[38;5;124;43mf\u001b[39;49m\u001b[38;5;124;43m\"\u001b[39;49m\u001b[38;5;124;43mshow tables like \u001b[39;49m\u001b[38;5;124;43m'\u001b[39;49m\u001b[38;5;132;43;01m{\u001b[39;49;00m\u001b[43mtable_name\u001b[49m\u001b[38;5;132;43;01m}\u001b[39;49;00m\u001b[38;5;124;43m'\u001b[39;49m\u001b[38;5;124;43m\"\u001b[39;49m\u001b[43m)\u001b[49m\n\u001b[1;32m   1979\u001b[0m \u001b[38;5;28;01melif\u001b[39;00m \u001b[38;5;28mlen\u001b[39m(qualified_table_name) \u001b[38;5;241m==\u001b[39m \u001b[38;5;241m2\u001b[39m:\n\u001b[1;32m   1980\u001b[0m     \u001b[38;5;66;03m# name in the form of \"schema.table\" omitting database\u001b[39;00m\n\u001b[1;32m   1981\u001b[0m     \u001b[38;5;66;03m# schema: qualified_table_name[0]\u001b[39;00m\n\u001b[1;32m   1982\u001b[0m     \u001b[38;5;66;03m# table: qualified_table_name[1]\u001b[39;00m\n\u001b[1;32m   1983\u001b[0m     tables \u001b[38;5;241m=\u001b[39m \u001b[38;5;28mself\u001b[39m\u001b[38;5;241m.\u001b[39m_run_query(\n\u001b[1;32m   1984\u001b[0m         \u001b[38;5;124mf\u001b[39m\u001b[38;5;124m\"\u001b[39m\u001b[38;5;124mshow tables like \u001b[39m\u001b[38;5;124m'\u001b[39m\u001b[38;5;132;01m{\u001b[39;00mqualified_table_name[\u001b[38;5;241m1\u001b[39m]\u001b[38;5;132;01m}\u001b[39;00m\u001b[38;5;124m'\u001b[39m\u001b[38;5;124m in schema \u001b[39m\u001b[38;5;132;01m{\u001b[39;00mqualified_table_name[\u001b[38;5;241m0\u001b[39m]\u001b[38;5;132;01m}\u001b[39;00m\u001b[38;5;124m\"\u001b[39m\n\u001b[1;32m   1985\u001b[0m     )\n",
      "File \u001b[0;32m/tmp/pip_packages/snowflake/snowpark/session.py:1203\u001b[0m, in \u001b[0;36mSession._run_query\u001b[0;34m(self, query, is_ddl_on_temp_object, log_on_exception)\u001b[0m\n\u001b[1;32m   1197\u001b[0m \u001b[38;5;28;01mdef\u001b[39;00m \u001b[38;5;21m_run_query\u001b[39m(\n\u001b[1;32m   1198\u001b[0m     \u001b[38;5;28mself\u001b[39m,\n\u001b[1;32m   1199\u001b[0m     query: \u001b[38;5;28mstr\u001b[39m,\n\u001b[1;32m   1200\u001b[0m     is_ddl_on_temp_object: \u001b[38;5;28mbool\u001b[39m \u001b[38;5;241m=\u001b[39m \u001b[38;5;28;01mFalse\u001b[39;00m,\n\u001b[1;32m   1201\u001b[0m     log_on_exception: \u001b[38;5;28mbool\u001b[39m \u001b[38;5;241m=\u001b[39m \u001b[38;5;28;01mTrue\u001b[39;00m,\n\u001b[1;32m   1202\u001b[0m ) \u001b[38;5;241m-\u001b[39m\u001b[38;5;241m>\u001b[39m List[Any]:\n\u001b[0;32m-> 1203\u001b[0m     \u001b[38;5;28;01mreturn\u001b[39;00m \u001b[38;5;28;43mself\u001b[39;49m\u001b[38;5;241;43m.\u001b[39;49m\u001b[43m_conn\u001b[49m\u001b[38;5;241;43m.\u001b[39;49m\u001b[43mrun_query\u001b[49m\u001b[43m(\u001b[49m\n\u001b[1;32m   1204\u001b[0m \u001b[43m        \u001b[49m\u001b[43mquery\u001b[49m\u001b[43m,\u001b[49m\n\u001b[1;32m   1205\u001b[0m \u001b[43m        \u001b[49m\u001b[43mis_ddl_on_temp_object\u001b[49m\u001b[38;5;241;43m=\u001b[39;49m\u001b[43mis_ddl_on_temp_object\u001b[49m\u001b[43m,\u001b[49m\n\u001b[1;32m   1206\u001b[0m \u001b[43m        \u001b[49m\u001b[43mlog_on_exception\u001b[49m\u001b[38;5;241;43m=\u001b[39;49m\u001b[43mlog_on_exception\u001b[49m\u001b[43m,\u001b[49m\n\u001b[1;32m   1207\u001b[0m \u001b[43m    \u001b[49m\u001b[43m)\u001b[49m[\u001b[38;5;124m\"\u001b[39m\u001b[38;5;124mdata\u001b[39m\u001b[38;5;124m\"\u001b[39m]\n",
      "File \u001b[0;32m/tmp/pip_packages/snowflake/snowpark/_internal/server_connection.py:93\u001b[0m, in \u001b[0;36mServerConnection._Decorator.wrap_exception.<locals>.wrap\u001b[0;34m(*args, **kwargs)\u001b[0m\n\u001b[1;32m     90\u001b[0m \u001b[38;5;28;01mdef\u001b[39;00m \u001b[38;5;21mwrap\u001b[39m(\u001b[38;5;241m*\u001b[39margs, \u001b[38;5;241m*\u001b[39m\u001b[38;5;241m*\u001b[39mkwargs):\n\u001b[1;32m     91\u001b[0m     \u001b[38;5;66;03m# self._conn.is_closed()\u001b[39;00m\n\u001b[1;32m     92\u001b[0m     \u001b[38;5;28;01mif\u001b[39;00m args[\u001b[38;5;241m0\u001b[39m]\u001b[38;5;241m.\u001b[39m_conn\u001b[38;5;241m.\u001b[39mis_closed():\n\u001b[0;32m---> 93\u001b[0m         \u001b[38;5;28;01mraise\u001b[39;00m SnowparkClientExceptionMessages\u001b[38;5;241m.\u001b[39mSERVER_SESSION_HAS_BEEN_CLOSED()\n\u001b[1;32m     94\u001b[0m     \u001b[38;5;28;01mtry\u001b[39;00m:\n\u001b[1;32m     95\u001b[0m         \u001b[38;5;28;01mreturn\u001b[39;00m func(\u001b[38;5;241m*\u001b[39margs, \u001b[38;5;241m*\u001b[39m\u001b[38;5;241m*\u001b[39mkwargs)\n",
      "\u001b[0;31mSnowparkSessionException\u001b[0m: (1404): Cannot perform this operation because the session has been closed."
     ]
    }
   ],
   "source": [
    "result_new = pipeline_restored.predict(test_df)"
   ]
  },
  {
   "cell_type": "code",
   "execution_count": 70,
   "id": "98ec0d1c",
   "metadata": {},
   "outputs": [
    {
     "ename": "NameError",
     "evalue": "name 'result_new' is not defined",
     "output_type": "error",
     "traceback": [
      "\u001b[0;31m---------------------------------------------------------------------------\u001b[0m",
      "\u001b[0;31mNameError\u001b[0m                                 Traceback (most recent call last)",
      "Cell \u001b[0;32mIn[70], line 1\u001b[0m\n\u001b[0;32m----> 1\u001b[0m \u001b[43mresult_new\u001b[49m\u001b[38;5;241m.\u001b[39mshow()\n",
      "\u001b[0;31mNameError\u001b[0m: name 'result_new' is not defined"
     ]
    }
   ],
   "source": [
    "result_new.show()"
   ]
  },
  {
   "cell_type": "markdown",
   "id": "60a664e9",
   "metadata": {},
   "source": [
    "#### Model History "
   ]
  },
  {
   "cell_type": "code",
   "execution_count": 71,
   "id": "f8966f38",
   "metadata": {},
   "outputs": [],
   "source": [
    "history = registry.get_model_history(id=model_id).select(\"*\")"
   ]
  },
  {
   "cell_type": "code",
   "execution_count": 72,
   "id": "0e2fa7cc",
   "metadata": {},
   "outputs": [
    {
     "data": {
      "text/plain": [
       "['EVENT_TIMESTAMP',\n",
       " 'EVENT_ID',\n",
       " 'MODEL_ID',\n",
       " 'ROLE',\n",
       " 'OPERATION',\n",
       " 'ATTRIBUTE_NAME',\n",
       " '\"VALUE[ATTRIBUTE_NAME]\"']"
      ]
     },
     "execution_count": 72,
     "metadata": {},
     "output_type": "execute_result"
    }
   ],
   "source": [
    "history.columns"
   ]
  },
  {
   "cell_type": "code",
   "execution_count": 73,
   "id": "3797215a",
   "metadata": {},
   "outputs": [
    {
     "name": "stdout",
     "output_type": "stream",
     "text": [
      "--------------------------------------------------------------------------------------\n",
      "|\"EVENT_TIMESTAMP\"                 |\"ROLE\"          |\"OPERATION\"  |\"ATTRIBUTE_NAME\"  |\n",
      "--------------------------------------------------------------------------------------\n",
      "|2023-05-15 03:36:46.579000-07:00  |\"ACCOUNTADMIN\"  |SET          |REGISTRATION      |\n",
      "|2023-05-15 03:36:47.523000-07:00  |\"ACCOUNTADMIN\"  |SET          |NAME              |\n",
      "|2023-05-15 03:36:48.667000-07:00  |\"ACCOUNTADMIN\"  |SET          |TAGS              |\n",
      "|2023-05-15 03:44:22.449000-07:00  |\"ACCOUNTADMIN\"  |SET          |METRICS           |\n",
      "|2023-05-15 03:44:55.191000-07:00  |\"ACCOUNTADMIN\"  |SET          |METRICS           |\n",
      "|2023-05-15 03:45:06.084000-07:00  |\"ACCOUNTADMIN\"  |SET          |METRICS           |\n",
      "|2023-05-15 03:45:19.826000-07:00  |\"ACCOUNTADMIN\"  |SET          |METRICS           |\n",
      "--------------------------------------------------------------------------------------\n",
      "\n"
     ]
    }
   ],
   "source": [
    "history.select(\"EVENT_TIMESTAMP\",\"ROLE\",\"OPERATION\",\"ATTRIBUTE_NAME\").show()"
   ]
  },
  {
   "cell_type": "code",
   "execution_count": 74,
   "id": "ba94baa0",
   "metadata": {},
   "outputs": [],
   "source": [
    "from snowflake.ml.model.deployer import LocalDeploymentManager,TargetPlatform, Deployment,Deployer"
   ]
  },
  {
   "cell_type": "code",
   "execution_count": 75,
   "id": "fc509ac7",
   "metadata": {},
   "outputs": [],
   "source": [
    "manager = LocalDeploymentManager()"
   ]
  },
  {
   "cell_type": "code",
   "execution_count": 76,
   "id": "7823b751",
   "metadata": {},
   "outputs": [],
   "source": [
    "deployer = Deployer(session,manager)"
   ]
  },
  {
   "cell_type": "code",
   "execution_count": 108,
   "id": "fdf6b9a5",
   "metadata": {},
   "outputs": [],
   "source": [
    "deployment = deployer.create_deployment(\"Churn Prediction 19\", \"/data/models/\",TargetPlatform.SNOWPARK,{'relax_version':False})"
   ]
  },
  {
   "cell_type": "code",
   "execution_count": 109,
   "id": "f5c61cae",
   "metadata": {},
   "outputs": [
    {
     "data": {
      "text/plain": [
       "Deployment(name='Churn Prediction 19', model_dir_path='/data/models/', platform=<TargetPlatform.SNOWPARK: 'snowpark'>, options={'relax_version': False})"
      ]
     },
     "execution_count": 109,
     "metadata": {},
     "output_type": "execute_result"
    }
   ],
   "source": [
    "deployment"
   ]
  },
  {
   "cell_type": "code",
   "execution_count": 110,
   "id": "072e8bf5",
   "metadata": {},
   "outputs": [
    {
     "data": {
      "text/plain": [
       "[Deployment(name='Churn Prediction', model_dir_path='/data/models/', platform=<TargetPlatform.SNOWPARK: 'snowpark'>, options={'relax_version': False}),\n",
       " Deployment(name='Churn Prediction 19', model_dir_path='/data/models/', platform=<TargetPlatform.SNOWPARK: 'snowpark'>, options={'relax_version': False})]"
      ]
     },
     "execution_count": 110,
     "metadata": {},
     "output_type": "execute_result"
    }
   ],
   "source": [
    "deployer.list_deployments()"
   ]
  },
  {
   "cell_type": "code",
   "execution_count": 111,
   "id": "a2dff733",
   "metadata": {},
   "outputs": [
    {
     "ename": "InterfaceError",
     "evalue": "252006: Cursor is closed in execute.",
     "output_type": "error",
     "traceback": [
      "\u001b[0;31m---------------------------------------------------------------------------\u001b[0m",
      "\u001b[0;31mInterfaceError\u001b[0m                            Traceback (most recent call last)",
      "Cell \u001b[0;32mIn[111], line 1\u001b[0m\n\u001b[0;32m----> 1\u001b[0m output \u001b[38;5;241m=\u001b[39m \u001b[43mdeployer\u001b[49m\u001b[38;5;241;43m.\u001b[39;49m\u001b[43mpredict\u001b[49m\u001b[43m(\u001b[49m\u001b[38;5;124;43m'\u001b[39;49m\u001b[38;5;124;43mChurn Prediction 19\u001b[39;49m\u001b[38;5;124;43m'\u001b[39;49m\u001b[43m,\u001b[49m\u001b[43mtest_df\u001b[49m\u001b[43m)\u001b[49m\n",
      "File \u001b[0;32m/tmp/pip_packages/snowflake/ml/model/deployer.py:237\u001b[0m, in \u001b[0;36mDeployer.predict\u001b[0;34m(self, name, df)\u001b[0m\n\u001b[1;32m    234\u001b[0m _, meta \u001b[38;5;241m=\u001b[39m model\u001b[38;5;241m.\u001b[39mload_model(d\u001b[38;5;241m.\u001b[39mmodel_dir_path)\n\u001b[1;32m    236\u001b[0m cols \u001b[38;5;241m=\u001b[39m []\n\u001b[0;32m--> 237\u001b[0m \u001b[38;5;28;01mfor\u001b[39;00m col_name \u001b[38;5;129;01min\u001b[39;00m \u001b[43mdf\u001b[49m\u001b[38;5;241;43m.\u001b[39;49m\u001b[43mcolumns\u001b[49m:\n\u001b[1;32m    238\u001b[0m     \u001b[38;5;28;01mif\u001b[39;00m col_name[\u001b[38;5;241m0\u001b[39m] \u001b[38;5;241m==\u001b[39m \u001b[38;5;124m'\u001b[39m\u001b[38;5;124m\"\u001b[39m\u001b[38;5;124m'\u001b[39m \u001b[38;5;129;01mand\u001b[39;00m col_name[\u001b[38;5;241m-\u001b[39m\u001b[38;5;241m1\u001b[39m] \u001b[38;5;241m==\u001b[39m \u001b[38;5;124m'\u001b[39m\u001b[38;5;124m\"\u001b[39m\u001b[38;5;124m'\u001b[39m:\n\u001b[1;32m    239\u001b[0m         \u001b[38;5;66;03m# To deal with ugly double quoted col names\u001b[39;00m\n\u001b[1;32m    240\u001b[0m         literal_col_name \u001b[38;5;241m=\u001b[39m col_name[\u001b[38;5;241m1\u001b[39m:\u001b[38;5;241m-\u001b[39m\u001b[38;5;241m1\u001b[39m]\n",
      "File \u001b[0;32m/tmp/pip_packages/snowflake/snowpark/dataframe.py:905\u001b[0m, in \u001b[0;36mDataFrame.columns\u001b[0;34m(self)\u001b[0m\n\u001b[1;32m    889\u001b[0m \u001b[38;5;129m@property\u001b[39m\n\u001b[1;32m    890\u001b[0m \u001b[38;5;28;01mdef\u001b[39;00m \u001b[38;5;21mcolumns\u001b[39m(\u001b[38;5;28mself\u001b[39m) \u001b[38;5;241m-\u001b[39m\u001b[38;5;241m>\u001b[39m List[\u001b[38;5;28mstr\u001b[39m]:\n\u001b[1;32m    891\u001b[0m     \u001b[38;5;124;03m\"\"\"Returns all column names as a list.\u001b[39;00m\n\u001b[1;32m    892\u001b[0m \n\u001b[1;32m    893\u001b[0m \u001b[38;5;124;03m    The returned column names are consistent with the Snowflake database object `identifier syntax <https://docs.snowflake.com/en/sql-reference/identifiers-syntax.html>`_.\u001b[39;00m\n\u001b[0;32m   (...)\u001b[0m\n\u001b[1;32m    903\u001b[0m \u001b[38;5;124;03m    ==================================   ==========================\u001b[39;00m\n\u001b[1;32m    904\u001b[0m \u001b[38;5;124;03m    \"\"\"\u001b[39;00m\n\u001b[0;32m--> 905\u001b[0m     \u001b[38;5;28;01mreturn\u001b[39;00m \u001b[38;5;28;43mself\u001b[39;49m\u001b[38;5;241;43m.\u001b[39;49m\u001b[43mschema\u001b[49m\u001b[38;5;241m.\u001b[39mnames\n",
      "File \u001b[0;32m/opt/conda/lib/python3.8/functools.py:967\u001b[0m, in \u001b[0;36mcached_property.__get__\u001b[0;34m(self, instance, owner)\u001b[0m\n\u001b[1;32m    965\u001b[0m val \u001b[38;5;241m=\u001b[39m cache\u001b[38;5;241m.\u001b[39mget(\u001b[38;5;28mself\u001b[39m\u001b[38;5;241m.\u001b[39mattrname, _NOT_FOUND)\n\u001b[1;32m    966\u001b[0m \u001b[38;5;28;01mif\u001b[39;00m val \u001b[38;5;129;01mis\u001b[39;00m _NOT_FOUND:\n\u001b[0;32m--> 967\u001b[0m     val \u001b[38;5;241m=\u001b[39m \u001b[38;5;28;43mself\u001b[39;49m\u001b[38;5;241;43m.\u001b[39;49m\u001b[43mfunc\u001b[49m\u001b[43m(\u001b[49m\u001b[43minstance\u001b[49m\u001b[43m)\u001b[49m\n\u001b[1;32m    968\u001b[0m     \u001b[38;5;28;01mtry\u001b[39;00m:\n\u001b[1;32m    969\u001b[0m         cache[\u001b[38;5;28mself\u001b[39m\u001b[38;5;241m.\u001b[39mattrname] \u001b[38;5;241m=\u001b[39m val\n",
      "File \u001b[0;32m/tmp/pip_packages/snowflake/snowpark/dataframe.py:3446\u001b[0m, in \u001b[0;36mDataFrame.schema\u001b[0;34m(self)\u001b[0m\n\u001b[1;32m   3441\u001b[0m \u001b[38;5;129m@cached_property\u001b[39m\n\u001b[1;32m   3442\u001b[0m \u001b[38;5;28;01mdef\u001b[39;00m \u001b[38;5;21mschema\u001b[39m(\u001b[38;5;28mself\u001b[39m) \u001b[38;5;241m-\u001b[39m\u001b[38;5;241m>\u001b[39m StructType:\n\u001b[1;32m   3443\u001b[0m     \u001b[38;5;124;03m\"\"\"The definition of the columns in this DataFrame (the \"relational schema\" for\u001b[39;00m\n\u001b[1;32m   3444\u001b[0m \u001b[38;5;124;03m    the DataFrame).\u001b[39;00m\n\u001b[1;32m   3445\u001b[0m \u001b[38;5;124;03m    \"\"\"\u001b[39;00m\n\u001b[0;32m-> 3446\u001b[0m     \u001b[38;5;28;01mreturn\u001b[39;00m StructType\u001b[38;5;241m.\u001b[39m_from_attributes(\u001b[38;5;28;43mself\u001b[39;49m\u001b[38;5;241;43m.\u001b[39;49m\u001b[43m_plan\u001b[49m\u001b[38;5;241;43m.\u001b[39;49m\u001b[43mattributes\u001b[49m)\n",
      "File \u001b[0;32m/opt/conda/lib/python3.8/functools.py:967\u001b[0m, in \u001b[0;36mcached_property.__get__\u001b[0;34m(self, instance, owner)\u001b[0m\n\u001b[1;32m    965\u001b[0m val \u001b[38;5;241m=\u001b[39m cache\u001b[38;5;241m.\u001b[39mget(\u001b[38;5;28mself\u001b[39m\u001b[38;5;241m.\u001b[39mattrname, _NOT_FOUND)\n\u001b[1;32m    966\u001b[0m \u001b[38;5;28;01mif\u001b[39;00m val \u001b[38;5;129;01mis\u001b[39;00m _NOT_FOUND:\n\u001b[0;32m--> 967\u001b[0m     val \u001b[38;5;241m=\u001b[39m \u001b[38;5;28;43mself\u001b[39;49m\u001b[38;5;241;43m.\u001b[39;49m\u001b[43mfunc\u001b[49m\u001b[43m(\u001b[49m\u001b[43minstance\u001b[49m\u001b[43m)\u001b[49m\n\u001b[1;32m    968\u001b[0m     \u001b[38;5;28;01mtry\u001b[39;00m:\n\u001b[1;32m    969\u001b[0m         cache[\u001b[38;5;28mself\u001b[39m\u001b[38;5;241m.\u001b[39mattrname] \u001b[38;5;241m=\u001b[39m val\n",
      "File \u001b[0;32m/tmp/pip_packages/snowflake/snowpark/_internal/analyzer/snowflake_plan.py:225\u001b[0m, in \u001b[0;36mSnowflakePlan.attributes\u001b[0;34m(self)\u001b[0m\n\u001b[1;32m    223\u001b[0m \u001b[38;5;129m@cached_property\u001b[39m\n\u001b[1;32m    224\u001b[0m \u001b[38;5;28;01mdef\u001b[39;00m \u001b[38;5;21mattributes\u001b[39m(\u001b[38;5;28mself\u001b[39m) \u001b[38;5;241m-\u001b[39m\u001b[38;5;241m>\u001b[39m List[Attribute]:\n\u001b[0;32m--> 225\u001b[0m     output \u001b[38;5;241m=\u001b[39m \u001b[43manalyze_attributes\u001b[49m\u001b[43m(\u001b[49m\u001b[38;5;28;43mself\u001b[39;49m\u001b[38;5;241;43m.\u001b[39;49m\u001b[43mschema_query\u001b[49m\u001b[43m,\u001b[49m\u001b[43m \u001b[49m\u001b[38;5;28;43mself\u001b[39;49m\u001b[38;5;241;43m.\u001b[39;49m\u001b[43msession\u001b[49m\u001b[43m)\u001b[49m\n\u001b[1;32m    226\u001b[0m     \u001b[38;5;28mself\u001b[39m\u001b[38;5;241m.\u001b[39mschema_query \u001b[38;5;241m=\u001b[39m schema_value_statement(output)\n\u001b[1;32m    227\u001b[0m     \u001b[38;5;28;01mreturn\u001b[39;00m output\n",
      "File \u001b[0;32m/tmp/pip_packages/snowflake/snowpark/_internal/analyzer/schema_utils.py:82\u001b[0m, in \u001b[0;36manalyze_attributes\u001b[0;34m(sql, session)\u001b[0m\n\u001b[1;32m     79\u001b[0m     session\u001b[38;5;241m.\u001b[39m_run_query(sql)\n\u001b[1;32m     80\u001b[0m     \u001b[38;5;28;01mreturn\u001b[39;00m convert_result_meta_to_attribute(session\u001b[38;5;241m.\u001b[39m_conn\u001b[38;5;241m.\u001b[39m_cursor\u001b[38;5;241m.\u001b[39mdescription)\n\u001b[0;32m---> 82\u001b[0m \u001b[38;5;28;01mreturn\u001b[39;00m \u001b[43msession\u001b[49m\u001b[38;5;241;43m.\u001b[39;49m\u001b[43m_get_result_attributes\u001b[49m\u001b[43m(\u001b[49m\u001b[43msql\u001b[49m\u001b[43m)\u001b[49m\n",
      "File \u001b[0;32m/tmp/pip_packages/snowflake/snowpark/session.py:1210\u001b[0m, in \u001b[0;36mSession._get_result_attributes\u001b[0;34m(self, query)\u001b[0m\n\u001b[1;32m   1209\u001b[0m \u001b[38;5;28;01mdef\u001b[39;00m \u001b[38;5;21m_get_result_attributes\u001b[39m(\u001b[38;5;28mself\u001b[39m, query: \u001b[38;5;28mstr\u001b[39m) \u001b[38;5;241m-\u001b[39m\u001b[38;5;241m>\u001b[39m List[Attribute]:\n\u001b[0;32m-> 1210\u001b[0m     \u001b[38;5;28;01mreturn\u001b[39;00m \u001b[38;5;28;43mself\u001b[39;49m\u001b[38;5;241;43m.\u001b[39;49m\u001b[43m_conn\u001b[49m\u001b[38;5;241;43m.\u001b[39;49m\u001b[43mget_result_attributes\u001b[49m\u001b[43m(\u001b[49m\u001b[43mquery\u001b[49m\u001b[43m)\u001b[49m\n",
      "File \u001b[0;32m/tmp/pip_packages/snowflake/snowpark/_internal/analyzer/snowflake_plan.py:98\u001b[0m, in \u001b[0;36mSnowflakePlan.Decorator.wrap_exception.<locals>.wrap\u001b[0;34m(*args, **kwargs)\u001b[0m\n\u001b[1;32m     96\u001b[0m \u001b[38;5;28;01mdef\u001b[39;00m \u001b[38;5;21mwrap\u001b[39m(\u001b[38;5;241m*\u001b[39margs, \u001b[38;5;241m*\u001b[39m\u001b[38;5;241m*\u001b[39mkwargs):\n\u001b[1;32m     97\u001b[0m     \u001b[38;5;28;01mtry\u001b[39;00m:\n\u001b[0;32m---> 98\u001b[0m         \u001b[38;5;28;01mreturn\u001b[39;00m \u001b[43mfunc\u001b[49m\u001b[43m(\u001b[49m\u001b[38;5;241;43m*\u001b[39;49m\u001b[43margs\u001b[49m\u001b[43m,\u001b[49m\u001b[43m \u001b[49m\u001b[38;5;241;43m*\u001b[39;49m\u001b[38;5;241;43m*\u001b[39;49m\u001b[43mkwargs\u001b[49m\u001b[43m)\u001b[49m\n\u001b[1;32m     99\u001b[0m     \u001b[38;5;28;01mexcept\u001b[39;00m snowflake\u001b[38;5;241m.\u001b[39mconnector\u001b[38;5;241m.\u001b[39merrors\u001b[38;5;241m.\u001b[39mProgrammingError \u001b[38;5;28;01mas\u001b[39;00m e:\n\u001b[1;32m    100\u001b[0m         query \u001b[38;5;241m=\u001b[39m \u001b[38;5;28;01mNone\u001b[39;00m\n",
      "File \u001b[0;32m/tmp/pip_packages/snowflake/snowpark/_internal/server_connection.py:199\u001b[0m, in \u001b[0;36mServerConnection.get_result_attributes\u001b[0;34m(self, query)\u001b[0m\n\u001b[1;32m    197\u001b[0m \u001b[38;5;129m@SnowflakePlan\u001b[39m\u001b[38;5;241m.\u001b[39mDecorator\u001b[38;5;241m.\u001b[39mwrap_exception\n\u001b[1;32m    198\u001b[0m \u001b[38;5;28;01mdef\u001b[39;00m \u001b[38;5;21mget_result_attributes\u001b[39m(\u001b[38;5;28mself\u001b[39m, query: \u001b[38;5;28mstr\u001b[39m) \u001b[38;5;241m-\u001b[39m\u001b[38;5;241m>\u001b[39m List[Attribute]:\n\u001b[0;32m--> 199\u001b[0m     \u001b[38;5;28;01mreturn\u001b[39;00m convert_result_meta_to_attribute(\u001b[38;5;28;43mself\u001b[39;49m\u001b[38;5;241;43m.\u001b[39;49m\u001b[43m_cursor\u001b[49m\u001b[38;5;241;43m.\u001b[39;49m\u001b[43mdescribe\u001b[49m\u001b[43m(\u001b[49m\u001b[43mquery\u001b[49m\u001b[43m)\u001b[49m)\n",
      "File \u001b[0;32m/tmp/pip_packages/snowflake/connector/cursor.py:926\u001b[0m, in \u001b[0;36mSnowflakeCursor.describe\u001b[0;34m(self, *args, **kwargs)\u001b[0m\n\u001b[1;32m    917\u001b[0m \u001b[38;5;124;03m\"\"\"Obtain the schema of the result without executing the query.\u001b[39;00m\n\u001b[1;32m    918\u001b[0m \n\u001b[1;32m    919\u001b[0m \u001b[38;5;124;03mThis function takes the same arguments as execute, please refer to that function\u001b[39;00m\n\u001b[0;32m   (...)\u001b[0m\n\u001b[1;32m    923\u001b[0m \u001b[38;5;124;03m    The schema of the result.\u001b[39;00m\n\u001b[1;32m    924\u001b[0m \u001b[38;5;124;03m\"\"\"\u001b[39;00m\n\u001b[1;32m    925\u001b[0m kwargs[\u001b[38;5;124m\"\u001b[39m\u001b[38;5;124m_describe_only\u001b[39m\u001b[38;5;124m\"\u001b[39m] \u001b[38;5;241m=\u001b[39m kwargs[\u001b[38;5;124m\"\u001b[39m\u001b[38;5;124m_is_internal\u001b[39m\u001b[38;5;124m\"\u001b[39m] \u001b[38;5;241m=\u001b[39m \u001b[38;5;28;01mTrue\u001b[39;00m\n\u001b[0;32m--> 926\u001b[0m \u001b[38;5;28;43mself\u001b[39;49m\u001b[38;5;241;43m.\u001b[39;49m\u001b[43mexecute\u001b[49m\u001b[43m(\u001b[49m\u001b[38;5;241;43m*\u001b[39;49m\u001b[43margs\u001b[49m\u001b[43m,\u001b[49m\u001b[43m \u001b[49m\u001b[38;5;241;43m*\u001b[39;49m\u001b[38;5;241;43m*\u001b[39;49m\u001b[43mkwargs\u001b[49m\u001b[43m)\u001b[49m\n\u001b[1;32m    927\u001b[0m \u001b[38;5;28;01mreturn\u001b[39;00m \u001b[38;5;28mself\u001b[39m\u001b[38;5;241m.\u001b[39m_description\n",
      "File \u001b[0;32m/tmp/pip_packages/snowflake/connector/cursor.py:737\u001b[0m, in \u001b[0;36mSnowflakeCursor.execute\u001b[0;34m(self, command, params, _bind_stage, timeout, _exec_async, _no_retry, _do_reset, _put_callback, _put_azure_callback, _put_callback_output_stream, _get_callback, _get_azure_callback, _get_callback_output_stream, _show_progress_bar, _statement_params, _is_internal, _describe_only, _no_results, _is_put_get, _raise_put_get_error, _force_put_overwrite, _skip_upload_on_content_match, file_stream, num_statements)\u001b[0m\n\u001b[1;32m    735\u001b[0m logger\u001b[38;5;241m.\u001b[39mdebug(\u001b[38;5;124m\"\u001b[39m\u001b[38;5;124mexecuting SQL/command\u001b[39m\u001b[38;5;124m\"\u001b[39m)\n\u001b[1;32m    736\u001b[0m \u001b[38;5;28;01mif\u001b[39;00m \u001b[38;5;28mself\u001b[39m\u001b[38;5;241m.\u001b[39mis_closed():\n\u001b[0;32m--> 737\u001b[0m     \u001b[43mError\u001b[49m\u001b[38;5;241;43m.\u001b[39;49m\u001b[43merrorhandler_wrapper\u001b[49m\u001b[43m(\u001b[49m\n\u001b[1;32m    738\u001b[0m \u001b[43m        \u001b[49m\u001b[38;5;28;43mself\u001b[39;49m\u001b[38;5;241;43m.\u001b[39;49m\u001b[43mconnection\u001b[49m\u001b[43m,\u001b[49m\n\u001b[1;32m    739\u001b[0m \u001b[43m        \u001b[49m\u001b[38;5;28;43mself\u001b[39;49m\u001b[43m,\u001b[49m\n\u001b[1;32m    740\u001b[0m \u001b[43m        \u001b[49m\u001b[43mInterfaceError\u001b[49m\u001b[43m,\u001b[49m\n\u001b[1;32m    741\u001b[0m \u001b[43m        \u001b[49m\u001b[43m{\u001b[49m\u001b[38;5;124;43m\"\u001b[39;49m\u001b[38;5;124;43mmsg\u001b[39;49m\u001b[38;5;124;43m\"\u001b[39;49m\u001b[43m:\u001b[49m\u001b[43m \u001b[49m\u001b[38;5;124;43m\"\u001b[39;49m\u001b[38;5;124;43mCursor is closed in execute.\u001b[39;49m\u001b[38;5;124;43m\"\u001b[39;49m\u001b[43m,\u001b[49m\u001b[43m \u001b[49m\u001b[38;5;124;43m\"\u001b[39;49m\u001b[38;5;124;43merrno\u001b[39;49m\u001b[38;5;124;43m\"\u001b[39;49m\u001b[43m:\u001b[49m\u001b[43m \u001b[49m\u001b[43mER_CURSOR_IS_CLOSED\u001b[49m\u001b[43m}\u001b[49m\u001b[43m,\u001b[49m\n\u001b[1;32m    742\u001b[0m \u001b[43m    \u001b[49m\u001b[43m)\u001b[49m\n\u001b[1;32m    744\u001b[0m \u001b[38;5;28;01mif\u001b[39;00m _do_reset:\n\u001b[1;32m    745\u001b[0m     \u001b[38;5;28mself\u001b[39m\u001b[38;5;241m.\u001b[39mreset()\n",
      "File \u001b[0;32m/tmp/pip_packages/snowflake/connector/errors.py:290\u001b[0m, in \u001b[0;36mError.errorhandler_wrapper\u001b[0;34m(connection, cursor, error_class, error_value)\u001b[0m\n\u001b[1;32m    267\u001b[0m \u001b[38;5;129m@staticmethod\u001b[39m\n\u001b[1;32m    268\u001b[0m \u001b[38;5;28;01mdef\u001b[39;00m \u001b[38;5;21merrorhandler_wrapper\u001b[39m(\n\u001b[1;32m    269\u001b[0m     connection: SnowflakeConnection \u001b[38;5;241m|\u001b[39m \u001b[38;5;28;01mNone\u001b[39;00m,\n\u001b[0;32m   (...)\u001b[0m\n\u001b[1;32m    272\u001b[0m     error_value: \u001b[38;5;28mdict\u001b[39m[\u001b[38;5;28mstr\u001b[39m, Any],\n\u001b[1;32m    273\u001b[0m ) \u001b[38;5;241m-\u001b[39m\u001b[38;5;241m>\u001b[39m \u001b[38;5;28;01mNone\u001b[39;00m:\n\u001b[1;32m    274\u001b[0m     \u001b[38;5;124;03m\"\"\"Error handler wrapper that calls the errorhandler method.\u001b[39;00m\n\u001b[1;32m    275\u001b[0m \n\u001b[1;32m    276\u001b[0m \u001b[38;5;124;03m    Args:\u001b[39;00m\n\u001b[0;32m   (...)\u001b[0m\n\u001b[1;32m    287\u001b[0m \u001b[38;5;124;03m        exception to the first handler in that order.\u001b[39;00m\n\u001b[1;32m    288\u001b[0m \u001b[38;5;124;03m    \"\"\"\u001b[39;00m\n\u001b[0;32m--> 290\u001b[0m     handed_over \u001b[38;5;241m=\u001b[39m \u001b[43mError\u001b[49m\u001b[38;5;241;43m.\u001b[39;49m\u001b[43mhand_to_other_handler\u001b[49m\u001b[43m(\u001b[49m\n\u001b[1;32m    291\u001b[0m \u001b[43m        \u001b[49m\u001b[43mconnection\u001b[49m\u001b[43m,\u001b[49m\n\u001b[1;32m    292\u001b[0m \u001b[43m        \u001b[49m\u001b[43mcursor\u001b[49m\u001b[43m,\u001b[49m\n\u001b[1;32m    293\u001b[0m \u001b[43m        \u001b[49m\u001b[43merror_class\u001b[49m\u001b[43m,\u001b[49m\n\u001b[1;32m    294\u001b[0m \u001b[43m        \u001b[49m\u001b[43merror_value\u001b[49m\u001b[43m,\u001b[49m\n\u001b[1;32m    295\u001b[0m \u001b[43m    \u001b[49m\u001b[43m)\u001b[49m\n\u001b[1;32m    296\u001b[0m     \u001b[38;5;28;01mif\u001b[39;00m \u001b[38;5;129;01mnot\u001b[39;00m handed_over:\n\u001b[1;32m    297\u001b[0m         \u001b[38;5;28;01mraise\u001b[39;00m Error\u001b[38;5;241m.\u001b[39merrorhandler_make_exception(\n\u001b[1;32m    298\u001b[0m             error_class,\n\u001b[1;32m    299\u001b[0m             error_value,\n\u001b[1;32m    300\u001b[0m         )\n",
      "File \u001b[0;32m/tmp/pip_packages/snowflake/connector/errors.py:345\u001b[0m, in \u001b[0;36mError.hand_to_other_handler\u001b[0;34m(connection, cursor, error_class, error_value)\u001b[0m\n\u001b[1;32m    343\u001b[0m \u001b[38;5;28;01mif\u001b[39;00m cursor \u001b[38;5;129;01mis\u001b[39;00m \u001b[38;5;129;01mnot\u001b[39;00m \u001b[38;5;28;01mNone\u001b[39;00m:\n\u001b[1;32m    344\u001b[0m     cursor\u001b[38;5;241m.\u001b[39mmessages\u001b[38;5;241m.\u001b[39mappend((error_class, error_value))\n\u001b[0;32m--> 345\u001b[0m     \u001b[43mcursor\u001b[49m\u001b[38;5;241;43m.\u001b[39;49m\u001b[43merrorhandler\u001b[49m\u001b[43m(\u001b[49m\u001b[43mconnection\u001b[49m\u001b[43m,\u001b[49m\u001b[43m \u001b[49m\u001b[43mcursor\u001b[49m\u001b[43m,\u001b[49m\u001b[43m \u001b[49m\u001b[43merror_class\u001b[49m\u001b[43m,\u001b[49m\u001b[43m \u001b[49m\u001b[43merror_value\u001b[49m\u001b[43m)\u001b[49m\n\u001b[1;32m    346\u001b[0m     \u001b[38;5;28;01mreturn\u001b[39;00m \u001b[38;5;28;01mTrue\u001b[39;00m\n\u001b[1;32m    347\u001b[0m \u001b[38;5;28;01melif\u001b[39;00m connection \u001b[38;5;129;01mis\u001b[39;00m \u001b[38;5;129;01mnot\u001b[39;00m \u001b[38;5;28;01mNone\u001b[39;00m:\n",
      "File \u001b[0;32m/tmp/pip_packages/snowflake/connector/errors.py:221\u001b[0m, in \u001b[0;36mError.default_errorhandler\u001b[0;34m(connection, cursor, error_class, error_value)\u001b[0m\n\u001b[1;32m    219\u001b[0m errno \u001b[38;5;241m=\u001b[39m error_value\u001b[38;5;241m.\u001b[39mget(\u001b[38;5;124m\"\u001b[39m\u001b[38;5;124merrno\u001b[39m\u001b[38;5;124m\"\u001b[39m)\n\u001b[1;32m    220\u001b[0m done_format_msg \u001b[38;5;241m=\u001b[39m error_value\u001b[38;5;241m.\u001b[39mget(\u001b[38;5;124m\"\u001b[39m\u001b[38;5;124mdone_format_msg\u001b[39m\u001b[38;5;124m\"\u001b[39m)\n\u001b[0;32m--> 221\u001b[0m \u001b[38;5;28;01mraise\u001b[39;00m error_class(\n\u001b[1;32m    222\u001b[0m     msg\u001b[38;5;241m=\u001b[39merror_value\u001b[38;5;241m.\u001b[39mget(\u001b[38;5;124m\"\u001b[39m\u001b[38;5;124mmsg\u001b[39m\u001b[38;5;124m\"\u001b[39m),\n\u001b[1;32m    223\u001b[0m     errno\u001b[38;5;241m=\u001b[39m\u001b[38;5;28;01mNone\u001b[39;00m \u001b[38;5;28;01mif\u001b[39;00m errno \u001b[38;5;129;01mis\u001b[39;00m \u001b[38;5;28;01mNone\u001b[39;00m \u001b[38;5;28;01melse\u001b[39;00m \u001b[38;5;28mint\u001b[39m(errno),\n\u001b[1;32m    224\u001b[0m     sqlstate\u001b[38;5;241m=\u001b[39merror_value\u001b[38;5;241m.\u001b[39mget(\u001b[38;5;124m\"\u001b[39m\u001b[38;5;124msqlstate\u001b[39m\u001b[38;5;124m\"\u001b[39m),\n\u001b[1;32m    225\u001b[0m     sfqid\u001b[38;5;241m=\u001b[39merror_value\u001b[38;5;241m.\u001b[39mget(\u001b[38;5;124m\"\u001b[39m\u001b[38;5;124msfqid\u001b[39m\u001b[38;5;124m\"\u001b[39m),\n\u001b[1;32m    226\u001b[0m     query\u001b[38;5;241m=\u001b[39merror_value\u001b[38;5;241m.\u001b[39mget(\u001b[38;5;124m\"\u001b[39m\u001b[38;5;124mquery\u001b[39m\u001b[38;5;124m\"\u001b[39m),\n\u001b[1;32m    227\u001b[0m     done_format_msg\u001b[38;5;241m=\u001b[39m(\n\u001b[1;32m    228\u001b[0m         \u001b[38;5;28;01mNone\u001b[39;00m \u001b[38;5;28;01mif\u001b[39;00m done_format_msg \u001b[38;5;129;01mis\u001b[39;00m \u001b[38;5;28;01mNone\u001b[39;00m \u001b[38;5;28;01melse\u001b[39;00m \u001b[38;5;28mbool\u001b[39m(done_format_msg)\n\u001b[1;32m    229\u001b[0m     ),\n\u001b[1;32m    230\u001b[0m     connection\u001b[38;5;241m=\u001b[39mconnection,\n\u001b[1;32m    231\u001b[0m     cursor\u001b[38;5;241m=\u001b[39mcursor,\n\u001b[1;32m    232\u001b[0m )\n",
      "\u001b[0;31mInterfaceError\u001b[0m: 252006: Cursor is closed in execute."
     ]
    }
   ],
   "source": [
    "output = deployer.predict('Churn Prediction 19',test_df)"
   ]
  },
  {
   "cell_type": "code",
   "execution_count": 135,
   "id": "64368fb7",
   "metadata": {},
   "outputs": [],
   "source": [
    "session=get_session()"
   ]
  },
  {
   "cell_type": "code",
   "execution_count": 142,
   "id": "4d76ab43",
   "metadata": {},
   "outputs": [
    {
     "data": {
      "text/plain": [
       "'hello'"
      ]
     },
     "execution_count": 142,
     "metadata": {},
     "output_type": "execute_result"
    }
   ],
   "source": [
    "pipeline.get_sklearn_object"
   ]
  },
  {
   "cell_type": "code",
   "execution_count": null,
   "id": "0607b922",
   "metadata": {},
   "outputs": [],
   "source": []
  }
 ],
 "metadata": {
  "kernelspec": {
   "display_name": "Python 3",
   "language": "python",
   "name": "python3"
  },
  "language_info": {
   "codemirror_mode": {
    "name": "ipython",
    "version": 3
   },
   "file_extension": ".py",
   "mimetype": "text/x-python",
   "name": "python",
   "nbconvert_exporter": "python",
   "pygments_lexer": "ipython3",
   "version": "3.8.13"
  }
 },
 "nbformat": 4,
 "nbformat_minor": 5
}
