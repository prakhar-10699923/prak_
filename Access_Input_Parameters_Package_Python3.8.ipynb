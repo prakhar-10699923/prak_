{
 "cells": [
  {
   "cell_type": "code",
   "execution_count": null,
   "id": "7de1287c",
   "metadata": {},
   "outputs": [],
   "source": [
    "import os"
   ]
  },
  {
   "cell_type": "code",
   "execution_count": null,
   "id": "618283dd",
   "metadata": {},
   "outputs": [],
   "source": [
    "assert os.environ.get('User_Level_NormalV') == 'User_Level_Normal_Value'\n",
    "assert os.environ.get('User_Level_SecureV') == 'User_Level_Secure_Value'\n",
    "assert os.environ.get('Project_Level_NormalV') == 'Project_Level_Normal_Value'\n",
    "assert os.environ.get('Project_Level_SecureV') == 'Project_Level_Secure_Value'\n",
    "assert os.environ.get('Template_Level_Normal') == 'Template_Level_Normal_Value'\n",
    "assert os.environ.get('Template_Level_Secure') == 'Template_Level_Secured_Value'"
   ]
  },
  {
   "cell_type": "code",
   "execution_count": null,
   "id": "b12eee84",
   "metadata": {},
   "outputs": [],
   "source": [
    "import category_encoders\n",
    "import sklearn\n",
    "import sanic"
   ]
  },
  {
   "cell_type": "code",
   "execution_count": null,
   "id": "898cbfa5",
   "metadata": {},
   "outputs": [],
   "source": [
    "assert category_encoders.__version__ == \"2.4.0\"\n",
    "assert sklearn.__version__ == \"0.24.2\"\n",
    "assert sanic.__version__ == \"20.9.1\""
   ]
  },
  {
   "cell_type": "code",
   "execution_count": null,
   "id": "6904590e",
   "metadata": {},
   "outputs": [],
   "source": [
    "assert \"/tmp\" in category_encoders.__file__\n",
    "assert \"/tmp\" in sklearn.__file__\n",
    "assert \"/packages\" in sanic.__file__"
   ]
  }
 ],
 "metadata": {
  "kernelspec": {
   "display_name": "Python 3",
   "language": "python",
   "name": "python3"
  },
  "language_info": {
   "codemirror_mode": {
    "name": "ipython",
    "version": 3
   },
   "file_extension": ".py",
   "mimetype": "text/x-python",
   "name": "python",
   "nbconvert_exporter": "python",
   "pygments_lexer": "ipython3",
   "version": "3.7.12"
  }
 },
 "nbformat": 4,
 "nbformat_minor": 5
}
