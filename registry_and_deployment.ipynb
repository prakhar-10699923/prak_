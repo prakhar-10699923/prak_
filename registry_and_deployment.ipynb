{
 "cells": [
  {
   "cell_type": "markdown",
   "id": "90d0d71b",
   "metadata": {},
   "source": [
    "# Model Registry"
   ]
  },
  {
   "cell_type": "code",
   "execution_count": 6,
   "id": "f8facc60",
   "metadata": {},
   "outputs": [],
   "source": [
    "from snowflake.snowpark import Session, Column, functions\n",
    "from snowflake.ml.registry import model_registry"
   ]
  },
  {
   "cell_type": "code",
   "execution_count": 1,
   "id": "eb8f9952",
   "metadata": {},
   "outputs": [],
   "source": [
    "import configparser\n",
    "def get_session():\n",
    "    parser = configparser.ConfigParser()\n",
    "    # Add the credential file name here\n",
    "    parser.read('/notebooks/notebooks/config.ini')\n",
    "\n",
    "    connection_params = dict(user=parser['Credentials']['user'], \n",
    "                         password=parser['Credentials']['password'], \n",
    "                         account=parser['Credentials']['account'], \n",
    "                         warehouse=parser['Credentials']['warehouse'], \n",
    "                         database=parser['Credentials']['database'],\n",
    "                         schema=parser['Credentials']['schema'], \n",
    "                         role=parser['Credentials']['role'])\n",
    "\n",
    "    session = Session.builder.configs(connection_params).create()\n",
    "    return session"
   ]
  },
  {
   "cell_type": "code",
   "execution_count": 4,
   "id": "3445df9b",
   "metadata": {},
   "outputs": [
    {
     "data": {
      "text/plain": [
       "<snowflake.snowpark.session.Session at 0x7f298aaa2370>"
      ]
     },
     "execution_count": 4,
     "metadata": {},
     "output_type": "execute_result"
    }
   ],
   "source": [
    "session = get_session()\n",
    "# session.close()\n",
    "session"
   ]
  },
  {
   "cell_type": "code",
   "execution_count": 5,
   "id": "ae56c9a0",
   "metadata": {},
   "outputs": [],
   "source": [
    "REGISTRY_DATABASE_NAME = \"MODEL_REGISTRY_SNOWFRACT\"\n",
    "REGISTRY_SCHEMA_NAME = \"SNOWFRACT\""
   ]
  },
  {
   "cell_type": "markdown",
   "id": "515dd2af",
   "metadata": {},
   "source": [
    "### Create a registry if not created already"
   ]
  },
  {
   "cell_type": "code",
   "execution_count": 7,
   "id": "53e2e0f3",
   "metadata": {},
   "outputs": [
    {
     "name": "stderr",
     "output_type": "stream",
     "text": [
      "create_model_registry() is in private preview since 0.2.0. Do not use it in production. \n",
      "WARNING:absl:The database MODEL_REGISTRY_SNOWFRACT already exists. Skipping creation.\n",
      "WARNING:absl:The schmea \"MODEL_REGISTRY_SNOWFRACT\".\"SNOWFRACT\" already exists. Skipping creation.\n"
     ]
    },
    {
     "data": {
      "text/plain": [
       "True"
      ]
     },
     "execution_count": 7,
     "metadata": {},
     "output_type": "execute_result"
    }
   ],
   "source": [
    "model_registry.create_model_registry(session=session, database_name=REGISTRY_DATABASE_NAME, schema_name=REGISTRY_SCHEMA_NAME)"
   ]
  },
  {
   "cell_type": "markdown",
   "id": "ab59ab6b",
   "metadata": {},
   "source": [
    "### Connect to registry"
   ]
  },
  {
   "cell_type": "code",
   "execution_count": 8,
   "id": "9f8c0dbb",
   "metadata": {},
   "outputs": [],
   "source": [
    "registry = model_registry.ModelRegistry(session=session, database_name=REGISTRY_DATABASE_NAME, schema_name=REGISTRY_SCHEMA_NAME)"
   ]
  },
  {
   "cell_type": "code",
   "execution_count": 9,
   "id": "db20b2e0",
   "metadata": {},
   "outputs": [
    {
     "name": "stderr",
     "output_type": "stream",
     "text": [
      "WARNING:snowflake.snowpark:ModelRegistry.get_history() is in private preview since 0.2.0. Do not use it in production. \n"
     ]
    },
    {
     "name": "stdout",
     "output_type": "stream",
     "text": [
      "-----------------------------------------------------------------------------------------------------------------------------------------------------------------------------------------------------------------\n",
      "|\"EVENT_TIMESTAMP\"                 |\"EVENT_ID\"                        |\"MODEL_ID\"                        |\"ROLE\"          |\"OPERATION\"  |\"ATTRIBUTE_NAME\"  |\"VALUE[ATTRIBUTE_NAME]\"                             |\n",
      "-----------------------------------------------------------------------------------------------------------------------------------------------------------------------------------------------------------------\n",
      "|2023-08-03 11:37:47.031000+00:00  |2b1437f231f211eeab49c6770d61e4f3  |29da402031f211eeab49c6770d61e4f3  |\"ACCOUNTADMIN\"  |SET          |REGISTRATION      |{                                                   |\n",
      "|                                  |                                  |                                  |                |             |                  |  \"CREATION_ENVIRONMENT_SPEC\": {                    |\n",
      "|                                  |                                  |                                  |                |             |                  |    \"python\": \"3.8.12\"                              |\n",
      "|                                  |                                  |                                  |                |             |                  |  },                                                |\n",
      "|                                  |                                  |                                  |                |             |                  |  \"CREATION_ROLE\": \"\\\"ACCOUNTADMIN\\\"\",              |\n",
      "|                                  |                                  |                                  |                |             |                  |  \"CREATION_TIME\": \"2023-08-03 11:37:47.031 Z\",     |\n",
      "|                                  |                                  |                                  |                |             |                  |  \"ID\": \"29da402031f211eeab49c6770d61e4f3\",         |\n",
      "|                                  |                                  |                                  |                |             |                  |  \"NAME\": \"ChurnPrediction\",                        |\n",
      "|                                  |                                  |                                  |                |             |                  |  \"TYPE\": \"snowml\",                                 |\n",
      "|                                  |                                  |                                  |                |             |                  |  \"URI\": \"sfc:MODEL_REGISTRY_SNOWFRACT.SNOWFRAC...  |\n",
      "|                                  |                                  |                                  |                |             |                  |  \"VERSION\": \"ee9215ef16a2c0fe34d17f557600a34b\"     |\n",
      "|                                  |                                  |                                  |                |             |                  |}                                                   |\n",
      "|2023-08-03 11:37:47.979000+00:00  |2ba628e231f211eeab49c6770d61e4f3  |29da402031f211eeab49c6770d61e4f3  |\"ACCOUNTADMIN\"  |SET          |TAGS              |{                                                   |\n",
      "|                                  |                                  |                                  |                |             |                  |  \"classifier_type\": \"xgboost\",                     |\n",
      "|                                  |                                  |                                  |                |             |                  |  \"stage\": \"testing\"                                |\n",
      "|                                  |                                  |                                  |                |             |                  |}                                                   |\n",
      "|2023-08-09 07:29:33.065000+00:00  |7c10ddb6368611ee8a6cba04da2ab610  |29da402031f211eeab49c6770d61e4f3  |\"ACCOUNTADMIN\"  |SET          |METRICS           |{                                                   |\n",
      "|                                  |                                  |                                  |                |             |                  |  \"classification_report\": \"NA\"                     |\n",
      "|                                  |                                  |                                  |                |             |                  |}                                                   |\n",
      "|2023-08-17 11:22:04.341000+00:00  |4afa87c03cf011ee8afe22df4b63f4a1  |495c6e9c3cf011ee8afe22df4b63f4a1  |\"ACCOUNTADMIN\"  |SET          |REGISTRATION      |{                                                   |\n",
      "|                                  |                                  |                                  |                |             |                  |  \"CREATION_ENVIRONMENT_SPEC\": {                    |\n",
      "|                                  |                                  |                                  |                |             |                  |    \"python\": \"3.8.12\"                              |\n",
      "|                                  |                                  |                                  |                |             |                  |  },                                                |\n",
      "|                                  |                                  |                                  |                |             |                  |  \"CREATION_ROLE\": \"\\\"ACCOUNTADMIN\\\"\",              |\n",
      "|                                  |                                  |                                  |                |             |                  |  \"CREATION_TIME\": \"2023-08-17 11:22:04.341 Z\",     |\n",
      "|                                  |                                  |                                  |                |             |                  |  \"ID\": \"495c6e9c3cf011ee8afe22df4b63f4a1\",         |\n",
      "|                                  |                                  |                                  |                |             |                  |  \"NAME\": \"ChurnPrediction\",                        |\n",
      "|                                  |                                  |                                  |                |             |                  |  \"TYPE\": \"snowml\",                                 |\n",
      "|                                  |                                  |                                  |                |             |                  |  \"URI\": \"sfc:MODEL_REGISTRY_SNOWFRACT.SNOWFRAC...  |\n",
      "|                                  |                                  |                                  |                |             |                  |  \"VERSION\": \"ee9215ef16a2c0fe34d17f557600a35b\"     |\n",
      "|                                  |                                  |                                  |                |             |                  |}                                                   |\n",
      "|2023-08-17 11:22:05.578000+00:00  |4bb799f03cf011ee8afe22df4b63f4a1  |495c6e9c3cf011ee8afe22df4b63f4a1  |\"ACCOUNTADMIN\"  |SET          |TAGS              |{                                                   |\n",
      "|                                  |                                  |                                  |                |             |                  |  \"classifier_type\": \"xgboost\",                     |\n",
      "|                                  |                                  |                                  |                |             |                  |  \"stage\": \"testing\"                                |\n",
      "|                                  |                                  |                                  |                |             |                  |}                                                   |\n",
      "|2023-08-21 07:19:57.339000+00:00  |21dd17583ff311ee89fa628aca6d24dc  |200e68963ff311ee89fa628aca6d24dc  |\"ACCOUNTADMIN\"  |SET          |REGISTRATION      |{                                                   |\n",
      "|                                  |                                  |                                  |                |             |                  |  \"CREATION_ENVIRONMENT_SPEC\": {                    |\n",
      "|                                  |                                  |                                  |                |             |                  |    \"python\": \"3.8.12\"                              |\n",
      "|                                  |                                  |                                  |                |             |                  |  },                                                |\n",
      "|                                  |                                  |                                  |                |             |                  |  \"CREATION_ROLE\": \"\\\"ACCOUNTADMIN\\\"\",              |\n",
      "|                                  |                                  |                                  |                |             |                  |  \"CREATION_TIME\": \"2023-08-21 07:19:57.339 Z\",     |\n",
      "|                                  |                                  |                                  |                |             |                  |  \"ID\": \"200e68963ff311ee89fa628aca6d24dc\",         |\n",
      "|                                  |                                  |                                  |                |             |                  |  \"NAME\": \"ChurnPrediction\",                        |\n",
      "|                                  |                                  |                                  |                |             |                  |  \"TYPE\": \"snowml\",                                 |\n",
      "|                                  |                                  |                                  |                |             |                  |  \"URI\": \"sfc:MODEL_REGISTRY_SNOWFRACT.SNOWFRAC...  |\n",
      "|                                  |                                  |                                  |                |             |                  |  \"VERSION\": \"ee9215ef16a2c0fe34d17f557600a36c\"     |\n",
      "|                                  |                                  |                                  |                |             |                  |}                                                   |\n",
      "|2023-08-21 07:19:58.928000+00:00  |22cf7ba63ff311ee89fa628aca6d24dc  |200e68963ff311ee89fa628aca6d24dc  |\"ACCOUNTADMIN\"  |SET          |TAGS              |{                                                   |\n",
      "|                                  |                                  |                                  |                |             |                  |  \"classifier_type\": \"xgboost\",                     |\n",
      "|                                  |                                  |                                  |                |             |                  |  \"stage\": \"testing\"                                |\n",
      "|                                  |                                  |                                  |                |             |                  |}                                                   |\n",
      "-----------------------------------------------------------------------------------------------------------------------------------------------------------------------------------------------------------------\n",
      "\n"
     ]
    }
   ],
   "source": [
    "registry.get_history().show()"
   ]
  },
  {
   "cell_type": "code",
   "execution_count": 10,
   "id": "d9907e53",
   "metadata": {},
   "outputs": [],
   "source": [
    "MODEL_NAME=\"ChurnPrediction\"\n",
    "MODEL_VERSION=\"ee9215ef16a2c0fe34d17f557600a36c\""
   ]
  },
  {
   "cell_type": "markdown",
   "id": "ea215e75",
   "metadata": {},
   "source": [
    "/# A name and model tags can be added to the model at registration time.\n",
    "\n",
    "<code>model_id = registry.log_model(\n",
    "    model_name=MODEL_NAME,\n",
    "    model_version=MODEL_VERSION,\n",
    "    model=pipeline,\n",
    "    tags={\"stage\": \"testing\", \"classifier_type\": \"xgboost\"},\n",
    "    sample_input_data=test_df.show(),\n",
    "    options={\"embed_local_ml_library\": True}\n",
    ")</code>"
   ]
  },
  {
   "cell_type": "code",
   "execution_count": 11,
   "id": "83baaf23",
   "metadata": {},
   "outputs": [],
   "source": [
    "model_id = \"200e68963ff311ee89fa628aca6d24dc\""
   ]
  },
  {
   "cell_type": "code",
   "execution_count": 14,
   "id": "42cbb52d",
   "metadata": {},
   "outputs": [],
   "source": [
    "model_list = registry.list_models()"
   ]
  },
  {
   "cell_type": "code",
   "execution_count": 15,
   "id": "f86090e6",
   "metadata": {},
   "outputs": [
    {
     "name": "stdout",
     "output_type": "stream",
     "text": [
      "----------------------------------------------------------------------------------------------\n",
      "|\"NAME\"           |\"TAGS\"                           |\"METRICS\"                               |\n",
      "----------------------------------------------------------------------------------------------\n",
      "|ChurnPrediction  |{                                |{                                       |\n",
      "|                 |  \"classifier_type\": \"xgboost\",  |  \"build_time_metrics\": {               |\n",
      "|                 |  \"stage\": \"testing\"             |    \"accuracy\": 0.8448098663926003,     |\n",
      "|                 |}                                |    \"exit\": {                           |\n",
      "|                 |                                 |      \"f1-score\": 0.5251572327044026,   |\n",
      "|                 |                                 |      \"precision\": 0.6398467432950191,  |\n",
      "|                 |                                 |      \"recall\": 0.44533333333333336,    |\n",
      "|                 |                                 |      \"support\": 375                    |\n",
      "|                 |                                 |    },                                  |\n",
      "|                 |                                 |    \"macro avg\": {                      |\n",
      "|                 |                                 |      \"f1-score\": 0.7162026949762799,   |\n",
      "|                 |                                 |      \"precision\": 0.7582023033982515,  |\n",
      "|                 |                                 |      \"recall\": 0.6927494165075323,     |\n",
      "|                 |                                 |      \"support\": 1946                   |\n",
      "|                 |                                 |    },                                  |\n",
      "|                 |                                 |    \"stay\": {                           |\n",
      "|                 |                                 |      \"f1-score\": 0.9072481572481572,   |\n",
      "|                 |                                 |      \"precision\": 0.8765578635014837,  |\n",
      "|                 |                                 |      \"recall\": 0.9401654996817314,     |\n",
      "|                 |                                 |      \"support\": 1571                   |\n",
      "|                 |                                 |    },                                  |\n",
      "|                 |                                 |    \"weighted avg\": {                   |\n",
      "|                 |                                 |      \"f1-score\": 0.8336180972769816,   |\n",
      "|                 |                                 |      \"precision\": 0.8309429251266511,  |\n",
      "|                 |                                 |      \"recall\": 0.8448098663926003,     |\n",
      "|                 |                                 |      \"support\": 1946                   |\n",
      "|                 |                                 |    }                                   |\n",
      "|                 |                                 |  },                                    |\n",
      "|                 |                                 |  \"confusion_matrix\": [                 |\n",
      "|                 |                                 |    [                                   |\n",
      "|                 |                                 |      1477,                             |\n",
      "|                 |                                 |      94                                |\n",
      "|                 |                                 |    ],                                  |\n",
      "|                 |                                 |    [                                   |\n",
      "|                 |                                 |      208,                              |\n",
      "|                 |                                 |      167                               |\n",
      "|                 |                                 |    ]                                   |\n",
      "|                 |                                 |  ]                                     |\n",
      "|                 |                                 |}                                       |\n",
      "----------------------------------------------------------------------------------------------\n",
      "\n"
     ]
    }
   ],
   "source": [
    "model_list.filter(model_list[\"ID\"] == model_id).select(\"NAME\",\"TAGS\",\"METRICS\").show()"
   ]
  },
  {
   "cell_type": "code",
   "execution_count": 19,
   "id": "5ca69cb4",
   "metadata": {},
   "outputs": [],
   "source": [
    "pipeline_restored = registry.load_model(MODEL_NAME,MODEL_VERSION)"
   ]
  },
  {
   "cell_type": "code",
   "execution_count": 20,
   "id": "9f730d04",
   "metadata": {},
   "outputs": [
    {
     "data": {
      "text/plain": [
       "snowflake.ml.modeling.pipeline.pipeline.Pipeline"
      ]
     },
     "execution_count": 20,
     "metadata": {},
     "output_type": "execute_result"
    }
   ],
   "source": [
    "type(pipeline_restored)"
   ]
  },
  {
   "cell_type": "code",
   "execution_count": 23,
   "id": "50cf9711",
   "metadata": {},
   "outputs": [],
   "source": [
    "ppln_loaded = model_registry.ModelReference(registry=registry, model_name=MODEL_NAME,model_version=MODEL_VERSION)"
   ]
  },
  {
   "cell_type": "code",
   "execution_count": 25,
   "id": "81fa086c",
   "metadata": {},
   "outputs": [
    {
     "name": "stdout",
     "output_type": "stream",
     "text": [
      "Generated UDF file is persisted at: /tmp/tmp0dorw3fc.py\n"
     ]
    },
    {
     "name": "stderr",
     "output_type": "stream",
     "text": [
      "WARNING:snowflake.snowpark.session:The version of package anyio in the local environment is 3.6.2, which does not fit the criteria for the requirement anyio. Your UDF might not work when the package version is different between the server and your local environment\n",
      "WARNING:snowflake.snowpark.session:The version of package numpy in the local environment is 1.24.4, which does not fit the criteria for the requirement numpy. Your UDF might not work when the package version is different between the server and your local environment\n",
      "WARNING:snowflake.snowpark.session:The version of package packaging in the local environment is 23.1, which does not fit the criteria for the requirement packaging. Your UDF might not work when the package version is different between the server and your local environment\n",
      "WARNING:snowflake.snowpark.session:The version of package pyyaml in the local environment is 6.0.1, which does not fit the criteria for the requirement pyyaml. Your UDF might not work when the package version is different between the server and your local environment\n",
      "WARNING:snowflake.snowpark.session:The version of package scikit-learn in the local environment is 1.3.0, which does not fit the criteria for the requirement scikit-learn. Your UDF might not work when the package version is different between the server and your local environment\n"
     ]
    },
    {
     "name": "stdout",
     "output_type": "stream",
     "text": [
      "\"MODEL_REGISTRY_SNOWFRACT\".\"SNOWFRACT\".\"churn_model_predict\" is deployed to warehouse.\n"
     ]
    }
   ],
   "source": [
    "ppln_loaded.deploy(\n",
    "    deployment_name=\"churn_model_predict\",\n",
    "    target_method=\"predict\",\n",
    "    permanent=True,\n",
    "    options={\"relax_version\":True}\n",
    ")"
   ]
  },
  {
   "cell_type": "markdown",
   "id": "bbef2178",
   "metadata": {},
   "source": [
    "### Following queries got executed in snowflake on deployment\n",
    "\n",
    "<code>1) CREATE STAGE IF NOT EXISTS \"MODEL_REGISTRY_SNOWFRACT\".\"SNOWFRACT\"._SYSTEM_REGISRTRY_DEPLOYMENTS_STAGE\n",
    "</code>\n",
    "\n",
    "<code>2) SELECT  *  FROM (SELECT * FROM \"MODEL_REGISTRY_SNOWFRACT\".\"SNOWFRACT\".\"_SYSTEM_REGISTRY_MODELS_VIEW\") WHERE ((\"NAME\" = 'ChurnPrediction') AND (\"VERSION\" = 'ee9215ef16a2c0fe34d17f557600a36c'))\n",
    "</code>\n",
    "\n",
    "<code>3) LIST @\"MODEL_REGISTRY_SNOWFRACT\".\"SNOWFRACT\".SNOWML_MODEL_200E68963FF311EE89FA628ACA6D24DC\n",
    "</code>\n",
    "\n",
    "<code>4) SELECT  *  FROM (SELECT * FROM \"MODEL_REGISTRY_SNOWFRACT\".\"SNOWFRACT\".\"_SYSTEM_REGISTRY_MODELS_VIEW\") WHERE ((\"NAME\" = 'ChurnPrediction') AND (\"VERSION\" = 'ee9215ef16a2c0fe34d17f557600a36c'))\n",
    "</code>\n",
    "\n",
    "<code>5) GET '@\"MODEL_REGISTRY_SNOWFRACT\".\"SNOWFRACT\".snowml_model_200e68963ff311ee89fa628aca6d24dc/tmpqfs1lw9d.zip' 'file:///tmp'  parallel = 10\n",
    "</code>\n",
    "\n",
    "<code>6) ls '@\"MODEL_REGISTRY_SNOWFRACT\".\"SNOWFRACT\"._SYSTEM_REGISRTRY_DEPLOYMENTS_STAGE/churn_model_predict'\n",
    "</code>\n",
    "\n",
    "<code>7) SELECT \"name\" FROM ( SELECT  *  FROM  TABLE ( RESULT_SCAN('01ae73bc-0503-b103-0072-f3030ba6b46a')))\n",
    "</code>\n",
    "\n",
    "<code>8) SELECT \"PACKAGE_NAME\", array_agg(\"VERSION\") AS \"ARRAY_AGG(VERSION)\" FROM ( SELECT  *  FROM information_schema.packages WHERE ((\"LANGUAGE\" = 'python') AND \"PACKAGE_NAME\" IN ('anyio', 'cloudpickle', 'numpy', 'packaging', 'pandas', 'pyyaml', 'scikit-learn', 'snowflake-snowpark-python', 'typing-extensions', 'xgboost'))) GROUP BY \"PACKAGE_NAME\"\n",
    "</code>\n",
    "\n",
    "<code>9) PUT 'file:///tmp/tmp0dorw3fc.py' '@\"MODEL_REGISTRY_SNOWFRACT\".\"SNOWFRACT\"._SYSTEM_REGISRTRY_DEPLOYMENTS_STAGE/churn_model_predict/MODEL_REGISTRY_SNOWFRACTSNOWFRACTchurn_model_predict_8980348272667569519' PARALLEL = 4 AUTO_COMPRESS = FALSE SOURCE_COMPRESSION = AUTO_DETECT OVERWRITE = TRUE\n",
    "</code>\n",
    "\n",
    "<code>10) CREATE\n",
    "  FUNCTION  \"MODEL_REGISTRY_SNOWFRACT\".\"SNOWFRACT\".\"churn_model_predict\"(arg1 OBJECT)\n",
    "RETURNS OBJECT\n",
    "LANGUAGE PYTHON \n",
    "RUNTIME_VERSION=3.8\n",
    "IMPORTS=('@\"MODEL_REGISTRY_SNOWFRACT\".\"SNOWFRACT\".snowml_model_200e68963ff311ee89fa628aca6d24dc/tmpqfs1lw9d.zip','@\"MODEL_REGISTRY_SNOWFRACT\".\"SNOWFRACT\"._SYSTEM_REGISRTRY_DEPLOYMENTS_STAGE/churn_model_predict/MODEL_REGISTRY_SNOWFRACTSNOWFRACTchurn_model_predict_8980348272667569519/tmp0dorw3fc.py')\n",
    "PACKAGES=('anyio','cloudpickle','numpy','packaging','pandas','pyyaml','scikit-learn','snowflake-snowpark-python','typing-extensions','xgboost')\n",
    "HANDLER='tmp0dorw3fc.infer'\n",
    "</code>\n",
    "\n",
    "<code>11) INSERT INTO \"MODEL_REGISTRY_SNOWFRACT\".\"SNOWFRACT\".\"_SYSTEM_REGISRTRY_DEPLOYMENTS\" ( CREATION_TIME,DEPLOYMENT_NAME,MODEL_ID,OPTIONS,ROLE,SIGNATURE,STAGE_PATH,TARGET_METHOD,TARGET_PLATFORM ) SELECT CURRENT_TIMESTAMP(),'churn_model_predict','200e68963ff311ee89fa628aca6d24dc',OBJECT_CONSTRUCT('permanent_udf_stage_location','@\"MODEL_REGISTRY_SNOWFRACT\".\"SNOWFRACT\"._SYSTEM_REGISRTRY_DEPLOYMENTS_STAGE/churn_model_predict/','relax_version',True),'\"ACCOUNTADMIN\"',OBJECT_CONSTRUCT('inputs',ARRAY_CONSTRUCT(OBJECT_CONSTRUCT('name','CUSTOMER_ID','type','INT64'),OBJECT_CONSTRUCT('name','CREDIT_SCORE','type','INT64'),OBJECT_CONSTRUCT('name','COUNTRY','type','STRING'),OBJECT_CONSTRUCT('name','GENDER','type','STRING'),OBJECT_CONSTRUCT('name','AGE','type','INT64'),OBJECT_CONSTRUCT('name','TENURE','type','INT64'),OBJECT_CONSTRUCT('name','BALANCE','type','DOUBLE'),OBJECT_CONSTRUCT('name','PRODUCTS_NUMBER','type','INT64'),OBJECT_CONSTRUCT('name','CREDIT_CARD','type','INT64'),OBJECT_CONSTRUCT('name','ACTIVE_MEMBER','type','INT64'),OBJECT_CONSTRUCT('name','ESTIMATED_SALARY','type','DOUBLE')),'outputs',ARRAY_CONSTRUCT(OBJECT_CONSTRUCT('name','PREDICTION','type','INT64'))),'@\"MODEL_REGISTRY_SNOWFRACT\".\"SNOWFRACT\"._SYSTEM_REGISRTRY_DEPLOYMENTS_STAGE/churn_model_predict/','predict','warehouse'\n",
    "</code>\n",
    "\n",
    "<code>12) SELECT  *  FROM (SELECT * FROM \"MODEL_REGISTRY_SNOWFRACT\".\"SNOWFRACT\".\"_SYSTEM_REGISTRY_MODELS_VIEW\") WHERE (\"ID\" = '200e68963ff311ee89fa628aca6d24dc')\n",
    "</code>\n",
    "\n",
    "<code>13) INSERT INTO \"MODEL_REGISTRY_SNOWFRACT\".\"SNOWFRACT\".\"_SYSTEM_REGISTRY_METADATA\" ( ATTRIBUTE_NAME,EVENT_ID,EVENT_TIMESTAMP,MODEL_ID,OPERATION,ROLE,VALUE ) SELECT 'DEPLOYMENTS','c0d654603ffc11ee9f40628aca6d24dc',CURRENT_TIMESTAMP(),'200e68963ff311ee89fa628aca6d24dc','ADD','\"ACCOUNTADMIN\"',OBJECT_CONSTRUCT('DEPLOYMENTS',OBJECT_CONSTRUCT('name','churn_model_predict','permanent',True))\n",
    "</code>"
   ]
  },
  {
   "cell_type": "markdown",
   "id": "4afc6c25",
   "metadata": {},
   "source": [
    "### Test"
   ]
  },
  {
   "cell_type": "code",
   "execution_count": 28,
   "id": "8faa8215",
   "metadata": {},
   "outputs": [],
   "source": [
    "#load the sample data\n",
    "table_name = 'BANK_CUSTOMER_CHURN_PREDICTION'\n",
    "sf_df = session.table(table_name).drop('ROW')\n",
    "train_df, test_df = sf_df.random_split([0.9,0.1])"
   ]
  },
  {
   "cell_type": "code",
   "execution_count": 34,
   "id": "a4df8b70",
   "metadata": {},
   "outputs": [
    {
     "name": "stderr",
     "output_type": "stream",
     "text": [
      "/opt/conda/lib/python3.8/site-packages/snowflake/ml/model/model_signature.py:1001: RuntimeWarning: Warn in feature CUSTOMER_ID: Nullable column CUSTOMER_ID provided, inference might fail if there is null value.\n",
      "  warnings.warn(\n",
      "/opt/conda/lib/python3.8/site-packages/snowflake/ml/model/model_signature.py:1001: RuntimeWarning: Warn in feature CREDIT_SCORE: Nullable column CREDIT_SCORE provided, inference might fail if there is null value.\n",
      "  warnings.warn(\n",
      "/opt/conda/lib/python3.8/site-packages/snowflake/ml/model/model_signature.py:1001: RuntimeWarning: Warn in feature COUNTRY: Nullable column COUNTRY provided, inference might fail if there is null value.\n",
      "  warnings.warn(\n",
      "/opt/conda/lib/python3.8/site-packages/snowflake/ml/model/model_signature.py:1001: RuntimeWarning: Warn in feature GENDER: Nullable column GENDER provided, inference might fail if there is null value.\n",
      "  warnings.warn(\n",
      "/opt/conda/lib/python3.8/site-packages/snowflake/ml/model/model_signature.py:1001: RuntimeWarning: Warn in feature AGE: Nullable column AGE provided, inference might fail if there is null value.\n",
      "  warnings.warn(\n",
      "/opt/conda/lib/python3.8/site-packages/snowflake/ml/model/model_signature.py:1001: RuntimeWarning: Warn in feature TENURE: Nullable column TENURE provided, inference might fail if there is null value.\n",
      "  warnings.warn(\n",
      "/opt/conda/lib/python3.8/site-packages/snowflake/ml/model/model_signature.py:1001: RuntimeWarning: Warn in feature BALANCE: Nullable column BALANCE provided, inference might fail if there is null value.\n",
      "  warnings.warn(\n",
      "/opt/conda/lib/python3.8/site-packages/snowflake/ml/model/model_signature.py:1001: RuntimeWarning: Warn in feature PRODUCTS_NUMBER: Nullable column PRODUCTS_NUMBER provided, inference might fail if there is null value.\n",
      "  warnings.warn(\n",
      "/opt/conda/lib/python3.8/site-packages/snowflake/ml/model/model_signature.py:1001: RuntimeWarning: Warn in feature CREDIT_CARD: Nullable column CREDIT_CARD provided, inference might fail if there is null value.\n",
      "  warnings.warn(\n",
      "/opt/conda/lib/python3.8/site-packages/snowflake/ml/model/model_signature.py:1001: RuntimeWarning: Warn in feature ACTIVE_MEMBER: Nullable column ACTIVE_MEMBER provided, inference might fail if there is null value.\n",
      "  warnings.warn(\n",
      "/opt/conda/lib/python3.8/site-packages/snowflake/ml/model/model_signature.py:1001: RuntimeWarning: Warn in feature ESTIMATED_SALARY: Nullable column ESTIMATED_SALARY provided, inference might fail if there is null value.\n",
      "  warnings.warn(\n"
     ]
    }
   ],
   "source": [
    "result_dataframe = ppln_loaded.predict(\"churn_model_predict\", test_df)"
   ]
  },
  {
   "cell_type": "code",
   "execution_count": 32,
   "id": "d04c9249",
   "metadata": {},
   "outputs": [
    {
     "data": {
      "text/plain": [
       "<snowflake.snowpark.dataframe.DataFrame at 0x7f29bd17f8e0>"
      ]
     },
     "execution_count": 32,
     "metadata": {},
     "output_type": "execute_result"
    }
   ],
   "source": [
    "result_dataframe"
   ]
  },
  {
   "cell_type": "code",
   "execution_count": 33,
   "id": "08db32c4",
   "metadata": {},
   "outputs": [
    {
     "name": "stdout",
     "output_type": "stream",
     "text": [
      "----------------\n",
      "|\"PREDICTION\"  |\n",
      "----------------\n",
      "|0             |\n",
      "|0             |\n",
      "|0             |\n",
      "|0             |\n",
      "|1             |\n",
      "|1             |\n",
      "|0             |\n",
      "|0             |\n",
      "|0             |\n",
      "|1             |\n",
      "----------------\n",
      "\n"
     ]
    }
   ],
   "source": [
    "result_dataframe.show()"
   ]
  },
  {
   "cell_type": "code",
   "execution_count": null,
   "id": "80d6d863",
   "metadata": {},
   "outputs": [],
   "source": []
  }
 ],
 "metadata": {
  "kernelspec": {
   "display_name": "Python 3",
   "language": "python",
   "name": "python3"
  },
  "language_info": {
   "codemirror_mode": {
    "name": "ipython",
    "version": 3
   },
   "file_extension": ".py",
   "mimetype": "text/x-python",
   "name": "python",
   "nbconvert_exporter": "python",
   "pygments_lexer": "ipython3",
   "version": "3.8.12"
  }
 },
 "nbformat": 4,
 "nbformat_minor": 5
}
