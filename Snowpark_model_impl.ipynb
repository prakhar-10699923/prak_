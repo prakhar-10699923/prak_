{
 "cells": [
  {
   "cell_type": "code",
   "execution_count": 1,
   "id": "8b04b2db",
   "metadata": {},
   "outputs": [
    {
     "name": "stdout",
     "output_type": "stream",
     "text": [
      "Collecting snowflake[ml]==0.8.0\n",
      "  Downloading https://files.pythonhosted.org/packages/1f/46/a456b8d3ea1f03d172503166e1f3d58c67bb5b3cfd73d32bdb6c55b4d885/snowflake-0.8.0-py3-none-any.whl\n",
      "Collecting snowflake-core==0.8.0\n",
      "\u001b[?25l  Downloading https://files.pythonhosted.org/packages/6f/55/1053b2e8e000c8aa68a6ded471a4fcc209fef77071c8d86096586a749120/snowflake_core-0.8.0-py3-none-any.whl (443kB)\n",
      "\u001b[K     |████████████████████████████████| 450kB 1.4MB/s eta 0:00:01\n",
      "\u001b[?25hCollecting snowflake-legacy\n",
      "  Downloading https://files.pythonhosted.org/packages/92/f8/e3d2f7f6c60a3471583d1b29940f902b300a1585d50ab20e951ad4d240b1/snowflake_legacy-0.10.0-py3-none-any.whl\n",
      "Collecting snowflake-ml-python==1.4.0; extra == \"ml\"\n",
      "\u001b[?25l  Downloading https://files.pythonhosted.org/packages/ed/2f/8e8862f0b77c23cdcafba56be63640f87feb8aef4421116b836f40f1f9c4/snowflake_ml_python-1.4.0-py3-none-any.whl (1.8MB)\n",
      "\u001b[K     |████████████████████████████████| 1.8MB 34.6MB/s eta 0:00:01\n",
      "\u001b[?25hCollecting urllib3\n",
      "\u001b[?25l  Downloading https://files.pythonhosted.org/packages/ca/1c/89ffc63a9605b583d5df2be791a27bc1a42b7c32bab68d3c8f2f73a98cd4/urllib3-2.2.2-py3-none-any.whl (121kB)\n",
      "\u001b[K     |████████████████████████████████| 122kB 62.4MB/s eta 0:00:01\n",
      "\u001b[?25hCollecting python-dateutil>=2.8.2\n",
      "\u001b[?25l  Downloading https://files.pythonhosted.org/packages/ec/57/56b9bcc3c9c6a792fcbaf139543cee77261f3651ca9da0c93f5c1221264b/python_dateutil-2.9.0.post0-py2.py3-none-any.whl (229kB)\n",
      "\u001b[K     |████████████████████████████████| 235kB 60.7MB/s eta 0:00:01\n",
      "\u001b[?25hCollecting snowflake-snowpark-python<2.0.0,>=1.5.0\n",
      "\u001b[?25l  Downloading https://files.pythonhosted.org/packages/2b/6f/fafbf56e47e2f6820ebc99203755374e20d5c26762e2de8db991f8f97579/snowflake_snowpark_python-1.18.0-py3-none-any.whl (1.2MB)\n",
      "\u001b[K     |████████████████████████████████| 1.2MB 46.6MB/s eta 0:00:01\n",
      "\u001b[?25hCollecting pydantic>=1.10.7\n",
      "\u001b[?25l  Downloading https://files.pythonhosted.org/packages/17/ba/1b65c9cbc49e0c7cd1be086c63209e9ad883c2a409be4746c21db4263f41/pydantic-2.7.4-py3-none-any.whl (409kB)\n",
      "\u001b[K     |████████████████████████████████| 409kB 54.5MB/s eta 0:00:01\n",
      "\u001b[?25hCollecting atpublic>=4\n",
      "  Downloading https://files.pythonhosted.org/packages/5e/5e/3613e5aa17ac07a69e89a5f47706f5719035f386eb024d6680483926b034/atpublic-4.1.0-py3-none-any.whl\n",
      "Collecting pyarrow\n",
      "\u001b[?25l  Downloading https://files.pythonhosted.org/packages/df/3e/9cfa78ad9744c77e4f3c183d919de3649505e50663d3715151a094c27769/pyarrow-16.1.0-cp39-cp39-manylinux_2_17_x86_64.manylinux2014_x86_64.whl (41.0MB)\n",
      "\u001b[K     |████████████████████████████████| 41.0MB 53.5MB/s eta 0:00:01\n",
      "\u001b[?25hCollecting absl-py<2,>=0.15\n",
      "\u001b[?25l  Downloading https://files.pythonhosted.org/packages/dd/87/de5c32fa1b1c6c3305d576e299801d8655c175ca9557019906247b994331/absl_py-1.4.0-py3-none-any.whl (126kB)\n",
      "\u001b[K     |████████████████████████████████| 133kB 49.2MB/s eta 0:00:01\n",
      "\u001b[?25hCollecting snowflake-connector-python[pandas]<4,>=3.5.0\n",
      "\u001b[?25l  Downloading https://files.pythonhosted.org/packages/f3/ab/a476fc0fddf4d3133d4a91c9b3ac0357b33ea49888ef0b55724fa79786d1/snowflake_connector_python-3.11.0-cp39-cp39-manylinux_2_17_x86_64.manylinux2014_x86_64.whl (2.5MB)\n",
      "\u001b[K     |████████████████████████████████| 2.5MB 52.1MB/s eta 0:00:01\n",
      "\u001b[?25hCollecting scipy<2,>=1.9\n",
      "\u001b[?25l  Downloading https://files.pythonhosted.org/packages/35/f5/d0ad1a96f80962ba65e2ce1de6a1e59edecd1f0a7b55990ed208848012e0/scipy-1.13.1-cp39-cp39-manylinux_2_17_x86_64.manylinux2014_x86_64.whl (38.6MB)\n",
      "\u001b[K     |████████████████████████████████| 38.6MB 46.2MB/s eta 0:00:01\n",
      "\u001b[?25hCollecting typing-extensions<5,>=4.1.0\n",
      "  Downloading https://files.pythonhosted.org/packages/26/9f/ad63fc0248c5379346306f8668cda6e2e2e9c95e01216d2b8ffd9ff037d0/typing_extensions-4.12.2-py3-none-any.whl\n",
      "Collecting importlib-resources<7,>=6.1.1\n",
      "  Downloading https://files.pythonhosted.org/packages/75/06/4df55e1b7b112d183f65db9503bff189e97179b256e1ea450a3c365241e0/importlib_resources-6.4.0-py3-none-any.whl\n",
      "Collecting sqlparse<1,>=0.4\n",
      "\u001b[?25l  Downloading https://files.pythonhosted.org/packages/43/5d/a0fdd88fd486b39ae1fd1a75ff75b4e29a0df96c0304d462fd407b82efe0/sqlparse-0.5.0-py3-none-any.whl (43kB)\n",
      "\u001b[K     |████████████████████████████████| 51kB 9.4MB/s  eta 0:00:01\n",
      "\u001b[?25hCollecting numpy<2,>=1.23\n",
      "\u001b[?25l  Downloading https://files.pythonhosted.org/packages/54/30/c2a907b9443cf42b90c17ad10c1e8fa801975f01cb9764f3f8eb8aea638b/numpy-1.26.4-cp39-cp39-manylinux_2_17_x86_64.manylinux2014_x86_64.whl (18.2MB)\n",
      "\u001b[K     |████████████████████████████████| 18.3MB 21.8MB/s eta 0:00:01\n",
      "\u001b[?25hCollecting fsspec[http]<2024,>=2022.11\n",
      "\u001b[?25l  Downloading https://files.pythonhosted.org/packages/70/25/fab23259a52ece5670dcb8452e1af34b89e6135ecc17cd4b54b4b479eac6/fsspec-2023.12.2-py3-none-any.whl (168kB)\n",
      "\u001b[K     |████████████████████████████████| 174kB 56.6MB/s eta 0:00:01\n",
      "\u001b[?25hCollecting retrying<2,>=1.3.3\n",
      "  Downloading https://files.pythonhosted.org/packages/8f/04/9e36f28be4c0532c0e9207ff9dc01fb13a2b0eb036476a213b0000837d0e/retrying-1.3.4-py3-none-any.whl\n",
      "Collecting anyio<4,>=3.5.0\n",
      "\u001b[?25l  Downloading https://files.pythonhosted.org/packages/19/24/44299477fe7dcc9cb58d0a57d5a7588d6af2ff403fdd2d47a246c91a3246/anyio-3.7.1-py3-none-any.whl (80kB)\n",
      "\u001b[K     |████████████████████████████████| 81kB 14.3MB/s eta 0:00:01\n",
      "\u001b[?25hCollecting pyyaml<7,>=6.0\n",
      "\u001b[?25l  Downloading https://files.pythonhosted.org/packages/7d/39/472f2554a0f1e825bd7c5afc11c817cd7a2f3657460f7159f691fbb37c51/PyYAML-6.0.1-cp39-cp39-manylinux_2_17_x86_64.manylinux2014_x86_64.whl (738kB)\n",
      "\u001b[K     |████████████████████████████████| 747kB 53.6MB/s eta 0:00:01\n",
      "\u001b[?25hCollecting pytimeparse<2,>=1.1.8\n",
      "  Downloading https://files.pythonhosted.org/packages/1b/b4/afd75551a3b910abd1d922dbd45e49e5deeb4d47dc50209ce489ba9844dd/pytimeparse-1.1.8-py2.py3-none-any.whl\n",
      "Collecting s3fs<2024,>=2022.11\n",
      "  Downloading https://files.pythonhosted.org/packages/5b/d6/b8a748b7d3fc7b0fd2ede1cf26a80281d65cc24d5d56b66c3a4c87e256e2/s3fs-2023.12.2-py3-none-any.whl\n",
      "Collecting packaging<24,>=20.9\n",
      "\u001b[?25l  Downloading https://files.pythonhosted.org/packages/ec/1a/610693ac4ee14fcdf2d9bf3c493370e4f2ef7ae2e19217d7a237ff42367d/packaging-23.2-py3-none-any.whl (53kB)\n",
      "\u001b[K     |████████████████████████████████| 61kB 10.2MB/s eta 0:00:01\n",
      "\u001b[?25hCollecting pandas<2,>=1.0.0\n",
      "\u001b[?25l  Downloading https://files.pythonhosted.org/packages/e1/4d/3eb96e53a9208350ee21615f850c4be9a246d32bf1d34cd36682cb58c3b7/pandas-1.5.3-cp39-cp39-manylinux_2_17_x86_64.manylinux2014_x86_64.whl (12.2MB)\n",
      "\u001b[K     |████████████████████████████████| 12.2MB 40.1MB/s eta 0:00:01\n",
      "\u001b[?25hCollecting cloudpickle>=2.0.0\n",
      "  Downloading https://files.pythonhosted.org/packages/96/43/dae06432d0c4b1dc9e9149ad37b4ca8384cf6eb7700cd9215b177b914f0a/cloudpickle-3.0.0-py3-none-any.whl\n",
      "Collecting cachetools<6,>=3.1.1\n",
      "  Downloading https://files.pythonhosted.org/packages/fb/2b/a64c2d25a37aeb921fddb929111413049fc5f8b9a4c1aefaffaafe768d54/cachetools-5.3.3-py3-none-any.whl\n",
      "Collecting xgboost<2,>=1.7.3\n",
      "\u001b[?25l  Downloading https://files.pythonhosted.org/packages/8c/3a/c9c5d4d5c49b132ef15ac7b5ccf56ef1c82efe36cd19414771762e97c00e/xgboost-1.7.6-py3-none-manylinux2014_x86_64.whl (200.3MB)\n",
      "\u001b[K     |████████████████████████████████| 200.3MB 51kB/s s eta 0:00:01\n",
      "\u001b[?25hCollecting scikit-learn<1.4,>=1.2.1\n",
      "\u001b[?25l  Downloading https://files.pythonhosted.org/packages/25/89/dce01a35d354159dcc901e3c7e7eb3fe98de5cb3639c6cd39518d8830caa/scikit_learn-1.3.2-cp39-cp39-manylinux_2_17_x86_64.manylinux2014_x86_64.whl (10.9MB)\n",
      "\u001b[K     |████████████████████████████████| 10.9MB 42.2MB/s eta 0:00:01\n",
      "\u001b[?25hCollecting six>=1.5\n",
      "  Downloading https://files.pythonhosted.org/packages/d9/5a/e7c31adbe875f2abbb91bd84cf2dc52d792b5a01506781dbcf25c91daf11/six-1.16.0-py2.py3-none-any.whl\n",
      "Collecting wheel\n",
      "\u001b[?25l  Downloading https://files.pythonhosted.org/packages/7d/cd/d7460c9a869b16c3dd4e1e403cce337df165368c71d6af229a74699622ce/wheel-0.43.0-py3-none-any.whl (65kB)\n",
      "\u001b[K     |████████████████████████████████| 71kB 1.3MB/s  eta 0:00:01\n",
      "\u001b[?25hCollecting setuptools>=40.6.0\n",
      "\u001b[?25l  Downloading https://files.pythonhosted.org/packages/b3/7a/629889a5d76200287aa5483d753811bd247bbd1b03175186f759e0c7d3a7/setuptools-70.1.1-py3-none-any.whl (883kB)\n",
      "\u001b[K     |████████████████████████████████| 890kB 38.8MB/s eta 0:00:01\n",
      "\u001b[?25hCollecting pydantic-core==2.18.4\n"
     ]
    },
    {
     "name": "stdout",
     "output_type": "stream",
     "text": [
      "\u001b[?25l  Downloading https://files.pythonhosted.org/packages/d8/46/7721671dc8ded5cf4d754f8737bf348485daabfba7932a96c49699fe3c9e/pydantic_core-2.18.4-cp39-cp39-manylinux_2_17_x86_64.manylinux2014_x86_64.whl (2.0MB)\n",
      "\u001b[K     |████████████████████████████████| 2.1MB 44.7MB/s eta 0:00:01\n",
      "\u001b[?25hCollecting annotated-types>=0.4.0\n",
      "  Downloading https://files.pythonhosted.org/packages/78/b6/6307fbef88d9b5ee7421e68d78a9f162e0da4900bc5f5793f6d3d0e34fb8/annotated_types-0.7.0-py3-none-any.whl\n",
      "Collecting cffi<2.0.0,>=1.9\n",
      "\u001b[?25l  Downloading https://files.pythonhosted.org/packages/ea/ac/e9e77bc385729035143e54cc8c4785bd480eaca9df17565963556b0b7a93/cffi-1.16.0-cp39-cp39-manylinux_2_17_x86_64.manylinux2014_x86_64.whl (443kB)\n",
      "\u001b[K     |████████████████████████████████| 450kB 49.0MB/s eta 0:00:01\n",
      "\u001b[?25hCollecting tomlkit\n",
      "  Downloading https://files.pythonhosted.org/packages/73/6d/b5406752c4e4ba86692b22fab0afed8b48f16bdde8f92e1d852976b61dc6/tomlkit-0.12.5-py3-none-any.whl\n",
      "Collecting sortedcontainers>=2.4.0\n",
      "  Downloading https://files.pythonhosted.org/packages/32/46/9cb0e58b2deb7f82b84065f37f3bffeb12413f947f9388e4cac22c4621ce/sortedcontainers-2.4.0-py2.py3-none-any.whl\n",
      "Collecting platformdirs<5.0.0,>=2.6.0\n",
      "  Downloading https://files.pythonhosted.org/packages/68/13/2aa1f0e1364feb2c9ef45302f387ac0bd81484e9c9a4c5688a322fbdfd08/platformdirs-4.2.2-py3-none-any.whl\n",
      "Collecting pytz\n",
      "\u001b[?25l  Downloading https://files.pythonhosted.org/packages/9c/3d/a121f284241f08268b21359bd425f7d4825cffc5ac5cd0e1b3d82ffd2b10/pytz-2024.1-py2.py3-none-any.whl (505kB)\n",
      "\u001b[K     |████████████████████████████████| 512kB 47.9MB/s eta 0:00:01\n",
      "\u001b[?25hCollecting requests<3.0.0\n",
      "\u001b[?25l  Downloading https://files.pythonhosted.org/packages/f9/9b/335f9764261e915ed497fcdeb11df5dfd6f7bf257d4a6a2a686d80da4d54/requests-2.32.3-py3-none-any.whl (64kB)\n",
      "\u001b[K     |████████████████████████████████| 71kB 10.7MB/s eta 0:00:01\n",
      "\u001b[?25hCollecting cryptography<43.0.0,>=3.1.0\n",
      "\u001b[?25l  Downloading https://files.pythonhosted.org/packages/49/1c/9f6d13cc8041c05eebff1154e4e71bedd1db8e174fff999054435994187a/cryptography-42.0.8-cp39-abi3-manylinux_2_17_x86_64.manylinux2014_x86_64.whl (3.8MB)\n",
      "\u001b[K     |████████████████████████████████| 3.9MB 40.5MB/s eta 0:00:01\n",
      "\u001b[?25hCollecting pyOpenSSL<25.0.0,>=16.2.0\n",
      "\u001b[?25l  Downloading https://files.pythonhosted.org/packages/54/a7/2104f674a5a6845b04c8ff01659becc6b8978ca410b82b94287e0b1e018b/pyOpenSSL-24.1.0-py3-none-any.whl (56kB)\n",
      "\u001b[K     |████████████████████████████████| 61kB 12.1MB/s eta 0:00:01\n",
      "\u001b[?25hCollecting filelock<4,>=3.5\n",
      "  Downloading https://files.pythonhosted.org/packages/ae/f0/48285f0262fe47103a4a45972ed2f9b93e4c80b8fd609fa98da78b2a5706/filelock-3.15.4-py3-none-any.whl\n",
      "Collecting idna<4,>=2.5\n",
      "\u001b[?25l  Downloading https://files.pythonhosted.org/packages/e5/3e/741d8c82801c347547f8a2a06aa57dbb1992be9e948df2ea0eda2c8b79e8/idna-3.7-py3-none-any.whl (66kB)\n",
      "\u001b[K     |████████████████████████████████| 71kB 11.8MB/s eta 0:00:01\n",
      "\u001b[?25hCollecting pyjwt<3.0.0\n",
      "  Downloading https://files.pythonhosted.org/packages/2b/4f/e04a8067c7c96c364cef7ef73906504e2f40d690811c021e1a1901473a19/PyJWT-2.8.0-py3-none-any.whl\n",
      "Collecting certifi>=2017.4.17\n",
      "\u001b[?25l  Downloading https://files.pythonhosted.org/packages/5b/11/1e78951465b4a225519b8c3ad29769c49e0d8d157a070f681d5b6d64737f/certifi-2024.6.2-py3-none-any.whl (164kB)\n",
      "\u001b[K     |████████████████████████████████| 174kB 56.5MB/s eta 0:00:01\n",
      "\u001b[?25hCollecting asn1crypto<2.0.0,>0.24.0\n",
      "\u001b[?25l  Downloading https://files.pythonhosted.org/packages/c9/7f/09065fd9e27da0eda08b4d6897f1c13535066174cc023af248fc2a8d5e5a/asn1crypto-1.5.1-py2.py3-none-any.whl (105kB)\n",
      "\u001b[K     |████████████████████████████████| 112kB 39.3MB/s eta 0:00:01\n",
      "\u001b[?25hCollecting charset-normalizer<4,>=2\n",
      "\u001b[?25l  Downloading https://files.pythonhosted.org/packages/98/69/5d8751b4b670d623aa7a47bef061d69c279e9f922f6705147983aa76c3ce/charset_normalizer-3.3.2-cp39-cp39-manylinux_2_17_x86_64.manylinux2014_x86_64.whl (142kB)\n",
      "\u001b[K     |████████████████████████████████| 143kB 58.6MB/s eta 0:00:01\n",
      "\u001b[?25hCollecting zipp>=3.1.0; python_version < \"3.10\"\n",
      "  Downloading https://files.pythonhosted.org/packages/20/38/f5c473fe9b90c8debdd29ea68d5add0289f1936d6f923b6b9cc0b931194c/zipp-3.19.2-py3-none-any.whl\n",
      "Collecting aiohttp!=4.0.0a0,!=4.0.0a1; extra == \"http\"\n",
      "\u001b[?25l  Downloading https://files.pythonhosted.org/packages/94/4f/3c99f1cdab4fb55e12a914c80828f0958f04d79ef6b6ce1e05d07c30c46b/aiohttp-3.9.5-cp39-cp39-manylinux_2_17_x86_64.manylinux2014_x86_64.whl (1.2MB)\n",
      "\u001b[K     |████████████████████████████████| 1.2MB 27.6MB/s eta 0:00:01\n",
      "\u001b[?25hCollecting exceptiongroup; python_version < \"3.11\"\n",
      "  Downloading https://files.pythonhosted.org/packages/01/90/79fe92dd413a9cab314ef5c591b5aa9b9ba787ae4cadab75055b0ae00b33/exceptiongroup-1.2.1-py3-none-any.whl\n",
      "Collecting sniffio>=1.1\n",
      "  Downloading https://files.pythonhosted.org/packages/e9/44/75a9c9421471a6c4805dbf2356f7c181a29c1879239abab1ea2cc8f38b40/sniffio-1.3.1-py3-none-any.whl\n",
      "Collecting aiobotocore<3.0.0,>=2.5.4\n",
      "\u001b[?25l  Downloading https://files.pythonhosted.org/packages/30/07/42f884c1600169e4267575cdd261c75dea31782d8fd877bbea358d559416/aiobotocore-2.13.1-py3-none-any.whl (76kB)\n",
      "\u001b[K     |████████████████████████████████| 81kB 12.0MB/s eta 0:00:01\n",
      "\u001b[?25hCollecting joblib>=1.1.1\n",
      "\u001b[?25l  Downloading https://files.pythonhosted.org/packages/91/29/df4b9b42f2be0b623cbd5e2140cafcaa2bef0759a00b7b70104dcfe2fb51/joblib-1.4.2-py3-none-any.whl (301kB)\n",
      "\u001b[K     |████████████████████████████████| 307kB 55.5MB/s eta 0:00:01\n",
      "\u001b[?25hCollecting threadpoolctl>=2.0.0\n",
      "  Downloading https://files.pythonhosted.org/packages/4b/2c/ffbf7a134b9ab11a67b0cf0726453cedd9c5043a4fe7a35d1cefa9a1bcfb/threadpoolctl-3.5.0-py3-none-any.whl\n",
      "Collecting pycparser\n",
      "\u001b[?25l  Downloading https://files.pythonhosted.org/packages/13/a3/a812df4e2dd5696d1f351d58b8fe16a405b234ad2886a0dab9183fb78109/pycparser-2.22-py3-none-any.whl (117kB)\n",
      "\u001b[K     |████████████████████████████████| 122kB 57.5MB/s eta 0:00:01\n",
      "\u001b[?25hCollecting yarl<2.0,>=1.0\n",
      "\u001b[?25l  Downloading https://files.pythonhosted.org/packages/69/ea/d7e961ea9b1b818a43b155ee512117be6ab9ab67c1e94967b2e64126e8e4/yarl-1.9.4-cp39-cp39-manylinux_2_17_x86_64.manylinux2014_x86_64.whl (304kB)\n",
      "\u001b[K     |████████████████████████████████| 307kB 59.7MB/s eta 0:00:01\n",
      "\u001b[?25hCollecting frozenlist>=1.1.1\n",
      "\u001b[?25l  Downloading https://files.pythonhosted.org/packages/70/b0/6f1ebdabfb604e39a0f84428986b89ab55f246b64cddaa495f2c953e1f6b/frozenlist-1.4.1-cp39-cp39-manylinux_2_5_x86_64.manylinux1_x86_64.manylinux_2_17_x86_64.manylinux2014_x86_64.whl (240kB)\n",
      "\u001b[K     |████████████████████████████████| 245kB 58.3MB/s eta 0:00:01\n",
      "\u001b[?25hCollecting attrs>=17.3.0\n",
      "\u001b[?25l  Downloading https://files.pythonhosted.org/packages/e0/44/827b2a91a5816512fcaf3cc4ebc465ccd5d598c45cefa6703fcf4a79018f/attrs-23.2.0-py3-none-any.whl (60kB)\n",
      "\u001b[K     |████████████████████████████████| 61kB 11.7MB/s eta 0:00:01\n",
      "\u001b[?25hCollecting async-timeout<5.0,>=4.0; python_version < \"3.11\"\n",
      "  Downloading https://files.pythonhosted.org/packages/a7/fa/e01228c2938de91d47b307831c62ab9e4001e747789d0b05baf779a6488c/async_timeout-4.0.3-py3-none-any.whl\n",
      "Collecting multidict<7.0,>=4.5\n",
      "\u001b[?25l  Downloading https://files.pythonhosted.org/packages/39/a9/1f8d42c8103bcb1da6bb719f1bc018594b5acc8eae56b3fec4720ebee225/multidict-6.0.5-cp39-cp39-manylinux_2_17_x86_64.manylinux2014_x86_64.whl (123kB)\n",
      "\u001b[K     |████████████████████████████████| 133kB 41.3MB/s eta 0:00:01\n",
      "\u001b[?25hCollecting aiosignal>=1.1.2\n",
      "  Downloading https://files.pythonhosted.org/packages/76/ac/a7305707cb852b7e16ff80eaf5692309bde30e2b1100a1fcacdc8f731d97/aiosignal-1.3.1-py3-none-any.whl\n",
      "Collecting botocore<1.34.132,>=1.34.70\n",
      "\u001b[?25l  Downloading https://files.pythonhosted.org/packages/46/1a/01785fad12a9b1dbeffebd97cd226ea5923114057c64a610dd4eb8a28c7b/botocore-1.34.131-py3-none-any.whl (12.3MB)\n",
      "\u001b[K     |████████████████████████████████| 12.3MB 62.3MB/s eta 0:00:01\n",
      "\u001b[?25hCollecting aioitertools<1.0.0,>=0.5.1\n",
      "  Downloading https://files.pythonhosted.org/packages/45/66/d1a9fd8e6ff88f2157cb145dd054defb0fd7fe2507fe5a01347e7c690eab/aioitertools-0.11.0-py3-none-any.whl\n",
      "Collecting wrapt<2.0.0,>=1.10.10\n",
      "\u001b[?25l  Downloading https://files.pythonhosted.org/packages/b1/e7/459a8a4f40f2fa65eb73cb3f339e6d152957932516d18d0e996c7ae2d7ae/wrapt-1.16.0-cp39-cp39-manylinux_2_5_x86_64.manylinux1_x86_64.manylinux_2_17_x86_64.manylinux2014_x86_64.whl (80kB)\n",
      "\u001b[K     |████████████████████████████████| 81kB 10.6MB/s eta 0:00:01\n"
     ]
    },
    {
     "name": "stdout",
     "output_type": "stream",
     "text": [
      "\u001b[?25hCollecting jmespath<2.0.0,>=0.7.1\n",
      "  Downloading https://files.pythonhosted.org/packages/31/b4/b9b800c45527aadd64d5b442f9b932b00648617eb5d63d2c7a6587b7cafc/jmespath-1.0.1-py3-none-any.whl\n",
      "\u001b[31mERROR: openapi-schema-validator 0.6.2 has requirement jsonschema<5.0.0,>=4.19.1, but you'll have jsonschema 4.19.0 which is incompatible.\u001b[0m\n",
      "\u001b[31mERROR: mosaic-ai-client 1.0.0 has requirement matplotlib==3.1.1, but you'll have matplotlib 3.6.0 which is incompatible.\u001b[0m\n",
      "\u001b[31mERROR: jupyterlab 3.2.4 has requirement jupyter-server~=1.4, but you'll have jupyter-server 2.7.3 which is incompatible.\u001b[0m\n",
      "\u001b[31mERROR: jsonschema-path 0.3.2 has requirement referencing<0.32.0,>=0.28.0, but you'll have referencing 0.33.0 which is incompatible.\u001b[0m\n",
      "\u001b[31mERROR: snowflake-connector-python 3.11.0 has requirement urllib3<2.0.0,>=1.21.1; python_version < \"3.10\", but you'll have urllib3 2.2.2 which is incompatible.\u001b[0m\n",
      "\u001b[31mERROR: snowflake-snowpark-python 1.18.0 has requirement cloudpickle!=2.1.0,!=2.2.0,<=2.2.1,>=1.6.0; python_version < \"3.11\", but you'll have cloudpickle 3.0.0 which is incompatible.\u001b[0m\n",
      "\u001b[31mERROR: botocore 1.34.131 has requirement urllib3<1.27,>=1.25.4; python_version < \"3.10\", but you'll have urllib3 2.2.2 which is incompatible.\u001b[0m\n",
      "Installing collected packages: urllib3, six, python-dateutil, wheel, setuptools, typing-extensions, pyyaml, cloudpickle, pycparser, cffi, tomlkit, packaging, sortedcontainers, platformdirs, pytz, certifi, idna, charset-normalizer, requests, cryptography, pyOpenSSL, filelock, pyjwt, asn1crypto, numpy, pandas, pyarrow, snowflake-connector-python, snowflake-snowpark-python, pydantic-core, annotated-types, pydantic, atpublic, snowflake-core, snowflake-legacy, absl-py, scipy, zipp, importlib-resources, sqlparse, multidict, yarl, frozenlist, attrs, async-timeout, aiosignal, aiohttp, fsspec, retrying, exceptiongroup, sniffio, anyio, pytimeparse, jmespath, botocore, aioitertools, wrapt, aiobotocore, s3fs, cachetools, xgboost, joblib, threadpoolctl, scikit-learn, snowflake-ml-python, snowflake\n",
      "Successfully installed absl-py-1.4.0 aiobotocore-2.13.1 aiohttp-3.9.5 aioitertools-0.11.0 aiosignal-1.3.1 annotated-types-0.7.0 anyio-3.7.1 asn1crypto-1.5.1 async-timeout-4.0.3 atpublic-4.1.0 attrs-23.2.0 botocore-1.34.131 cachetools-5.3.3 certifi-2024.6.2 cffi-1.16.0 charset-normalizer-3.3.2 cloudpickle-3.0.0 cryptography-42.0.8 exceptiongroup-1.2.1 filelock-3.15.4 frozenlist-1.4.1 fsspec-2023.12.2 idna-3.7 importlib-resources-6.4.0 jmespath-1.0.1 joblib-1.4.2 multidict-6.0.5 numpy-1.26.4 packaging-23.2 pandas-1.5.3 platformdirs-4.2.2 pyOpenSSL-24.1.0 pyarrow-16.1.0 pycparser-2.22 pydantic-2.7.4 pydantic-core-2.18.4 pyjwt-2.8.0 python-dateutil-2.9.0.post0 pytimeparse-1.1.8 pytz-2024.1 pyyaml-6.0.1 requests-2.32.3 retrying-1.3.4 s3fs-2023.12.2 scikit-learn-1.3.2 scipy-1.13.1 setuptools-70.1.1 six-1.16.0 sniffio-1.3.1 snowflake-0.8.0 snowflake-connector-python-3.11.0 snowflake-core-0.8.0 snowflake-legacy-0.10.0 snowflake-ml-python-1.4.0 snowflake-snowpark-python-1.18.0 sortedcontainers-2.4.0 sqlparse-0.5.0 threadpoolctl-3.5.0 tomlkit-0.12.5 typing-extensions-4.12.2 urllib3-2.2.2 wheel-0.43.0 wrapt-1.16.0 xgboost-1.7.6 yarl-1.9.4 zipp-3.19.2\n",
      "\u001b[33mWARNING: You are using pip version 19.3.1; however, version 24.1 is available.\n",
      "You should consider upgrading via the 'pip install --upgrade pip' command.\u001b[0m\n"
     ]
    }
   ],
   "source": [
    "!pip install snowflake[ml]==0.8.0"
   ]
  },
  {
   "cell_type": "code",
   "execution_count": 1,
   "id": "54c8fe30",
   "metadata": {},
   "outputs": [],
   "source": [
    "from snowflake.snowpark import Session\n",
    "from snowflake.ml.registry import Registry as model_registry\n",
    "import time"
   ]
  },
  {
   "cell_type": "code",
   "execution_count": 2,
   "id": "95efc2dc",
   "metadata": {},
   "outputs": [],
   "source": [
    "REGISTRY_DATABASE_NAME = \"MODEL_REGISTRY_SNOWSIGHT\"\n",
    "REGISTRY_SCHEMA_NAME = \"SNOWINSIGHT\""
   ]
  },
  {
   "cell_type": "code",
   "execution_count": 3,
   "id": "fd38b4c4",
   "metadata": {},
   "outputs": [],
   "source": [
    "import configparser\n",
    "def get_session():\n",
    "    parser = configparser.ConfigParser()\n",
    "    # Add the credential file name here\n",
    "    parser.read('/notebooks/notebooks/config.ini')\n",
    "\n",
    "    connection_params = dict(user=parser['Credentials']['user'], \n",
    "                         password=parser['Credentials']['password'], \n",
    "                         account=parser['Credentials']['account'], \n",
    "                         warehouse=parser['Credentials']['warehouse'], \n",
    "                         database=REGISTRY_DATABASE_NAME,\n",
    "                         schema=REGISTRY_SCHEMA_NAME, \n",
    "                         role=parser['Credentials']['role'])\n",
    "#     print(\"connection_params = \",  connection_params)\n",
    "\n",
    "\n",
    "    session = Session.builder.configs(connection_params).create()\n",
    "    return session"
   ]
  },
  {
   "cell_type": "code",
   "execution_count": 44,
   "id": "2319ac22",
   "metadata": {},
   "outputs": [],
   "source": [
    "session = get_session()\n",
    "# session.close()\n",
    "# session"
   ]
  },
  {
   "cell_type": "code",
   "execution_count": 67,
   "id": "7c401604",
   "metadata": {},
   "outputs": [],
   "source": [
    "def fetch_models():\n",
    "    session = get_session()\n",
    "    registry = model_registry(session=session, database_name=REGISTRY_DATABASE_NAME, schema_name=REGISTRY_SCHEMA_NAME )\n",
    "    df = registry.show_models()\n",
    "    return df\n",
    "\n",
    "def fetch_model(model_name):\n",
    "    session = get_session()\n",
    "    registry = model_registry(session=session, database_name=REGISTRY_DATABASE_NAME, schema_name=REGISTRY_SCHEMA_NAME )\n",
    "    df = registry.get_model(model_name)\n",
    "    return df\n",
    "\n",
    "def fetch_model_query(model_name):\n",
    "    session = get_session()\n",
    "#     registry = model_registry(session=session, database_name=REGISTRY_DATABASE_NAME, schema_name=REGISTRY_SCHEMA_NAME )\n",
    "#     df = registry.get_model(model_name)\n",
    "    df = session.sql(\"SHOW MODELS LIKE 'SAMPLE_MODEL_7' IN SCHEMA MODEL_REGISTRY_SNOWSIGHT.SNOWINSIGHT\")\n",
    "\n",
    "    return df"
   ]
  },
  {
   "cell_type": "code",
   "execution_count": 63,
   "id": "49192969",
   "metadata": {},
   "outputs": [
    {
     "name": "stdout",
     "output_type": "stream",
     "text": [
      "time taken = 0.5465891361236572\n"
     ]
    },
    {
     "data": {
      "text/html": [
       "<div>\n",
       "<style scoped>\n",
       "    .dataframe tbody tr th:only-of-type {\n",
       "        vertical-align: middle;\n",
       "    }\n",
       "\n",
       "    .dataframe tbody tr th {\n",
       "        vertical-align: top;\n",
       "    }\n",
       "\n",
       "    .dataframe thead th {\n",
       "        text-align: right;\n",
       "    }\n",
       "</style>\n",
       "<table border=\"1\" class=\"dataframe\">\n",
       "  <thead>\n",
       "    <tr style=\"text-align: right;\">\n",
       "      <th></th>\n",
       "      <th>created_on</th>\n",
       "      <th>name</th>\n",
       "      <th>database_name</th>\n",
       "      <th>schema_name</th>\n",
       "      <th>comment</th>\n",
       "      <th>owner</th>\n",
       "      <th>default_version_name</th>\n",
       "      <th>versions</th>\n",
       "    </tr>\n",
       "  </thead>\n",
       "  <tbody>\n",
       "    <tr>\n",
       "      <th>0</th>\n",
       "      <td>2024-06-04 03:21:29.166000-07:00</td>\n",
       "      <td>SAMPLE_MODEL</td>\n",
       "      <td>MODEL_REGISTRY_SNOWSIGHT</td>\n",
       "      <td>SNOWINSIGHT</td>\n",
       "      <td>None</td>\n",
       "      <td>PRAKHAR</td>\n",
       "      <td>RUN1</td>\n",
       "      <td>[\"RUN1\"]</td>\n",
       "    </tr>\n",
       "    <tr>\n",
       "      <th>1</th>\n",
       "      <td>2024-06-04 04:47:08-07:00</td>\n",
       "      <td>SAMPLE_MODEL_10</td>\n",
       "      <td>MODEL_REGISTRY_SNOWSIGHT</td>\n",
       "      <td>SNOWINSIGHT</td>\n",
       "      <td>None</td>\n",
       "      <td>PRAKHAR</td>\n",
       "      <td>RUN4</td>\n",
       "      <td>[\"RUN4\"]</td>\n",
       "    </tr>\n",
       "    <tr>\n",
       "      <th>2</th>\n",
       "      <td>2024-06-04 03:26:19.863000-07:00</td>\n",
       "      <td>SAMPLE_MODEL_6</td>\n",
       "      <td>MODEL_REGISTRY_SNOWSIGHT</td>\n",
       "      <td>SNOWINSIGHT</td>\n",
       "      <td>None</td>\n",
       "      <td>PRAKHAR</td>\n",
       "      <td>RUN1</td>\n",
       "      <td>[\"RUN1\",\"RUN2\"]</td>\n",
       "    </tr>\n",
       "    <tr>\n",
       "      <th>3</th>\n",
       "      <td>2024-06-04 03:45:33.469000-07:00</td>\n",
       "      <td>SAMPLE_MODEL_7</td>\n",
       "      <td>MODEL_REGISTRY_SNOWSIGHT</td>\n",
       "      <td>SNOWINSIGHT</td>\n",
       "      <td>None</td>\n",
       "      <td>PRAKHAR</td>\n",
       "      <td>RUN3</td>\n",
       "      <td>[\"RUN3\"]</td>\n",
       "    </tr>\n",
       "    <tr>\n",
       "      <th>4</th>\n",
       "      <td>2024-06-04 03:47:48.600000-07:00</td>\n",
       "      <td>SAMPLE_MODEL_8</td>\n",
       "      <td>MODEL_REGISTRY_SNOWSIGHT</td>\n",
       "      <td>SNOWINSIGHT</td>\n",
       "      <td>None</td>\n",
       "      <td>PRAKHAR</td>\n",
       "      <td>RUN3</td>\n",
       "      <td>[\"RUN3\",\"RUN4\"]</td>\n",
       "    </tr>\n",
       "    <tr>\n",
       "      <th>5</th>\n",
       "      <td>2024-06-04 03:51:57.010000-07:00</td>\n",
       "      <td>SAMPLE_MODEL_9</td>\n",
       "      <td>MODEL_REGISTRY_SNOWSIGHT</td>\n",
       "      <td>SNOWINSIGHT</td>\n",
       "      <td>None</td>\n",
       "      <td>PRAKHAR</td>\n",
       "      <td>RUN4</td>\n",
       "      <td>[\"RUN4\"]</td>\n",
       "    </tr>\n",
       "    <tr>\n",
       "      <th>6</th>\n",
       "      <td>2024-06-05 05:50:06.224000-07:00</td>\n",
       "      <td>SAMPLE_MODEL_TEST_121</td>\n",
       "      <td>MODEL_REGISTRY_SNOWSIGHT</td>\n",
       "      <td>SNOWINSIGHT</td>\n",
       "      <td>None</td>\n",
       "      <td>PRAKHAR</td>\n",
       "      <td>RUN1</td>\n",
       "      <td>[\"RUN1\"]</td>\n",
       "    </tr>\n",
       "    <tr>\n",
       "      <th>7</th>\n",
       "      <td>2024-05-30 03:54:17.224000-07:00</td>\n",
       "      <td>SAMPLE_SKLEARN_MODEL</td>\n",
       "      <td>MODEL_REGISTRY_SNOWSIGHT</td>\n",
       "      <td>SNOWINSIGHT</td>\n",
       "      <td>None</td>\n",
       "      <td>PRAKHAR</td>\n",
       "      <td>V1</td>\n",
       "      <td>[\"V1\"]</td>\n",
       "    </tr>\n",
       "    <tr>\n",
       "      <th>8</th>\n",
       "      <td>2024-05-31 02:58:30.562000-07:00</td>\n",
       "      <td>SAMPLE_SKLEARN_MODEL_2</td>\n",
       "      <td>MODEL_REGISTRY_SNOWSIGHT</td>\n",
       "      <td>SNOWINSIGHT</td>\n",
       "      <td>None</td>\n",
       "      <td>PRAKHAR</td>\n",
       "      <td>V1</td>\n",
       "      <td>[\"V1\"]</td>\n",
       "    </tr>\n",
       "    <tr>\n",
       "      <th>9</th>\n",
       "      <td>2024-05-31 03:59:03.745000-07:00</td>\n",
       "      <td>SAMPLE_SKLEARN_MODEL_3</td>\n",
       "      <td>MODEL_REGISTRY_SNOWSIGHT</td>\n",
       "      <td>SNOWINSIGHT</td>\n",
       "      <td>None</td>\n",
       "      <td>PRAKHAR</td>\n",
       "      <td>V1</td>\n",
       "      <td>[\"V1\"]</td>\n",
       "    </tr>\n",
       "    <tr>\n",
       "      <th>10</th>\n",
       "      <td>2024-06-02 22:54:16.932000-07:00</td>\n",
       "      <td>SAMPLE_SKLEARN_MODEL_4</td>\n",
       "      <td>MODEL_REGISTRY_SNOWSIGHT</td>\n",
       "      <td>SNOWINSIGHT</td>\n",
       "      <td>None</td>\n",
       "      <td>PRAKHAR</td>\n",
       "      <td>V1</td>\n",
       "      <td>[\"V1\"]</td>\n",
       "    </tr>\n",
       "    <tr>\n",
       "      <th>11</th>\n",
       "      <td>2024-06-03 06:22:18.501000-07:00</td>\n",
       "      <td>SAMPLE_SKLEARN_MODEL_5</td>\n",
       "      <td>MODEL_REGISTRY_SNOWSIGHT</td>\n",
       "      <td>SNOWINSIGHT</td>\n",
       "      <td>None</td>\n",
       "      <td>PRAKHAR</td>\n",
       "      <td>V1</td>\n",
       "      <td>[\"V1\"]</td>\n",
       "    </tr>\n",
       "    <tr>\n",
       "      <th>12</th>\n",
       "      <td>2024-06-19 01:16:58.121000-07:00</td>\n",
       "      <td>SAMPLE_SKLEARN_MODEL__12345</td>\n",
       "      <td>MODEL_REGISTRY_SNOWSIGHT</td>\n",
       "      <td>SNOWINSIGHT</td>\n",
       "      <td>None</td>\n",
       "      <td>PRAKHAR</td>\n",
       "      <td>V1</td>\n",
       "      <td>[\"V1\"]</td>\n",
       "    </tr>\n",
       "    <tr>\n",
       "      <th>13</th>\n",
       "      <td>2024-06-05 05:57:24.820000-07:00</td>\n",
       "      <td>TEST_MODEL_1</td>\n",
       "      <td>MODEL_REGISTRY_SNOWSIGHT</td>\n",
       "      <td>SNOWINSIGHT</td>\n",
       "      <td>None</td>\n",
       "      <td>PRAKHAR</td>\n",
       "      <td>V1</td>\n",
       "      <td>[\"V1\"]</td>\n",
       "    </tr>\n",
       "    <tr>\n",
       "      <th>14</th>\n",
       "      <td>2024-06-06 01:57:52.631000-07:00</td>\n",
       "      <td>TEST_MODEL_123</td>\n",
       "      <td>MODEL_REGISTRY_SNOWSIGHT</td>\n",
       "      <td>SNOWINSIGHT</td>\n",
       "      <td>None</td>\n",
       "      <td>PRAKHAR</td>\n",
       "      <td>V1</td>\n",
       "      <td>[\"V1\"]</td>\n",
       "    </tr>\n",
       "    <tr>\n",
       "      <th>15</th>\n",
       "      <td>2024-06-06 02:10:07.879000-07:00</td>\n",
       "      <td>TEST_MODEL_123_1</td>\n",
       "      <td>MODEL_REGISTRY_SNOWSIGHT</td>\n",
       "      <td>SNOWINSIGHT</td>\n",
       "      <td>None</td>\n",
       "      <td>PRAKHAR</td>\n",
       "      <td>V1</td>\n",
       "      <td>[\"V1\"]</td>\n",
       "    </tr>\n",
       "    <tr>\n",
       "      <th>16</th>\n",
       "      <td>2024-06-06 03:56:46.108000-07:00</td>\n",
       "      <td>TEST_MODEL_123_2</td>\n",
       "      <td>MODEL_REGISTRY_SNOWSIGHT</td>\n",
       "      <td>SNOWINSIGHT</td>\n",
       "      <td>None</td>\n",
       "      <td>PRAKHAR</td>\n",
       "      <td>V1</td>\n",
       "      <td>[\"V1\"]</td>\n",
       "    </tr>\n",
       "    <tr>\n",
       "      <th>17</th>\n",
       "      <td>2024-06-06 06:06:10.987000-07:00</td>\n",
       "      <td>TEST_MODEL_123_3</td>\n",
       "      <td>MODEL_REGISTRY_SNOWSIGHT</td>\n",
       "      <td>SNOWINSIGHT</td>\n",
       "      <td>None</td>\n",
       "      <td>PRAKHAR</td>\n",
       "      <td>V1</td>\n",
       "      <td>[\"V1\"]</td>\n",
       "    </tr>\n",
       "    <tr>\n",
       "      <th>18</th>\n",
       "      <td>2024-06-05 06:11:23.961000-07:00</td>\n",
       "      <td>TEST_MODEL_2</td>\n",
       "      <td>MODEL_REGISTRY_SNOWSIGHT</td>\n",
       "      <td>SNOWINSIGHT</td>\n",
       "      <td>None</td>\n",
       "      <td>PRAKHAR</td>\n",
       "      <td>V1</td>\n",
       "      <td>[\"V1\"]</td>\n",
       "    </tr>\n",
       "    <tr>\n",
       "      <th>19</th>\n",
       "      <td>2024-06-06 01:21:55.463000-07:00</td>\n",
       "      <td>TEST_MODEL_3</td>\n",
       "      <td>MODEL_REGISTRY_SNOWSIGHT</td>\n",
       "      <td>SNOWINSIGHT</td>\n",
       "      <td>None</td>\n",
       "      <td>PRAKHAR</td>\n",
       "      <td>V1</td>\n",
       "      <td>[\"V1\"]</td>\n",
       "    </tr>\n",
       "  </tbody>\n",
       "</table>\n",
       "</div>"
      ],
      "text/plain": [
       "                         created_on                         name  \\\n",
       "0  2024-06-04 03:21:29.166000-07:00                 SAMPLE_MODEL   \n",
       "1         2024-06-04 04:47:08-07:00              SAMPLE_MODEL_10   \n",
       "2  2024-06-04 03:26:19.863000-07:00               SAMPLE_MODEL_6   \n",
       "3  2024-06-04 03:45:33.469000-07:00               SAMPLE_MODEL_7   \n",
       "4  2024-06-04 03:47:48.600000-07:00               SAMPLE_MODEL_8   \n",
       "5  2024-06-04 03:51:57.010000-07:00               SAMPLE_MODEL_9   \n",
       "6  2024-06-05 05:50:06.224000-07:00        SAMPLE_MODEL_TEST_121   \n",
       "7  2024-05-30 03:54:17.224000-07:00         SAMPLE_SKLEARN_MODEL   \n",
       "8  2024-05-31 02:58:30.562000-07:00       SAMPLE_SKLEARN_MODEL_2   \n",
       "9  2024-05-31 03:59:03.745000-07:00       SAMPLE_SKLEARN_MODEL_3   \n",
       "10 2024-06-02 22:54:16.932000-07:00       SAMPLE_SKLEARN_MODEL_4   \n",
       "11 2024-06-03 06:22:18.501000-07:00       SAMPLE_SKLEARN_MODEL_5   \n",
       "12 2024-06-19 01:16:58.121000-07:00  SAMPLE_SKLEARN_MODEL__12345   \n",
       "13 2024-06-05 05:57:24.820000-07:00                 TEST_MODEL_1   \n",
       "14 2024-06-06 01:57:52.631000-07:00               TEST_MODEL_123   \n",
       "15 2024-06-06 02:10:07.879000-07:00             TEST_MODEL_123_1   \n",
       "16 2024-06-06 03:56:46.108000-07:00             TEST_MODEL_123_2   \n",
       "17 2024-06-06 06:06:10.987000-07:00             TEST_MODEL_123_3   \n",
       "18 2024-06-05 06:11:23.961000-07:00                 TEST_MODEL_2   \n",
       "19 2024-06-06 01:21:55.463000-07:00                 TEST_MODEL_3   \n",
       "\n",
       "               database_name  schema_name comment    owner  \\\n",
       "0   MODEL_REGISTRY_SNOWSIGHT  SNOWINSIGHT    None  PRAKHAR   \n",
       "1   MODEL_REGISTRY_SNOWSIGHT  SNOWINSIGHT    None  PRAKHAR   \n",
       "2   MODEL_REGISTRY_SNOWSIGHT  SNOWINSIGHT    None  PRAKHAR   \n",
       "3   MODEL_REGISTRY_SNOWSIGHT  SNOWINSIGHT    None  PRAKHAR   \n",
       "4   MODEL_REGISTRY_SNOWSIGHT  SNOWINSIGHT    None  PRAKHAR   \n",
       "5   MODEL_REGISTRY_SNOWSIGHT  SNOWINSIGHT    None  PRAKHAR   \n",
       "6   MODEL_REGISTRY_SNOWSIGHT  SNOWINSIGHT    None  PRAKHAR   \n",
       "7   MODEL_REGISTRY_SNOWSIGHT  SNOWINSIGHT    None  PRAKHAR   \n",
       "8   MODEL_REGISTRY_SNOWSIGHT  SNOWINSIGHT    None  PRAKHAR   \n",
       "9   MODEL_REGISTRY_SNOWSIGHT  SNOWINSIGHT    None  PRAKHAR   \n",
       "10  MODEL_REGISTRY_SNOWSIGHT  SNOWINSIGHT    None  PRAKHAR   \n",
       "11  MODEL_REGISTRY_SNOWSIGHT  SNOWINSIGHT    None  PRAKHAR   \n",
       "12  MODEL_REGISTRY_SNOWSIGHT  SNOWINSIGHT    None  PRAKHAR   \n",
       "13  MODEL_REGISTRY_SNOWSIGHT  SNOWINSIGHT    None  PRAKHAR   \n",
       "14  MODEL_REGISTRY_SNOWSIGHT  SNOWINSIGHT    None  PRAKHAR   \n",
       "15  MODEL_REGISTRY_SNOWSIGHT  SNOWINSIGHT    None  PRAKHAR   \n",
       "16  MODEL_REGISTRY_SNOWSIGHT  SNOWINSIGHT    None  PRAKHAR   \n",
       "17  MODEL_REGISTRY_SNOWSIGHT  SNOWINSIGHT    None  PRAKHAR   \n",
       "18  MODEL_REGISTRY_SNOWSIGHT  SNOWINSIGHT    None  PRAKHAR   \n",
       "19  MODEL_REGISTRY_SNOWSIGHT  SNOWINSIGHT    None  PRAKHAR   \n",
       "\n",
       "   default_version_name         versions  \n",
       "0                  RUN1         [\"RUN1\"]  \n",
       "1                  RUN4         [\"RUN4\"]  \n",
       "2                  RUN1  [\"RUN1\",\"RUN2\"]  \n",
       "3                  RUN3         [\"RUN3\"]  \n",
       "4                  RUN3  [\"RUN3\",\"RUN4\"]  \n",
       "5                  RUN4         [\"RUN4\"]  \n",
       "6                  RUN1         [\"RUN1\"]  \n",
       "7                    V1           [\"V1\"]  \n",
       "8                    V1           [\"V1\"]  \n",
       "9                    V1           [\"V1\"]  \n",
       "10                   V1           [\"V1\"]  \n",
       "11                   V1           [\"V1\"]  \n",
       "12                   V1           [\"V1\"]  \n",
       "13                   V1           [\"V1\"]  \n",
       "14                   V1           [\"V1\"]  \n",
       "15                   V1           [\"V1\"]  \n",
       "16                   V1           [\"V1\"]  \n",
       "17                   V1           [\"V1\"]  \n",
       "18                   V1           [\"V1\"]  \n",
       "19                   V1           [\"V1\"]  "
      ]
     },
     "execution_count": 63,
     "metadata": {},
     "output_type": "execute_result"
    }
   ],
   "source": [
    "start_time = time.time()\n",
    "df =fetch_models()\n",
    "end_time = time.time()\n",
    "print(\"time taken =\", end_time - start_time)\n",
    "df"
   ]
  },
  {
   "cell_type": "code",
   "execution_count": 64,
   "id": "cad12f3b",
   "metadata": {},
   "outputs": [
    {
     "name": "stdout",
     "output_type": "stream",
     "text": [
      "time taken = 0.6115124225616455\n"
     ]
    },
    {
     "data": {
      "text/plain": [
       "<snowflake.ml.model._client.model.model_impl.Model at 0x7cba2d6f3eb0>"
      ]
     },
     "execution_count": 64,
     "metadata": {},
     "output_type": "execute_result"
    }
   ],
   "source": [
    "start_time = time.time()\n",
    "df =fetch_model(\"sample_model_9\")\n",
    "end_time = time.time()\n",
    "print(\"time taken =\", end_time - start_time)\n",
    "df"
   ]
  },
  {
   "cell_type": "code",
   "execution_count": 68,
   "id": "3e0a8c4d",
   "metadata": {},
   "outputs": [
    {
     "name": "stdout",
     "output_type": "stream",
     "text": [
      "time taken = 0.4207148551940918\n",
      "------------------------------------------------------------------------------------------------------------------------------------------------------------\n",
      "|\"created_on\"                      |\"name\"          |\"database_name\"           |\"schema_name\"  |\"comment\"  |\"owner\"  |\"default_version_name\"  |\"versions\"  |\n",
      "------------------------------------------------------------------------------------------------------------------------------------------------------------\n",
      "|2024-06-04 03:45:33.469000-07:00  |SAMPLE_MODEL_7  |MODEL_REGISTRY_SNOWSIGHT  |SNOWINSIGHT    |NULL       |PRAKHAR  |RUN3                    |[\"RUN3\"]    |\n",
      "------------------------------------------------------------------------------------------------------------------------------------------------------------\n",
      "\n"
     ]
    }
   ],
   "source": [
    "start_time = time.time()\n",
    "df = fetch_model_query(\"sample_model_9\")\n",
    "end_time = time.time()\n",
    "print(\"time taken =\", end_time - start_time)\n",
    "df.show()"
   ]
  },
  {
   "cell_type": "code",
   "execution_count": null,
   "id": "be90038e",
   "metadata": {},
   "outputs": [],
   "source": [
    "session.sql(\"LIST STAGES\")"
   ]
  },
  {
   "cell_type": "code",
   "execution_count": null,
   "id": "9ffad949",
   "metadata": {},
   "outputs": [],
   "source": [
    "# model_registry.create_model_registry(session=session, database_name=REGISTRY_DATABASE_NAME, schema_name=REGISTRY_SCHEMA_NAME)"
   ]
  },
  {
   "cell_type": "code",
   "execution_count": 8,
   "id": "721b2a7e",
   "metadata": {},
   "outputs": [],
   "source": [
    "registry = model_registry(session=session, database_name=REGISTRY_DATABASE_NAME, schema_name=REGISTRY_SCHEMA_NAME )"
   ]
  },
  {
   "cell_type": "code",
   "execution_count": null,
   "id": "bf6835e7",
   "metadata": {},
   "outputs": [],
   "source": [
    "# registry = model_registry.ModelRegistry(session=session, database_name=REGISTRY_DATABASE_NAME, schema_name=REGISTRY_SCHEMA_NAME)"
   ]
  },
  {
   "cell_type": "code",
   "execution_count": 9,
   "id": "611e8f77",
   "metadata": {},
   "outputs": [
    {
     "data": {
      "text/html": [
       "<div>\n",
       "<style scoped>\n",
       "    .dataframe tbody tr th:only-of-type {\n",
       "        vertical-align: middle;\n",
       "    }\n",
       "\n",
       "    .dataframe tbody tr th {\n",
       "        vertical-align: top;\n",
       "    }\n",
       "\n",
       "    .dataframe thead th {\n",
       "        text-align: right;\n",
       "    }\n",
       "</style>\n",
       "<table border=\"1\" class=\"dataframe\">\n",
       "  <thead>\n",
       "    <tr style=\"text-align: right;\">\n",
       "      <th></th>\n",
       "      <th>created_on</th>\n",
       "      <th>name</th>\n",
       "      <th>database_name</th>\n",
       "      <th>schema_name</th>\n",
       "      <th>comment</th>\n",
       "      <th>owner</th>\n",
       "      <th>default_version_name</th>\n",
       "      <th>versions</th>\n",
       "    </tr>\n",
       "  </thead>\n",
       "  <tbody>\n",
       "    <tr>\n",
       "      <th>0</th>\n",
       "      <td>2024-06-04 03:21:29.166000-07:00</td>\n",
       "      <td>SAMPLE_MODEL</td>\n",
       "      <td>MODEL_REGISTRY_SNOWSIGHT</td>\n",
       "      <td>SNOWINSIGHT</td>\n",
       "      <td>None</td>\n",
       "      <td>PRAKHAR</td>\n",
       "      <td>RUN1</td>\n",
       "      <td>[\"RUN1\"]</td>\n",
       "    </tr>\n",
       "    <tr>\n",
       "      <th>1</th>\n",
       "      <td>2024-06-04 04:47:08-07:00</td>\n",
       "      <td>SAMPLE_MODEL_10</td>\n",
       "      <td>MODEL_REGISTRY_SNOWSIGHT</td>\n",
       "      <td>SNOWINSIGHT</td>\n",
       "      <td>None</td>\n",
       "      <td>PRAKHAR</td>\n",
       "      <td>RUN4</td>\n",
       "      <td>[\"RUN4\"]</td>\n",
       "    </tr>\n",
       "    <tr>\n",
       "      <th>2</th>\n",
       "      <td>2024-06-04 03:26:19.863000-07:00</td>\n",
       "      <td>SAMPLE_MODEL_6</td>\n",
       "      <td>MODEL_REGISTRY_SNOWSIGHT</td>\n",
       "      <td>SNOWINSIGHT</td>\n",
       "      <td>None</td>\n",
       "      <td>PRAKHAR</td>\n",
       "      <td>RUN1</td>\n",
       "      <td>[\"RUN1\",\"RUN2\"]</td>\n",
       "    </tr>\n",
       "    <tr>\n",
       "      <th>3</th>\n",
       "      <td>2024-06-04 03:45:33.469000-07:00</td>\n",
       "      <td>SAMPLE_MODEL_7</td>\n",
       "      <td>MODEL_REGISTRY_SNOWSIGHT</td>\n",
       "      <td>SNOWINSIGHT</td>\n",
       "      <td>None</td>\n",
       "      <td>PRAKHAR</td>\n",
       "      <td>RUN3</td>\n",
       "      <td>[\"RUN3\"]</td>\n",
       "    </tr>\n",
       "    <tr>\n",
       "      <th>4</th>\n",
       "      <td>2024-06-04 03:47:48.600000-07:00</td>\n",
       "      <td>SAMPLE_MODEL_8</td>\n",
       "      <td>MODEL_REGISTRY_SNOWSIGHT</td>\n",
       "      <td>SNOWINSIGHT</td>\n",
       "      <td>None</td>\n",
       "      <td>PRAKHAR</td>\n",
       "      <td>RUN3</td>\n",
       "      <td>[\"RUN3\",\"RUN4\"]</td>\n",
       "    </tr>\n",
       "    <tr>\n",
       "      <th>5</th>\n",
       "      <td>2024-06-04 03:51:57.010000-07:00</td>\n",
       "      <td>SAMPLE_MODEL_9</td>\n",
       "      <td>MODEL_REGISTRY_SNOWSIGHT</td>\n",
       "      <td>SNOWINSIGHT</td>\n",
       "      <td>None</td>\n",
       "      <td>PRAKHAR</td>\n",
       "      <td>RUN4</td>\n",
       "      <td>[\"RUN4\"]</td>\n",
       "    </tr>\n",
       "    <tr>\n",
       "      <th>6</th>\n",
       "      <td>2024-06-05 05:50:06.224000-07:00</td>\n",
       "      <td>SAMPLE_MODEL_TEST_121</td>\n",
       "      <td>MODEL_REGISTRY_SNOWSIGHT</td>\n",
       "      <td>SNOWINSIGHT</td>\n",
       "      <td>None</td>\n",
       "      <td>PRAKHAR</td>\n",
       "      <td>RUN1</td>\n",
       "      <td>[\"RUN1\"]</td>\n",
       "    </tr>\n",
       "    <tr>\n",
       "      <th>7</th>\n",
       "      <td>2024-05-30 03:54:17.224000-07:00</td>\n",
       "      <td>SAMPLE_SKLEARN_MODEL</td>\n",
       "      <td>MODEL_REGISTRY_SNOWSIGHT</td>\n",
       "      <td>SNOWINSIGHT</td>\n",
       "      <td>None</td>\n",
       "      <td>PRAKHAR</td>\n",
       "      <td>V1</td>\n",
       "      <td>[\"V1\"]</td>\n",
       "    </tr>\n",
       "    <tr>\n",
       "      <th>8</th>\n",
       "      <td>2024-05-31 02:58:30.562000-07:00</td>\n",
       "      <td>SAMPLE_SKLEARN_MODEL_2</td>\n",
       "      <td>MODEL_REGISTRY_SNOWSIGHT</td>\n",
       "      <td>SNOWINSIGHT</td>\n",
       "      <td>None</td>\n",
       "      <td>PRAKHAR</td>\n",
       "      <td>V1</td>\n",
       "      <td>[\"V1\"]</td>\n",
       "    </tr>\n",
       "    <tr>\n",
       "      <th>9</th>\n",
       "      <td>2024-05-31 03:59:03.745000-07:00</td>\n",
       "      <td>SAMPLE_SKLEARN_MODEL_3</td>\n",
       "      <td>MODEL_REGISTRY_SNOWSIGHT</td>\n",
       "      <td>SNOWINSIGHT</td>\n",
       "      <td>None</td>\n",
       "      <td>PRAKHAR</td>\n",
       "      <td>V1</td>\n",
       "      <td>[\"V1\"]</td>\n",
       "    </tr>\n",
       "    <tr>\n",
       "      <th>10</th>\n",
       "      <td>2024-06-02 22:54:16.932000-07:00</td>\n",
       "      <td>SAMPLE_SKLEARN_MODEL_4</td>\n",
       "      <td>MODEL_REGISTRY_SNOWSIGHT</td>\n",
       "      <td>SNOWINSIGHT</td>\n",
       "      <td>None</td>\n",
       "      <td>PRAKHAR</td>\n",
       "      <td>V1</td>\n",
       "      <td>[\"V1\"]</td>\n",
       "    </tr>\n",
       "    <tr>\n",
       "      <th>11</th>\n",
       "      <td>2024-06-03 06:22:18.501000-07:00</td>\n",
       "      <td>SAMPLE_SKLEARN_MODEL_5</td>\n",
       "      <td>MODEL_REGISTRY_SNOWSIGHT</td>\n",
       "      <td>SNOWINSIGHT</td>\n",
       "      <td>None</td>\n",
       "      <td>PRAKHAR</td>\n",
       "      <td>V1</td>\n",
       "      <td>[\"V1\"]</td>\n",
       "    </tr>\n",
       "    <tr>\n",
       "      <th>12</th>\n",
       "      <td>2024-06-19 01:16:58.121000-07:00</td>\n",
       "      <td>SAMPLE_SKLEARN_MODEL__12345</td>\n",
       "      <td>MODEL_REGISTRY_SNOWSIGHT</td>\n",
       "      <td>SNOWINSIGHT</td>\n",
       "      <td>None</td>\n",
       "      <td>PRAKHAR</td>\n",
       "      <td>V1</td>\n",
       "      <td>[\"V1\"]</td>\n",
       "    </tr>\n",
       "    <tr>\n",
       "      <th>13</th>\n",
       "      <td>2024-06-05 05:57:24.820000-07:00</td>\n",
       "      <td>TEST_MODEL_1</td>\n",
       "      <td>MODEL_REGISTRY_SNOWSIGHT</td>\n",
       "      <td>SNOWINSIGHT</td>\n",
       "      <td>None</td>\n",
       "      <td>PRAKHAR</td>\n",
       "      <td>V1</td>\n",
       "      <td>[\"V1\"]</td>\n",
       "    </tr>\n",
       "    <tr>\n",
       "      <th>14</th>\n",
       "      <td>2024-06-06 01:57:52.631000-07:00</td>\n",
       "      <td>TEST_MODEL_123</td>\n",
       "      <td>MODEL_REGISTRY_SNOWSIGHT</td>\n",
       "      <td>SNOWINSIGHT</td>\n",
       "      <td>None</td>\n",
       "      <td>PRAKHAR</td>\n",
       "      <td>V1</td>\n",
       "      <td>[\"V1\"]</td>\n",
       "    </tr>\n",
       "    <tr>\n",
       "      <th>15</th>\n",
       "      <td>2024-06-06 02:10:07.879000-07:00</td>\n",
       "      <td>TEST_MODEL_123_1</td>\n",
       "      <td>MODEL_REGISTRY_SNOWSIGHT</td>\n",
       "      <td>SNOWINSIGHT</td>\n",
       "      <td>None</td>\n",
       "      <td>PRAKHAR</td>\n",
       "      <td>V1</td>\n",
       "      <td>[\"V1\"]</td>\n",
       "    </tr>\n",
       "    <tr>\n",
       "      <th>16</th>\n",
       "      <td>2024-06-06 03:56:46.108000-07:00</td>\n",
       "      <td>TEST_MODEL_123_2</td>\n",
       "      <td>MODEL_REGISTRY_SNOWSIGHT</td>\n",
       "      <td>SNOWINSIGHT</td>\n",
       "      <td>None</td>\n",
       "      <td>PRAKHAR</td>\n",
       "      <td>V1</td>\n",
       "      <td>[\"V1\"]</td>\n",
       "    </tr>\n",
       "    <tr>\n",
       "      <th>17</th>\n",
       "      <td>2024-06-06 06:06:10.987000-07:00</td>\n",
       "      <td>TEST_MODEL_123_3</td>\n",
       "      <td>MODEL_REGISTRY_SNOWSIGHT</td>\n",
       "      <td>SNOWINSIGHT</td>\n",
       "      <td>None</td>\n",
       "      <td>PRAKHAR</td>\n",
       "      <td>V1</td>\n",
       "      <td>[\"V1\"]</td>\n",
       "    </tr>\n",
       "    <tr>\n",
       "      <th>18</th>\n",
       "      <td>2024-06-05 06:11:23.961000-07:00</td>\n",
       "      <td>TEST_MODEL_2</td>\n",
       "      <td>MODEL_REGISTRY_SNOWSIGHT</td>\n",
       "      <td>SNOWINSIGHT</td>\n",
       "      <td>None</td>\n",
       "      <td>PRAKHAR</td>\n",
       "      <td>V1</td>\n",
       "      <td>[\"V1\"]</td>\n",
       "    </tr>\n",
       "    <tr>\n",
       "      <th>19</th>\n",
       "      <td>2024-06-06 01:21:55.463000-07:00</td>\n",
       "      <td>TEST_MODEL_3</td>\n",
       "      <td>MODEL_REGISTRY_SNOWSIGHT</td>\n",
       "      <td>SNOWINSIGHT</td>\n",
       "      <td>None</td>\n",
       "      <td>PRAKHAR</td>\n",
       "      <td>V1</td>\n",
       "      <td>[\"V1\"]</td>\n",
       "    </tr>\n",
       "  </tbody>\n",
       "</table>\n",
       "</div>"
      ],
      "text/plain": [
       "                         created_on                         name  \\\n",
       "0  2024-06-04 03:21:29.166000-07:00                 SAMPLE_MODEL   \n",
       "1         2024-06-04 04:47:08-07:00              SAMPLE_MODEL_10   \n",
       "2  2024-06-04 03:26:19.863000-07:00               SAMPLE_MODEL_6   \n",
       "3  2024-06-04 03:45:33.469000-07:00               SAMPLE_MODEL_7   \n",
       "4  2024-06-04 03:47:48.600000-07:00               SAMPLE_MODEL_8   \n",
       "5  2024-06-04 03:51:57.010000-07:00               SAMPLE_MODEL_9   \n",
       "6  2024-06-05 05:50:06.224000-07:00        SAMPLE_MODEL_TEST_121   \n",
       "7  2024-05-30 03:54:17.224000-07:00         SAMPLE_SKLEARN_MODEL   \n",
       "8  2024-05-31 02:58:30.562000-07:00       SAMPLE_SKLEARN_MODEL_2   \n",
       "9  2024-05-31 03:59:03.745000-07:00       SAMPLE_SKLEARN_MODEL_3   \n",
       "10 2024-06-02 22:54:16.932000-07:00       SAMPLE_SKLEARN_MODEL_4   \n",
       "11 2024-06-03 06:22:18.501000-07:00       SAMPLE_SKLEARN_MODEL_5   \n",
       "12 2024-06-19 01:16:58.121000-07:00  SAMPLE_SKLEARN_MODEL__12345   \n",
       "13 2024-06-05 05:57:24.820000-07:00                 TEST_MODEL_1   \n",
       "14 2024-06-06 01:57:52.631000-07:00               TEST_MODEL_123   \n",
       "15 2024-06-06 02:10:07.879000-07:00             TEST_MODEL_123_1   \n",
       "16 2024-06-06 03:56:46.108000-07:00             TEST_MODEL_123_2   \n",
       "17 2024-06-06 06:06:10.987000-07:00             TEST_MODEL_123_3   \n",
       "18 2024-06-05 06:11:23.961000-07:00                 TEST_MODEL_2   \n",
       "19 2024-06-06 01:21:55.463000-07:00                 TEST_MODEL_3   \n",
       "\n",
       "               database_name  schema_name comment    owner  \\\n",
       "0   MODEL_REGISTRY_SNOWSIGHT  SNOWINSIGHT    None  PRAKHAR   \n",
       "1   MODEL_REGISTRY_SNOWSIGHT  SNOWINSIGHT    None  PRAKHAR   \n",
       "2   MODEL_REGISTRY_SNOWSIGHT  SNOWINSIGHT    None  PRAKHAR   \n",
       "3   MODEL_REGISTRY_SNOWSIGHT  SNOWINSIGHT    None  PRAKHAR   \n",
       "4   MODEL_REGISTRY_SNOWSIGHT  SNOWINSIGHT    None  PRAKHAR   \n",
       "5   MODEL_REGISTRY_SNOWSIGHT  SNOWINSIGHT    None  PRAKHAR   \n",
       "6   MODEL_REGISTRY_SNOWSIGHT  SNOWINSIGHT    None  PRAKHAR   \n",
       "7   MODEL_REGISTRY_SNOWSIGHT  SNOWINSIGHT    None  PRAKHAR   \n",
       "8   MODEL_REGISTRY_SNOWSIGHT  SNOWINSIGHT    None  PRAKHAR   \n",
       "9   MODEL_REGISTRY_SNOWSIGHT  SNOWINSIGHT    None  PRAKHAR   \n",
       "10  MODEL_REGISTRY_SNOWSIGHT  SNOWINSIGHT    None  PRAKHAR   \n",
       "11  MODEL_REGISTRY_SNOWSIGHT  SNOWINSIGHT    None  PRAKHAR   \n",
       "12  MODEL_REGISTRY_SNOWSIGHT  SNOWINSIGHT    None  PRAKHAR   \n",
       "13  MODEL_REGISTRY_SNOWSIGHT  SNOWINSIGHT    None  PRAKHAR   \n",
       "14  MODEL_REGISTRY_SNOWSIGHT  SNOWINSIGHT    None  PRAKHAR   \n",
       "15  MODEL_REGISTRY_SNOWSIGHT  SNOWINSIGHT    None  PRAKHAR   \n",
       "16  MODEL_REGISTRY_SNOWSIGHT  SNOWINSIGHT    None  PRAKHAR   \n",
       "17  MODEL_REGISTRY_SNOWSIGHT  SNOWINSIGHT    None  PRAKHAR   \n",
       "18  MODEL_REGISTRY_SNOWSIGHT  SNOWINSIGHT    None  PRAKHAR   \n",
       "19  MODEL_REGISTRY_SNOWSIGHT  SNOWINSIGHT    None  PRAKHAR   \n",
       "\n",
       "   default_version_name         versions  \n",
       "0                  RUN1         [\"RUN1\"]  \n",
       "1                  RUN4         [\"RUN4\"]  \n",
       "2                  RUN1  [\"RUN1\",\"RUN2\"]  \n",
       "3                  RUN3         [\"RUN3\"]  \n",
       "4                  RUN3  [\"RUN3\",\"RUN4\"]  \n",
       "5                  RUN4         [\"RUN4\"]  \n",
       "6                  RUN1         [\"RUN1\"]  \n",
       "7                    V1           [\"V1\"]  \n",
       "8                    V1           [\"V1\"]  \n",
       "9                    V1           [\"V1\"]  \n",
       "10                   V1           [\"V1\"]  \n",
       "11                   V1           [\"V1\"]  \n",
       "12                   V1           [\"V1\"]  \n",
       "13                   V1           [\"V1\"]  \n",
       "14                   V1           [\"V1\"]  \n",
       "15                   V1           [\"V1\"]  \n",
       "16                   V1           [\"V1\"]  \n",
       "17                   V1           [\"V1\"]  \n",
       "18                   V1           [\"V1\"]  \n",
       "19                   V1           [\"V1\"]  "
      ]
     },
     "execution_count": 9,
     "metadata": {},
     "output_type": "execute_result"
    }
   ],
   "source": [
    "df = registry.show_models()\n",
    "df\n",
    "# type(df)"
   ]
  },
  {
   "cell_type": "markdown",
   "id": "63e2d25d",
   "metadata": {},
   "source": [
    "# Get model list from snowpark registry"
   ]
  },
  {
   "cell_type": "code",
   "execution_count": null,
   "id": "33a32df8",
   "metadata": {},
   "outputs": [],
   "source": [
    "model_list = registry.models()\n",
    "model_list"
   ]
  },
  {
   "cell_type": "markdown",
   "id": "adca9b9a",
   "metadata": {},
   "source": [
    "# Get model details from registry"
   ]
  },
  {
   "cell_type": "code",
   "execution_count": null,
   "id": "fcb27a3e",
   "metadata": {},
   "outputs": [],
   "source": [
    "# m =registry.get_model(\"sample_sklearn_model\")\n",
    "m =registry.get_model(\"sample_model_9\")\n",
    "\n",
    "m"
   ]
  },
  {
   "cell_type": "markdown",
   "id": "b4496f60",
   "metadata": {},
   "source": [
    "# Get model versions"
   ]
  },
  {
   "cell_type": "code",
   "execution_count": null,
   "id": "d61e9309",
   "metadata": {},
   "outputs": [],
   "source": [
    "df_version = m.show_versions()\n",
    "df_version"
   ]
  },
  {
   "cell_type": "markdown",
   "id": "3acf87c3",
   "metadata": {},
   "source": [
    "# Set default model version"
   ]
  },
  {
   "cell_type": "code",
   "execution_count": null,
   "id": "5fe4bc00",
   "metadata": {},
   "outputs": [],
   "source": [
    "# default_version = m.default\n",
    "m.default = \"V1\""
   ]
  },
  {
   "cell_type": "markdown",
   "id": "b863c652",
   "metadata": {},
   "source": [
    "# Get default model version details from model-registry"
   ]
  },
  {
   "cell_type": "code",
   "execution_count": null,
   "id": "c053fb93",
   "metadata": {},
   "outputs": [],
   "source": [
    "mv = m.default\n",
    "mv"
   ]
  },
  {
   "cell_type": "code",
   "execution_count": null,
   "id": "5d4b10aa",
   "metadata": {},
   "outputs": [],
   "source": [
    "x"
   ]
  },
  {
   "cell_type": "code",
   "execution_count": null,
   "id": "c8a006d3",
   "metadata": {},
   "outputs": [],
   "source": [
    "#Load default vesion as python object\n",
    "# clf = mv.load()"
   ]
  },
  {
   "cell_type": "markdown",
   "id": "0cb1e616",
   "metadata": {},
   "source": [
    "# Run prediction on scikit-learn model"
   ]
  },
  {
   "cell_type": "code",
   "execution_count": null,
   "id": "58d47a36",
   "metadata": {},
   "outputs": [],
   "source": [
    "import numpy as np\n",
    "import pandas as pd\n",
    "data_list = [[ 25, 185,  88,  78,  65,  81,  77,  75,  81,  63,  37,  26,   9, 10,  79,  82]]\n",
    "data_array = np.asarray(data_list)\n",
    "print(\"data_array =\", data_array)\n",
    "df = pd.DataFrame(data_list)"
   ]
  },
  {
   "cell_type": "code",
   "execution_count": null,
   "id": "38d0a468",
   "metadata": {},
   "outputs": [],
   "source": [
    "\n",
    "\n",
    "# remote_prediction = mv.run(data_array, function_name=\"predict\")\n",
    "# remote_prediction = mv.run(X_train.head(1), function_name=\"predict\")\n",
    "remote_prediction = mv.run(df, function_name=\"predict\")\n"
   ]
  },
  {
   "cell_type": "code",
   "execution_count": null,
   "id": "4b4cbe99",
   "metadata": {},
   "outputs": [],
   "source": [
    "# import cloudpickle\n",
    "\n",
    "# model_obj = cloudpickle.load(open(\"/notebooks/notebooks/ml_model\", \"rb\"))\n",
    "# model_obj\n",
    "output =remote_prediction.to_dict()   # assuming test_features is Snowpark DataFrame\n",
    "output"
   ]
  },
  {
   "cell_type": "code",
   "execution_count": null,
   "id": "f5f8e68a",
   "metadata": {},
   "outputs": [],
   "source": [
    "type(X_train)"
   ]
  },
  {
   "cell_type": "code",
   "execution_count": null,
   "id": "ab2fe843",
   "metadata": {},
   "outputs": [],
   "source": [
    "# x_train = cloudpickle.load(open(\"/notebooks/notebooks/x_train\", \"rb\"))\n",
    "# x_train\n",
    "# type(x_train)"
   ]
  },
  {
   "cell_type": "code",
   "execution_count": null,
   "id": "f61facf7",
   "metadata": {},
   "outputs": [],
   "source": []
  },
  {
   "cell_type": "markdown",
   "id": "9c700bc4",
   "metadata": {},
   "source": [
    "# Deploy model with custom class"
   ]
  },
  {
   "cell_type": "code",
   "execution_count": null,
   "id": "0b194ae9",
   "metadata": {},
   "outputs": [],
   "source": [
    "from snowflake.ml.model import custom_model"
   ]
  },
  {
   "cell_type": "code",
   "execution_count": null,
   "id": "0ff7455a",
   "metadata": {},
   "outputs": [],
   "source": [
    "class ExamplePipelineModel(custom_model.CustomModel):\n",
    "#     def __init__(self, context: ModelContext) -> None:\n",
    "#         super().__init__(context)\n",
    "#         v = int(open(context.path('config')).read())\n",
    "#         self.bias = json.loads(v)['bias']\n",
    "\n",
    "    @custom_model.inference_api\n",
    "    def run(self, data_list: list) -> pd.DataFrame:\n",
    "#         features = self.context.model_ref('feature_preproc').transform(input)\n",
    "#         model_output = self.context.model_ref('m2').predict(\n",
    "#             self.context.model_ref('m1').predict(features)\n",
    "#         )\n",
    "#         return pd.DataFrame({\n",
    "#             'output': model_output + self.bias})\n",
    "        data_array = np.asarray(data_list)\n",
    "        try:\n",
    "            prediction = model.predict(data_array)\n",
    "        except:\n",
    "            prediction = model.predict(data_array.reshape(1, -1))\n",
    "        return prediction.tolist()"
   ]
  },
  {
   "cell_type": "code",
   "execution_count": null,
   "id": "e211952c",
   "metadata": {},
   "outputs": [],
   "source": [
    "!pip freeze | grep cloud"
   ]
  },
  {
   "cell_type": "markdown",
   "id": "e9902a57",
   "metadata": {},
   "source": [
    "# Train & register model"
   ]
  },
  {
   "cell_type": "code",
   "execution_count": null,
   "id": "e27b053e",
   "metadata": {},
   "outputs": [],
   "source": [
    "import numpy as np\n",
    "import pandas as pd\n",
    "\n",
    "from sklearn.ensemble import GradientBoostingRegressor, GradientBoostingClassifier\n",
    "from sklearn.model_selection import train_test_split\n",
    "from sklearn.model_selection import RandomizedSearchCV"
   ]
  },
  {
   "cell_type": "code",
   "execution_count": null,
   "id": "32311ca6",
   "metadata": {},
   "outputs": [],
   "source": [
    "# Load the data\n",
    "data = pd.read_csv(\"/data/fifa.csv\")\n",
    "data.head(10)"
   ]
  },
  {
   "cell_type": "code",
   "execution_count": null,
   "id": "c6fb05b7",
   "metadata": {},
   "outputs": [],
   "source": [
    "type(y_train)"
   ]
  },
  {
   "cell_type": "code",
   "execution_count": null,
   "id": "bb4e700a",
   "metadata": {},
   "outputs": [],
   "source": [
    "X = data[['age','height_cm','weight_kg','skill_dribbling','attacking_crossing','attacking_finishing','movement_acceleration','movement_sprint_speed','power_shot_power','mentality_aggression','defending_marking','defending_standing_tackle','goalkeeping_diving','goalkeeping_handling','overall','potential']]\n",
    "y = data['value_eur']\n",
    "ylog = np.log(y)\n",
    "\n",
    "# %matplotlib inline\n",
    "# import matplotlib.pyplot as plt\n",
    "# plt.hist(ylog, bins='auto')\n",
    "# plt.title(\"ln(value_eur)\")\n",
    "# plt.show()\n",
    "\n",
    "X_train, X_test, ylog_train, ylog_test, y_train, y_test = train_test_split(X, ylog, y, test_size=0.25, random_state=4)"
   ]
  },
  {
   "cell_type": "code",
   "execution_count": null,
   "id": "9c6ee341",
   "metadata": {},
   "outputs": [],
   "source": [
    "gbm_default = GradientBoostingRegressor()\n",
    "gbm_default.fit(X_train, y_train)"
   ]
  },
  {
   "cell_type": "code",
   "execution_count": null,
   "id": "e1d2819b",
   "metadata": {},
   "outputs": [],
   "source": [
    "# gbm_default.predict(X_train.head(1))\n",
    "gbm_default.predict(pd.DataFrame(data_list))"
   ]
  },
  {
   "cell_type": "code",
   "execution_count": null,
   "id": "7e1aa5b5",
   "metadata": {},
   "outputs": [],
   "source": [
    "import joblib\n",
    "def dump_model(model, path):\n",
    "    joblib.dump(model, path)"
   ]
  },
  {
   "cell_type": "code",
   "execution_count": null,
   "id": "82918f9b",
   "metadata": {},
   "outputs": [],
   "source": [
    "dump_model(gbm_default, \"/notebooks/notebooks/ml_model_4\")"
   ]
  },
  {
   "cell_type": "markdown",
   "id": "d2c04762",
   "metadata": {},
   "source": [
    "# Generating model signature"
   ]
  },
  {
   "cell_type": "code",
   "execution_count": null,
   "id": "ba7d91fd",
   "metadata": {},
   "outputs": [],
   "source": [
    "from snowflake.ml.model import model_signature"
   ]
  },
  {
   "cell_type": "code",
   "execution_count": null,
   "id": "0b236538",
   "metadata": {},
   "outputs": [],
   "source": [
    "sig = model_signature.infer_signature(\n",
    "    X_train.head(),\n",
    "    y_train.head().tolist(),\n",
    "    input_feature_names=X_train.columns.tolist(),\n",
    "    output_feature_names=['value_eur'])"
   ]
  },
  {
   "cell_type": "code",
   "execution_count": null,
   "id": "64ed2f11",
   "metadata": {},
   "outputs": [],
   "source": [
    "mv = registry.log_model(gbm_default,\n",
    "                   model_name=\"sample_sklearn_model__12345\",\n",
    "                   version_name=\"v1\",\n",
    "                   conda_dependencies=[\"scikit-learn==1.3.2\", \"scipy==1.13.1\", \"cloudpickle==2.2.1\"],\n",
    "                   comment=\"My awesome ML model\",\n",
    "                    python_version=\"3.9.19\",\n",
    "                   metrics={\"score\": 96},\n",
    "                   sample_input_data=X_train.head()\n",
    "                       )"
   ]
  },
  {
   "cell_type": "code",
   "execution_count": null,
   "id": "c79ee469",
   "metadata": {},
   "outputs": [],
   "source": [
    "remote_prediction = mv.run(X_train.head(), function_name=\"predict\")\n",
    "remote_prediction"
   ]
  },
  {
   "cell_type": "code",
   "execution_count": null,
   "id": "7e12c1a7",
   "metadata": {},
   "outputs": [],
   "source": [
    "import joblib\n",
    "def dump_model(model, path):\n",
    "    joblib.dump(model, path)"
   ]
  },
  {
   "cell_type": "code",
   "execution_count": null,
   "id": "a135125b",
   "metadata": {},
   "outputs": [],
   "source": [
    "dump_model(gbm_default, \"/notebooks/notebooks/ml_model_5\")"
   ]
  },
  {
   "cell_type": "markdown",
   "id": "f81eaa4f",
   "metadata": {},
   "source": [
    "# Create stage in snowflake-model-registry"
   ]
  },
  {
   "cell_type": "code",
   "execution_count": null,
   "id": "273ae139",
   "metadata": {},
   "outputs": [],
   "source": [
    "# query = \"\"\"\n",
    "#         create or replace stage sample_model_serving_udf_stg\n",
    "#         directory = (enable = true)\n",
    "#         copy_options = (on_error='skip_file')\n",
    "#         \"\"\"\n",
    "\n",
    "# session.sql(query)\n",
    "\n"
   ]
  },
  {
   "cell_type": "code",
   "execution_count": null,
   "id": "36420f0d",
   "metadata": {},
   "outputs": [],
   "source": [
    "# To see the stages\n",
    "session.sql(\"show stages\")"
   ]
  },
  {
   "cell_type": "code",
   "execution_count": null,
   "id": "218f5d38",
   "metadata": {},
   "outputs": [],
   "source": [
    "from snowflake.snowpark.files import SnowflakeFile"
   ]
  },
  {
   "cell_type": "code",
   "execution_count": null,
   "id": "ca4e633c",
   "metadata": {},
   "outputs": [],
   "source": [
    "import cloudpickle\n",
    "with SnowflakeFile.open(\"@STG_ML_MODELS/ml_model_2\") as file:\n",
    "    m= cloudpickle.load(file)\n",
    "    print(type(m))"
   ]
  },
  {
   "cell_type": "markdown",
   "id": "27f1d9a9",
   "metadata": {},
   "source": [
    "# Upload model file on ML_MODELS stage "
   ]
  },
  {
   "cell_type": "code",
   "execution_count": null,
   "id": "1927ef45",
   "metadata": {},
   "outputs": [],
   "source": [
    "#create the stage for storing the ML models\n",
    "# session.sql(\"USE MODEL_REGISTRY_SNOWSIGHT;\")\n",
    "session.sql('CREATE OR REPLACE STAGE STG_ML_MODELS').show()"
   ]
  },
  {
   "cell_type": "code",
   "execution_count": null,
   "id": "c094cac2",
   "metadata": {},
   "outputs": [],
   "source": [
    "X_train.to_csv(\"/data/X_train.csv\", index = False)"
   ]
  },
  {
   "cell_type": "code",
   "execution_count": null,
   "id": "cdbe6e91",
   "metadata": {},
   "outputs": [],
   "source": [
    "session.file.put(\n",
    "    \"/data/X_train.csv\", \"@STG_ML_MODELS\", auto_compress=False, overwrite=True\n",
    ")"
   ]
  },
  {
   "cell_type": "code",
   "execution_count": null,
   "id": "36eb0de5",
   "metadata": {},
   "outputs": [],
   "source": [
    "session.file.put(\n",
    "    \"/notebooks/notebooks/ml_model_5\", \"@STG_ML_MODELS\", auto_compress=False, overwrite=True\n",
    ")"
   ]
  },
  {
   "cell_type": "code",
   "execution_count": null,
   "id": "35257623",
   "metadata": {},
   "outputs": [],
   "source": [
    "session.file.put(\n",
    "    \"/data/ml_model_5\", \"@STG_ML_MODELS\", auto_compress=False, overwrite=True\n",
    ")"
   ]
  },
  {
   "cell_type": "markdown",
   "id": "ec8b6da7",
   "metadata": {},
   "source": [
    "# Read model file from stage"
   ]
  },
  {
   "cell_type": "code",
   "execution_count": null,
   "id": "899bfbdd",
   "metadata": {},
   "outputs": [],
   "source": [
    "session.clear_imports()\n",
    "session.clear_packages()\n",
    "\n",
    "#Register above uploded model as import of UDF\n",
    "session.add_import(\"@STG_ML_MODELS/ml_model_2\")\n",
    "\n",
    "#map packege dependancies\n",
    "session.add_packages(\"scikit-learn\", \"pandas\", \"cloudpickle==2.2.1\")"
   ]
  },
  {
   "cell_type": "code",
   "execution_count": null,
   "id": "a7a0a34f",
   "metadata": {},
   "outputs": [],
   "source": [
    "from snowflake.snowpark.types import PandasSeries, PandasDataFrame\n",
    "import snowflake.snowpark.functions as F\n",
    "from typing import  Optional\n",
    "\n",
    "\n",
    "\n",
    "def read_file(filename):\n",
    "    import cloudpickle\n",
    "    import sys\n",
    "    import os\n",
    "    \n",
    "    #where all imports located at\n",
    "    import_dir = sys._xoptions.get(\"snowflake_import_directory\")\n",
    "\n",
    "    if import_dir:\n",
    "        with open(os.path.join(import_dir, filename), 'rb') as file:\n",
    "            m = cloudpickle.load(file)\n",
    "            return m\n",
    "\n",
    "#register UDF\n",
    "@F.udf(name = 'READ_MODEL_FROM_FILE', is_permanent = True, replace = True, stage_location = '@STG_ML_MODELS')\n",
    "def read_model_from_file(file_name:Optional[str]) -> str:\n",
    "    import numpy as np\n",
    "    \n",
    "    # later we will input train data as JSON object\n",
    "    # hance, we have to convert JSON object as pandas DF\n",
    "    data_array = np.asarray(data_list)\n",
    "    pipeline = read_file(file_name)\n",
    "    print(\"type of pickle object =\", type(pipeline))\n",
    "#     dict_mod[\"model_obj\"] = pipeline\n",
    "    return \"pipeline\"\n",
    "#     return pipeline.predict(data_array).to_list()\n",
    "\n",
    "\n",
    "\n",
    "\n",
    "# @F.udf(name = 'READ_MODEL_FROM_FILE', is_permanent = True, replace = True, stage_location = '@STG_ML_MODELS')\n",
    "# def read_model_from_file(file_name:Optional[str]) -> str:\n",
    "#     import numpy as np\n",
    "    \n",
    "#     # later we will input train data as JSON object\n",
    "#     # hance, we have to convert JSON object as pandas DF\n",
    "#     data_array = np.asarray(data_list)\n",
    "#     pipeline = read_file(file_name)\n",
    "#     print(\"type of pickle object =\", type(pipeline))\n",
    "# #     dict_mod[\"model_obj\"] = pipeline\n",
    "#     return pipeline\n",
    "# #     return pipeline.predict(data_array).to_list()"
   ]
  },
  {
   "cell_type": "code",
   "execution_count": null,
   "id": "4deae998",
   "metadata": {},
   "outputs": [],
   "source": [
    "session.sql(\"DESC FUNCTION READ_MODEL_FROM_FILE(\"ml_model\")\").show()"
   ]
  },
  {
   "cell_type": "code",
   "execution_count": null,
   "id": "ac767dfa",
   "metadata": {},
   "outputs": [],
   "source": [
    "model_udf = read_model_from_file(\"ml_model_2\")\n",
    "# model_udf = read_file(\"ml_model_2\")"
   ]
  },
  {
   "cell_type": "code",
   "execution_count": null,
   "id": "87ca686a",
   "metadata": {},
   "outputs": [],
   "source": [
    "model_udf"
   ]
  },
  {
   "cell_type": "code",
   "execution_count": null,
   "id": "4061913f",
   "metadata": {},
   "outputs": [],
   "source": []
  },
  {
   "cell_type": "code",
   "execution_count": null,
   "id": "86657f39",
   "metadata": {},
   "outputs": [],
   "source": [
    "import joblib"
   ]
  },
  {
   "cell_type": "code",
   "execution_count": null,
   "id": "5bc1eb6d",
   "metadata": {},
   "outputs": [],
   "source": [
    "# model_obj = joblib.load(read_model_from_file(\"ml_model_2\"))\n",
    "import os\n",
    "model_file = os.path.join(\"/notebooks/notebooks\", \"ml_model_5\")\n",
    "model_obj = joblib.load(model_file)"
   ]
  },
  {
   "cell_type": "code",
   "execution_count": null,
   "id": "dca3c8ec",
   "metadata": {},
   "outputs": [],
   "source": [
    "import pandas as pd\n",
    "data_list = [[ 25, 185,  88,  78,  65,  81,  77,  75,  81,  63,  37,  26,   9, 10,  79,  82]]\n",
    "df = pd.DataFrame(data_list)\n",
    "remote_prediction = model_obj.predict(df)"
   ]
  },
  {
   "cell_type": "code",
   "execution_count": null,
   "id": "96b72a76",
   "metadata": {},
   "outputs": [],
   "source": [
    "type(remote_prediction)"
   ]
  },
  {
   "cell_type": "code",
   "execution_count": null,
   "id": "c40ed953",
   "metadata": {},
   "outputs": [],
   "source": [
    "X_train.to_csv(\"/data/X_train.csv\")"
   ]
  },
  {
   "cell_type": "code",
   "execution_count": null,
   "id": "fe078460",
   "metadata": {},
   "outputs": [],
   "source": [
    "import numpy as np"
   ]
  },
  {
   "cell_type": "code",
   "execution_count": null,
   "id": "f2a10e5e",
   "metadata": {},
   "outputs": [],
   "source": [
    "data_list = [[ 25, 185,  88,  78,  65,  81,  77,  75,  81,  63,  37,  26,   9, 10,  79,  82]]\n",
    "data_array = np.asarray(data_list)\n",
    "print(\"data_array =\", data_array)\n",
    "\n",
    "remote_prediction = model_obj.run(data_array, function_name=\"predict\")\n",
    "remote_prediction   # assuming test_features is Snowpark DataFrame\n",
    "remote_prediction"
   ]
  },
  {
   "cell_type": "code",
   "execution_count": null,
   "id": "71e9975b",
   "metadata": {},
   "outputs": [],
   "source": [
    "remote_prediction = mv.run(X_X_train, function_name=\"predict\")\n",
    "remote_prediction"
   ]
  },
  {
   "cell_type": "code",
   "execution_count": null,
   "id": "b539c300",
   "metadata": {},
   "outputs": [],
   "source": [
    "mv.comment"
   ]
  },
  {
   "cell_type": "code",
   "execution_count": null,
   "id": "9d312ad9",
   "metadata": {},
   "outputs": [],
   "source": [
    "from snowflake.snowpark import DataFrame"
   ]
  },
  {
   "cell_type": "code",
   "execution_count": null,
   "id": "374bf208",
   "metadata": {},
   "outputs": [],
   "source": [
    "import pandas as pd"
   ]
  },
  {
   "cell_type": "code",
   "execution_count": null,
   "id": "65091fd6",
   "metadata": {},
   "outputs": [],
   "source": [
    "from snowflake.snowpark.types import Variant\n",
    "def read_model_from_stage(session: Session, df_dict: dict) -> Variant:\n",
    "\n",
    "    # print(\"file_name =\", file_name)\n",
    "    # session.add_import(\"@STG_ML_MODELS/\"+file_name)\n",
    "    # map packege dependancies\n",
    "    # session.add_packages(\"scikit-learn\", \"pandas\", \"cloudpickle==2.2.1\")\n",
    "\n",
    "\n",
    "\n",
    "    # from snowflake.snowpark.types import PandasSeries, PandasDataFrame\n",
    "    # import snowflake.snowpark.functions as F\n",
    "    # from typing import Optional\n",
    "    from snowflake.snowpark.files import SnowflakeFile\n",
    "    from snowflake.ml.registry.registry import Registry\n",
    "\n",
    "    import joblib\n",
    "    df = pd.DataFrame(df_dict)\n",
    "    print(\"df ===\", df)\n",
    "\n",
    "    model_file = '@STG_ML_MODELS/ml_model_5'\n",
    "    # Specify 'mode = rb' to open the file in binary mode.\n",
    "    with SnowflakeFile.open(model_file, 'rb', require_scoped_url=False) as f:\n",
    "        model_obj = joblib.load(f)\n",
    "        # return str(model_obj)\n",
    "        # return str(model_obj)\n",
    "\n",
    "        reg = Registry(session=session)\n",
    "\n",
    "        mv = reg.log_model(model=model_obj,\n",
    "                           model_name=\"sample_model\",\n",
    "                           comment=\"test\",\n",
    "                           version_name=\"run1\",\n",
    "                           python_version=\"3.9.19\",\n",
    "                           conda_dependencies=[\"scikit-learn==1.3.2\"],\n",
    "                           metrics={\"model_metrics\": {\"score\": 96}, \"project_id\": \"0001\", \"type\": \"Model\"},\n",
    "                           sample_input_data=df\n",
    "                           )\n",
    "\n",
    "        print(\"model got registered successfully\")\n",
    "        return df_dict"
   ]
  },
  {
   "cell_type": "code",
   "execution_count": null,
   "id": "72e7c3f2",
   "metadata": {},
   "outputs": [],
   "source": [
    "session.sproc.register(func=read_model_from_stage,\n",
    "                           name=\"read_model_from_stage\",\n",
    "                           packages=[\"snowflake-snowpark-python\", \"snowflake-ml-python\",\"scikit-learn\", \"pandas\", \"cloudpickle==2.2.1\", \"joblib\"],\n",
    "                           isPermanant=True,\n",
    "                           stage_location=\"@STG_ML_MODELS\",\n",
    "                           replace=True,\n",
    "                       )"
   ]
  },
  {
   "cell_type": "code",
   "execution_count": null,
   "id": "1cce4d2b",
   "metadata": {},
   "outputs": [],
   "source": [
    "dict_df = X_train.head().to_dict()"
   ]
  },
  {
   "cell_type": "code",
   "execution_count": null,
   "id": "e2fa057b",
   "metadata": {},
   "outputs": [],
   "source": [
    "dict_df"
   ]
  },
  {
   "cell_type": "code",
   "execution_count": null,
   "id": "a9d0e098",
   "metadata": {},
   "outputs": [],
   "source": [
    "X_train.columns"
   ]
  },
  {
   "cell_type": "code",
   "execution_count": null,
   "id": "b4bb6445",
   "metadata": {},
   "outputs": [],
   "source": [
    "df = pd.DataFrame(dict_df)"
   ]
  },
  {
   "cell_type": "code",
   "execution_count": null,
   "id": "3b8fc860",
   "metadata": {},
   "outputs": [],
   "source": [
    "df.columns"
   ]
  },
  {
   "cell_type": "code",
   "execution_count": null,
   "id": "bb9c989a",
   "metadata": {},
   "outputs": [],
   "source": [
    "model_obj = session.call(\"read_model_from_stage\", dict_df)"
   ]
  },
  {
   "cell_type": "code",
   "execution_count": null,
   "id": "f75669dc",
   "metadata": {},
   "outputs": [],
   "source": []
  },
  {
   "cell_type": "code",
   "execution_count": null,
   "id": "d2c6452a",
   "metadata": {},
   "outputs": [],
   "source": [
    "!pip freeze | grep -i categ"
   ]
  },
  {
   "cell_type": "code",
   "execution_count": null,
   "id": "85235431",
   "metadata": {},
   "outputs": [],
   "source": [
    "!pip install category_encoders"
   ]
  },
  {
   "cell_type": "code",
   "execution_count": null,
   "id": "3148504e",
   "metadata": {},
   "outputs": [],
   "source": [
    "import pandas as pd\n",
    "import numpy as np\n",
    "# import category_encoders as ce\n",
    "from sklearn.model_selection import train_test_split\n",
    "from sklearn.tree import DecisionTreeClassifier\n",
    "import requests\n",
    "# from refractml import *\n",
    "# from refractml.constants import MLModelFlavours"
   ]
  },
  {
   "cell_type": "code",
   "execution_count": null,
   "id": "b2e8c6b5",
   "metadata": {},
   "outputs": [],
   "source": [
    "cars = pd.read_csv(\"/data/car_new.csv\")\n",
    "cars"
   ]
  },
  {
   "cell_type": "code",
   "execution_count": null,
   "id": "532f93f6",
   "metadata": {},
   "outputs": [],
   "source": [
    "Y = cars['class_num']\n",
    "X = cars.drop (['class_num'], axis=1)\n",
    "X_train, X_test, y_train, y_test = train_test_split(X, Y, test_size=0.18, shuffle=True, random_state=25)\n",
    "print (X_train.shape, X_test.shape, y_train.shape, y_test.shape)"
   ]
  },
  {
   "cell_type": "code",
   "execution_count": null,
   "id": "83b124c5",
   "metadata": {},
   "outputs": [],
   "source": [
    "first_tree = DecisionTreeClassifier()\n",
    "model=first_tree.fit(X_train, y_train)\n",
    "model"
   ]
  },
  {
   "cell_type": "code",
   "execution_count": null,
   "id": "1b91b81b",
   "metadata": {},
   "outputs": [],
   "source": [
    "y_pred = model.predict(X_test)\n",
    "first_tree.score(X_test, y_test)\n",
    "y_prob = model.predict_proba(X_test)[:,1]"
   ]
  },
  {
   "cell_type": "code",
   "execution_count": null,
   "id": "e00d7470",
   "metadata": {},
   "outputs": [],
   "source": [
    "model.predict(X_train.head(1))"
   ]
  },
  {
   "cell_type": "code",
   "execution_count": null,
   "id": "81dc3242",
   "metadata": {},
   "outputs": [],
   "source": [
    "from snowflake.ml.model import model_signature"
   ]
  },
  {
   "cell_type": "code",
   "execution_count": null,
   "id": "d7bef6e2",
   "metadata": {},
   "outputs": [],
   "source": [
    "y_train.head().tolist()"
   ]
  },
  {
   "cell_type": "code",
   "execution_count": null,
   "id": "4cfe61de",
   "metadata": {},
   "outputs": [],
   "source": [
    "sig = model_signature.infer_signature(\n",
    "    X_train.head(),\n",
    "    y_train.head().tolist(),\n",
    "    input_feature_names=X_train.columns.tolist(),\n",
    "    output_feature_names=['class_num'])"
   ]
  },
  {
   "cell_type": "markdown",
   "id": "d97f3dc5",
   "metadata": {},
   "source": [
    "# "
   ]
  }
 ],
 "metadata": {
  "kernelspec": {
   "display_name": "Python 3",
   "language": "python",
   "name": "python3"
  },
  "language_info": {
   "codemirror_mode": {
    "name": "ipython",
    "version": 3
   },
   "file_extension": ".py",
   "mimetype": "text/x-python",
   "name": "python",
   "nbconvert_exporter": "python",
   "pygments_lexer": "ipython3",
   "version": "3.9.18"
  }
 },
 "nbformat": 4,
 "nbformat_minor": 5
}
