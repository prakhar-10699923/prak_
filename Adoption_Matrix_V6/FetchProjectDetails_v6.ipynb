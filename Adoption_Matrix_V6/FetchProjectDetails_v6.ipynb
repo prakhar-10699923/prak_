{
 "cells": [
  {
   "cell_type": "code",
   "execution_count": 1,
   "id": "d4aadfc7",
   "metadata": {},
   "outputs": [],
   "source": [
    "# !pip install -i https://artifactory.global.standardchartered.com/artifactory/api/pypi/pypi/simple psycopg2-binary\n",
    "import csv\n",
    "import requests\n",
    "import psycopg2\n",
    "from pytz import timezone\n",
    "from datetime import datetime, timedelta\n",
    "from dateutil import parser, relativedelta\n",
    "import json\n",
    "\n",
    "START_DATE = \"2022-09-01\";\n",
    "END_DATE = \"2022-09-30\";\n",
    "POSTGRES_USER = \"SE_MOSAI\"\n",
    "POSTGRES_PASSWORD = 'MkoNgt#28#asd'\n",
    "POSTGRES_HOST = \"hklvdpsql062.hk.standardchartered.com\"\n",
    "POSTGRES_PORT = \"6524\"\n",
    "POSTGRES_DB_CONSOLE = \"mosaic_console\"\n",
    "POSTGRES_DB_AI = \"ai_logistics\"\n",
    "POSTGRES_DB_METERING = \"metering\"\n",
    "POSTGRES_DB_USERMGM = \"usermgm\"\n",
    "POSTGRES_DB_MONITOR = \"mosaic_monitor\"\n",
    "SERVER_URL=\"http://keycloak.keycloak/auth/\"\n",
    "REALM=\"master\"\n",
    "CLIENT_ID=\"admin-cli\"\n",
    "KEYCLOAK_USERNAME=\"keycloak\"\n",
    "KEYCLOAK_PASSWORD=\"90f8372d933d4fd1fd311f0b8cd36a3d\"\n",
    "APP_ADMIN_USER = \"1632997\"\n",
    "TIME_ZONE_GMT = \"Etc/GMT+7\"\n",
    "TIME_ZONE_IST = \"Asia/Kolkata\"\n",
    "\n",
    "\n",
    "def get_project_data_with_users_details(connection):\n",
    "    try:\n",
    "        cursor = connection.cursor()\n",
    "        postgreSQL_select_Query = \"select id, project_name, description, created_by, created_date from \"+POSTGRES_DB_CONSOLE+\".project where (status='ACTIVE') AND (date(created_date) >= '\"+START_DATE+\"' AND date(created_date) <= '\"+END_DATE+\"')\"\n",
    "        cursor.execute(postgreSQL_select_Query)\n",
    "        project_details_list = cursor.fetchall()\n",
    "        return project_details_list\n",
    "    except (Exception, psycopg2.Error) as error:\n",
    "        print(\"Error while fetching data from PostgreSQL : \", error)\n",
    "        return -1\n",
    "    finally:\n",
    "        cursor.close()"
   ]
  },
  {
   "cell_type": "code",
   "execution_count": null,
   "id": "7f32001a",
   "metadata": {},
   "outputs": [],
   "source": []
  },
  {
   "cell_type": "code",
   "execution_count": 2,
   "id": "b9e07d67",
   "metadata": {},
   "outputs": [
    {
     "name": "stdout",
     "output_type": "stream",
     "text": [
      "psycopg2-binary==2.9.3\r\n"
     ]
    }
   ],
   "source": [
    "! pip freeze | grep psycop"
   ]
  },
  {
   "cell_type": "code",
   "execution_count": 3,
   "id": "8b855f1a",
   "metadata": {},
   "outputs": [
    {
     "name": "stdout",
     "output_type": "stream",
     "text": [
      "The total projects are :  30\n",
      "DONE !!\n",
      "\n",
      "Postgres Connection 'connection_mosaic_console' is closed\n"
     ]
    }
   ],
   "source": [
    "try:\n",
    "    report_records = []\n",
    "    connection_mosaic_console = psycopg2.connect(user=POSTGRES_USER,\n",
    "                                                 password=POSTGRES_PASSWORD,\n",
    "                                                 host=POSTGRES_HOST,\n",
    "                                                 port=POSTGRES_PORT,\n",
    "                                                 database=POSTGRES_DB_CONSOLE)\n",
    "    project_details_list = get_project_data_with_users_details(connection_mosaic_console)\n",
    "    print(\"The total projects are : \", len(project_details_list))\n",
    "    \n",
    "    for project in project_details_list:\n",
    "        report_record = {}\n",
    "        report_record[\"PROJECT_ID\"] = project[0]\n",
    "        report_record[\"PROJECT_NAME\"] = project[1]\n",
    "        report_record[\"PROJECT_DESCRIPTION\"] = project[2]\n",
    "        report_record[\"PROJECT_CREATED_BY\"] = project[3]\n",
    "        report_record[\"PROJECT_CREATED_DATE\"] = project[4].astimezone(timezone(TIME_ZONE_IST)).strftime('%Y-%m-%d %H:%M:%S.%f')\n",
    "        report_records.append(report_record)\n",
    "        \n",
    "    if report_records:\n",
    "        with open('/data/project_details_v6_prod.csv', 'w', newline='') as output_file:\n",
    "            dict_writer = csv.DictWriter(output_file, report_records[0].keys())\n",
    "            dict_writer.writeheader()\n",
    "            dict_writer.writerows(report_records)\n",
    "    \n",
    "    print(\"DONE !!\")\n",
    "except Exception as ex:\n",
    "      print(\"Exception : \", ex)\n",
    "finally:\n",
    "    if connection_mosaic_console:\n",
    "        connection_mosaic_console.close()\n",
    "        print(\"\\nPostgres Connection 'connection_mosaic_console' is closed\") \n"
   ]
  },
  {
   "cell_type": "code",
   "execution_count": null,
   "id": "9b3a0d34",
   "metadata": {},
   "outputs": [],
   "source": []
  }
 ],
 "metadata": {
  "kernelspec": {
   "display_name": "Python 3",
   "language": "python",
   "name": "python3"
  },
  "language_info": {
   "codemirror_mode": {
    "name": "ipython",
    "version": 3
   },
   "file_extension": ".py",
   "mimetype": "text/x-python",
   "name": "python",
   "nbconvert_exporter": "python",
   "pygments_lexer": "ipython3",
   "version": "3.7.12"
  }
 },
 "nbformat": 4,
 "nbformat_minor": 5
}
