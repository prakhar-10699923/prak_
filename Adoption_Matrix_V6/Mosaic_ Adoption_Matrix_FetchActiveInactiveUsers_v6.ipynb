{
 "cells": [
  {
   "cell_type": "code",
   "execution_count": 1,
   "id": "f97a650f",
   "metadata": {},
   "outputs": [
    {
     "name": "stderr",
     "output_type": "stream",
     "text": [
      "/opt/conda/lib/python3.7/site-packages/requests/__init__.py:91: RequestsDependencyWarning: urllib3 (1.26.9) or chardet (3.0.4) doesn't match a supported version!\n",
      "  RequestsDependencyWarning)\n"
     ]
    },
    {
     "name": "stdout",
     "output_type": "stream",
     "text": [
      "Total Records are :  31\n",
      "DONE !!\n"
     ]
    }
   ],
   "source": [
    "import requests\n",
    "import csv\n",
    "\n",
    "START_DATE = \"2022-10-01\";\n",
    "END_DATE = \"2022-10-31\";\n",
    "ADMIN_USERNAME = \"mosaic\"\n",
    "\n",
    "def check_for_negative_inactive_value(obj):\n",
    "    try:\n",
    "        if obj.get(\"inactive\",-1) < 0:\n",
    "            obj[\"inactive\"]=0\n",
    "        obj[\"total\"] = obj[\"inactive\"] + obj[\"active\"]\n",
    "        return obj\n",
    "    except Exception as ex:\n",
    "        print(ex)\n",
    "\n",
    "def get_active_inactive_users():\n",
    "    url=\"http://user-management:8094/usermgm/user/getAllUserEventsByDate?category=userAction&endDate=\"+END_DATE+\"&startDate=\"+START_DATE\n",
    "    #url=\"http://user-management:8094/usermgm/user/getAllUserEventsByDate?category=userAction&endDate='\"+END_DATE+\"'&startDate='\"+START_DATE+\"'\"\n",
    "    headers= {\"X-Auth-Userid\": ADMIN_USERNAME, \"accept\": \"application/json\"}\n",
    "    response = requests.get(url, headers=headers)\n",
    "    return response.json()\n",
    "\n",
    "all_active_users = get_active_inactive_users()\n",
    "all_active_users = [check_for_negative_inactive_value(c) for c in all_active_users]\n",
    "print(\"Total Records are : \", len(all_active_users))\n",
    "\n",
    "if all_active_users:\n",
    "    with open('/data/adoption_matrix_report_activeInactive_v6_prod.csv', 'w', newline='') as output_file:\n",
    "        dict_writer = csv.DictWriter(output_file, all_active_users[0].keys())\n",
    "        dict_writer.writeheader()\n",
    "        dict_writer.writerows(all_active_users)\n",
    "print(\"DONE !!\")"
   ]
  },
  {
   "cell_type": "code",
   "execution_count": null,
   "id": "92577b56",
   "metadata": {},
   "outputs": [],
   "source": []
  }
 ],
 "metadata": {
  "kernelspec": {
   "display_name": "Python 3",
   "language": "python",
   "name": "python3"
  },
  "language_info": {
   "codemirror_mode": {
    "name": "ipython",
    "version": 3
   },
   "file_extension": ".py",
   "mimetype": "text/x-python",
   "name": "python",
   "nbconvert_exporter": "python",
   "pygments_lexer": "ipython3",
   "version": "3.7.12"
  }
 },
 "nbformat": 4,
 "nbformat_minor": 5
}
