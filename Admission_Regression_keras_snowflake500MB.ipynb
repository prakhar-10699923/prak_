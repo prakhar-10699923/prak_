{
 "cells": [
  {
   "cell_type": "code",
   "execution_count": 1,
   "id": "ad35b675",
   "metadata": {
    "scrolled": true
   },
   "outputs": [
    {
     "ename": "ModuleNotFoundError",
     "evalue": "No module named 'tensorflow'",
     "output_type": "error",
     "traceback": [
      "\u001b[0;31m---------------------------------------------------------------------------\u001b[0m",
      "\u001b[0;31mModuleNotFoundError\u001b[0m                       Traceback (most recent call last)",
      "Cell \u001b[0;32mIn[1], line 8\u001b[0m\n\u001b[1;32m      6\u001b[0m \u001b[38;5;28;01mimport\u001b[39;00m \u001b[38;5;21;01mnumpy\u001b[39;00m\n\u001b[1;32m      7\u001b[0m \u001b[38;5;28;01mimport\u001b[39;00m \u001b[38;5;21;01mpandas\u001b[39;00m\n\u001b[0;32m----> 8\u001b[0m \u001b[38;5;28;01mimport\u001b[39;00m \u001b[38;5;21;01mtensorflow\u001b[39;00m \u001b[38;5;28;01mas\u001b[39;00m \u001b[38;5;21;01mtf\u001b[39;00m\n\u001b[1;32m      9\u001b[0m \u001b[38;5;28;01mfrom\u001b[39;00m \u001b[38;5;21;01mtensorflow\u001b[39;00m\u001b[38;5;21;01m.\u001b[39;00m\u001b[38;5;21;01mkeras\u001b[39;00m\u001b[38;5;21;01m.\u001b[39;00m\u001b[38;5;21;01mmodels\u001b[39;00m \u001b[38;5;28;01mimport\u001b[39;00m Sequential\n\u001b[1;32m     10\u001b[0m \u001b[38;5;28;01mfrom\u001b[39;00m \u001b[38;5;21;01mtensorflow\u001b[39;00m\u001b[38;5;21;01m.\u001b[39;00m\u001b[38;5;21;01mkeras\u001b[39;00m\u001b[38;5;21;01m.\u001b[39;00m\u001b[38;5;21;01mcallbacks\u001b[39;00m \u001b[38;5;28;01mimport\u001b[39;00m EarlyStopping\n",
      "\u001b[0;31mModuleNotFoundError\u001b[0m: No module named 'tensorflow'"
     ]
    }
   ],
   "source": [
    "import numpy as np # linear algebra\n",
    "import pandas as pd # data processing, CSV file I/O (e.g. pd.read_csv)\n",
    "from sklearn.model_selection import train_test_split\n",
    "# Input data files are available in the \"../input/\" directory.\n",
    "# For example, running this (by clicking run or pressing Shift+Enter) will list the files in the input directory\n",
    "import numpy\n",
    "import pandas\n",
    "import tensorflow as tf\n",
    "from tensorflow.keras.models import Sequential\n",
    "from tensorflow.keras.callbacks import EarlyStopping\n",
    "\n",
    "#from keras.models import Sequential\n",
    "from tensorflow.keras.layers import Dense ,Dropout,BatchNormalization\n",
    "from keras.wrappers.scikit_learn import KerasRegressor\n",
    "from sklearn.model_selection import cross_val_score\n",
    "from sklearn.model_selection import KFold\n",
    "from sklearn.preprocessing import StandardScaler\n",
    "from sklearn.pipeline import Pipeline"
   ]
  },
  {
   "cell_type": "code",
   "execution_count": 5,
   "id": "003ef58f",
   "metadata": {},
   "outputs": [],
   "source": [
    "# df=pd.read_csv(\"/data/Admission_data.csv\")\n",
    "# #changing names because previous names are little bit confusing\n",
    "# df=df.rename(index=str, columns={\"GRE Score\": \"GRE\", \"TOEFL Score\": \"TOEFL\", \"Chance of Admit \": \"\"})\n",
    "# #we donot need serial number so its good to drop it because its just a number\n",
    "# df=df.drop(\"Serial No.\",axis=1)\n",
    "# df.head(10)"
   ]
  },
  {
   "cell_type": "code",
   "execution_count": null,
   "id": "5d832668",
   "metadata": {},
   "outputs": [
    {
     "name": "stdout",
     "output_type": "stream",
     "text": [
      "Connection manager service url initialised to http://fdc-project-manager:80/project-manager\n",
      "If you need to update its value then update the variable CONNECTION_MANAGER_BASE_URL in os env.\n"
     ]
    }
   ],
   "source": [
    "from refractio import snowflake\n",
    "df = snowflake.get_dataframe(\"ADMISSION500MB\")\n",
    "df=df.rename(index=str, columns={\"GRE_SCORE\": \"GRE\", \"TOEFL_SCORE\": \"TOEFL\", \"CHANCE_OF_ADMIT \": \"Admission_Chance\"})\n",
    "#we donot need serial number so its good to drop it because its just a number\n",
    "df=df.drop(\"SERIAL_NO\",axis=1)\n",
    "df.head(10)"
   ]
  },
  {
   "cell_type": "code",
   "execution_count": 7,
   "id": "5cfbf930",
   "metadata": {},
   "outputs": [
    {
     "data": {
      "text/plain": [
       "81"
      ]
     },
     "execution_count": 7,
     "metadata": {},
     "output_type": "execute_result"
    }
   ],
   "source": [
    "admit=np.asarray(df[\"CHANCE_OF_ADMIT\"])\n",
    "len(np.unique(admit))\n",
    "#we have 60 different values in the coloum [chance to predict]"
   ]
  },
  {
   "cell_type": "code",
   "execution_count": null,
   "id": "d057533e",
   "metadata": {},
   "outputs": [],
   "source": [
    "X=np.asarray(df.drop(\"CHANCE_OF_ADMIT\",axis=1))\n",
    "Y=np.asarray(df[\"CHANCE_OF_ADMIT\"])\n",
    "\n",
    "X_train, X_test, y_train, y_test = train_test_split(\n",
    "     X,Y, test_size=0.2, random_state=0)\n",
    "from sklearn.preprocessing import MinMaxScaler\n",
    "scaler =  MinMaxScaler()\n",
    "X_train=scaler.fit_transform(X_train)\n",
    "X_test=scaler.fit_transform(X_test)"
   ]
  },
  {
   "cell_type": "code",
   "execution_count": null,
   "id": "68976208",
   "metadata": {},
   "outputs": [],
   "source": [
    "model_keras = tf.keras.models.Sequential(\n",
    "    [\n",
    "        tf.keras.layers.Dense(16, input_dim=7, activation='relu'),\n",
    "        tf.keras.layers.Dense(8, input_dim=7, activation='relu'),\n",
    "        tf.keras.layers.Dense(1)  \n",
    "    ]\n",
    ")\n",
    "model_keras.summary()"
   ]
  },
  {
   "cell_type": "code",
   "execution_count": null,
   "id": "c12bb511",
   "metadata": {},
   "outputs": [],
   "source": [
    "# Compile model\n",
    "model_keras.compile(\n",
    "    optimizer='adam',\n",
    "    #loss=tf.keras.losses.BinaryCrossentropy(from_logits=False),\n",
    "    loss=tf.keras.losses.MeanAbsolutePercentageError(),\n",
    "    metrics=[\"accuracy\"]\n",
    ")"
   ]
  },
  {
   "cell_type": "code",
   "execution_count": null,
   "id": "e232ab4c",
   "metadata": {},
   "outputs": [],
   "source": [
    " # Train model\n",
    "model_keras.fit(X_train, y_train, batch_size=8, epochs=1, validation_split=0.2,\n",
    "          callbacks=[EarlyStopping(monitor='val_loss', patience=4)])      "
   ]
  },
  {
   "cell_type": "code",
   "execution_count": null,
   "id": "298f1ee8",
   "metadata": {},
   "outputs": [],
   "source": [
    "# Test model\n",
    "test_scores = model_keras.evaluate(X_test, y_test, verbose=2)\n",
    "print(\"Test loss: \", test_scores[0])\n",
    "print(\"Test accuracy: \", test_scores[1])"
   ]
  },
  {
   "cell_type": "code",
   "execution_count": null,
   "id": "6d58b3e7",
   "metadata": {},
   "outputs": [],
   "source": [
    "# define base model\n",
    "'''\n",
    "def baseline_model():\n",
    "    # create model\n",
    "    model = Sequential()\n",
    "    \n",
    "    \n",
    "    \n",
    "    model.add(Dense(16, input_dim=7, activation='relu'))\n",
    "    \n",
    "    \n",
    "    model.add(Dense(8, input_dim=7, activation='relu'))\n",
    "    \n",
    "    \n",
    "    model.add(Dense(1))\n",
    "    # Compile model\n",
    "    model.compile(loss='mean_squared_error', optimizer='adam')\n",
    "    return model\n",
    "'''"
   ]
  },
  {
   "cell_type": "code",
   "execution_count": null,
   "id": "96c10b42",
   "metadata": {},
   "outputs": [],
   "source": [
    "#estimator = KerasRegressor(build_fn=baseline_model, epochs=30, batch_size=3, verbose=1)"
   ]
  },
  {
   "cell_type": "code",
   "execution_count": null,
   "id": "caa367c0",
   "metadata": {},
   "outputs": [],
   "source": [
    "#estimator.fit(X_train,y_train)"
   ]
  },
  {
   "cell_type": "code",
   "execution_count": null,
   "id": "d2034ecc",
   "metadata": {},
   "outputs": [],
   "source": [
    "from sklearn.metrics import accuracy_score\n",
    "#prediction = model_kr.predict(X_test)\n",
    "#prediction = model_keras.predict(X_test)"
   ]
  },
  {
   "cell_type": "code",
   "execution_count": null,
   "id": "ed41e46d",
   "metadata": {},
   "outputs": [],
   "source": [
    "# train_error =  np.abs(y_test - prediction)\n",
    "# mean_error = np.mean(train_error)\n",
    "# min_error = np.min(train_error)\n",
    "# # max_error = np.max(train_error)\n",
    "# std_error = np.std(train_error)"
   ]
  },
  {
   "cell_type": "code",
   "execution_count": null,
   "id": "5b2d8935",
   "metadata": {},
   "outputs": [],
   "source": [
    "# print(\"std_error: \",std_error)\n",
    "# print(\"mean_error: \",mean_error)\n",
    "# print(\"min_error: \",min_error)\n",
    "# print(\"max_error: \",max_error)"
   ]
  },
  {
   "cell_type": "code",
   "execution_count": null,
   "id": "296a1e00",
   "metadata": {},
   "outputs": [],
   "source": [
    "#Model function\n",
    "def model(algorithm,dtrain_X,dtrain_Y,dtest_X,dtest_Y,cols=None):\n",
    "\n",
    "    #algorithm.fit(dtrain_X,dtrain_Y)\n",
    "    predictions = algorithm.predict(dtest_X)\n",
    "    prediction_probabilities = algorithm.predict(dtest_X)\n",
    "    print (algorithm)\n",
    "    \n",
    "    return predictions,prediction_probabilities,algorithm"
   ]
  },
  {
   "cell_type": "code",
   "execution_count": null,
   "id": "bb15d9dd",
   "metadata": {},
   "outputs": [],
   "source": [
    "#y_pred,y_prob,model_obj=model(estimator,X_train,y_train,X_test,y_test)\n",
    "y_pred,y_prob,model_obj=model(model_keras,X_train,y_train,X_test,y_test)"
   ]
  },
  {
   "cell_type": "code",
   "execution_count": null,
   "id": "74374218",
   "metadata": {},
   "outputs": [],
   "source": [
    "from refractml import *\n",
    "from refractml.constants import MLModelFlavours"
   ]
  },
  {
   "cell_type": "code",
   "execution_count": null,
   "id": "9a7b3e33",
   "metadata": {},
   "outputs": [],
   "source": [
    "@scoring_func\n",
    "def score(model, request):\n",
    "    payload = request.json[\"payload\"]\n",
    "    data = pd.DataFrame(eval(payload))\n",
    "    prediction = model.predict(data)\n",
    "    #prediction = pd.Series(model.predict(data))\n",
    "    print (prediction)\n",
    "    #return prediction\n",
    "    return prediction.tolist()"
   ]
  },
  {
   "cell_type": "code",
   "execution_count": null,
   "id": "14a2c862",
   "metadata": {},
   "outputs": [],
   "source": [
    "cols = ['GRE Score','TOEFL Score','University Rating','SOP','LOR','CGPA','Research']"
   ]
  },
  {
   "cell_type": "code",
   "execution_count": null,
   "id": "94d4d67f",
   "metadata": {},
   "outputs": [],
   "source": [
    "X_temp = pd.DataFrame(X,columns=cols)"
   ]
  },
  {
   "cell_type": "code",
   "execution_count": null,
   "id": "c080707b",
   "metadata": {},
   "outputs": [],
   "source": [
    "import requests\n",
    "req = requests.Request()\n",
    "req.json = {\"payload\":X_temp.head(1).to_json(orient = 'records')}"
   ]
  },
  {
   "cell_type": "code",
   "execution_count": null,
   "id": "c951cfee",
   "metadata": {},
   "outputs": [],
   "source": [
    "req.json['payload']"
   ]
  },
  {
   "cell_type": "code",
   "execution_count": null,
   "id": "88ea61cd",
   "metadata": {},
   "outputs": [],
   "source": [
    "req.json"
   ]
  },
  {
   "cell_type": "code",
   "execution_count": null,
   "id": "7eff8b4e",
   "metadata": {
    "scrolled": true
   },
   "outputs": [],
   "source": [
    "#sch = generate_schema(score,(model_obj, req),X_temp)\n",
    "sch = generate_schema(score,(model_keras, req),X_temp)\n",
    "print(sch)"
   ]
  },
  {
   "cell_type": "code",
   "execution_count": null,
   "id": "de52e333",
   "metadata": {},
   "outputs": [],
   "source": [
    "register_model(model_keras, score, name=\"Admission_RegressionKERAS\", \n",
    "                description=\"Identify chances of Admission\",\n",
    "                flavour=MLModelFlavours.keras)\n",
    "'''\n",
    "               schema=sch,\n",
    "                y_true=y_test, y_pred = y_pred, #y_pred=pd.Series(y_pred), \n",
    "                prob=y_pred, features=cols, \n",
    "               labels=[\"Admission_Chance\"], \n",
    "               init_script=\"\" ,\n",
    "                model_type=\"regression\", \n",
    "                input_type=\"json\", explain_ai=True, x_train=X_train, x_test=X_test, \n",
    "                y_train=y_train, y_test=y_test,\n",
    "                feature_names=cols,feature_ids=cols,\n",
    "                target_names=[\"Admission_Chance\"], \n",
    "                kyd=False, kyd_score =False)\n",
    "'''\n",
    "print(\"Registering model\")"
   ]
  },
  {
   "cell_type": "code",
   "execution_count": null,
   "id": "c13ab6c0",
   "metadata": {},
   "outputs": [],
   "source": []
  },
  {
   "cell_type": "code",
   "execution_count": null,
   "id": "01d7da8d",
   "metadata": {},
   "outputs": [],
   "source": []
  }
 ],
 "metadata": {
  "kernelspec": {
   "display_name": "Python 3",
   "language": "python",
   "name": "python3"
  },
  "language_info": {
   "codemirror_mode": {
    "name": "ipython",
    "version": 3
   },
   "file_extension": ".py",
   "mimetype": "text/x-python",
   "name": "python",
   "nbconvert_exporter": "python",
   "pygments_lexer": "ipython3",
   "version": "3.9.18"
  }
 },
 "nbformat": 4,
 "nbformat_minor": 5
}
