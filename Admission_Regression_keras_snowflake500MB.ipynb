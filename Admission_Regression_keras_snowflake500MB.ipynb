{
 "cells": [
  {
   "cell_type": "code",
   "execution_count": 4,
   "id": "ad35b675",
   "metadata": {
    "scrolled": true
   },
   "outputs": [],
   "source": [
    "import numpy as np # linear algebra\n",
    "import pandas as pd # data processing, CSV file I/O (e.g. pd.read_csv)\n",
    "from sklearn.model_selection import train_test_split\n",
    "# Input data files are available in the \"../input/\" directory.\n",
    "# For example, running this (by clicking run or pressing Shift+Enter) will list the files in the input directory\n",
    "import numpy\n",
    "import pandas\n",
    "import tensorflow as tf\n",
    "from tensorflow.keras.models import Sequential\n",
    "from tensorflow.keras.callbacks import EarlyStopping\n",
    "\n",
    "#from keras.models import Sequential\n",
    "from tensorflow.keras.layers import Dense ,Dropout,BatchNormalization\n",
    "from keras.wrappers.scikit_learn import KerasRegressor\n",
    "from sklearn.model_selection import cross_val_score\n",
    "from sklearn.model_selection import KFold\n",
    "from sklearn.preprocessing import StandardScaler\n",
    "from sklearn.pipeline import Pipeline"
   ]
  },
  {
   "cell_type": "code",
   "execution_count": 5,
   "id": "003ef58f",
   "metadata": {},
   "outputs": [],
   "source": [
    "# df=pd.read_csv(\"/data/Admission_data.csv\")\n",
    "# #changing names because previous names are little bit confusing\n",
    "# df=df.rename(index=str, columns={\"GRE Score\": \"GRE\", \"TOEFL Score\": \"TOEFL\", \"Chance of Admit \": \"\"})\n",
    "# #we donot need serial number so its good to drop it because its just a number\n",
    "# df=df.drop(\"Serial No.\",axis=1)\n",
    "# df.head(10)"
   ]
  },
  {
   "cell_type": "code",
   "execution_count": 6,
   "id": "5d832668",
   "metadata": {},
   "outputs": [
    {
     "data": {
      "text/html": [
       "<div>\n",
       "<style scoped>\n",
       "    .dataframe tbody tr th:only-of-type {\n",
       "        vertical-align: middle;\n",
       "    }\n",
       "\n",
       "    .dataframe tbody tr th {\n",
       "        vertical-align: top;\n",
       "    }\n",
       "\n",
       "    .dataframe thead th {\n",
       "        text-align: right;\n",
       "    }\n",
       "</style>\n",
       "<table border=\"1\" class=\"dataframe\">\n",
       "  <thead>\n",
       "    <tr style=\"text-align: right;\">\n",
       "      <th></th>\n",
       "      <th>GRE</th>\n",
       "      <th>TOEFL</th>\n",
       "      <th>UNIVERSITY_RATING</th>\n",
       "      <th>SOP</th>\n",
       "      <th>LOR</th>\n",
       "      <th>CGPA</th>\n",
       "      <th>RESEARCH</th>\n",
       "      <th>CHANCE_OF_ADMIT</th>\n",
       "    </tr>\n",
       "  </thead>\n",
       "  <tbody>\n",
       "    <tr>\n",
       "      <th>0</th>\n",
       "      <td>366</td>\n",
       "      <td>146</td>\n",
       "      <td>4</td>\n",
       "      <td>2.5</td>\n",
       "      <td>1.0</td>\n",
       "      <td>7.74</td>\n",
       "      <td>0</td>\n",
       "      <td>0.96</td>\n",
       "    </tr>\n",
       "    <tr>\n",
       "      <th>1</th>\n",
       "      <td>363</td>\n",
       "      <td>101</td>\n",
       "      <td>5</td>\n",
       "      <td>2.5</td>\n",
       "      <td>1.5</td>\n",
       "      <td>9.47</td>\n",
       "      <td>1</td>\n",
       "      <td>0.95</td>\n",
       "    </tr>\n",
       "    <tr>\n",
       "      <th>2</th>\n",
       "      <td>268</td>\n",
       "      <td>146</td>\n",
       "      <td>5</td>\n",
       "      <td>3.5</td>\n",
       "      <td>2.0</td>\n",
       "      <td>7.29</td>\n",
       "      <td>0</td>\n",
       "      <td>0.50</td>\n",
       "    </tr>\n",
       "    <tr>\n",
       "      <th>3</th>\n",
       "      <td>300</td>\n",
       "      <td>187</td>\n",
       "      <td>2</td>\n",
       "      <td>2.0</td>\n",
       "      <td>2.5</td>\n",
       "      <td>9.58</td>\n",
       "      <td>1</td>\n",
       "      <td>0.64</td>\n",
       "    </tr>\n",
       "    <tr>\n",
       "      <th>4</th>\n",
       "      <td>214</td>\n",
       "      <td>108</td>\n",
       "      <td>5</td>\n",
       "      <td>1.5</td>\n",
       "      <td>3.0</td>\n",
       "      <td>9.46</td>\n",
       "      <td>0</td>\n",
       "      <td>0.46</td>\n",
       "    </tr>\n",
       "    <tr>\n",
       "      <th>5</th>\n",
       "      <td>301</td>\n",
       "      <td>122</td>\n",
       "      <td>1</td>\n",
       "      <td>4.0</td>\n",
       "      <td>3.5</td>\n",
       "      <td>7.45</td>\n",
       "      <td>0</td>\n",
       "      <td>0.21</td>\n",
       "    </tr>\n",
       "    <tr>\n",
       "      <th>6</th>\n",
       "      <td>238</td>\n",
       "      <td>156</td>\n",
       "      <td>2</td>\n",
       "      <td>4.5</td>\n",
       "      <td>4.0</td>\n",
       "      <td>6.95</td>\n",
       "      <td>1</td>\n",
       "      <td>0.51</td>\n",
       "    </tr>\n",
       "    <tr>\n",
       "      <th>7</th>\n",
       "      <td>299</td>\n",
       "      <td>185</td>\n",
       "      <td>3</td>\n",
       "      <td>4.0</td>\n",
       "      <td>4.5</td>\n",
       "      <td>7.72</td>\n",
       "      <td>0</td>\n",
       "      <td>0.78</td>\n",
       "    </tr>\n",
       "    <tr>\n",
       "      <th>8</th>\n",
       "      <td>381</td>\n",
       "      <td>98</td>\n",
       "      <td>4</td>\n",
       "      <td>3.5</td>\n",
       "      <td>1.0</td>\n",
       "      <td>6.12</td>\n",
       "      <td>0</td>\n",
       "      <td>0.62</td>\n",
       "    </tr>\n",
       "    <tr>\n",
       "      <th>9</th>\n",
       "      <td>238</td>\n",
       "      <td>145</td>\n",
       "      <td>5</td>\n",
       "      <td>4.0</td>\n",
       "      <td>1.5</td>\n",
       "      <td>7.90</td>\n",
       "      <td>1</td>\n",
       "      <td>0.57</td>\n",
       "    </tr>\n",
       "  </tbody>\n",
       "</table>\n",
       "</div>"
      ],
      "text/plain": [
       "   GRE  TOEFL  UNIVERSITY_RATING  SOP  LOR  CGPA  RESEARCH  CHANCE_OF_ADMIT\n",
       "0  366    146                  4  2.5  1.0  7.74         0             0.96\n",
       "1  363    101                  5  2.5  1.5  9.47         1             0.95\n",
       "2  268    146                  5  3.5  2.0  7.29         0             0.50\n",
       "3  300    187                  2  2.0  2.5  9.58         1             0.64\n",
       "4  214    108                  5  1.5  3.0  9.46         0             0.46\n",
       "5  301    122                  1  4.0  3.5  7.45         0             0.21\n",
       "6  238    156                  2  4.5  4.0  6.95         1             0.51\n",
       "7  299    185                  3  4.0  4.5  7.72         0             0.78\n",
       "8  381     98                  4  3.5  1.0  6.12         0             0.62\n",
       "9  238    145                  5  4.0  1.5  7.90         1             0.57"
      ]
     },
     "execution_count": 6,
     "metadata": {},
     "output_type": "execute_result"
    }
   ],
   "source": [
    "from refractio import snowflake\n",
    "df = snowflake.get_dataframe(\"ADMISSION500MB\")\n",
    "df=df.rename(index=str, columns={\"GRE_SCORE\": \"GRE\", \"TOEFL_SCORE\": \"TOEFL\", \"CHANCE_OF_ADMIT \": \"Admission_Chance\"})\n",
    "#we donot need serial number so its good to drop it because its just a number\n",
    "df=df.drop(\"SERIAL_NO\",axis=1)\n",
    "df.head(10)"
   ]
  },
  {
   "cell_type": "code",
   "execution_count": 7,
   "id": "5cfbf930",
   "metadata": {},
   "outputs": [
    {
     "data": {
      "text/plain": [
       "81"
      ]
     },
     "execution_count": 7,
     "metadata": {},
     "output_type": "execute_result"
    }
   ],
   "source": [
    "admit=np.asarray(df[\"CHANCE_OF_ADMIT\"])\n",
    "len(np.unique(admit))\n",
    "#we have 60 different values in the coloum [chance to predict]"
   ]
  },
  {
   "cell_type": "code",
   "execution_count": null,
   "id": "d057533e",
   "metadata": {},
   "outputs": [],
   "source": [
    "X=np.asarray(df.drop(\"CHANCE_OF_ADMIT\",axis=1))\n",
    "Y=np.asarray(df[\"CHANCE_OF_ADMIT\"])\n",
    "\n",
    "X_train, X_test, y_train, y_test = train_test_split(\n",
    "     X,Y, test_size=0.2, random_state=0)\n",
    "from sklearn.preprocessing import MinMaxScaler\n",
    "scaler =  MinMaxScaler()\n",
    "X_train=scaler.fit_transform(X_train)\n",
    "X_test=scaler.fit_transform(X_test)"
   ]
  },
  {
   "cell_type": "code",
   "execution_count": null,
   "id": "68976208",
   "metadata": {},
   "outputs": [],
   "source": [
    "model_keras = tf.keras.models.Sequential(\n",
    "    [\n",
    "        tf.keras.layers.Dense(16, input_dim=7, activation='relu'),\n",
    "        tf.keras.layers.Dense(8, input_dim=7, activation='relu'),\n",
    "        tf.keras.layers.Dense(1)  \n",
    "    ]\n",
    ")\n",
    "model_keras.summary()"
   ]
  },
  {
   "cell_type": "code",
   "execution_count": null,
   "id": "c12bb511",
   "metadata": {},
   "outputs": [],
   "source": [
    "# Compile model\n",
    "model_keras.compile(\n",
    "    optimizer='adam',\n",
    "    #loss=tf.keras.losses.BinaryCrossentropy(from_logits=False),\n",
    "    loss=tf.keras.losses.MeanAbsolutePercentageError(),\n",
    "    metrics=[\"accuracy\"]\n",
    ")"
   ]
  },
  {
   "cell_type": "code",
   "execution_count": null,
   "id": "e232ab4c",
   "metadata": {},
   "outputs": [],
   "source": [
    " # Train model\n",
    "model_keras.fit(X_train, y_train, batch_size=8, epochs=1, validation_split=0.2,\n",
    "          callbacks=[EarlyStopping(monitor='val_loss', patience=4)])      "
   ]
  },
  {
   "cell_type": "code",
   "execution_count": null,
   "id": "298f1ee8",
   "metadata": {},
   "outputs": [],
   "source": [
    "# Test model\n",
    "test_scores = model_keras.evaluate(X_test, y_test, verbose=2)\n",
    "print(\"Test loss: \", test_scores[0])\n",
    "print(\"Test accuracy: \", test_scores[1])"
   ]
  },
  {
   "cell_type": "code",
   "execution_count": null,
   "id": "6d58b3e7",
   "metadata": {},
   "outputs": [],
   "source": [
    "# define base model\n",
    "'''\n",
    "def baseline_model():\n",
    "    # create model\n",
    "    model = Sequential()\n",
    "    \n",
    "    \n",
    "    \n",
    "    model.add(Dense(16, input_dim=7, activation='relu'))\n",
    "    \n",
    "    \n",
    "    model.add(Dense(8, input_dim=7, activation='relu'))\n",
    "    \n",
    "    \n",
    "    model.add(Dense(1))\n",
    "    # Compile model\n",
    "    model.compile(loss='mean_squared_error', optimizer='adam')\n",
    "    return model\n",
    "'''"
   ]
  },
  {
   "cell_type": "code",
   "execution_count": null,
   "id": "96c10b42",
   "metadata": {},
   "outputs": [],
   "source": [
    "#estimator = KerasRegressor(build_fn=baseline_model, epochs=30, batch_size=3, verbose=1)"
   ]
  },
  {
   "cell_type": "code",
   "execution_count": null,
   "id": "caa367c0",
   "metadata": {},
   "outputs": [],
   "source": [
    "#estimator.fit(X_train,y_train)"
   ]
  },
  {
   "cell_type": "code",
   "execution_count": null,
   "id": "d2034ecc",
   "metadata": {},
   "outputs": [],
   "source": [
    "from sklearn.metrics import accuracy_score\n",
    "#prediction = model_kr.predict(X_test)\n",
    "#prediction = model_keras.predict(X_test)"
   ]
  },
  {
   "cell_type": "code",
   "execution_count": null,
   "id": "ed41e46d",
   "metadata": {},
   "outputs": [],
   "source": [
    "# train_error =  np.abs(y_test - prediction)\n",
    "# mean_error = np.mean(train_error)\n",
    "# min_error = np.min(train_error)\n",
    "# # max_error = np.max(train_error)\n",
    "# std_error = np.std(train_error)"
   ]
  },
  {
   "cell_type": "code",
   "execution_count": null,
   "id": "5b2d8935",
   "metadata": {},
   "outputs": [],
   "source": [
    "# print(\"std_error: \",std_error)\n",
    "# print(\"mean_error: \",mean_error)\n",
    "# print(\"min_error: \",min_error)\n",
    "# print(\"max_error: \",max_error)"
   ]
  },
  {
   "cell_type": "code",
   "execution_count": null,
   "id": "296a1e00",
   "metadata": {},
   "outputs": [],
   "source": [
    "#Model function\n",
    "def model(algorithm,dtrain_X,dtrain_Y,dtest_X,dtest_Y,cols=None):\n",
    "\n",
    "    #algorithm.fit(dtrain_X,dtrain_Y)\n",
    "    predictions = algorithm.predict(dtest_X)\n",
    "    prediction_probabilities = algorithm.predict(dtest_X)\n",
    "    print (algorithm)\n",
    "    \n",
    "    return predictions,prediction_probabilities,algorithm"
   ]
  },
  {
   "cell_type": "code",
   "execution_count": null,
   "id": "bb15d9dd",
   "metadata": {},
   "outputs": [],
   "source": [
    "#y_pred,y_prob,model_obj=model(estimator,X_train,y_train,X_test,y_test)\n",
    "y_pred,y_prob,model_obj=model(model_keras,X_train,y_train,X_test,y_test)"
   ]
  },
  {
   "cell_type": "code",
   "execution_count": null,
   "id": "74374218",
   "metadata": {},
   "outputs": [],
   "source": [
    "from refractml import *\n",
    "from refractml.constants import MLModelFlavours"
   ]
  },
  {
   "cell_type": "code",
   "execution_count": null,
   "id": "9a7b3e33",
   "metadata": {},
   "outputs": [],
   "source": [
    "@scoring_func\n",
    "def score(model, request):\n",
    "    payload = request.json[\"payload\"]\n",
    "    data = pd.DataFrame(eval(payload))\n",
    "    prediction = model.predict(data)\n",
    "    #prediction = pd.Series(model.predict(data))\n",
    "    print (prediction)\n",
    "    #return prediction\n",
    "    return prediction.tolist()"
   ]
  },
  {
   "cell_type": "code",
   "execution_count": null,
   "id": "14a2c862",
   "metadata": {},
   "outputs": [],
   "source": [
    "cols = ['GRE Score','TOEFL Score','University Rating','SOP','LOR','CGPA','Research']"
   ]
  },
  {
   "cell_type": "code",
   "execution_count": null,
   "id": "94d4d67f",
   "metadata": {},
   "outputs": [],
   "source": [
    "X_temp = pd.DataFrame(X,columns=cols)"
   ]
  },
  {
   "cell_type": "code",
   "execution_count": null,
   "id": "c080707b",
   "metadata": {},
   "outputs": [],
   "source": [
    "import requests\n",
    "req = requests.Request()\n",
    "req.json = {\"payload\":X_temp.head(1).to_json(orient = 'records')}"
   ]
  },
  {
   "cell_type": "code",
   "execution_count": null,
   "id": "c951cfee",
   "metadata": {},
   "outputs": [],
   "source": [
    "req.json['payload']"
   ]
  },
  {
   "cell_type": "code",
   "execution_count": null,
   "id": "88ea61cd",
   "metadata": {},
   "outputs": [],
   "source": [
    "req.json"
   ]
  },
  {
   "cell_type": "code",
   "execution_count": null,
   "id": "7eff8b4e",
   "metadata": {
    "scrolled": true
   },
   "outputs": [],
   "source": [
    "#sch = generate_schema(score,(model_obj, req),X_temp)\n",
    "sch = generate_schema(score,(model_keras, req),X_temp)\n",
    "print(sch)"
   ]
  },
  {
   "cell_type": "code",
   "execution_count": null,
   "id": "de52e333",
   "metadata": {},
   "outputs": [],
   "source": [
    "register_model(model_keras, score, name=\"Admission_RegressionKERAS\", \n",
    "                description=\"Identify chances of Admission\",\n",
    "                flavour=MLModelFlavours.keras)\n",
    "'''\n",
    "               schema=sch,\n",
    "                y_true=y_test, y_pred = y_pred, #y_pred=pd.Series(y_pred), \n",
    "                prob=y_pred, features=cols, \n",
    "               labels=[\"Admission_Chance\"], \n",
    "               init_script=\"\" ,\n",
    "                model_type=\"regression\", \n",
    "                input_type=\"json\", explain_ai=True, x_train=X_train, x_test=X_test, \n",
    "                y_train=y_train, y_test=y_test,\n",
    "                feature_names=cols,feature_ids=cols,\n",
    "                target_names=[\"Admission_Chance\"], \n",
    "                kyd=False, kyd_score =False)\n",
    "'''\n",
    "print(\"Registering model\")"
   ]
  },
  {
   "cell_type": "code",
   "execution_count": null,
   "id": "c13ab6c0",
   "metadata": {},
   "outputs": [],
   "source": []
  },
  {
   "cell_type": "code",
   "execution_count": null,
   "id": "01d7da8d",
   "metadata": {},
   "outputs": [],
   "source": []
  }
 ],
 "metadata": {
  "kernelspec": {
   "display_name": "Python 3",
   "language": "python",
   "name": "python3"
  },
  "language_info": {
   "codemirror_mode": {
    "name": "ipython",
    "version": 3
   },
   "file_extension": ".py",
   "mimetype": "text/x-python",
   "name": "python",
   "nbconvert_exporter": "python",
   "pygments_lexer": "ipython3",
   "version": "3.8.19"
  }
 },
 "nbformat": 4,
 "nbformat_minor": 5
}
