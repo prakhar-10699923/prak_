{
 "cells": [
  {
   "cell_type": "code",
   "execution_count": null,
   "id": "8b04b2db",
   "metadata": {},
   "outputs": [],
   "source": [
    "# !pip install snowflake-snowpark-python[pandas]==1.5.0\n",
    "# !pip install snowflake-connector-python\n",
    "# !pip install snowflake-ml-python==1.0.10"
   ]
  },
  {
   "cell_type": "code",
   "execution_count": null,
   "id": "54c8fe30",
   "metadata": {},
   "outputs": [],
   "source": [
    "!pip install snowflake[ml]"
   ]
  },
  {
   "cell_type": "code",
   "execution_count": null,
   "id": "269cbf42",
   "metadata": {},
   "outputs": [],
   "source": [
    "!pip install snowflake-connector-python\n"
   ]
  },
  {
   "cell_type": "code",
   "execution_count": 2,
   "id": "6965566c",
   "metadata": {},
   "outputs": [],
   "source": [
    "from snowflake.snowpark import Session"
   ]
  },
  {
   "cell_type": "code",
   "execution_count": 3,
   "id": "fd38b4c4",
   "metadata": {},
   "outputs": [],
   "source": [
    "import configparser\n",
    "def get_session():\n",
    "    parser = configparser.ConfigParser()\n",
    "    # Add the credential file name here\n",
    "    parser.read('/notebooks/notebooks/config.ini')\n",
    "\n",
    "    connection_params = dict(user=parser['Credentials']['user'], \n",
    "                         password=parser['Credentials']['password'], \n",
    "                         account=parser['Credentials']['account'], \n",
    "                         warehouse=parser['Credentials']['warehouse'], \n",
    "                         database=parser['Credentials']['database'],\n",
    "                         schema=parser['Credentials']['schema'], \n",
    "                         role=parser['Credentials']['role'])\n",
    "    print(\"connection_params = \",  connection_params)\n",
    "\n",
    "\n",
    "    session = Session.builder.configs(connection_params).create()\n",
    "    return session"
   ]
  },
  {
   "cell_type": "code",
   "execution_count": 4,
   "id": "2319ac22",
   "metadata": {},
   "outputs": [
    {
     "name": "stdout",
     "output_type": "stream",
     "text": [
      "connection_params =  {'user': 'PRAKHAR', 'password': 'Prak@apr24', 'account': 'ug94937.us-east4.gcp', 'warehouse': 'FOSFOR_INSIGHT_WH', 'database': 'test_database_prak', 'schema': 'test_schema_prak', 'role': 'PRAKHAR'}\n"
     ]
    },
    {
     "data": {
      "text/plain": [
       "<snowflake.snowpark.session.Session at 0x7b079b976be0>"
      ]
     },
     "execution_count": 4,
     "metadata": {},
     "output_type": "execute_result"
    }
   ],
   "source": [
    "session = get_session()\n",
    "# session.close()\n",
    "session"
   ]
  },
  {
   "cell_type": "code",
   "execution_count": 5,
   "id": "95efc2dc",
   "metadata": {},
   "outputs": [],
   "source": [
    "REGISTRY_DATABASE_NAME = \"MODEL_REGISTRY_SNOWSIGHT\"\n",
    "REGISTRY_SCHEMA_NAME = \"SNOWSIGHT\""
   ]
  },
  {
   "cell_type": "code",
   "execution_count": 1,
   "id": "7c401604",
   "metadata": {},
   "outputs": [],
   "source": [
    "from snowflake.ml.registry import model_registry"
   ]
  },
  {
   "cell_type": "code",
   "execution_count": null,
   "id": "49192969",
   "metadata": {},
   "outputs": [],
   "source": [
    "!pip freeze | grep -i cloud"
   ]
  },
  {
   "cell_type": "code",
   "execution_count": 6,
   "id": "9ffad949",
   "metadata": {},
   "outputs": [
    {
     "name": "stderr",
     "output_type": "stream",
     "text": [
      "create_model_registry() is in private preview since 0.2.0. Do not use it in production. \n",
      "WARNING:absl:The database MODEL_REGISTRY_SNOWSIGHT already exists. Skipping creation.\n",
      "WARNING:absl:The schema MODEL_REGISTRY_SNOWSIGHT.SNOWSIGHT already exists. Skipping creation.\n"
     ]
    },
    {
     "data": {
      "text/plain": [
       "True"
      ]
     },
     "execution_count": 6,
     "metadata": {},
     "output_type": "execute_result"
    }
   ],
   "source": [
    "model_registry.create_model_registry(session=session, database_name=REGISTRY_DATABASE_NAME, schema_name=REGISTRY_SCHEMA_NAME)"
   ]
  },
  {
   "cell_type": "code",
   "execution_count": 10,
   "id": "721b2a7e",
   "metadata": {},
   "outputs": [
    {
     "ename": "AttributeError",
     "evalue": "module 'snowflake.ml.registry.model_registry' has no attribute 'Registry'",
     "output_type": "error",
     "traceback": [
      "\u001b[0;31m---------------------------------------------------------------------------\u001b[0m",
      "\u001b[0;31mAttributeError\u001b[0m                            Traceback (most recent call last)",
      "Cell \u001b[0;32mIn[10], line 1\u001b[0m\n\u001b[0;32m----> 1\u001b[0m registry1 \u001b[38;5;241m=\u001b[39m \u001b[43mmodel_registry\u001b[49m\u001b[38;5;241;43m.\u001b[39;49m\u001b[43mRegistry\u001b[49m(session\u001b[38;5;241m=\u001b[39msession, database_name\u001b[38;5;241m=\u001b[39mREGISTRY_DATABASE_NAME, schema_name\u001b[38;5;241m=\u001b[39mREGISTRY_SCHEMA_NAME )\n",
      "\u001b[0;31mAttributeError\u001b[0m: module 'snowflake.ml.registry.model_registry' has no attribute 'Registry'"
     ]
    }
   ],
   "source": [
    "registry1 = model_registry.Registry(session=session, database_name=REGISTRY_DATABASE_NAME, schema_name=REGISTRY_SCHEMA_NAME )"
   ]
  },
  {
   "cell_type": "code",
   "execution_count": 11,
   "id": "bf6835e7",
   "metadata": {},
   "outputs": [
    {
     "name": "stderr",
     "output_type": "stream",
     "text": [
      "<ipython-input-11-ac16ff576944>:1: DeprecationWarning: \n",
      "The `snowflake.ml.registry.model_registry.ModelRegistry` has been deprecated starting from version 1.2.0.\n",
      "It will stay in the Private Preview phase. For future implementations, kindly utilize `snowflake.ml.registry.Registry`,\n",
      "except when specifically required. The old model registry will be removed once all its primary functionalities are\n",
      "fully integrated into the new registry.\n",
      "        \n",
      "  registry = model_registry.ModelRegistry(session=session, database_name=REGISTRY_DATABASE_NAME, schema_name=REGISTRY_SCHEMA_NAME)\n"
     ]
    }
   ],
   "source": [
    "registry = model_registry.ModelRegistry(session=session, database_name=REGISTRY_DATABASE_NAME, schema_name=REGISTRY_SCHEMA_NAME)"
   ]
  },
  {
   "cell_type": "code",
   "execution_count": 12,
   "id": "611e8f77",
   "metadata": {},
   "outputs": [
    {
     "name": "stdout",
     "output_type": "stream",
     "text": [
      "-------------------------------------------------------------------------------------------------------------------\n",
      "|\"EVENT_TIMESTAMP\"  |\"EVENT_ID\"  |\"MODEL_ID\"  |\"ROLE\"  |\"OPERATION\"  |\"ATTRIBUTE_NAME\"  |\"VALUE[ATTRIBUTE_NAME]\"  |\n",
      "-------------------------------------------------------------------------------------------------------------------\n",
      "|                   |            |            |        |             |                  |                         |\n",
      "-------------------------------------------------------------------------------------------------------------------\n",
      "\n"
     ]
    }
   ],
   "source": [
    "registry.get_history().show()"
   ]
  },
  {
   "cell_type": "code",
   "execution_count": 14,
   "id": "b1d4fcab",
   "metadata": {},
   "outputs": [
    {
     "data": {
      "text/plain": [
       "array(['age', 'height_cm', 'weight_kg', 'skill_dribbling',\n",
       "       'attacking_crossing', 'attacking_finishing',\n",
       "       'movement_acceleration', 'movement_sprint_speed',\n",
       "       'power_shot_power', 'mentality_aggression', 'defending_marking',\n",
       "       'defending_standing_tackle', 'goalkeeping_diving',\n",
       "       'goalkeeping_handling', 'overall', 'potential'], dtype=object)"
      ]
     },
     "execution_count": 14,
     "metadata": {},
     "output_type": "execute_result"
    }
   ],
   "source": [
    "import cloudpickle\n",
    "\n",
    "model_obj = cloudpickle.load(open(\"/notebooks/notebooks/ml_model\", \"rb\"))\n",
    "model_obj"
   ]
  },
  {
   "cell_type": "code",
   "execution_count": 15,
   "id": "fec2c53f",
   "metadata": {},
   "outputs": [
    {
     "data": {
      "text/html": [
       "<div>\n",
       "<style scoped>\n",
       "    .dataframe tbody tr th:only-of-type {\n",
       "        vertical-align: middle;\n",
       "    }\n",
       "\n",
       "    .dataframe tbody tr th {\n",
       "        vertical-align: top;\n",
       "    }\n",
       "\n",
       "    .dataframe thead th {\n",
       "        text-align: right;\n",
       "    }\n",
       "</style>\n",
       "<table border=\"1\" class=\"dataframe\">\n",
       "  <thead>\n",
       "    <tr style=\"text-align: right;\">\n",
       "      <th></th>\n",
       "      <th>age</th>\n",
       "      <th>height_cm</th>\n",
       "      <th>weight_kg</th>\n",
       "      <th>skill_dribbling</th>\n",
       "      <th>attacking_crossing</th>\n",
       "      <th>attacking_finishing</th>\n",
       "      <th>movement_acceleration</th>\n",
       "      <th>movement_sprint_speed</th>\n",
       "      <th>power_shot_power</th>\n",
       "      <th>mentality_aggression</th>\n",
       "      <th>defending_marking</th>\n",
       "      <th>defending_standing_tackle</th>\n",
       "      <th>goalkeeping_diving</th>\n",
       "      <th>goalkeeping_handling</th>\n",
       "      <th>overall</th>\n",
       "      <th>potential</th>\n",
       "    </tr>\n",
       "  </thead>\n",
       "  <tbody>\n",
       "    <tr>\n",
       "      <th>620</th>\n",
       "      <td>25</td>\n",
       "      <td>185</td>\n",
       "      <td>88</td>\n",
       "      <td>78</td>\n",
       "      <td>65</td>\n",
       "      <td>81</td>\n",
       "      <td>77</td>\n",
       "      <td>75</td>\n",
       "      <td>81</td>\n",
       "      <td>63</td>\n",
       "      <td>37</td>\n",
       "      <td>26</td>\n",
       "      <td>9</td>\n",
       "      <td>10</td>\n",
       "      <td>79</td>\n",
       "      <td>82</td>\n",
       "    </tr>\n",
       "    <tr>\n",
       "      <th>2193</th>\n",
       "      <td>26</td>\n",
       "      <td>184</td>\n",
       "      <td>77</td>\n",
       "      <td>64</td>\n",
       "      <td>47</td>\n",
       "      <td>41</td>\n",
       "      <td>65</td>\n",
       "      <td>64</td>\n",
       "      <td>56</td>\n",
       "      <td>86</td>\n",
       "      <td>73</td>\n",
       "      <td>75</td>\n",
       "      <td>14</td>\n",
       "      <td>14</td>\n",
       "      <td>74</td>\n",
       "      <td>77</td>\n",
       "    </tr>\n",
       "    <tr>\n",
       "      <th>1170</th>\n",
       "      <td>32</td>\n",
       "      <td>182</td>\n",
       "      <td>84</td>\n",
       "      <td>85</td>\n",
       "      <td>61</td>\n",
       "      <td>80</td>\n",
       "      <td>75</td>\n",
       "      <td>67</td>\n",
       "      <td>77</td>\n",
       "      <td>51</td>\n",
       "      <td>25</td>\n",
       "      <td>30</td>\n",
       "      <td>6</td>\n",
       "      <td>16</td>\n",
       "      <td>77</td>\n",
       "      <td>77</td>\n",
       "    </tr>\n",
       "    <tr>\n",
       "      <th>1863</th>\n",
       "      <td>34</td>\n",
       "      <td>183</td>\n",
       "      <td>73</td>\n",
       "      <td>73</td>\n",
       "      <td>63</td>\n",
       "      <td>79</td>\n",
       "      <td>76</td>\n",
       "      <td>49</td>\n",
       "      <td>79</td>\n",
       "      <td>51</td>\n",
       "      <td>57</td>\n",
       "      <td>19</td>\n",
       "      <td>8</td>\n",
       "      <td>10</td>\n",
       "      <td>75</td>\n",
       "      <td>75</td>\n",
       "    </tr>\n",
       "    <tr>\n",
       "      <th>4724</th>\n",
       "      <td>24</td>\n",
       "      <td>176</td>\n",
       "      <td>70</td>\n",
       "      <td>71</td>\n",
       "      <td>66</td>\n",
       "      <td>63</td>\n",
       "      <td>74</td>\n",
       "      <td>77</td>\n",
       "      <td>70</td>\n",
       "      <td>61</td>\n",
       "      <td>64</td>\n",
       "      <td>71</td>\n",
       "      <td>10</td>\n",
       "      <td>8</td>\n",
       "      <td>70</td>\n",
       "      <td>76</td>\n",
       "    </tr>\n",
       "    <tr>\n",
       "      <th>...</th>\n",
       "      <td>...</td>\n",
       "      <td>...</td>\n",
       "      <td>...</td>\n",
       "      <td>...</td>\n",
       "      <td>...</td>\n",
       "      <td>...</td>\n",
       "      <td>...</td>\n",
       "      <td>...</td>\n",
       "      <td>...</td>\n",
       "      <td>...</td>\n",
       "      <td>...</td>\n",
       "      <td>...</td>\n",
       "      <td>...</td>\n",
       "      <td>...</td>\n",
       "      <td>...</td>\n",
       "      <td>...</td>\n",
       "    </tr>\n",
       "    <tr>\n",
       "      <th>3671</th>\n",
       "      <td>32</td>\n",
       "      <td>195</td>\n",
       "      <td>85</td>\n",
       "      <td>12</td>\n",
       "      <td>14</td>\n",
       "      <td>12</td>\n",
       "      <td>35</td>\n",
       "      <td>43</td>\n",
       "      <td>46</td>\n",
       "      <td>22</td>\n",
       "      <td>16</td>\n",
       "      <td>14</td>\n",
       "      <td>74</td>\n",
       "      <td>68</td>\n",
       "      <td>72</td>\n",
       "      <td>72</td>\n",
       "    </tr>\n",
       "    <tr>\n",
       "      <th>709</th>\n",
       "      <td>27</td>\n",
       "      <td>184</td>\n",
       "      <td>78</td>\n",
       "      <td>73</td>\n",
       "      <td>78</td>\n",
       "      <td>61</td>\n",
       "      <td>69</td>\n",
       "      <td>72</td>\n",
       "      <td>84</td>\n",
       "      <td>75</td>\n",
       "      <td>79</td>\n",
       "      <td>79</td>\n",
       "      <td>14</td>\n",
       "      <td>5</td>\n",
       "      <td>79</td>\n",
       "      <td>79</td>\n",
       "    </tr>\n",
       "    <tr>\n",
       "      <th>2487</th>\n",
       "      <td>29</td>\n",
       "      <td>180</td>\n",
       "      <td>71</td>\n",
       "      <td>73</td>\n",
       "      <td>64</td>\n",
       "      <td>72</td>\n",
       "      <td>55</td>\n",
       "      <td>52</td>\n",
       "      <td>70</td>\n",
       "      <td>82</td>\n",
       "      <td>47</td>\n",
       "      <td>64</td>\n",
       "      <td>10</td>\n",
       "      <td>15</td>\n",
       "      <td>74</td>\n",
       "      <td>74</td>\n",
       "    </tr>\n",
       "    <tr>\n",
       "      <th>174</th>\n",
       "      <td>23</td>\n",
       "      <td>171</td>\n",
       "      <td>69</td>\n",
       "      <td>84</td>\n",
       "      <td>84</td>\n",
       "      <td>50</td>\n",
       "      <td>86</td>\n",
       "      <td>84</td>\n",
       "      <td>79</td>\n",
       "      <td>68</td>\n",
       "      <td>75</td>\n",
       "      <td>78</td>\n",
       "      <td>7</td>\n",
       "      <td>13</td>\n",
       "      <td>83</td>\n",
       "      <td>87</td>\n",
       "    </tr>\n",
       "    <tr>\n",
       "      <th>1146</th>\n",
       "      <td>30</td>\n",
       "      <td>180</td>\n",
       "      <td>78</td>\n",
       "      <td>75</td>\n",
       "      <td>65</td>\n",
       "      <td>65</td>\n",
       "      <td>77</td>\n",
       "      <td>72</td>\n",
       "      <td>76</td>\n",
       "      <td>72</td>\n",
       "      <td>74</td>\n",
       "      <td>76</td>\n",
       "      <td>11</td>\n",
       "      <td>8</td>\n",
       "      <td>77</td>\n",
       "      <td>77</td>\n",
       "    </tr>\n",
       "  </tbody>\n",
       "</table>\n",
       "<p>3750 rows × 16 columns</p>\n",
       "</div>"
      ],
      "text/plain": [
       "      age  height_cm  weight_kg  skill_dribbling  attacking_crossing  \\\n",
       "620    25        185         88               78                  65   \n",
       "2193   26        184         77               64                  47   \n",
       "1170   32        182         84               85                  61   \n",
       "1863   34        183         73               73                  63   \n",
       "4724   24        176         70               71                  66   \n",
       "...   ...        ...        ...              ...                 ...   \n",
       "3671   32        195         85               12                  14   \n",
       "709    27        184         78               73                  78   \n",
       "2487   29        180         71               73                  64   \n",
       "174    23        171         69               84                  84   \n",
       "1146   30        180         78               75                  65   \n",
       "\n",
       "      attacking_finishing  movement_acceleration  movement_sprint_speed  \\\n",
       "620                    81                     77                     75   \n",
       "2193                   41                     65                     64   \n",
       "1170                   80                     75                     67   \n",
       "1863                   79                     76                     49   \n",
       "4724                   63                     74                     77   \n",
       "...                   ...                    ...                    ...   \n",
       "3671                   12                     35                     43   \n",
       "709                    61                     69                     72   \n",
       "2487                   72                     55                     52   \n",
       "174                    50                     86                     84   \n",
       "1146                   65                     77                     72   \n",
       "\n",
       "      power_shot_power  mentality_aggression  defending_marking  \\\n",
       "620                 81                    63                 37   \n",
       "2193                56                    86                 73   \n",
       "1170                77                    51                 25   \n",
       "1863                79                    51                 57   \n",
       "4724                70                    61                 64   \n",
       "...                ...                   ...                ...   \n",
       "3671                46                    22                 16   \n",
       "709                 84                    75                 79   \n",
       "2487                70                    82                 47   \n",
       "174                 79                    68                 75   \n",
       "1146                76                    72                 74   \n",
       "\n",
       "      defending_standing_tackle  goalkeeping_diving  goalkeeping_handling  \\\n",
       "620                          26                   9                    10   \n",
       "2193                         75                  14                    14   \n",
       "1170                         30                   6                    16   \n",
       "1863                         19                   8                    10   \n",
       "4724                         71                  10                     8   \n",
       "...                         ...                 ...                   ...   \n",
       "3671                         14                  74                    68   \n",
       "709                          79                  14                     5   \n",
       "2487                         64                  10                    15   \n",
       "174                          78                   7                    13   \n",
       "1146                         76                  11                     8   \n",
       "\n",
       "      overall  potential  \n",
       "620        79         82  \n",
       "2193       74         77  \n",
       "1170       77         77  \n",
       "1863       75         75  \n",
       "4724       70         76  \n",
       "...       ...        ...  \n",
       "3671       72         72  \n",
       "709        79         79  \n",
       "2487       74         74  \n",
       "174        83         87  \n",
       "1146       77         77  \n",
       "\n",
       "[3750 rows x 16 columns]"
      ]
     },
     "execution_count": 15,
     "metadata": {},
     "output_type": "execute_result"
    }
   ],
   "source": [
    "x_train = cloudpickle.load(open(\"/notebooks/notebooks/x_train\", \"rb\"))\n",
    "x_train"
   ]
  },
  {
   "cell_type": "code",
   "execution_count": 16,
   "id": "f61facf7",
   "metadata": {},
   "outputs": [
    {
     "name": "stderr",
     "output_type": "stream",
     "text": [
      "WARNING:snowflake.snowpark:ModelRegistry.log_model() is in private preview since 0.2.0. Do not use it in production. \n"
     ]
    },
    {
     "ename": "TypeError",
     "evalue": "(0000) log_model() got multiple values for argument 'model_name'",
     "output_type": "error",
     "traceback": [
      "\u001b[0;31m---------------------------------------------------------------------------\u001b[0m",
      "\u001b[0;31mTypeError\u001b[0m                                 Traceback (most recent call last)",
      "File \u001b[0;32m/tmp/pip_packages/snowflake/ml/_internal/telemetry.py:367\u001b[0m, in \u001b[0;36msend_api_usage_telemetry.<locals>.decorator.<locals>.wrap\u001b[0;34m(*args, **kwargs)\u001b[0m\n\u001b[1;32m    366\u001b[0m \u001b[38;5;28;01mtry\u001b[39;00m:\n\u001b[0;32m--> 367\u001b[0m     res \u001b[38;5;241m=\u001b[39m \u001b[43mfunc\u001b[49m\u001b[43m(\u001b[49m\u001b[38;5;241;43m*\u001b[39;49m\u001b[43margs\u001b[49m\u001b[43m,\u001b[49m\u001b[43m \u001b[49m\u001b[38;5;241;43m*\u001b[39;49m\u001b[38;5;241;43m*\u001b[39;49m\u001b[43mkwargs\u001b[49m\u001b[43m)\u001b[49m\n\u001b[1;32m    368\u001b[0m \u001b[38;5;28;01mexcept\u001b[39;00m \u001b[38;5;167;01mException\u001b[39;00m \u001b[38;5;28;01mas\u001b[39;00m e:\n",
      "File \u001b[0;32m/tmp/pip_packages/snowflake/snowpark/_internal/utils.py:695\u001b[0m, in \u001b[0;36mfunc_decorator.<locals>.wrapper.<locals>.func_call_wrapper\u001b[0;34m(*args, **kwargs)\u001b[0m\n\u001b[1;32m    694\u001b[0m warning(func\u001b[38;5;241m.\u001b[39m\u001b[38;5;18m__qualname__\u001b[39m, warning_text)\n\u001b[0;32m--> 695\u001b[0m \u001b[38;5;28;01mreturn\u001b[39;00m \u001b[43mfunc\u001b[49m\u001b[43m(\u001b[49m\u001b[38;5;241;43m*\u001b[39;49m\u001b[43margs\u001b[49m\u001b[43m,\u001b[49m\u001b[43m \u001b[49m\u001b[38;5;241;43m*\u001b[39;49m\u001b[38;5;241;43m*\u001b[39;49m\u001b[43mkwargs\u001b[49m\u001b[43m)\u001b[49m\n",
      "\u001b[0;31mTypeError\u001b[0m: log_model() got multiple values for argument 'model_name'",
      "\nThe above exception was the direct cause of the following exception:\n",
      "\u001b[0;31mTypeError\u001b[0m                                 Traceback (most recent call last)",
      "Cell \u001b[0;32mIn[16], line 1\u001b[0m\n\u001b[0;32m----> 1\u001b[0m mv \u001b[38;5;241m=\u001b[39m \u001b[43mregistry\u001b[49m\u001b[38;5;241;43m.\u001b[39;49m\u001b[43mlog_model\u001b[49m\u001b[43m(\u001b[49m\u001b[43mmodel_obj\u001b[49m\u001b[43m,\u001b[49m\n\u001b[1;32m      2\u001b[0m \u001b[43m                   \u001b[49m\u001b[43mmodel_name\u001b[49m\u001b[38;5;241;43m=\u001b[39;49m\u001b[38;5;124;43m\"\u001b[39;49m\u001b[38;5;124;43mmy_model\u001b[39;49m\u001b[38;5;124;43m\"\u001b[39;49m\u001b[43m,\u001b[49m\n\u001b[1;32m      3\u001b[0m \u001b[43m                   \u001b[49m\u001b[43mversion_name\u001b[49m\u001b[38;5;241;43m=\u001b[39;49m\u001b[38;5;124;43m\"\u001b[39;49m\u001b[38;5;124;43mv1\u001b[39;49m\u001b[38;5;124;43m\"\u001b[39;49m\u001b[43m,\u001b[49m\n\u001b[1;32m      4\u001b[0m \u001b[43m                   \u001b[49m\u001b[43mconda_dependencies\u001b[49m\u001b[38;5;241;43m=\u001b[39;49m\u001b[43m[\u001b[49m\u001b[38;5;124;43m\"\u001b[39;49m\u001b[38;5;124;43mscikit-learn\u001b[39;49m\u001b[38;5;124;43m\"\u001b[39;49m\u001b[43m]\u001b[49m\u001b[43m,\u001b[49m\n\u001b[1;32m      5\u001b[0m \u001b[43m                   \u001b[49m\u001b[43mcomment\u001b[49m\u001b[38;5;241;43m=\u001b[39;49m\u001b[38;5;124;43m\"\u001b[39;49m\u001b[38;5;124;43mMy awesome ML model\u001b[39;49m\u001b[38;5;124;43m\"\u001b[39;49m\u001b[43m,\u001b[49m\n\u001b[1;32m      6\u001b[0m \u001b[38;5;66;43;03m#                    metrics={\"score\": 96},\u001b[39;49;00m\n\u001b[1;32m      7\u001b[0m \u001b[43m                   \u001b[49m\u001b[43msample_input_data\u001b[49m\u001b[38;5;241;43m=\u001b[39;49m\u001b[43mx_train\u001b[49m\u001b[43m)\u001b[49m\n",
      "File \u001b[0;32m/tmp/pip_packages/snowflake/ml/_internal/telemetry.py:389\u001b[0m, in \u001b[0;36msend_api_usage_telemetry.<locals>.decorator.<locals>.wrap\u001b[0;34m(*args, **kwargs)\u001b[0m\n\u001b[1;32m    387\u001b[0m         \u001b[38;5;28;01mraise\u001b[39;00m me\u001b[38;5;241m.\u001b[39moriginal_exception \u001b[38;5;28;01mfrom\u001b[39;00m \u001b[38;5;28;01mNone\u001b[39;00m\n\u001b[1;32m    388\u001b[0m     \u001b[38;5;28;01melse\u001b[39;00m:\n\u001b[0;32m--> 389\u001b[0m         \u001b[38;5;28;01mraise\u001b[39;00m me\u001b[38;5;241m.\u001b[39moriginal_exception \u001b[38;5;28;01mfrom\u001b[39;00m \u001b[38;5;21;01me\u001b[39;00m\n\u001b[1;32m    390\u001b[0m \u001b[38;5;28;01melse\u001b[39;00m:\n\u001b[1;32m    391\u001b[0m     \u001b[38;5;28;01mreturn\u001b[39;00m update_stmt_params_if_snowpark_df(res, statement_params)\n",
      "\u001b[0;31mTypeError\u001b[0m: (0000) log_model() got multiple values for argument 'model_name'"
     ]
    }
   ],
   "source": [
    "mv = registry.log_model(model_obj,\n",
    "                   model_name=\"my_model\",\n",
    "                   version_name=\"v1\",\n",
    "                   conda_dependencies=[\"scikit-learn\"],\n",
    "                   comment=\"My awesome ML model\",\n",
    "#                    metrics={\"score\": 96},\n",
    "                   sample_input_data=x_train)"
   ]
  },
  {
   "cell_type": "code",
   "execution_count": null,
   "id": "e27b053e",
   "metadata": {},
   "outputs": [],
   "source": []
  }
 ],
 "metadata": {
  "kernelspec": {
   "display_name": "Python 3",
   "language": "python",
   "name": "python3"
  },
  "language_info": {
   "codemirror_mode": {
    "name": "ipython",
    "version": 3
   },
   "file_extension": ".py",
   "mimetype": "text/x-python",
   "name": "python",
   "nbconvert_exporter": "python",
   "pygments_lexer": "ipython3",
   "version": "3.9.18"
  }
 },
 "nbformat": 4,
 "nbformat_minor": 5
}
