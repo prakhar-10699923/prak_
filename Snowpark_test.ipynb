{
 "cells": [
  {
   "cell_type": "code",
   "execution_count": null,
   "id": "8b04b2db",
   "metadata": {},
   "outputs": [],
   "source": [
    "# !pip install snowflake-snowpark-python[pandas]==1.5.0\n",
    "# !pip install snowflake-connector-python\n",
    "# !pip install snowflake-ml-python==1.0.10"
   ]
  },
  {
   "cell_type": "code",
   "execution_count": null,
   "id": "54c8fe30",
   "metadata": {},
   "outputs": [],
   "source": [
    "!pip install snowflake[ml]"
   ]
  },
  {
   "cell_type": "code",
   "execution_count": 2,
   "id": "269cbf42",
   "metadata": {},
   "outputs": [
    {
     "name": "stdout",
     "output_type": "stream",
     "text": [
      "Collecting cloudpickle==2.2.1\n",
      "  Using cached https://files.pythonhosted.org/packages/15/80/44286939ca215e88fa827b2aeb6fa3fd2b4a7af322485c7170d6f9fd96e0/cloudpickle-2.2.1-py3-none-any.whl\n",
      "Installing collected packages: cloudpickle\n",
      "Successfully installed cloudpickle-2.2.1\n",
      "\u001b[33mWARNING: You are using pip version 19.3.1; however, version 24.0 is available.\n",
      "You should consider upgrading via the 'pip install --upgrade pip' command.\u001b[0m\n"
     ]
    }
   ],
   "source": [
    "# !pip install snowflake-connector-python\n",
    "!pip install --upgrade cloudpickle==2.2.1"
   ]
  },
  {
   "cell_type": "code",
   "execution_count": 3,
   "id": "6965566c",
   "metadata": {},
   "outputs": [],
   "source": [
    "from snowflake.snowpark import Session"
   ]
  },
  {
   "cell_type": "code",
   "execution_count": null,
   "id": "fd38b4c4",
   "metadata": {},
   "outputs": [],
   "source": [
    "import configparser\n",
    "def get_session():\n",
    "    parser = configparser.ConfigParser()\n",
    "    # Add the credential file name here\n",
    "    parser.read('/notebooks/notebooks/config.ini')\n",
    "\n",
    "    connection_params = dict(user=parser['Credentials']['user'], \n",
    "                         password=parser['Credentials']['password'], \n",
    "                         account=parser['Credentials']['account'], \n",
    "                         warehouse=parser['Credentials']['warehouse'], \n",
    "                         database=REGISTRY_DATABASE_NAME,\n",
    "                         schema=REGISTRY_SCHEMA_NAME, \n",
    "                         role=parser['Credentials']['role'])\n",
    "#     print(\"connection_params = \",  connection_params)\n",
    "\n",
    "\n",
    "    session = Session.builder.configs(connection_params).create()\n",
    "    return session"
   ]
  },
  {
   "cell_type": "code",
   "execution_count": null,
   "id": "2319ac22",
   "metadata": {},
   "outputs": [],
   "source": [
    "session = get_session()\n",
    "# session.close()\n",
    "session"
   ]
  },
  {
   "cell_type": "code",
   "execution_count": null,
   "id": "95efc2dc",
   "metadata": {},
   "outputs": [],
   "source": [
    "REGISTRY_DATABASE_NAME = \"MODEL_REGISTRY_SNOWSIGHT\"\n",
    "REGISTRY_SCHEMA_NAME = \"SNOWSIGHT\""
   ]
  },
  {
   "cell_type": "code",
   "execution_count": null,
   "id": "7c401604",
   "metadata": {},
   "outputs": [],
   "source": [
    "# from snowflake.ml.registry import model_registry\n",
    "from snowflake.ml.registry import Registry as model_registry"
   ]
  },
  {
   "cell_type": "code",
   "execution_count": 2,
   "id": "49192969",
   "metadata": {},
   "outputs": [
    {
     "name": "stdout",
     "output_type": "stream",
     "text": [
      "cloudpickle                3.0.0      \n",
      "\u001b[33mWARNING: You are using pip version 19.3.1; however, version 24.0 is available.\n",
      "You should consider upgrading via the 'pip install --upgrade pip' command.\u001b[0m\n"
     ]
    }
   ],
   "source": [
    "!pip list | grep -i cloud"
   ]
  },
  {
   "cell_type": "code",
   "execution_count": null,
   "id": "9ffad949",
   "metadata": {},
   "outputs": [],
   "source": [
    "# model_registry.create_model_registry(session=session, database_name=REGISTRY_DATABASE_NAME, schema_name=REGISTRY_SCHEMA_NAME)"
   ]
  },
  {
   "cell_type": "code",
   "execution_count": null,
   "id": "721b2a7e",
   "metadata": {},
   "outputs": [],
   "source": [
    "registry = model_registry(session=session, database_name=REGISTRY_DATABASE_NAME, schema_name=REGISTRY_SCHEMA_NAME )"
   ]
  },
  {
   "cell_type": "code",
   "execution_count": null,
   "id": "bf6835e7",
   "metadata": {},
   "outputs": [],
   "source": [
    "# registry = model_registry.ModelRegistry(session=session, database_name=REGISTRY_DATABASE_NAME, schema_name=REGISTRY_SCHEMA_NAME)"
   ]
  },
  {
   "cell_type": "code",
   "execution_count": null,
   "id": "611e8f77",
   "metadata": {},
   "outputs": [],
   "source": [
    "df = registry.show_models()\n",
    "df\n",
    "# type(df)"
   ]
  },
  {
   "cell_type": "markdown",
   "id": "63e2d25d",
   "metadata": {},
   "source": [
    "# Get model list from snowpark registry"
   ]
  },
  {
   "cell_type": "code",
   "execution_count": null,
   "id": "33a32df8",
   "metadata": {},
   "outputs": [],
   "source": [
    "model_list = registry.models()\n",
    "model_list"
   ]
  },
  {
   "cell_type": "markdown",
   "id": "adca9b9a",
   "metadata": {},
   "source": [
    "# Get model details from registry"
   ]
  },
  {
   "cell_type": "code",
   "execution_count": null,
   "id": "fcb27a3e",
   "metadata": {},
   "outputs": [],
   "source": [
    "m =registry.get_model(\"my_model\")\n",
    "m"
   ]
  },
  {
   "cell_type": "markdown",
   "id": "b4496f60",
   "metadata": {},
   "source": [
    "# Get model versions"
   ]
  },
  {
   "cell_type": "code",
   "execution_count": null,
   "id": "d61e9309",
   "metadata": {},
   "outputs": [],
   "source": [
    "df_version = m.show_versions()\n",
    "df_version"
   ]
  },
  {
   "cell_type": "markdown",
   "id": "3acf87c3",
   "metadata": {},
   "source": [
    "# Set default model version"
   ]
  },
  {
   "cell_type": "code",
   "execution_count": null,
   "id": "5fe4bc00",
   "metadata": {},
   "outputs": [],
   "source": [
    "# default_version = m.default\n",
    "m.default = \"V1\""
   ]
  },
  {
   "cell_type": "markdown",
   "id": "b863c652",
   "metadata": {},
   "source": [
    "# Get default model version details from model-registry"
   ]
  },
  {
   "cell_type": "code",
   "execution_count": null,
   "id": "c053fb93",
   "metadata": {},
   "outputs": [],
   "source": [
    "mv = m.default\n",
    "mv"
   ]
  },
  {
   "cell_type": "code",
   "execution_count": null,
   "id": "5d4b10aa",
   "metadata": {},
   "outputs": [],
   "source": [
    "x"
   ]
  },
  {
   "cell_type": "code",
   "execution_count": null,
   "id": "c8a006d3",
   "metadata": {},
   "outputs": [],
   "source": [
    "#Load default vesion as python object\n",
    "# clf = mv.load()"
   ]
  },
  {
   "cell_type": "code",
   "execution_count": null,
   "id": "38d0a468",
   "metadata": {},
   "outputs": [],
   "source": [
    "data_list = [[ 25, 185,  88,  78,  65,  81,  77,  75,  81,  63,  37,  26,   9, 10,  79,  82]]\n",
    "data_array = np.asarray(data_list)\n",
    "print(\"data_array =\", data_array)\n",
    "\n",
    "remote_prediction = mv.run(data_array, function_name=\"predict\")\n",
    "remote_prediction   # assuming test_features is Snowpark DataFrame\n",
    "remote_prediction"
   ]
  },
  {
   "cell_type": "code",
   "execution_count": null,
   "id": "4b4cbe99",
   "metadata": {},
   "outputs": [],
   "source": [
    "# import cloudpickle\n",
    "\n",
    "# model_obj = cloudpickle.load(open(\"/notebooks/notebooks/ml_model\", \"rb\"))\n",
    "# model_obj\n"
   ]
  },
  {
   "cell_type": "code",
   "execution_count": null,
   "id": "f5f8e68a",
   "metadata": {},
   "outputs": [],
   "source": [
    "type(x_train)"
   ]
  },
  {
   "cell_type": "code",
   "execution_count": null,
   "id": "ab2fe843",
   "metadata": {},
   "outputs": [],
   "source": [
    "# x_train = cloudpickle.load(open(\"/notebooks/notebooks/x_train\", \"rb\"))\n",
    "# x_train\n",
    "# type(x_train)"
   ]
  },
  {
   "cell_type": "code",
   "execution_count": null,
   "id": "f61facf7",
   "metadata": {},
   "outputs": [],
   "source": [
    "mv = registry.log_model(gbm_default,\n",
    "                   model_name=\"my_model\",\n",
    "                   version_name=\"v2\",\n",
    "                   conda_dependencies=[\"scikit-learn\", \"cloudpickle\"],\n",
    "                   comment=\"My awesome ML model\",\n",
    "#                     python_version=\"3.9\",\n",
    "#                    metrics={\"score\": 96},\n",
    "                   sample_input_data=x_train)"
   ]
  },
  {
   "cell_type": "markdown",
   "id": "9c700bc4",
   "metadata": {},
   "source": [
    "# Deploy model with custom class"
   ]
  },
  {
   "cell_type": "code",
   "execution_count": null,
   "id": "0b194ae9",
   "metadata": {},
   "outputs": [],
   "source": [
    "from snowflake.ml.model import custom_model"
   ]
  },
  {
   "cell_type": "code",
   "execution_count": null,
   "id": "0ff7455a",
   "metadata": {},
   "outputs": [],
   "source": [
    "class ExamplePipelineModel(custom_model.CustomModel):\n",
    "#     def __init__(self, context: ModelContext) -> None:\n",
    "#         super().__init__(context)\n",
    "#         v = int(open(context.path('config')).read())\n",
    "#         self.bias = json.loads(v)['bias']\n",
    "\n",
    "    @custom_model.inference_api\n",
    "    def run(self, data_list: list) -> pd.DataFrame:\n",
    "#         features = self.context.model_ref('feature_preproc').transform(input)\n",
    "#         model_output = self.context.model_ref('m2').predict(\n",
    "#             self.context.model_ref('m1').predict(features)\n",
    "#         )\n",
    "#         return pd.DataFrame({\n",
    "#             'output': model_output + self.bias})\n",
    "        data_array = np.asarray(data_list)\n",
    "        try:\n",
    "            prediction = model.predict(data_array)\n",
    "        except:\n",
    "            prediction = model.predict(data_array.reshape(1, -1))\n",
    "        return prediction.tolist()"
   ]
  },
  {
   "cell_type": "code",
   "execution_count": null,
   "id": "e211952c",
   "metadata": {},
   "outputs": [],
   "source": [
    "!pip freeze | grep cloud"
   ]
  },
  {
   "cell_type": "code",
   "execution_count": null,
   "id": "62cd651d",
   "metadata": {},
   "outputs": [],
   "source": []
  },
  {
   "cell_type": "code",
   "execution_count": null,
   "id": "e27b053e",
   "metadata": {},
   "outputs": [],
   "source": [
    "import numpy as np\n",
    "import pandas as pd\n",
    "\n",
    "from sklearn.ensemble import GradientBoostingRegressor, GradientBoostingClassifier\n",
    "from sklearn.model_selection import train_test_split\n",
    "from sklearn.model_selection import RandomizedSearchCV"
   ]
  },
  {
   "cell_type": "code",
   "execution_count": null,
   "id": "32311ca6",
   "metadata": {},
   "outputs": [],
   "source": [
    "# Load the data\n",
    "data = pd.read_csv(\"/data/fifa.csv\")\n",
    "data.head(10)"
   ]
  },
  {
   "cell_type": "code",
   "execution_count": null,
   "id": "bb4e700a",
   "metadata": {},
   "outputs": [],
   "source": [
    "X = data[['age','height_cm','weight_kg','skill_dribbling','attacking_crossing','attacking_finishing','movement_acceleration','movement_sprint_speed','power_shot_power','mentality_aggression','defending_marking','defending_standing_tackle','goalkeeping_diving','goalkeeping_handling','overall','potential']]\n",
    "y = data['value_eur']\n",
    "ylog = np.log(y)\n",
    "\n",
    "# %matplotlib inline\n",
    "# import matplotlib.pyplot as plt\n",
    "# plt.hist(ylog, bins='auto')\n",
    "# plt.title(\"ln(value_eur)\")\n",
    "# plt.show()\n",
    "\n",
    "X_train, X_test, ylog_train, ylog_test, y_train, y_test = train_test_split(X, ylog, y, test_size=0.25, random_state=4)"
   ]
  },
  {
   "cell_type": "code",
   "execution_count": null,
   "id": "9c6ee341",
   "metadata": {},
   "outputs": [],
   "source": [
    "gbm_default = GradientBoostingRegressor()\n",
    "gbm_default.fit(X_train, y_train)"
   ]
  },
  {
   "cell_type": "code",
   "execution_count": null,
   "id": "7e12c1a7",
   "metadata": {},
   "outputs": [],
   "source": [
    "def pickle_dumps(obj, file_path):\n",
    "    import cloudpickle\n",
    "    out = open(file_path, \"wb\")\n",
    "    cloudpickle.dump(obj, out)\n",
    "    out.close()"
   ]
  },
  {
   "cell_type": "code",
   "execution_count": null,
   "id": "a135125b",
   "metadata": {},
   "outputs": [],
   "source": [
    "pickle_dumps(gbm_default, \"/notebooks/notebooks/ml_model_1\")"
   ]
  },
  {
   "cell_type": "markdown",
   "id": "f81eaa4f",
   "metadata": {},
   "source": [
    "# Create stage in snowflake-model-registry"
   ]
  },
  {
   "cell_type": "code",
   "execution_count": null,
   "id": "273ae139",
   "metadata": {},
   "outputs": [],
   "source": [
    "query = \"\"\"\n",
    "        create or replace stage sample_model_serving_udf_stg\n",
    "        directory = (enable = true)\n",
    "        copy_options = (on_error='skip_file')\n",
    "        \"\"\"\n",
    "\n",
    "session.sql(query)\n",
    "\n"
   ]
  },
  {
   "cell_type": "code",
   "execution_count": null,
   "id": "36420f0d",
   "metadata": {},
   "outputs": [],
   "source": [
    "# To see the stages\n",
    "session.sql(\"show stages\").show()"
   ]
  },
  {
   "cell_type": "markdown",
   "id": "27f1d9a9",
   "metadata": {},
   "source": [
    "# Upload model file on ML_MODELS stage "
   ]
  },
  {
   "cell_type": "code",
   "execution_count": null,
   "id": "1927ef45",
   "metadata": {},
   "outputs": [],
   "source": [
    "#create the stage for storing the ML models\n",
    "# session.sql(\"USE MODEL_REGISTRY_SNOWSIGHT;\")\n",
    "session.sql('CREATE OR REPLACE STAGE ML_MODELS').show()"
   ]
  },
  {
   "cell_type": "code",
   "execution_count": null,
   "id": "36eb0de5",
   "metadata": {},
   "outputs": [],
   "source": [
    "session.file.put(\n",
    "    \"/notebooks/notebooks/ml_model_1\", \"@ML_MODELS\", auto_compress=False, overwrite=True\n",
    ")"
   ]
  },
  {
   "cell_type": "markdown",
   "id": "ec8b6da7",
   "metadata": {},
   "source": [
    "# Read model file from stage"
   ]
  },
  {
   "cell_type": "code",
   "execution_count": null,
   "id": "899bfbdd",
   "metadata": {},
   "outputs": [],
   "source": [
    "session.clear_imports()\n",
    "session.clear_packages()\n",
    "\n",
    "#Register above uploded model as import of UDF\n",
    "session.add_import(\"@ML_MODELS/ml_model_1\")\n",
    "\n",
    "#map packege dependancies\n",
    "session.add_packages(\"scikit-learn\", \"pandas\", \"cloudpickle==2.2.1\")"
   ]
  },
  {
   "cell_type": "code",
   "execution_count": null,
   "id": "a7a0a34f",
   "metadata": {},
   "outputs": [],
   "source": [
    "from snowflake.snowpark.types import PandasSeries, PandasDataFrame\n",
    "import snowflake.snowpark.functions as F\n",
    "\n",
    "\n",
    "def read_file(filename):\n",
    "    import cloudpickle\n",
    "    import sys\n",
    "    import os\n",
    "    \n",
    "    #where all imports located at\n",
    "    import_dir = sys._xoptions.get(\"snowflake_import_directory\")\n",
    "\n",
    "    if import_dir:\n",
    "        with open(os.path.join(import_dir, filename), 'rb') as file:\n",
    "            m = cloudpickle.load(file)\n",
    "            return m\n",
    "\n",
    "#register UDF\n",
    "@F.udf(name = 'predict_score', is_permanent = True, replace = True, stage_location = '@ML_MODELS')\n",
    "def predict_score(data_list: list) -> list:\n",
    "    import numpy as np\n",
    "    \n",
    "    # later we will input train data as JSON object\n",
    "    # hance, we have to convert JSON object as pandas DF\n",
    "    data_array = np.asarray(data_list)\n",
    "    pipeline = read_file('ml_model_1')\n",
    "    \n",
    "    return \"test\"\n",
    "#     return pipeline.predict(data_array).to_list()"
   ]
  },
  {
   "cell_type": "markdown",
   "id": "d97f3dc5",
   "metadata": {},
   "source": [
    "# "
   ]
  }
 ],
 "metadata": {
  "kernelspec": {
   "display_name": "Python 3",
   "language": "python",
   "name": "python3"
  },
  "language_info": {
   "codemirror_mode": {
    "name": "ipython",
    "version": 3
   },
   "file_extension": ".py",
   "mimetype": "text/x-python",
   "name": "python",
   "nbconvert_exporter": "python",
   "pygments_lexer": "ipython3",
   "version": "3.9.18"
  }
 },
 "nbformat": 4,
 "nbformat_minor": 5
}
