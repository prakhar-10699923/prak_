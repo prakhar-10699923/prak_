{
 "cells": [
  {
   "cell_type": "code",
   "execution_count": null,
   "id": "8b04b2db",
   "metadata": {},
   "outputs": [],
   "source": [
    "# !pip install snowflake-snowpark-python[pandas]==1.5.0\n",
    "# !pip install snowflake-connector-python\n",
    "# !pip install snowflake-ml-python==1.0.10"
   ]
  },
  {
   "cell_type": "code",
   "execution_count": null,
   "id": "54c8fe30",
   "metadata": {},
   "outputs": [],
   "source": [
    "!pip install snowflake[ml]==0.8.0"
   ]
  },
  {
   "cell_type": "code",
   "execution_count": null,
   "id": "269cbf42",
   "metadata": {},
   "outputs": [],
   "source": [
    "# !pip install snowflake-connector-python\n",
    "!pip uninstall cloudpickle -y\n",
    "!pip install cloudpickle==2.2.1"
   ]
  },
  {
   "cell_type": "code",
   "execution_count": 1,
   "id": "6965566c",
   "metadata": {},
   "outputs": [],
   "source": [
    "from snowflake.snowpark import Session"
   ]
  },
  {
   "cell_type": "code",
   "execution_count": null,
   "id": "95efc2dc",
   "metadata": {},
   "outputs": [],
   "source": [
    "REGISTRY_DATABASE_NAME = \"MODEL_REGISTRY_SNOWSIGHT\"\n",
    "REGISTRY_SCHEMA_NAME = \"SNOWINSIGHT\""
   ]
  },
  {
   "cell_type": "code",
   "execution_count": null,
   "id": "fd38b4c4",
   "metadata": {},
   "outputs": [],
   "source": [
    "import configparser\n",
    "def get_session():\n",
    "    parser = configparser.ConfigParser()\n",
    "    # Add the credential file name here\n",
    "    parser.read('/notebooks/notebooks/config.ini')\n",
    "\n",
    "    connection_params = dict(user=parser['Credentials']['user'], \n",
    "                         password=parser['Credentials']['password'], \n",
    "                         account=parser['Credentials']['account'], \n",
    "                         warehouse=parser['Credentials']['warehouse'], \n",
    "                         database=REGISTRY_DATABASE_NAME,\n",
    "                         schema=REGISTRY_SCHEMA_NAME, \n",
    "                         role=parser['Credentials']['role'])\n",
    "#     print(\"connection_params = \",  connection_params)\n",
    "\n",
    "\n",
    "    session = Session.builder.configs(connection_params).create()\n",
    "    return session"
   ]
  },
  {
   "cell_type": "code",
   "execution_count": null,
   "id": "2319ac22",
   "metadata": {},
   "outputs": [],
   "source": [
    "session = get_session()\n",
    "# session.close()\n",
    "session"
   ]
  },
  {
   "cell_type": "code",
   "execution_count": null,
   "id": "7c401604",
   "metadata": {},
   "outputs": [],
   "source": [
    "# from snowflake.ml.registry import model_registry\n",
    "from snowflake.ml.registry import Registry as model_registry"
   ]
  },
  {
   "cell_type": "code",
   "execution_count": null,
   "id": "49192969",
   "metadata": {},
   "outputs": [],
   "source": [
    "!pip list | grep -i sci"
   ]
  },
  {
   "cell_type": "code",
   "execution_count": null,
   "id": "3e0a8c4d",
   "metadata": {},
   "outputs": [],
   "source": [
    "session.sql(\"LIST STAGES\")"
   ]
  },
  {
   "cell_type": "code",
   "execution_count": null,
   "id": "9ffad949",
   "metadata": {},
   "outputs": [],
   "source": [
    "# model_registry.create_model_registry(session=session, database_name=REGISTRY_DATABASE_NAME, schema_name=REGISTRY_SCHEMA_NAME)"
   ]
  },
  {
   "cell_type": "code",
   "execution_count": null,
   "id": "721b2a7e",
   "metadata": {},
   "outputs": [],
   "source": [
    "registry = model_registry(session=session, database_name=REGISTRY_DATABASE_NAME, schema_name=REGISTRY_SCHEMA_NAME )"
   ]
  },
  {
   "cell_type": "code",
   "execution_count": null,
   "id": "bf6835e7",
   "metadata": {},
   "outputs": [],
   "source": [
    "# registry = model_registry.ModelRegistry(session=session, database_name=REGISTRY_DATABASE_NAME, schema_name=REGISTRY_SCHEMA_NAME)"
   ]
  },
  {
   "cell_type": "code",
   "execution_count": null,
   "id": "611e8f77",
   "metadata": {},
   "outputs": [],
   "source": [
    "df = registry.show_models()\n",
    "df\n",
    "# type(df)"
   ]
  },
  {
   "cell_type": "markdown",
   "id": "63e2d25d",
   "metadata": {},
   "source": [
    "# Get model list from snowpark registry"
   ]
  },
  {
   "cell_type": "code",
   "execution_count": null,
   "id": "33a32df8",
   "metadata": {},
   "outputs": [],
   "source": [
    "model_list = registry.models()\n",
    "model_list"
   ]
  },
  {
   "cell_type": "markdown",
   "id": "adca9b9a",
   "metadata": {},
   "source": [
    "# Get model details from registry"
   ]
  },
  {
   "cell_type": "code",
   "execution_count": null,
   "id": "fcb27a3e",
   "metadata": {},
   "outputs": [],
   "source": [
    "m =registry.get_model(\"sample_sklearn_model\")\n",
    "m"
   ]
  },
  {
   "cell_type": "markdown",
   "id": "b4496f60",
   "metadata": {},
   "source": [
    "# Get model versions"
   ]
  },
  {
   "cell_type": "code",
   "execution_count": null,
   "id": "d61e9309",
   "metadata": {},
   "outputs": [],
   "source": [
    "df_version = m.show_versions()\n",
    "df_version"
   ]
  },
  {
   "cell_type": "markdown",
   "id": "3acf87c3",
   "metadata": {},
   "source": [
    "# Set default model version"
   ]
  },
  {
   "cell_type": "code",
   "execution_count": null,
   "id": "5fe4bc00",
   "metadata": {},
   "outputs": [],
   "source": [
    "# default_version = m.default\n",
    "m.default = \"V1\""
   ]
  },
  {
   "cell_type": "markdown",
   "id": "b863c652",
   "metadata": {},
   "source": [
    "# Get default model version details from model-registry"
   ]
  },
  {
   "cell_type": "code",
   "execution_count": null,
   "id": "c053fb93",
   "metadata": {},
   "outputs": [],
   "source": [
    "mv = m.default\n",
    "mv"
   ]
  },
  {
   "cell_type": "code",
   "execution_count": null,
   "id": "5d4b10aa",
   "metadata": {},
   "outputs": [],
   "source": [
    "x"
   ]
  },
  {
   "cell_type": "code",
   "execution_count": null,
   "id": "c8a006d3",
   "metadata": {},
   "outputs": [],
   "source": [
    "#Load default vesion as python object\n",
    "# clf = mv.load()"
   ]
  },
  {
   "cell_type": "markdown",
   "id": "0cb1e616",
   "metadata": {},
   "source": [
    "# Run prediction on scikit-learn model"
   ]
  },
  {
   "cell_type": "code",
   "execution_count": null,
   "id": "38d0a468",
   "metadata": {},
   "outputs": [],
   "source": [
    "import numpy as np\n",
    "data_list = [[ 25, 185,  88,  78,  65,  81,  77,  75,  81,  63,  37,  26,   9, 10,  79,  82]]\n",
    "data_array = np.asarray(data_list)\n",
    "print(\"data_array =\", data_array)\n",
    "\n",
    "remote_prediction = mv.run(data_array, function_name=\"predict\")\n",
    "remote_prediction   # assuming test_features is Snowpark DataFrame\n",
    "remote_prediction"
   ]
  },
  {
   "cell_type": "code",
   "execution_count": null,
   "id": "4b4cbe99",
   "metadata": {},
   "outputs": [],
   "source": [
    "# import cloudpickle\n",
    "\n",
    "# model_obj = cloudpickle.load(open(\"/notebooks/notebooks/ml_model\", \"rb\"))\n",
    "# model_obj\n"
   ]
  },
  {
   "cell_type": "code",
   "execution_count": null,
   "id": "f5f8e68a",
   "metadata": {},
   "outputs": [],
   "source": [
    "type(X_train)"
   ]
  },
  {
   "cell_type": "code",
   "execution_count": null,
   "id": "ab2fe843",
   "metadata": {},
   "outputs": [],
   "source": [
    "# x_train = cloudpickle.load(open(\"/notebooks/notebooks/x_train\", \"rb\"))\n",
    "# x_train\n",
    "# type(x_train)"
   ]
  },
  {
   "cell_type": "code",
   "execution_count": null,
   "id": "f61facf7",
   "metadata": {},
   "outputs": [],
   "source": []
  },
  {
   "cell_type": "markdown",
   "id": "9c700bc4",
   "metadata": {},
   "source": [
    "# Deploy model with custom class"
   ]
  },
  {
   "cell_type": "code",
   "execution_count": null,
   "id": "0b194ae9",
   "metadata": {},
   "outputs": [],
   "source": [
    "from snowflake.ml.model import custom_model"
   ]
  },
  {
   "cell_type": "code",
   "execution_count": null,
   "id": "0ff7455a",
   "metadata": {},
   "outputs": [],
   "source": [
    "class ExamplePipelineModel(custom_model.CustomModel):\n",
    "#     def __init__(self, context: ModelContext) -> None:\n",
    "#         super().__init__(context)\n",
    "#         v = int(open(context.path('config')).read())\n",
    "#         self.bias = json.loads(v)['bias']\n",
    "\n",
    "    @custom_model.inference_api\n",
    "    def run(self, data_list: list) -> pd.DataFrame:\n",
    "#         features = self.context.model_ref('feature_preproc').transform(input)\n",
    "#         model_output = self.context.model_ref('m2').predict(\n",
    "#             self.context.model_ref('m1').predict(features)\n",
    "#         )\n",
    "#         return pd.DataFrame({\n",
    "#             'output': model_output + self.bias})\n",
    "        data_array = np.asarray(data_list)\n",
    "        try:\n",
    "            prediction = model.predict(data_array)\n",
    "        except:\n",
    "            prediction = model.predict(data_array.reshape(1, -1))\n",
    "        return prediction.tolist()"
   ]
  },
  {
   "cell_type": "code",
   "execution_count": null,
   "id": "e211952c",
   "metadata": {},
   "outputs": [],
   "source": [
    "!pip freeze | grep cloud"
   ]
  },
  {
   "cell_type": "markdown",
   "id": "e9902a57",
   "metadata": {},
   "source": [
    "# Train & register model"
   ]
  },
  {
   "cell_type": "code",
   "execution_count": null,
   "id": "e27b053e",
   "metadata": {},
   "outputs": [],
   "source": [
    "import numpy as np\n",
    "import pandas as pd\n",
    "\n",
    "from sklearn.ensemble import GradientBoostingRegressor, GradientBoostingClassifier\n",
    "from sklearn.model_selection import train_test_split\n",
    "from sklearn.model_selection import RandomizedSearchCV"
   ]
  },
  {
   "cell_type": "code",
   "execution_count": null,
   "id": "32311ca6",
   "metadata": {},
   "outputs": [],
   "source": [
    "# Load the data\n",
    "data = pd.read_csv(\"/data/fifa.csv\")\n",
    "data.head(10)"
   ]
  },
  {
   "cell_type": "code",
   "execution_count": null,
   "id": "c6fb05b7",
   "metadata": {},
   "outputs": [],
   "source": [
    "type(y_train)"
   ]
  },
  {
   "cell_type": "code",
   "execution_count": null,
   "id": "bb4e700a",
   "metadata": {},
   "outputs": [],
   "source": [
    "X = data[['age','height_cm','weight_kg','skill_dribbling','attacking_crossing','attacking_finishing','movement_acceleration','movement_sprint_speed','power_shot_power','mentality_aggression','defending_marking','defending_standing_tackle','goalkeeping_diving','goalkeeping_handling','overall','potential']]\n",
    "y = data['value_eur']\n",
    "ylog = np.log(y)\n",
    "\n",
    "# %matplotlib inline\n",
    "# import matplotlib.pyplot as plt\n",
    "# plt.hist(ylog, bins='auto')\n",
    "# plt.title(\"ln(value_eur)\")\n",
    "# plt.show()\n",
    "\n",
    "X_train, X_test, ylog_train, ylog_test, y_train, y_test = train_test_split(X, ylog, y, test_size=0.25, random_state=4)"
   ]
  },
  {
   "cell_type": "code",
   "execution_count": null,
   "id": "9c6ee341",
   "metadata": {},
   "outputs": [],
   "source": [
    "gbm_default = GradientBoostingRegressor()\n",
    "gbm_default.fit(X_train, y_train)"
   ]
  },
  {
   "cell_type": "code",
   "execution_count": null,
   "id": "e1d2819b",
   "metadata": {},
   "outputs": [],
   "source": [
    "gbm_default.head()"
   ]
  },
  {
   "cell_type": "code",
   "execution_count": null,
   "id": "7e1aa5b5",
   "metadata": {},
   "outputs": [],
   "source": [
    "import joblib\n",
    "def dump_model(model, path):\n",
    "    joblib.dump(model, path)"
   ]
  },
  {
   "cell_type": "code",
   "execution_count": null,
   "id": "82918f9b",
   "metadata": {},
   "outputs": [],
   "source": [
    "dump_model(gbm_default, \"/notebooks/notebooks/ml_model_4\")"
   ]
  },
  {
   "cell_type": "markdown",
   "id": "d2c04762",
   "metadata": {},
   "source": [
    "# Generating model signature"
   ]
  },
  {
   "cell_type": "code",
   "execution_count": null,
   "id": "ba7d91fd",
   "metadata": {},
   "outputs": [],
   "source": [
    "from snowflake.ml.model import model_signature"
   ]
  },
  {
   "cell_type": "code",
   "execution_count": null,
   "id": "0b236538",
   "metadata": {},
   "outputs": [],
   "source": [
    "sig = model_signature.infer_signature(\n",
    "    X_train.head(),\n",
    "    data['value_eur'],\n",
    "    input_feature_names=['age','height_cm','weight_kg','skill_dribbling',\n",
    "                         'attacking_crossing','attacking_finishing','movement_acceleration',\n",
    "                         'movement_sprint_speed','power_shot_power','mentality_aggression',\n",
    "                         'defending_marking','defending_standing_tackle','goalkeeping_diving',\n",
    "                         'goalkeeping_handling','overall','potential'],\n",
    "    output_feature_names=['value_eur'])"
   ]
  },
  {
   "cell_type": "code",
   "execution_count": null,
   "id": "64ed2f11",
   "metadata": {},
   "outputs": [],
   "source": [
    "mv = registry.log_model(gbm_default,\n",
    "                   model_name=\"sample_sklearn_model_5\",\n",
    "                   version_name=\"v1\",\n",
    "                   conda_dependencies=[\"scikit-learn==1.3.2\", \"scipy==1.13.1\", \"cloudpickle==2.2.1\"],\n",
    "                   comment=\"My awesome ML model\",\n",
    "                    python_version=\"3.9.19\",\n",
    "                   metrics={\"score\": 96},\n",
    "                   sample_input_data=X_train\n",
    "                       )"
   ]
  },
  {
   "cell_type": "code",
   "execution_count": null,
   "id": "7e12c1a7",
   "metadata": {},
   "outputs": [],
   "source": [
    "import joblib\n",
    "def dump_model(model, path):\n",
    "    joblib.dump(model, path)"
   ]
  },
  {
   "cell_type": "code",
   "execution_count": null,
   "id": "a135125b",
   "metadata": {},
   "outputs": [],
   "source": [
    "dump_model(gbm_default, \"/notebooks/notebooks/ml_model_5\")"
   ]
  },
  {
   "cell_type": "markdown",
   "id": "f81eaa4f",
   "metadata": {},
   "source": [
    "# Create stage in snowflake-model-registry"
   ]
  },
  {
   "cell_type": "code",
   "execution_count": null,
   "id": "273ae139",
   "metadata": {},
   "outputs": [],
   "source": [
    "# query = \"\"\"\n",
    "#         create or replace stage sample_model_serving_udf_stg\n",
    "#         directory = (enable = true)\n",
    "#         copy_options = (on_error='skip_file')\n",
    "#         \"\"\"\n",
    "\n",
    "# session.sql(query)\n",
    "\n"
   ]
  },
  {
   "cell_type": "code",
   "execution_count": null,
   "id": "36420f0d",
   "metadata": {},
   "outputs": [],
   "source": [
    "# To see the stages\n",
    "session.sql(\"show stages\")"
   ]
  },
  {
   "cell_type": "code",
   "execution_count": null,
   "id": "218f5d38",
   "metadata": {},
   "outputs": [],
   "source": [
    "from snowflake.snowpark.files import SnowflakeFile"
   ]
  },
  {
   "cell_type": "code",
   "execution_count": null,
   "id": "ca4e633c",
   "metadata": {},
   "outputs": [],
   "source": [
    "import cloudpickle\n",
    "with SnowflakeFile.open(\"@STG_ML_MODELS/ml_model_2\") as file:\n",
    "    m= cloudpickle.load(file)\n",
    "    print(type(m))"
   ]
  },
  {
   "cell_type": "markdown",
   "id": "27f1d9a9",
   "metadata": {},
   "source": [
    "# Upload model file on ML_MODELS stage "
   ]
  },
  {
   "cell_type": "code",
   "execution_count": null,
   "id": "1927ef45",
   "metadata": {},
   "outputs": [],
   "source": [
    "#create the stage for storing the ML models\n",
    "# session.sql(\"USE MODEL_REGISTRY_SNOWSIGHT;\")\n",
    "session.sql('CREATE OR REPLACE STAGE STG_ML_MODELS').show()"
   ]
  },
  {
   "cell_type": "code",
   "execution_count": null,
   "id": "c094cac2",
   "metadata": {},
   "outputs": [],
   "source": [
    "X_train.to_csv(\"/data/X_train.csv\", index = False)"
   ]
  },
  {
   "cell_type": "code",
   "execution_count": null,
   "id": "cdbe6e91",
   "metadata": {},
   "outputs": [],
   "source": [
    "session.file.put(\n",
    "    \"/data/X_train.csv\", \"@STG_ML_MODELS\", auto_compress=False, overwrite=True\n",
    ")"
   ]
  },
  {
   "cell_type": "code",
   "execution_count": null,
   "id": "36eb0de5",
   "metadata": {},
   "outputs": [],
   "source": [
    "session.file.put(\n",
    "    \"/notebooks/notebooks/ml_model_5\", \"@STG_ML_MODELS\", auto_compress=False, overwrite=True\n",
    ")"
   ]
  },
  {
   "cell_type": "code",
   "execution_count": null,
   "id": "35257623",
   "metadata": {},
   "outputs": [],
   "source": [
    "session.file.put(\n",
    "    \"/data/ml_model_5\", \"@STG_ML_MODELS\", auto_compress=False, overwrite=True\n",
    ")"
   ]
  },
  {
   "cell_type": "markdown",
   "id": "ec8b6da7",
   "metadata": {},
   "source": [
    "# Read model file from stage"
   ]
  },
  {
   "cell_type": "code",
   "execution_count": null,
   "id": "899bfbdd",
   "metadata": {},
   "outputs": [],
   "source": [
    "session.clear_imports()\n",
    "session.clear_packages()\n",
    "\n",
    "#Register above uploded model as import of UDF\n",
    "session.add_import(\"@STG_ML_MODELS/ml_model_2\")\n",
    "\n",
    "#map packege dependancies\n",
    "session.add_packages(\"scikit-learn\", \"pandas\", \"cloudpickle==2.2.1\")"
   ]
  },
  {
   "cell_type": "code",
   "execution_count": null,
   "id": "a7a0a34f",
   "metadata": {},
   "outputs": [],
   "source": [
    "from snowflake.snowpark.types import PandasSeries, PandasDataFrame\n",
    "import snowflake.snowpark.functions as F\n",
    "from typing import  Optional\n",
    "\n",
    "\n",
    "\n",
    "def read_file(filename):\n",
    "    import cloudpickle\n",
    "    import sys\n",
    "    import os\n",
    "    \n",
    "    #where all imports located at\n",
    "    import_dir = sys._xoptions.get(\"snowflake_import_directory\")\n",
    "\n",
    "    if import_dir:\n",
    "        with open(os.path.join(import_dir, filename), 'rb') as file:\n",
    "            m = cloudpickle.load(file)\n",
    "            return m\n",
    "\n",
    "#register UDF\n",
    "@F.udf(name = 'READ_MODEL_FROM_FILE', is_permanent = True, replace = True, stage_location = '@STG_ML_MODELS')\n",
    "def read_model_from_file(file_name:Optional[str]) -> str:\n",
    "    import numpy as np\n",
    "    \n",
    "    # later we will input train data as JSON object\n",
    "    # hance, we have to convert JSON object as pandas DF\n",
    "    data_array = np.asarray(data_list)\n",
    "    pipeline = read_file(file_name)\n",
    "    print(\"type of pickle object =\", type(pipeline))\n",
    "#     dict_mod[\"model_obj\"] = pipeline\n",
    "    return \"pipeline\"\n",
    "#     return pipeline.predict(data_array).to_list()\n",
    "\n",
    "\n",
    "\n",
    "\n",
    "# @F.udf(name = 'READ_MODEL_FROM_FILE', is_permanent = True, replace = True, stage_location = '@STG_ML_MODELS')\n",
    "# def read_model_from_file(file_name:Optional[str]) -> str:\n",
    "#     import numpy as np\n",
    "    \n",
    "#     # later we will input train data as JSON object\n",
    "#     # hance, we have to convert JSON object as pandas DF\n",
    "#     data_array = np.asarray(data_list)\n",
    "#     pipeline = read_file(file_name)\n",
    "#     print(\"type of pickle object =\", type(pipeline))\n",
    "# #     dict_mod[\"model_obj\"] = pipeline\n",
    "#     return pipeline\n",
    "# #     return pipeline.predict(data_array).to_list()"
   ]
  },
  {
   "cell_type": "code",
   "execution_count": null,
   "id": "4deae998",
   "metadata": {},
   "outputs": [],
   "source": [
    "session.sql(\"DESC FUNCTION READ_MODEL_FROM_FILE(\"ml_model\")\").show()"
   ]
  },
  {
   "cell_type": "code",
   "execution_count": null,
   "id": "ac767dfa",
   "metadata": {},
   "outputs": [],
   "source": [
    "model_udf = read_model_from_file(\"ml_model_2\")\n",
    "# model_udf = read_file(\"ml_model_2\")"
   ]
  },
  {
   "cell_type": "code",
   "execution_count": null,
   "id": "87ca686a",
   "metadata": {},
   "outputs": [],
   "source": [
    "model_udf"
   ]
  },
  {
   "cell_type": "code",
   "execution_count": null,
   "id": "4061913f",
   "metadata": {},
   "outputs": [],
   "source": [
    "registry."
   ]
  },
  {
   "cell_type": "code",
   "execution_count": null,
   "id": "86657f39",
   "metadata": {},
   "outputs": [],
   "source": [
    "import joblib"
   ]
  },
  {
   "cell_type": "code",
   "execution_count": null,
   "id": "5bc1eb6d",
   "metadata": {},
   "outputs": [],
   "source": [
    "# model_obj = joblib.load(read_model_from_file(\"ml_model_2\"))\n",
    "import os\n",
    "model_file = os.path.join(\"/notebooks/notebooks\", \"ml_model_3\")\n",
    "model_obj = joblib.load(model_file)"
   ]
  },
  {
   "cell_type": "code",
   "execution_count": null,
   "id": "c40ed953",
   "metadata": {},
   "outputs": [],
   "source": [
    "X_train.to_csv(\"/data/X_train.csv\")"
   ]
  },
  {
   "cell_type": "code",
   "execution_count": null,
   "id": "fe078460",
   "metadata": {},
   "outputs": [],
   "source": [
    "import numpy as np"
   ]
  },
  {
   "cell_type": "code",
   "execution_count": null,
   "id": "f2a10e5e",
   "metadata": {},
   "outputs": [],
   "source": [
    "data_list = [[ 25, 185,  88,  78,  65,  81,  77,  75,  81,  63,  37,  26,   9, 10,  79,  82]]\n",
    "data_array = np.asarray(data_list)\n",
    "print(\"data_array =\", data_array)\n",
    "\n",
    "remote_prediction = model_obj.run(data_array, function_name=\"predict\")\n",
    "remote_prediction   # assuming test_features is Snowpark DataFrame\n",
    "remote_prediction"
   ]
  },
  {
   "cell_type": "code",
   "execution_count": null,
   "id": "9d312ad9",
   "metadata": {},
   "outputs": [],
   "source": [
    "from snowflake.snowpark import DataFrame"
   ]
  },
  {
   "cell_type": "code",
   "execution_count": null,
   "id": "374bf208",
   "metadata": {},
   "outputs": [],
   "source": [
    "import pandas as pd"
   ]
  },
  {
   "cell_type": "code",
   "execution_count": null,
   "id": "65091fd6",
   "metadata": {},
   "outputs": [],
   "source": [
    "from snowflake.snowpark.types import Variant\n",
    "def read_model_from_stage(session: Session, df_dict: dict) -> Variant:\n",
    "\n",
    "    # print(\"file_name =\", file_name)\n",
    "    # session.add_import(\"@STG_ML_MODELS/\"+file_name)\n",
    "    # map packege dependancies\n",
    "    # session.add_packages(\"scikit-learn\", \"pandas\", \"cloudpickle==2.2.1\")\n",
    "\n",
    "\n",
    "\n",
    "    # from snowflake.snowpark.types import PandasSeries, PandasDataFrame\n",
    "    # import snowflake.snowpark.functions as F\n",
    "    # from typing import Optional\n",
    "    from snowflake.snowpark.files import SnowflakeFile\n",
    "    from snowflake.ml.registry.registry import Registry\n",
    "\n",
    "    import joblib\n",
    "    df = pd.DataFrame(df_dict)\n",
    "    print(\"df ===\", df)\n",
    "\n",
    "    model_file = '@STG_ML_MODELS/ml_model_5'\n",
    "    # Specify 'mode = rb' to open the file in binary mode.\n",
    "    with SnowflakeFile.open(model_file, 'rb', require_scoped_url=False) as f:\n",
    "        model_obj = joblib.load(f)\n",
    "        # return str(model_obj)\n",
    "        # return str(model_obj)\n",
    "\n",
    "        reg = Registry(session=session)\n",
    "\n",
    "        mv = reg.log_model(model=model_obj,\n",
    "                           model_name=\"sample_model\",\n",
    "                           comment=\"test\",\n",
    "                           version_name=\"run1\",\n",
    "                           python_version=\"3.9.19\",\n",
    "                           conda_dependencies=[\"scikit-learn==1.3.2\"],\n",
    "                           metrics={\"model_metrics\": {\"score\": 96}, \"project_id\": \"0001\", \"type\": \"Model\"},\n",
    "                           sample_input_data=df\n",
    "                           )\n",
    "\n",
    "        print(\"model got registered successfully\")\n",
    "        return df_dict"
   ]
  },
  {
   "cell_type": "code",
   "execution_count": null,
   "id": "72e7c3f2",
   "metadata": {},
   "outputs": [],
   "source": [
    "session.sproc.register(func=read_model_from_stage,\n",
    "                           name=\"read_model_from_stage\",\n",
    "                           packages=[\"snowflake-snowpark-python\", \"snowflake-ml-python\",\"scikit-learn\", \"pandas\", \"cloudpickle==2.2.1\", \"joblib\"],\n",
    "                           isPermanant=True,\n",
    "                           stage_location=\"@STG_ML_MODELS\",\n",
    "                           replace=True,\n",
    "                       )"
   ]
  },
  {
   "cell_type": "code",
   "execution_count": null,
   "id": "1cce4d2b",
   "metadata": {},
   "outputs": [],
   "source": [
    "dict_df = X_train.head().to_dict()"
   ]
  },
  {
   "cell_type": "code",
   "execution_count": null,
   "id": "e2fa057b",
   "metadata": {},
   "outputs": [],
   "source": [
    "dict_df"
   ]
  },
  {
   "cell_type": "code",
   "execution_count": null,
   "id": "a9d0e098",
   "metadata": {},
   "outputs": [],
   "source": [
    "X_train.columns"
   ]
  },
  {
   "cell_type": "code",
   "execution_count": null,
   "id": "b4bb6445",
   "metadata": {},
   "outputs": [],
   "source": [
    "df = pd.DataFrame(dict_df)"
   ]
  },
  {
   "cell_type": "code",
   "execution_count": null,
   "id": "3b8fc860",
   "metadata": {},
   "outputs": [],
   "source": [
    "df.columns"
   ]
  },
  {
   "cell_type": "code",
   "execution_count": null,
   "id": "bb9c989a",
   "metadata": {},
   "outputs": [],
   "source": [
    "model_obj = session.call(\"read_model_from_stage\", dict_df)"
   ]
  },
  {
   "cell_type": "code",
   "execution_count": null,
   "id": "f75669dc",
   "metadata": {},
   "outputs": [],
   "source": []
  },
  {
   "cell_type": "code",
   "execution_count": null,
   "id": "d2c6452a",
   "metadata": {},
   "outputs": [],
   "source": [
    "!pip freeze | grep -i categ"
   ]
  },
  {
   "cell_type": "code",
   "execution_count": null,
   "id": "85235431",
   "metadata": {},
   "outputs": [],
   "source": [
    "!pip install category_encoders"
   ]
  },
  {
   "cell_type": "code",
   "execution_count": null,
   "id": "3148504e",
   "metadata": {},
   "outputs": [],
   "source": [
    "import pandas as pd\n",
    "import numpy as np\n",
    "# import category_encoders as ce\n",
    "from sklearn.model_selection import train_test_split\n",
    "from sklearn.tree import DecisionTreeClassifier\n",
    "import requests\n",
    "# from refractml import *\n",
    "# from refractml.constants import MLModelFlavours"
   ]
  },
  {
   "cell_type": "code",
   "execution_count": null,
   "id": "b2e8c6b5",
   "metadata": {},
   "outputs": [],
   "source": [
    "cars = pd.read_csv(\"/data/car_new.csv\")\n",
    "cars"
   ]
  },
  {
   "cell_type": "code",
   "execution_count": null,
   "id": "532f93f6",
   "metadata": {},
   "outputs": [],
   "source": [
    "Y = cars['class_num']\n",
    "X = cars.drop (['class_num'], axis=1)\n",
    "X_train, X_test, y_train, y_test = train_test_split(X, Y, test_size=0.18, shuffle=True, random_state=25)\n",
    "print (X_train.shape, X_test.shape, y_train.shape, y_test.shape)"
   ]
  },
  {
   "cell_type": "code",
   "execution_count": null,
   "id": "83b124c5",
   "metadata": {},
   "outputs": [],
   "source": [
    "first_tree = DecisionTreeClassifier()\n",
    "model=first_tree.fit(X_train, y_train)\n",
    "model"
   ]
  },
  {
   "cell_type": "code",
   "execution_count": null,
   "id": "1b91b81b",
   "metadata": {},
   "outputs": [],
   "source": [
    "y_pred = model.predict(X_test)\n",
    "first_tree.score(X_test, y_test)\n",
    "y_prob = model.predict_proba(X_test)[:,1]"
   ]
  },
  {
   "cell_type": "code",
   "execution_count": null,
   "id": "e00d7470",
   "metadata": {},
   "outputs": [],
   "source": [
    "model.predict(X_train.head(1))"
   ]
  },
  {
   "cell_type": "code",
   "execution_count": null,
   "id": "81dc3242",
   "metadata": {},
   "outputs": [],
   "source": [
    "from snowflake.ml.model import model_signature"
   ]
  },
  {
   "cell_type": "code",
   "execution_count": null,
   "id": "d7bef6e2",
   "metadata": {},
   "outputs": [],
   "source": [
    "y_train.head().tolist()"
   ]
  },
  {
   "cell_type": "code",
   "execution_count": null,
   "id": "4cfe61de",
   "metadata": {},
   "outputs": [],
   "source": [
    "sig = model_signature.infer_signature(\n",
    "    X_train.head(),\n",
    "    y_train.head().tolist(),\n",
    "    input_feature_names=X_train.columns.tolist(),\n",
    "    output_feature_names=['class_num'])"
   ]
  },
  {
   "cell_type": "markdown",
   "id": "d97f3dc5",
   "metadata": {},
   "source": [
    "# "
   ]
  }
 ],
 "metadata": {
  "kernelspec": {
   "display_name": "Python 3",
   "language": "python",
   "name": "python3"
  },
  "language_info": {
   "codemirror_mode": {
    "name": "ipython",
    "version": 3
   },
   "file_extension": ".py",
   "mimetype": "text/x-python",
   "name": "python",
   "nbconvert_exporter": "python",
   "pygments_lexer": "ipython3",
   "version": "3.9.18"
  }
 },
 "nbformat": 4,
 "nbformat_minor": 5
}
