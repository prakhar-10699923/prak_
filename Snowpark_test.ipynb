{
 "cells": [
  {
   "cell_type": "code",
   "execution_count": null,
   "id": "8b04b2db",
   "metadata": {},
   "outputs": [],
   "source": [
    "# !pip install snowflake-snowpark-python[pandas]==1.5.0\n",
    "# !pip install snowflake-connector-python\n",
    "# !pip install snowflake-ml-python==1.0.10"
   ]
  },
  {
   "cell_type": "code",
   "execution_count": 1,
   "id": "54c8fe30",
   "metadata": {},
   "outputs": [
    {
     "name": "stdout",
     "output_type": "stream",
     "text": [
      "Collecting snowflake[ml]==0.8.0\n",
      "  Downloading https://files.pythonhosted.org/packages/1f/46/a456b8d3ea1f03d172503166e1f3d58c67bb5b3cfd73d32bdb6c55b4d885/snowflake-0.8.0-py3-none-any.whl\n",
      "Collecting snowflake-core==0.8.0\n",
      "\u001b[?25l  Downloading https://files.pythonhosted.org/packages/6f/55/1053b2e8e000c8aa68a6ded471a4fcc209fef77071c8d86096586a749120/snowflake_core-0.8.0-py3-none-any.whl (443kB)\n",
      "\u001b[K     |████████████████████████████████| 450kB 1.5MB/s eta 0:00:01\n",
      "\u001b[?25hCollecting snowflake-legacy\n",
      "  Downloading https://files.pythonhosted.org/packages/6d/81/c90970eb8f9f3b195a50375dab3a1f0960054e2b1f553f62519f44a846e2/snowflake_legacy-0.8.1-py3-none-any.whl\n",
      "Collecting snowflake-ml-python==1.4.0; extra == \"ml\"\n",
      "\u001b[?25l  Downloading https://files.pythonhosted.org/packages/ed/2f/8e8862f0b77c23cdcafba56be63640f87feb8aef4421116b836f40f1f9c4/snowflake_ml_python-1.4.0-py3-none-any.whl (1.8MB)\n",
      "\u001b[K     |████████████████████████████████| 1.8MB 30.8MB/s eta 0:00:01\n",
      "\u001b[?25hCollecting atpublic>=4\n",
      "  Downloading https://files.pythonhosted.org/packages/5e/5e/3613e5aa17ac07a69e89a5f47706f5719035f386eb024d6680483926b034/atpublic-4.1.0-py3-none-any.whl\n",
      "Collecting urllib3\n",
      "\u001b[?25l  Downloading https://files.pythonhosted.org/packages/a2/73/a68704750a7679d0b6d3ad7aa8d4da8e14e151ae82e6fee774e6e0d05ec8/urllib3-2.2.1-py3-none-any.whl (121kB)\n",
      "\u001b[K     |████████████████████████████████| 122kB 33.2MB/s eta 0:00:01\n",
      "\u001b[?25hCollecting python-dateutil>=2.8.2\n",
      "\u001b[?25l  Downloading https://files.pythonhosted.org/packages/ec/57/56b9bcc3c9c6a792fcbaf139543cee77261f3651ca9da0c93f5c1221264b/python_dateutil-2.9.0.post0-py2.py3-none-any.whl (229kB)\n",
      "\u001b[K     |████████████████████████████████| 235kB 35.5MB/s eta 0:00:01\n",
      "\u001b[?25hCollecting pydantic>=1.10.7\n",
      "\u001b[?25l  Downloading https://files.pythonhosted.org/packages/e6/f5/80931903275942770f1112b524f1948f6d6ebd44725425025ca838800de2/pydantic-2.7.3-py3-none-any.whl (409kB)\n",
      "\u001b[K     |████████████████████████████████| 409kB 34.0MB/s eta 0:00:01\n",
      "\u001b[?25hCollecting snowflake-snowpark-python<2.0.0,>=1.5.0\n",
      "\u001b[?25l  Downloading https://files.pythonhosted.org/packages/2b/6f/fafbf56e47e2f6820ebc99203755374e20d5c26762e2de8db991f8f97579/snowflake_snowpark_python-1.18.0-py3-none-any.whl (1.2MB)\n",
      "\u001b[K     |████████████████████████████████| 1.2MB 40.6MB/s eta 0:00:01\n",
      "\u001b[?25hCollecting anyio<4,>=3.5.0\n",
      "\u001b[?25l  Downloading https://files.pythonhosted.org/packages/19/24/44299477fe7dcc9cb58d0a57d5a7588d6af2ff403fdd2d47a246c91a3246/anyio-3.7.1-py3-none-any.whl (80kB)\n",
      "\u001b[K     |████████████████████████████████| 81kB 10.9MB/s eta 0:00:01\n",
      "\u001b[?25hCollecting fsspec[http]<2024,>=2022.11\n",
      "\u001b[?25l  Downloading https://files.pythonhosted.org/packages/70/25/fab23259a52ece5670dcb8452e1af34b89e6135ecc17cd4b54b4b479eac6/fsspec-2023.12.2-py3-none-any.whl (168kB)\n",
      "\u001b[K     |████████████████████████████████| 174kB 42.7MB/s eta 0:00:01\n",
      "\u001b[?25hCollecting retrying<2,>=1.3.3\n",
      "  Downloading https://files.pythonhosted.org/packages/8f/04/9e36f28be4c0532c0e9207ff9dc01fb13a2b0eb036476a213b0000837d0e/retrying-1.3.4-py3-none-any.whl\n",
      "Collecting typing-extensions<5,>=4.1.0\n",
      "  Downloading https://files.pythonhosted.org/packages/b6/53/84a859aaddfe7378a6e5820e864a2d75763e82b6fcbda1a00e92ec620bb7/typing_extensions-4.12.1-py3-none-any.whl\n",
      "Collecting numpy<2,>=1.23\n",
      "\u001b[?25l  Downloading https://files.pythonhosted.org/packages/54/30/c2a907b9443cf42b90c17ad10c1e8fa801975f01cb9764f3f8eb8aea638b/numpy-1.26.4-cp39-cp39-manylinux_2_17_x86_64.manylinux2014_x86_64.whl (18.2MB)\n",
      "\u001b[K     |████████████████████████████████| 18.3MB 34.5MB/s eta 0:00:01\n",
      "\u001b[?25hCollecting s3fs<2024,>=2022.11\n",
      "  Downloading https://files.pythonhosted.org/packages/5b/d6/b8a748b7d3fc7b0fd2ede1cf26a80281d65cc24d5d56b66c3a4c87e256e2/s3fs-2023.12.2-py3-none-any.whl\n",
      "Collecting scikit-learn<1.4,>=1.2.1\n",
      "\u001b[?25l  Downloading https://files.pythonhosted.org/packages/25/89/dce01a35d354159dcc901e3c7e7eb3fe98de5cb3639c6cd39518d8830caa/scikit_learn-1.3.2-cp39-cp39-manylinux_2_17_x86_64.manylinux2014_x86_64.whl (10.9MB)\n",
      "\u001b[K     |████████████████████████████████| 10.9MB 34.1MB/s eta 0:00:01\n",
      "\u001b[?25hCollecting absl-py<2,>=0.15\n",
      "\u001b[?25l  Downloading https://files.pythonhosted.org/packages/dd/87/de5c32fa1b1c6c3305d576e299801d8655c175ca9557019906247b994331/absl_py-1.4.0-py3-none-any.whl (126kB)\n",
      "\u001b[K     |████████████████████████████████| 133kB 36.4MB/s eta 0:00:01\n",
      "\u001b[?25hCollecting pytimeparse<2,>=1.1.8\n",
      "  Downloading https://files.pythonhosted.org/packages/1b/b4/afd75551a3b910abd1d922dbd45e49e5deeb4d47dc50209ce489ba9844dd/pytimeparse-1.1.8-py2.py3-none-any.whl\n",
      "Collecting cloudpickle>=2.0.0\n",
      "  Downloading https://files.pythonhosted.org/packages/96/43/dae06432d0c4b1dc9e9149ad37b4ca8384cf6eb7700cd9215b177b914f0a/cloudpickle-3.0.0-py3-none-any.whl\n",
      "Collecting snowflake-connector-python[pandas]<4,>=3.5.0\n",
      "\u001b[?25l  Downloading https://files.pythonhosted.org/packages/95/c7/608cbdbaa37e6f0dfb22d19e1fa9365c113aacc10cfd6748a148f91353d0/snowflake_connector_python-3.10.1-cp39-cp39-manylinux_2_17_x86_64.manylinux2014_x86_64.whl (2.5MB)\n",
      "\u001b[K     |████████████████████████████████| 2.5MB 29.3MB/s eta 0:00:01\n",
      "\u001b[?25hCollecting scipy<2,>=1.9\n",
      "\u001b[?25l  Downloading https://files.pythonhosted.org/packages/35/f5/d0ad1a96f80962ba65e2ce1de6a1e59edecd1f0a7b55990ed208848012e0/scipy-1.13.1-cp39-cp39-manylinux_2_17_x86_64.manylinux2014_x86_64.whl (38.6MB)\n",
      "\u001b[K     |████████████████████████████████| 38.6MB 35.7MB/s eta 0:00:01\n",
      "\u001b[?25hCollecting importlib-resources<7,>=6.1.1\n",
      "  Downloading https://files.pythonhosted.org/packages/75/06/4df55e1b7b112d183f65db9503bff189e97179b256e1ea450a3c365241e0/importlib_resources-6.4.0-py3-none-any.whl\n",
      "Collecting pyyaml<7,>=6.0\n",
      "\u001b[?25l  Downloading https://files.pythonhosted.org/packages/7d/39/472f2554a0f1e825bd7c5afc11c817cd7a2f3657460f7159f691fbb37c51/PyYAML-6.0.1-cp39-cp39-manylinux_2_17_x86_64.manylinux2014_x86_64.whl (738kB)\n",
      "\u001b[K     |████████████████████████████████| 747kB 47.7MB/s eta 0:00:01\n",
      "\u001b[?25hCollecting xgboost<2,>=1.7.3\n",
      "\u001b[?25l  Downloading https://files.pythonhosted.org/packages/8c/3a/c9c5d4d5c49b132ef15ac7b5ccf56ef1c82efe36cd19414771762e97c00e/xgboost-1.7.6-py3-none-manylinux2014_x86_64.whl (200.3MB)\n",
      "\u001b[K     |████████████████████████████████| 200.3MB 44kB/s s eta 0:00:01   |█                               | 6.9MB 31.0MB/s eta 0:00:07\n",
      "\u001b[?25hCollecting cachetools<6,>=3.1.1\n",
      "  Downloading https://files.pythonhosted.org/packages/fb/2b/a64c2d25a37aeb921fddb929111413049fc5f8b9a4c1aefaffaafe768d54/cachetools-5.3.3-py3-none-any.whl\n",
      "Collecting sqlparse<1,>=0.4\n",
      "\u001b[?25l  Downloading https://files.pythonhosted.org/packages/43/5d/a0fdd88fd486b39ae1fd1a75ff75b4e29a0df96c0304d462fd407b82efe0/sqlparse-0.5.0-py3-none-any.whl (43kB)\n",
      "\u001b[K     |████████████████████████████████| 51kB 8.9MB/s  eta 0:00:01\n",
      "\u001b[?25hCollecting pyarrow\n",
      "\u001b[?25l  Downloading https://files.pythonhosted.org/packages/df/3e/9cfa78ad9744c77e4f3c183d919de3649505e50663d3715151a094c27769/pyarrow-16.1.0-cp39-cp39-manylinux_2_17_x86_64.manylinux2014_x86_64.whl (41.0MB)\n",
      "\u001b[K     |████████████████████████████████| 41.0MB 51.2MB/s eta 0:00:01\n",
      "\u001b[?25hCollecting packaging<24,>=20.9\n",
      "\u001b[?25l  Downloading https://files.pythonhosted.org/packages/ec/1a/610693ac4ee14fcdf2d9bf3c493370e4f2ef7ae2e19217d7a237ff42367d/packaging-23.2-py3-none-any.whl (53kB)\n",
      "\u001b[K     |████████████████████████████████| 61kB 11.0MB/s eta 0:00:01\n",
      "\u001b[?25hCollecting pandas<2,>=1.0.0\n",
      "\u001b[?25l  Downloading https://files.pythonhosted.org/packages/e1/4d/3eb96e53a9208350ee21615f850c4be9a246d32bf1d34cd36682cb58c3b7/pandas-1.5.3-cp39-cp39-manylinux_2_17_x86_64.manylinux2014_x86_64.whl (12.2MB)\n",
      "\u001b[K     |████████████████████████████████| 12.2MB 53.6MB/s eta 0:00:01\n",
      "\u001b[?25hCollecting six>=1.5\n",
      "  Downloading https://files.pythonhosted.org/packages/d9/5a/e7c31adbe875f2abbb91bd84cf2dc52d792b5a01506781dbcf25c91daf11/six-1.16.0-py2.py3-none-any.whl\n",
      "Collecting pydantic-core==2.18.4\n",
      "\u001b[?25l  Downloading https://files.pythonhosted.org/packages/d8/46/7721671dc8ded5cf4d754f8737bf348485daabfba7932a96c49699fe3c9e/pydantic_core-2.18.4-cp39-cp39-manylinux_2_17_x86_64.manylinux2014_x86_64.whl (2.0MB)\n",
      "\u001b[K     |████████████████████████████████| 2.1MB 33.4MB/s eta 0:00:01\n",
      "\u001b[?25hCollecting annotated-types>=0.4.0\n",
      "  Downloading https://files.pythonhosted.org/packages/78/b6/6307fbef88d9b5ee7421e68d78a9f162e0da4900bc5f5793f6d3d0e34fb8/annotated_types-0.7.0-py3-none-any.whl\n"
     ]
    },
    {
     "name": "stdout",
     "output_type": "stream",
     "text": [
      "Collecting setuptools>=40.6.0\n",
      "\u001b[?25l  Downloading https://files.pythonhosted.org/packages/de/88/70c5767a0e43eb4451c2200f07d042a4bcd7639276003a9c54a68cfcc1f8/setuptools-70.0.0-py3-none-any.whl (863kB)\n",
      "\u001b[K     |████████████████████████████████| 870kB 24.7MB/s eta 0:00:01\n",
      "\u001b[?25hCollecting wheel\n",
      "\u001b[?25l  Downloading https://files.pythonhosted.org/packages/7d/cd/d7460c9a869b16c3dd4e1e403cce337df165368c71d6af229a74699622ce/wheel-0.43.0-py3-none-any.whl (65kB)\n",
      "\u001b[K     |████████████████████████████████| 71kB 9.9MB/s  eta 0:00:01\n",
      "\u001b[?25hCollecting idna>=2.8\n",
      "\u001b[?25l  Downloading https://files.pythonhosted.org/packages/e5/3e/741d8c82801c347547f8a2a06aa57dbb1992be9e948df2ea0eda2c8b79e8/idna-3.7-py3-none-any.whl (66kB)\n",
      "\u001b[K     |████████████████████████████████| 71kB 9.3MB/s  eta 0:00:01\n",
      "\u001b[?25hCollecting exceptiongroup; python_version < \"3.11\"\n",
      "  Downloading https://files.pythonhosted.org/packages/01/90/79fe92dd413a9cab314ef5c591b5aa9b9ba787ae4cadab75055b0ae00b33/exceptiongroup-1.2.1-py3-none-any.whl\n",
      "Collecting sniffio>=1.1\n",
      "  Downloading https://files.pythonhosted.org/packages/e9/44/75a9c9421471a6c4805dbf2356f7c181a29c1879239abab1ea2cc8f38b40/sniffio-1.3.1-py3-none-any.whl\n",
      "Collecting requests; extra == \"http\"\n",
      "\u001b[?25l  Downloading https://files.pythonhosted.org/packages/f9/9b/335f9764261e915ed497fcdeb11df5dfd6f7bf257d4a6a2a686d80da4d54/requests-2.32.3-py3-none-any.whl (64kB)\n",
      "\u001b[K     |████████████████████████████████| 71kB 8.7MB/s  eta 0:00:01\n",
      "\u001b[?25hCollecting aiohttp!=4.0.0a0,!=4.0.0a1; extra == \"http\"\n",
      "\u001b[?25l  Downloading https://files.pythonhosted.org/packages/94/4f/3c99f1cdab4fb55e12a914c80828f0958f04d79ef6b6ce1e05d07c30c46b/aiohttp-3.9.5-cp39-cp39-manylinux_2_17_x86_64.manylinux2014_x86_64.whl (1.2MB)\n",
      "\u001b[K     |████████████████████████████████| 1.2MB 48.5MB/s eta 0:00:01\n",
      "\u001b[?25hCollecting aiobotocore<3.0.0,>=2.5.4\n",
      "\u001b[?25l  Downloading https://files.pythonhosted.org/packages/6c/53/fb6a7b95af0b2065821a5847d348ec87d5b9f440242eb98c45817459c298/aiobotocore-2.13.0-py3-none-any.whl (76kB)\n",
      "\u001b[K     |████████████████████████████████| 81kB 12.9MB/s eta 0:00:01\n",
      "\u001b[?25hCollecting joblib>=1.1.1\n",
      "\u001b[?25l  Downloading https://files.pythonhosted.org/packages/91/29/df4b9b42f2be0b623cbd5e2140cafcaa2bef0759a00b7b70104dcfe2fb51/joblib-1.4.2-py3-none-any.whl (301kB)\n",
      "\u001b[K     |████████████████████████████████| 307kB 51.6MB/s eta 0:00:01\n",
      "\u001b[?25hCollecting threadpoolctl>=2.0.0\n",
      "  Downloading https://files.pythonhosted.org/packages/4b/2c/ffbf7a134b9ab11a67b0cf0726453cedd9c5043a4fe7a35d1cefa9a1bcfb/threadpoolctl-3.5.0-py3-none-any.whl\n",
      "Collecting pyOpenSSL<25.0.0,>=16.2.0\n",
      "\u001b[?25l  Downloading https://files.pythonhosted.org/packages/54/a7/2104f674a5a6845b04c8ff01659becc6b8978ca410b82b94287e0b1e018b/pyOpenSSL-24.1.0-py3-none-any.whl (56kB)\n",
      "\u001b[K     |████████████████████████████████| 61kB 8.3MB/s  eta 0:00:01\n",
      "\u001b[?25hCollecting cryptography<43.0.0,>=3.1.0\n",
      "\u001b[?25l  Downloading https://files.pythonhosted.org/packages/79/fd/4525835d3e42e2db30169d42215ce74762f447fcbf01ed02f74f59bd74cb/cryptography-42.0.7-cp39-abi3-manylinux_2_17_x86_64.manylinux2014_x86_64.whl (3.8MB)\n",
      "\u001b[K     |████████████████████████████████| 3.8MB 41.1MB/s eta 0:00:01\n",
      "\u001b[?25hCollecting sortedcontainers>=2.4.0\n",
      "  Downloading https://files.pythonhosted.org/packages/32/46/9cb0e58b2deb7f82b84065f37f3bffeb12413f947f9388e4cac22c4621ce/sortedcontainers-2.4.0-py2.py3-none-any.whl\n",
      "Collecting pyjwt<3.0.0\n",
      "  Downloading https://files.pythonhosted.org/packages/2b/4f/e04a8067c7c96c364cef7ef73906504e2f40d690811c021e1a1901473a19/PyJWT-2.8.0-py3-none-any.whl\n",
      "Collecting tomlkit\n",
      "  Downloading https://files.pythonhosted.org/packages/73/6d/b5406752c4e4ba86692b22fab0afed8b48f16bdde8f92e1d852976b61dc6/tomlkit-0.12.5-py3-none-any.whl\n",
      "Collecting certifi>=2017.4.17\n",
      "\u001b[?25l  Downloading https://files.pythonhosted.org/packages/5b/11/1e78951465b4a225519b8c3ad29769c49e0d8d157a070f681d5b6d64737f/certifi-2024.6.2-py3-none-any.whl (164kB)\n",
      "\u001b[K     |████████████████████████████████| 174kB 36.5MB/s eta 0:00:01\n",
      "\u001b[?25hCollecting platformdirs<5.0.0,>=2.6.0\n",
      "  Downloading https://files.pythonhosted.org/packages/68/13/2aa1f0e1364feb2c9ef45302f387ac0bd81484e9c9a4c5688a322fbdfd08/platformdirs-4.2.2-py3-none-any.whl\n",
      "Collecting asn1crypto<2.0.0,>0.24.0\n",
      "\u001b[?25l  Downloading https://files.pythonhosted.org/packages/c9/7f/09065fd9e27da0eda08b4d6897f1c13535066174cc023af248fc2a8d5e5a/asn1crypto-1.5.1-py2.py3-none-any.whl (105kB)\n",
      "\u001b[K     |████████████████████████████████| 112kB 44.4MB/s eta 0:00:01\n",
      "\u001b[?25hCollecting cffi<2.0.0,>=1.9\n",
      "\u001b[?25l  Downloading https://files.pythonhosted.org/packages/ea/ac/e9e77bc385729035143e54cc8c4785bd480eaca9df17565963556b0b7a93/cffi-1.16.0-cp39-cp39-manylinux_2_17_x86_64.manylinux2014_x86_64.whl (443kB)\n",
      "\u001b[K     |████████████████████████████████| 450kB 59.3MB/s eta 0:00:01\n",
      "\u001b[?25hCollecting pytz\n",
      "\u001b[?25l  Downloading https://files.pythonhosted.org/packages/9c/3d/a121f284241f08268b21359bd425f7d4825cffc5ac5cd0e1b3d82ffd2b10/pytz-2024.1-py2.py3-none-any.whl (505kB)\n",
      "\u001b[K     |████████████████████████████████| 512kB 45.4MB/s eta 0:00:01\n",
      "\u001b[?25hCollecting filelock<4,>=3.5\n",
      "  Downloading https://files.pythonhosted.org/packages/41/24/0b023b6537dfc9bae2c779353998e3e99ac7dfff4222fc6126650e93c3f3/filelock-3.14.0-py3-none-any.whl\n",
      "Collecting charset-normalizer<4,>=2\n",
      "\u001b[?25l  Downloading https://files.pythonhosted.org/packages/98/69/5d8751b4b670d623aa7a47bef061d69c279e9f922f6705147983aa76c3ce/charset_normalizer-3.3.2-cp39-cp39-manylinux_2_17_x86_64.manylinux2014_x86_64.whl (142kB)\n",
      "\u001b[K     |████████████████████████████████| 143kB 45.7MB/s eta 0:00:01\n",
      "\u001b[?25hCollecting zipp>=3.1.0; python_version < \"3.10\"\n",
      "  Downloading https://files.pythonhosted.org/packages/82/1a/ac67760425f2477b1da593b347db66d474130747e6e5285d08c7f2d5884a/zipp-3.19.1-py3-none-any.whl\n",
      "Collecting attrs>=17.3.0\n",
      "\u001b[?25l  Downloading https://files.pythonhosted.org/packages/e0/44/827b2a91a5816512fcaf3cc4ebc465ccd5d598c45cefa6703fcf4a79018f/attrs-23.2.0-py3-none-any.whl (60kB)\n",
      "\u001b[K     |████████████████████████████████| 61kB 9.9MB/s  eta 0:00:01\n",
      "\u001b[?25hCollecting async-timeout<5.0,>=4.0; python_version < \"3.11\"\n",
      "  Downloading https://files.pythonhosted.org/packages/a7/fa/e01228c2938de91d47b307831c62ab9e4001e747789d0b05baf779a6488c/async_timeout-4.0.3-py3-none-any.whl\n",
      "Collecting multidict<7.0,>=4.5\n",
      "\u001b[?25l  Downloading https://files.pythonhosted.org/packages/39/a9/1f8d42c8103bcb1da6bb719f1bc018594b5acc8eae56b3fec4720ebee225/multidict-6.0.5-cp39-cp39-manylinux_2_17_x86_64.manylinux2014_x86_64.whl (123kB)\n",
      "\u001b[K     |████████████████████████████████| 133kB 30.0MB/s eta 0:00:01\n",
      "\u001b[?25hCollecting aiosignal>=1.1.2\n",
      "  Downloading https://files.pythonhosted.org/packages/76/ac/a7305707cb852b7e16ff80eaf5692309bde30e2b1100a1fcacdc8f731d97/aiosignal-1.3.1-py3-none-any.whl\n",
      "Collecting frozenlist>=1.1.1\n",
      "\u001b[?25l  Downloading https://files.pythonhosted.org/packages/70/b0/6f1ebdabfb604e39a0f84428986b89ab55f246b64cddaa495f2c953e1f6b/frozenlist-1.4.1-cp39-cp39-manylinux_2_5_x86_64.manylinux1_x86_64.manylinux_2_17_x86_64.manylinux2014_x86_64.whl (240kB)\n",
      "\u001b[K     |████████████████████████████████| 245kB 27.8MB/s eta 0:00:01\n",
      "\u001b[?25hCollecting yarl<2.0,>=1.0\n",
      "\u001b[?25l  Downloading https://files.pythonhosted.org/packages/69/ea/d7e961ea9b1b818a43b155ee512117be6ab9ab67c1e94967b2e64126e8e4/yarl-1.9.4-cp39-cp39-manylinux_2_17_x86_64.manylinux2014_x86_64.whl (304kB)\n",
      "\u001b[K     |████████████████████████████████| 307kB 32.9MB/s eta 0:00:01\n",
      "\u001b[?25hCollecting wrapt<2.0.0,>=1.10.10\n",
      "\u001b[?25l  Downloading https://files.pythonhosted.org/packages/b1/e7/459a8a4f40f2fa65eb73cb3f339e6d152957932516d18d0e996c7ae2d7ae/wrapt-1.16.0-cp39-cp39-manylinux_2_5_x86_64.manylinux1_x86_64.manylinux_2_17_x86_64.manylinux2014_x86_64.whl (80kB)\n",
      "\u001b[K     |████████████████████████████████| 81kB 12.2MB/s eta 0:00:01\n",
      "\u001b[?25hCollecting aioitertools<1.0.0,>=0.5.1\n",
      "  Downloading https://files.pythonhosted.org/packages/45/66/d1a9fd8e6ff88f2157cb145dd054defb0fd7fe2507fe5a01347e7c690eab/aioitertools-0.11.0-py3-none-any.whl\n",
      "Collecting botocore<1.34.107,>=1.34.70\n",
      "\u001b[?25l  Downloading https://files.pythonhosted.org/packages/8f/be/323529910f0256f7c2271f6ac4fe90feea5b3c161ed7df3e3b51d0363c19/botocore-1.34.106-py3-none-any.whl (12.2MB)\n",
      "\u001b[K     |████████████████████████████████| 12.2MB 56.0MB/s eta 0:00:01\n",
      "\u001b[?25hCollecting pycparser\n"
     ]
    },
    {
     "name": "stdout",
     "output_type": "stream",
     "text": [
      "\u001b[?25l  Downloading https://files.pythonhosted.org/packages/13/a3/a812df4e2dd5696d1f351d58b8fe16a405b234ad2886a0dab9183fb78109/pycparser-2.22-py3-none-any.whl (117kB)\n",
      "\u001b[K     |████████████████████████████████| 122kB 34.1MB/s eta 0:00:01\n",
      "\u001b[?25hCollecting jmespath<2.0.0,>=0.7.1\n",
      "  Downloading https://files.pythonhosted.org/packages/31/b4/b9b800c45527aadd64d5b442f9b932b00648617eb5d63d2c7a6587b7cafc/jmespath-1.0.1-py3-none-any.whl\n",
      "\u001b[31mERROR: refractml 1.0.3 has requirement cloudpickle==1.6.0, but you'll have cloudpickle 3.0.0 which is incompatible.\u001b[0m\n",
      "\u001b[31mERROR: refractml 1.0.3 has requirement PyYAML==6.0, but you'll have pyyaml 6.0.1 which is incompatible.\u001b[0m\n",
      "\u001b[31mERROR: refractml 1.0.3 has requirement urllib3==1.26.15, but you'll have urllib3 2.2.1 which is incompatible.\u001b[0m\n",
      "\u001b[31mERROR: refractio 2.1.5.2 has requirement pandas==2.0.0, but you'll have pandas 1.5.3 which is incompatible.\u001b[0m\n",
      "\u001b[31mERROR: mosaic-utils 1.0.2 has requirement scikit-learn==1.2.1; python_version >= \"3.8\", but you'll have scikit-learn 1.3.2 which is incompatible.\u001b[0m\n",
      "\u001b[31mERROR: mlflow 2.6.0 has requirement cloudpickle<3, but you'll have cloudpickle 3.0.0 which is incompatible.\u001b[0m\n",
      "\u001b[31mERROR: mlflow 2.6.0 has requirement pyarrow<13,>=4.0.0, but you'll have pyarrow 16.1.0 which is incompatible.\u001b[0m\n",
      "\u001b[31mERROR: mlflow 2.6.0 has requirement pytz<2024, but you'll have pytz 2024.1 which is incompatible.\u001b[0m\n",
      "\u001b[31mERROR: openapi-schema-validator 0.6.2 has requirement jsonschema<5.0.0,>=4.19.1, but you'll have jsonschema 4.19.0 which is incompatible.\u001b[0m\n",
      "\u001b[31mERROR: mosaic-ai-serving 1.0.0 has requirement Flask==2.1.1; python_version >= \"3.7\", but you'll have flask 2.3.3 which is incompatible.\u001b[0m\n",
      "\u001b[31mERROR: mosaic-ai-serving 1.0.0 has requirement itsdangerous==2.0.1, but you'll have itsdangerous 2.1.2 which is incompatible.\u001b[0m\n",
      "\u001b[31mERROR: mosaic-ai-serving 1.0.0 has requirement Jinja2==3.0.3, but you'll have jinja2 3.1.3 which is incompatible.\u001b[0m\n",
      "\u001b[31mERROR: mosaic-ai-serving 1.0.0 has requirement matplotlib==3.6.0; python_version >= \"3.8\", but you'll have matplotlib 3.8.3 which is incompatible.\u001b[0m\n",
      "\u001b[31mERROR: mosaic-ai-client 1.0.0 has requirement matplotlib==3.1.1, but you'll have matplotlib 3.8.3 which is incompatible.\u001b[0m\n",
      "\u001b[31mERROR: jupyterlab 3.2.4 has requirement jupyter-server~=1.4, but you'll have jupyter-server 2.7.3 which is incompatible.\u001b[0m\n",
      "\u001b[31mERROR: jsonschema-path 0.3.2 has requirement referencing<0.32.0,>=0.28.0, but you'll have referencing 0.33.0 which is incompatible.\u001b[0m\n",
      "\u001b[31mERROR: snowflake-connector-python 3.10.1 has requirement urllib3<2.0.0,>=1.21.1; python_version < \"3.10\", but you'll have urllib3 2.2.1 which is incompatible.\u001b[0m\n",
      "\u001b[31mERROR: snowflake-snowpark-python 1.18.0 has requirement cloudpickle!=2.1.0,!=2.2.0,<=2.2.1,>=1.6.0; python_version < \"3.11\", but you'll have cloudpickle 3.0.0 which is incompatible.\u001b[0m\n",
      "\u001b[31mERROR: botocore 1.34.106 has requirement urllib3<1.27,>=1.25.4; python_version < \"3.10\", but you'll have urllib3 2.2.1 which is incompatible.\u001b[0m\n",
      "Installing collected packages: atpublic, urllib3, six, python-dateutil, typing-extensions, pydantic-core, annotated-types, pydantic, pyyaml, cloudpickle, setuptools, pycparser, cffi, cryptography, pyOpenSSL, sortedcontainers, pyjwt, tomlkit, certifi, platformdirs, idna, charset-normalizer, requests, asn1crypto, pytz, packaging, filelock, numpy, pyarrow, pandas, snowflake-connector-python, wheel, snowflake-snowpark-python, snowflake-core, snowflake-legacy, exceptiongroup, sniffio, anyio, attrs, async-timeout, multidict, frozenlist, aiosignal, yarl, aiohttp, fsspec, retrying, wrapt, aioitertools, jmespath, botocore, aiobotocore, s3fs, scipy, joblib, threadpoolctl, scikit-learn, absl-py, pytimeparse, zipp, importlib-resources, xgboost, cachetools, sqlparse, snowflake-ml-python, snowflake\n",
      "Successfully installed absl-py-1.4.0 aiobotocore-2.13.0 aiohttp-3.9.5 aioitertools-0.11.0 aiosignal-1.3.1 annotated-types-0.7.0 anyio-3.7.1 asn1crypto-1.5.1 async-timeout-4.0.3 atpublic-4.1.0 attrs-23.2.0 botocore-1.34.106 cachetools-5.3.3 certifi-2024.6.2 cffi-1.16.0 charset-normalizer-3.3.2 cloudpickle-3.0.0 cryptography-42.0.7 exceptiongroup-1.2.1 filelock-3.14.0 frozenlist-1.4.1 fsspec-2023.12.2 idna-3.7 importlib-resources-6.4.0 jmespath-1.0.1 joblib-1.4.2 multidict-6.0.5 numpy-1.26.4 packaging-23.2 pandas-1.5.3 platformdirs-4.2.2 pyOpenSSL-24.1.0 pyarrow-16.1.0 pycparser-2.22 pydantic-2.7.3 pydantic-core-2.18.4 pyjwt-2.8.0 python-dateutil-2.9.0.post0 pytimeparse-1.1.8 pytz-2024.1 pyyaml-6.0.1 requests-2.32.3 retrying-1.3.4 s3fs-2023.12.2 scikit-learn-1.3.2 scipy-1.13.1 setuptools-70.0.0 six-1.16.0 sniffio-1.3.1 snowflake-0.8.0 snowflake-connector-python-3.10.1 snowflake-core-0.8.0 snowflake-legacy-0.8.1 snowflake-ml-python-1.4.0 snowflake-snowpark-python-1.18.0 sortedcontainers-2.4.0 sqlparse-0.5.0 threadpoolctl-3.5.0 tomlkit-0.12.5 typing-extensions-4.12.1 urllib3-2.2.1 wheel-0.43.0 wrapt-1.16.0 xgboost-1.7.6 yarl-1.9.4 zipp-3.19.1\n",
      "\u001b[33mWARNING: You are using pip version 19.3.1; however, version 24.0 is available.\n",
      "You should consider upgrading via the 'pip install --upgrade pip' command.\u001b[0m\n"
     ]
    }
   ],
   "source": [
    "!pip install snowflake[ml]==0.8.0"
   ]
  },
  {
   "cell_type": "code",
   "execution_count": null,
   "id": "269cbf42",
   "metadata": {},
   "outputs": [],
   "source": [
    "# !pip install snowflake-connector-python\n",
    "!pip uninstall cloudpickle -y\n",
    "!pip install cloudpickle==2.2.1"
   ]
  },
  {
   "cell_type": "code",
   "execution_count": 29,
   "id": "6965566c",
   "metadata": {},
   "outputs": [],
   "source": [
    "from snowflake.snowpark import Session"
   ]
  },
  {
   "cell_type": "code",
   "execution_count": 30,
   "id": "95efc2dc",
   "metadata": {},
   "outputs": [],
   "source": [
    "REGISTRY_DATABASE_NAME = \"MODEL_REGISTRY_SNOWSIGHT\"\n",
    "REGISTRY_SCHEMA_NAME = \"SNOWINSIGHT\""
   ]
  },
  {
   "cell_type": "code",
   "execution_count": 31,
   "id": "fd38b4c4",
   "metadata": {},
   "outputs": [],
   "source": [
    "import configparser\n",
    "def get_session():\n",
    "    parser = configparser.ConfigParser()\n",
    "    # Add the credential file name here\n",
    "    parser.read('/notebooks/notebooks/config.ini')\n",
    "\n",
    "    connection_params = dict(user=parser['Credentials']['user'], \n",
    "                         password=parser['Credentials']['password'], \n",
    "                         account=parser['Credentials']['account'], \n",
    "                         warehouse=parser['Credentials']['warehouse'], \n",
    "                         database=REGISTRY_DATABASE_NAME,\n",
    "                         schema=REGISTRY_SCHEMA_NAME, \n",
    "                         role=parser['Credentials']['role'])\n",
    "#     print(\"connection_params = \",  connection_params)\n",
    "\n",
    "\n",
    "    session = Session.builder.configs(connection_params).create()\n",
    "    return session"
   ]
  },
  {
   "cell_type": "code",
   "execution_count": 32,
   "id": "2319ac22",
   "metadata": {},
   "outputs": [
    {
     "data": {
      "text/plain": [
       "<snowflake.snowpark.session.Session at 0x7f83a3e08eb0>"
      ]
     },
     "execution_count": 32,
     "metadata": {},
     "output_type": "execute_result"
    }
   ],
   "source": [
    "session = get_session()\n",
    "# session.close()\n",
    "session"
   ]
  },
  {
   "cell_type": "code",
   "execution_count": 28,
   "id": "7c401604",
   "metadata": {},
   "outputs": [],
   "source": [
    "# from snowflake.ml.registry import model_registry\n",
    "from snowflake.ml.registry import Registry as model_registry"
   ]
  },
  {
   "cell_type": "code",
   "execution_count": null,
   "id": "49192969",
   "metadata": {},
   "outputs": [],
   "source": [
    "!pip list | grep -i sci"
   ]
  },
  {
   "cell_type": "code",
   "execution_count": null,
   "id": "3e0a8c4d",
   "metadata": {},
   "outputs": [],
   "source": [
    "session.sql(\"LIST STAGES\")"
   ]
  },
  {
   "cell_type": "code",
   "execution_count": null,
   "id": "9ffad949",
   "metadata": {},
   "outputs": [],
   "source": [
    "# model_registry.create_model_registry(session=session, database_name=REGISTRY_DATABASE_NAME, schema_name=REGISTRY_SCHEMA_NAME)"
   ]
  },
  {
   "cell_type": "code",
   "execution_count": 33,
   "id": "721b2a7e",
   "metadata": {},
   "outputs": [],
   "source": [
    "registry = model_registry(session=session, database_name=REGISTRY_DATABASE_NAME, schema_name=REGISTRY_SCHEMA_NAME )"
   ]
  },
  {
   "cell_type": "code",
   "execution_count": null,
   "id": "bf6835e7",
   "metadata": {},
   "outputs": [],
   "source": [
    "# registry = model_registry.ModelRegistry(session=session, database_name=REGISTRY_DATABASE_NAME, schema_name=REGISTRY_SCHEMA_NAME)"
   ]
  },
  {
   "cell_type": "code",
   "execution_count": 37,
   "id": "611e8f77",
   "metadata": {},
   "outputs": [
    {
     "data": {
      "text/html": [
       "<div>\n",
       "<style scoped>\n",
       "    .dataframe tbody tr th:only-of-type {\n",
       "        vertical-align: middle;\n",
       "    }\n",
       "\n",
       "    .dataframe tbody tr th {\n",
       "        vertical-align: top;\n",
       "    }\n",
       "\n",
       "    .dataframe thead th {\n",
       "        text-align: right;\n",
       "    }\n",
       "</style>\n",
       "<table border=\"1\" class=\"dataframe\">\n",
       "  <thead>\n",
       "    <tr style=\"text-align: right;\">\n",
       "      <th></th>\n",
       "      <th>created_on</th>\n",
       "      <th>name</th>\n",
       "      <th>database_name</th>\n",
       "      <th>schema_name</th>\n",
       "      <th>comment</th>\n",
       "      <th>owner</th>\n",
       "      <th>default_version_name</th>\n",
       "      <th>versions</th>\n",
       "    </tr>\n",
       "  </thead>\n",
       "  <tbody>\n",
       "    <tr>\n",
       "      <th>0</th>\n",
       "      <td>2024-05-30 03:54:17.224000-07:00</td>\n",
       "      <td>SAMPLE_SKLEARN_MODEL</td>\n",
       "      <td>MODEL_REGISTRY_SNOWSIGHT</td>\n",
       "      <td>SNOWINSIGHT</td>\n",
       "      <td>None</td>\n",
       "      <td>PRAKHAR</td>\n",
       "      <td>V1</td>\n",
       "      <td>[\"V1\"]</td>\n",
       "    </tr>\n",
       "    <tr>\n",
       "      <th>1</th>\n",
       "      <td>2024-05-31 02:58:30.562000-07:00</td>\n",
       "      <td>SAMPLE_SKLEARN_MODEL_2</td>\n",
       "      <td>MODEL_REGISTRY_SNOWSIGHT</td>\n",
       "      <td>SNOWINSIGHT</td>\n",
       "      <td>None</td>\n",
       "      <td>PRAKHAR</td>\n",
       "      <td>V1</td>\n",
       "      <td>[\"V1\"]</td>\n",
       "    </tr>\n",
       "    <tr>\n",
       "      <th>2</th>\n",
       "      <td>2024-05-31 03:59:03.745000-07:00</td>\n",
       "      <td>SAMPLE_SKLEARN_MODEL_3</td>\n",
       "      <td>MODEL_REGISTRY_SNOWSIGHT</td>\n",
       "      <td>SNOWINSIGHT</td>\n",
       "      <td>None</td>\n",
       "      <td>PRAKHAR</td>\n",
       "      <td>V1</td>\n",
       "      <td>[\"V1\"]</td>\n",
       "    </tr>\n",
       "    <tr>\n",
       "      <th>3</th>\n",
       "      <td>2024-06-02 22:54:16.932000-07:00</td>\n",
       "      <td>SAMPLE_SKLEARN_MODEL_4</td>\n",
       "      <td>MODEL_REGISTRY_SNOWSIGHT</td>\n",
       "      <td>SNOWINSIGHT</td>\n",
       "      <td>None</td>\n",
       "      <td>PRAKHAR</td>\n",
       "      <td>V1</td>\n",
       "      <td>[\"V1\"]</td>\n",
       "    </tr>\n",
       "    <tr>\n",
       "      <th>4</th>\n",
       "      <td>2024-06-03 06:22:18.501000-07:00</td>\n",
       "      <td>SAMPLE_SKLEARN_MODEL_5</td>\n",
       "      <td>MODEL_REGISTRY_SNOWSIGHT</td>\n",
       "      <td>SNOWINSIGHT</td>\n",
       "      <td>None</td>\n",
       "      <td>PRAKHAR</td>\n",
       "      <td>V1</td>\n",
       "      <td>[\"V1\"]</td>\n",
       "    </tr>\n",
       "  </tbody>\n",
       "</table>\n",
       "</div>"
      ],
      "text/plain": [
       "                        created_on                    name   \n",
       "0 2024-05-30 03:54:17.224000-07:00    SAMPLE_SKLEARN_MODEL  \\\n",
       "1 2024-05-31 02:58:30.562000-07:00  SAMPLE_SKLEARN_MODEL_2   \n",
       "2 2024-05-31 03:59:03.745000-07:00  SAMPLE_SKLEARN_MODEL_3   \n",
       "3 2024-06-02 22:54:16.932000-07:00  SAMPLE_SKLEARN_MODEL_4   \n",
       "4 2024-06-03 06:22:18.501000-07:00  SAMPLE_SKLEARN_MODEL_5   \n",
       "\n",
       "              database_name  schema_name comment    owner   \n",
       "0  MODEL_REGISTRY_SNOWSIGHT  SNOWINSIGHT    None  PRAKHAR  \\\n",
       "1  MODEL_REGISTRY_SNOWSIGHT  SNOWINSIGHT    None  PRAKHAR   \n",
       "2  MODEL_REGISTRY_SNOWSIGHT  SNOWINSIGHT    None  PRAKHAR   \n",
       "3  MODEL_REGISTRY_SNOWSIGHT  SNOWINSIGHT    None  PRAKHAR   \n",
       "4  MODEL_REGISTRY_SNOWSIGHT  SNOWINSIGHT    None  PRAKHAR   \n",
       "\n",
       "  default_version_name versions  \n",
       "0                   V1   [\"V1\"]  \n",
       "1                   V1   [\"V1\"]  \n",
       "2                   V1   [\"V1\"]  \n",
       "3                   V1   [\"V1\"]  \n",
       "4                   V1   [\"V1\"]  "
      ]
     },
     "execution_count": 37,
     "metadata": {},
     "output_type": "execute_result"
    }
   ],
   "source": [
    "df = registry.show_models()\n",
    "df\n",
    "# type(df)"
   ]
  },
  {
   "cell_type": "markdown",
   "id": "63e2d25d",
   "metadata": {},
   "source": [
    "# Get model list from snowpark registry"
   ]
  },
  {
   "cell_type": "code",
   "execution_count": 36,
   "id": "33a32df8",
   "metadata": {},
   "outputs": [
    {
     "data": {
      "text/plain": [
       "[<snowflake.ml.model._client.model.model_impl.Model at 0x7f83b91bfeb0>,\n",
       " <snowflake.ml.model._client.model.model_impl.Model at 0x7f83b91bfbe0>,\n",
       " <snowflake.ml.model._client.model.model_impl.Model at 0x7f83b91bfac0>,\n",
       " <snowflake.ml.model._client.model.model_impl.Model at 0x7f83b91bfc70>,\n",
       " <snowflake.ml.model._client.model.model_impl.Model at 0x7f83b91bfcd0>]"
      ]
     },
     "execution_count": 36,
     "metadata": {},
     "output_type": "execute_result"
    }
   ],
   "source": [
    "model_list = registry.models()\n",
    "model_list"
   ]
  },
  {
   "cell_type": "markdown",
   "id": "adca9b9a",
   "metadata": {},
   "source": [
    "# Get model details from registry"
   ]
  },
  {
   "cell_type": "code",
   "execution_count": null,
   "id": "fcb27a3e",
   "metadata": {},
   "outputs": [],
   "source": [
    "m =registry.get_model(\"sample_sklearn_model\")\n",
    "m"
   ]
  },
  {
   "cell_type": "markdown",
   "id": "b4496f60",
   "metadata": {},
   "source": [
    "# Get model versions"
   ]
  },
  {
   "cell_type": "code",
   "execution_count": null,
   "id": "d61e9309",
   "metadata": {},
   "outputs": [],
   "source": [
    "df_version = m.show_versions()\n",
    "df_version"
   ]
  },
  {
   "cell_type": "markdown",
   "id": "3acf87c3",
   "metadata": {},
   "source": [
    "# Set default model version"
   ]
  },
  {
   "cell_type": "code",
   "execution_count": null,
   "id": "5fe4bc00",
   "metadata": {},
   "outputs": [],
   "source": [
    "# default_version = m.default\n",
    "m.default = \"V1\""
   ]
  },
  {
   "cell_type": "markdown",
   "id": "b863c652",
   "metadata": {},
   "source": [
    "# Get default model version details from model-registry"
   ]
  },
  {
   "cell_type": "code",
   "execution_count": null,
   "id": "c053fb93",
   "metadata": {},
   "outputs": [],
   "source": [
    "mv = m.default\n",
    "mv"
   ]
  },
  {
   "cell_type": "code",
   "execution_count": null,
   "id": "5d4b10aa",
   "metadata": {},
   "outputs": [],
   "source": [
    "x"
   ]
  },
  {
   "cell_type": "code",
   "execution_count": null,
   "id": "c8a006d3",
   "metadata": {},
   "outputs": [],
   "source": [
    "#Load default vesion as python object\n",
    "# clf = mv.load()"
   ]
  },
  {
   "cell_type": "markdown",
   "id": "0cb1e616",
   "metadata": {},
   "source": [
    "# Run prediction on scikit-learn model"
   ]
  },
  {
   "cell_type": "code",
   "execution_count": null,
   "id": "38d0a468",
   "metadata": {},
   "outputs": [],
   "source": [
    "import numpy as np\n",
    "data_list = [[ 25, 185,  88,  78,  65,  81,  77,  75,  81,  63,  37,  26,   9, 10,  79,  82]]\n",
    "data_array = np.asarray(data_list)\n",
    "print(\"data_array =\", data_array)\n",
    "\n",
    "remote_prediction = mv.run(data_array, function_name=\"predict\")\n",
    "remote_prediction   # assuming test_features is Snowpark DataFrame\n",
    "remote_prediction"
   ]
  },
  {
   "cell_type": "code",
   "execution_count": null,
   "id": "4b4cbe99",
   "metadata": {},
   "outputs": [],
   "source": [
    "# import cloudpickle\n",
    "\n",
    "# model_obj = cloudpickle.load(open(\"/notebooks/notebooks/ml_model\", \"rb\"))\n",
    "# model_obj\n"
   ]
  },
  {
   "cell_type": "code",
   "execution_count": null,
   "id": "f5f8e68a",
   "metadata": {},
   "outputs": [],
   "source": [
    "type(X_train)"
   ]
  },
  {
   "cell_type": "code",
   "execution_count": null,
   "id": "ab2fe843",
   "metadata": {},
   "outputs": [],
   "source": [
    "# x_train = cloudpickle.load(open(\"/notebooks/notebooks/x_train\", \"rb\"))\n",
    "# x_train\n",
    "# type(x_train)"
   ]
  },
  {
   "cell_type": "code",
   "execution_count": null,
   "id": "f61facf7",
   "metadata": {},
   "outputs": [],
   "source": []
  },
  {
   "cell_type": "markdown",
   "id": "9c700bc4",
   "metadata": {},
   "source": [
    "# Deploy model with custom class"
   ]
  },
  {
   "cell_type": "code",
   "execution_count": null,
   "id": "0b194ae9",
   "metadata": {},
   "outputs": [],
   "source": [
    "from snowflake.ml.model import custom_model"
   ]
  },
  {
   "cell_type": "code",
   "execution_count": null,
   "id": "0ff7455a",
   "metadata": {},
   "outputs": [],
   "source": [
    "class ExamplePipelineModel(custom_model.CustomModel):\n",
    "#     def __init__(self, context: ModelContext) -> None:\n",
    "#         super().__init__(context)\n",
    "#         v = int(open(context.path('config')).read())\n",
    "#         self.bias = json.loads(v)['bias']\n",
    "\n",
    "    @custom_model.inference_api\n",
    "    def run(self, data_list: list) -> pd.DataFrame:\n",
    "#         features = self.context.model_ref('feature_preproc').transform(input)\n",
    "#         model_output = self.context.model_ref('m2').predict(\n",
    "#             self.context.model_ref('m1').predict(features)\n",
    "#         )\n",
    "#         return pd.DataFrame({\n",
    "#             'output': model_output + self.bias})\n",
    "        data_array = np.asarray(data_list)\n",
    "        try:\n",
    "            prediction = model.predict(data_array)\n",
    "        except:\n",
    "            prediction = model.predict(data_array.reshape(1, -1))\n",
    "        return prediction.tolist()"
   ]
  },
  {
   "cell_type": "code",
   "execution_count": null,
   "id": "e211952c",
   "metadata": {},
   "outputs": [],
   "source": [
    "!pip freeze | grep cloud"
   ]
  },
  {
   "cell_type": "markdown",
   "id": "e9902a57",
   "metadata": {},
   "source": [
    "# Train & register model"
   ]
  },
  {
   "cell_type": "code",
   "execution_count": 23,
   "id": "e27b053e",
   "metadata": {},
   "outputs": [],
   "source": [
    "import numpy as np\n",
    "import pandas as pd\n",
    "\n",
    "from sklearn.ensemble import GradientBoostingRegressor, GradientBoostingClassifier\n",
    "from sklearn.model_selection import train_test_split\n",
    "from sklearn.model_selection import RandomizedSearchCV"
   ]
  },
  {
   "cell_type": "code",
   "execution_count": 24,
   "id": "32311ca6",
   "metadata": {},
   "outputs": [
    {
     "data": {
      "text/html": [
       "<div>\n",
       "<style scoped>\n",
       "    .dataframe tbody tr th:only-of-type {\n",
       "        vertical-align: middle;\n",
       "    }\n",
       "\n",
       "    .dataframe tbody tr th {\n",
       "        vertical-align: top;\n",
       "    }\n",
       "\n",
       "    .dataframe thead th {\n",
       "        text-align: right;\n",
       "    }\n",
       "</style>\n",
       "<table border=\"1\" class=\"dataframe\">\n",
       "  <thead>\n",
       "    <tr style=\"text-align: right;\">\n",
       "      <th></th>\n",
       "      <th>short_name</th>\n",
       "      <th>nationality</th>\n",
       "      <th>overall</th>\n",
       "      <th>potential</th>\n",
       "      <th>wage_eur</th>\n",
       "      <th>value_eur</th>\n",
       "      <th>age</th>\n",
       "      <th>height_cm</th>\n",
       "      <th>weight_kg</th>\n",
       "      <th>attacking_crossing</th>\n",
       "      <th>...</th>\n",
       "      <th>mentality_penalties</th>\n",
       "      <th>mentality_composure</th>\n",
       "      <th>defending_marking</th>\n",
       "      <th>defending_standing_tackle</th>\n",
       "      <th>defending_sliding_tackle</th>\n",
       "      <th>goalkeeping_diving</th>\n",
       "      <th>goalkeeping_handling</th>\n",
       "      <th>goalkeeping_kicking</th>\n",
       "      <th>goalkeeping_positioning</th>\n",
       "      <th>goalkeeping_reflexes</th>\n",
       "    </tr>\n",
       "  </thead>\n",
       "  <tbody>\n",
       "    <tr>\n",
       "      <th>0</th>\n",
       "      <td>L. Messi</td>\n",
       "      <td>Argentina</td>\n",
       "      <td>94</td>\n",
       "      <td>94</td>\n",
       "      <td>565000</td>\n",
       "      <td>95500000</td>\n",
       "      <td>32</td>\n",
       "      <td>170</td>\n",
       "      <td>72</td>\n",
       "      <td>88</td>\n",
       "      <td>...</td>\n",
       "      <td>75</td>\n",
       "      <td>96</td>\n",
       "      <td>33</td>\n",
       "      <td>37</td>\n",
       "      <td>26</td>\n",
       "      <td>6</td>\n",
       "      <td>11</td>\n",
       "      <td>15</td>\n",
       "      <td>14</td>\n",
       "      <td>8</td>\n",
       "    </tr>\n",
       "    <tr>\n",
       "      <th>1</th>\n",
       "      <td>Cristiano Ronaldo</td>\n",
       "      <td>Portugal</td>\n",
       "      <td>93</td>\n",
       "      <td>93</td>\n",
       "      <td>405000</td>\n",
       "      <td>58500000</td>\n",
       "      <td>34</td>\n",
       "      <td>187</td>\n",
       "      <td>83</td>\n",
       "      <td>84</td>\n",
       "      <td>...</td>\n",
       "      <td>85</td>\n",
       "      <td>95</td>\n",
       "      <td>28</td>\n",
       "      <td>32</td>\n",
       "      <td>24</td>\n",
       "      <td>7</td>\n",
       "      <td>11</td>\n",
       "      <td>15</td>\n",
       "      <td>14</td>\n",
       "      <td>11</td>\n",
       "    </tr>\n",
       "    <tr>\n",
       "      <th>2</th>\n",
       "      <td>Neymar Jr</td>\n",
       "      <td>Brazil</td>\n",
       "      <td>92</td>\n",
       "      <td>92</td>\n",
       "      <td>290000</td>\n",
       "      <td>105500000</td>\n",
       "      <td>27</td>\n",
       "      <td>175</td>\n",
       "      <td>68</td>\n",
       "      <td>87</td>\n",
       "      <td>...</td>\n",
       "      <td>90</td>\n",
       "      <td>94</td>\n",
       "      <td>27</td>\n",
       "      <td>26</td>\n",
       "      <td>29</td>\n",
       "      <td>9</td>\n",
       "      <td>9</td>\n",
       "      <td>15</td>\n",
       "      <td>15</td>\n",
       "      <td>11</td>\n",
       "    </tr>\n",
       "    <tr>\n",
       "      <th>3</th>\n",
       "      <td>J. Oblak</td>\n",
       "      <td>Slovenia</td>\n",
       "      <td>91</td>\n",
       "      <td>93</td>\n",
       "      <td>125000</td>\n",
       "      <td>77500000</td>\n",
       "      <td>26</td>\n",
       "      <td>188</td>\n",
       "      <td>87</td>\n",
       "      <td>13</td>\n",
       "      <td>...</td>\n",
       "      <td>11</td>\n",
       "      <td>68</td>\n",
       "      <td>27</td>\n",
       "      <td>12</td>\n",
       "      <td>18</td>\n",
       "      <td>87</td>\n",
       "      <td>92</td>\n",
       "      <td>78</td>\n",
       "      <td>90</td>\n",
       "      <td>89</td>\n",
       "    </tr>\n",
       "    <tr>\n",
       "      <th>4</th>\n",
       "      <td>E. Hazard</td>\n",
       "      <td>Belgium</td>\n",
       "      <td>91</td>\n",
       "      <td>91</td>\n",
       "      <td>470000</td>\n",
       "      <td>90000000</td>\n",
       "      <td>28</td>\n",
       "      <td>175</td>\n",
       "      <td>74</td>\n",
       "      <td>81</td>\n",
       "      <td>...</td>\n",
       "      <td>88</td>\n",
       "      <td>91</td>\n",
       "      <td>34</td>\n",
       "      <td>27</td>\n",
       "      <td>22</td>\n",
       "      <td>11</td>\n",
       "      <td>12</td>\n",
       "      <td>6</td>\n",
       "      <td>8</td>\n",
       "      <td>8</td>\n",
       "    </tr>\n",
       "    <tr>\n",
       "      <th>5</th>\n",
       "      <td>K. De Bruyne</td>\n",
       "      <td>Belgium</td>\n",
       "      <td>91</td>\n",
       "      <td>91</td>\n",
       "      <td>370000</td>\n",
       "      <td>90000000</td>\n",
       "      <td>28</td>\n",
       "      <td>181</td>\n",
       "      <td>70</td>\n",
       "      <td>93</td>\n",
       "      <td>...</td>\n",
       "      <td>79</td>\n",
       "      <td>91</td>\n",
       "      <td>68</td>\n",
       "      <td>58</td>\n",
       "      <td>51</td>\n",
       "      <td>15</td>\n",
       "      <td>13</td>\n",
       "      <td>5</td>\n",
       "      <td>10</td>\n",
       "      <td>13</td>\n",
       "    </tr>\n",
       "    <tr>\n",
       "      <th>6</th>\n",
       "      <td>M. ter Stegen</td>\n",
       "      <td>Germany</td>\n",
       "      <td>90</td>\n",
       "      <td>93</td>\n",
       "      <td>250000</td>\n",
       "      <td>67500000</td>\n",
       "      <td>27</td>\n",
       "      <td>187</td>\n",
       "      <td>85</td>\n",
       "      <td>18</td>\n",
       "      <td>...</td>\n",
       "      <td>25</td>\n",
       "      <td>70</td>\n",
       "      <td>25</td>\n",
       "      <td>13</td>\n",
       "      <td>10</td>\n",
       "      <td>88</td>\n",
       "      <td>85</td>\n",
       "      <td>88</td>\n",
       "      <td>88</td>\n",
       "      <td>90</td>\n",
       "    </tr>\n",
       "    <tr>\n",
       "      <th>7</th>\n",
       "      <td>V. van Dijk</td>\n",
       "      <td>Netherlands</td>\n",
       "      <td>90</td>\n",
       "      <td>91</td>\n",
       "      <td>200000</td>\n",
       "      <td>78000000</td>\n",
       "      <td>27</td>\n",
       "      <td>193</td>\n",
       "      <td>92</td>\n",
       "      <td>53</td>\n",
       "      <td>...</td>\n",
       "      <td>62</td>\n",
       "      <td>89</td>\n",
       "      <td>91</td>\n",
       "      <td>92</td>\n",
       "      <td>85</td>\n",
       "      <td>13</td>\n",
       "      <td>10</td>\n",
       "      <td>13</td>\n",
       "      <td>11</td>\n",
       "      <td>11</td>\n",
       "    </tr>\n",
       "    <tr>\n",
       "      <th>8</th>\n",
       "      <td>L. Modric</td>\n",
       "      <td>Croatia</td>\n",
       "      <td>90</td>\n",
       "      <td>90</td>\n",
       "      <td>340000</td>\n",
       "      <td>45000000</td>\n",
       "      <td>33</td>\n",
       "      <td>172</td>\n",
       "      <td>66</td>\n",
       "      <td>86</td>\n",
       "      <td>...</td>\n",
       "      <td>82</td>\n",
       "      <td>92</td>\n",
       "      <td>68</td>\n",
       "      <td>76</td>\n",
       "      <td>71</td>\n",
       "      <td>13</td>\n",
       "      <td>9</td>\n",
       "      <td>7</td>\n",
       "      <td>14</td>\n",
       "      <td>9</td>\n",
       "    </tr>\n",
       "    <tr>\n",
       "      <th>9</th>\n",
       "      <td>M. Salah</td>\n",
       "      <td>Egypt</td>\n",
       "      <td>90</td>\n",
       "      <td>90</td>\n",
       "      <td>240000</td>\n",
       "      <td>80500000</td>\n",
       "      <td>27</td>\n",
       "      <td>175</td>\n",
       "      <td>71</td>\n",
       "      <td>79</td>\n",
       "      <td>...</td>\n",
       "      <td>77</td>\n",
       "      <td>91</td>\n",
       "      <td>38</td>\n",
       "      <td>43</td>\n",
       "      <td>41</td>\n",
       "      <td>14</td>\n",
       "      <td>14</td>\n",
       "      <td>9</td>\n",
       "      <td>11</td>\n",
       "      <td>14</td>\n",
       "    </tr>\n",
       "  </tbody>\n",
       "</table>\n",
       "<p>10 rows × 43 columns</p>\n",
       "</div>"
      ],
      "text/plain": [
       "          short_name  nationality  overall  potential  wage_eur  value_eur   \n",
       "0           L. Messi    Argentina       94         94    565000   95500000  \\\n",
       "1  Cristiano Ronaldo     Portugal       93         93    405000   58500000   \n",
       "2          Neymar Jr       Brazil       92         92    290000  105500000   \n",
       "3           J. Oblak     Slovenia       91         93    125000   77500000   \n",
       "4          E. Hazard      Belgium       91         91    470000   90000000   \n",
       "5       K. De Bruyne      Belgium       91         91    370000   90000000   \n",
       "6      M. ter Stegen      Germany       90         93    250000   67500000   \n",
       "7        V. van Dijk  Netherlands       90         91    200000   78000000   \n",
       "8          L. Modric      Croatia       90         90    340000   45000000   \n",
       "9           M. Salah        Egypt       90         90    240000   80500000   \n",
       "\n",
       "   age  height_cm  weight_kg  attacking_crossing  ...  mentality_penalties   \n",
       "0   32        170         72                  88  ...                   75  \\\n",
       "1   34        187         83                  84  ...                   85   \n",
       "2   27        175         68                  87  ...                   90   \n",
       "3   26        188         87                  13  ...                   11   \n",
       "4   28        175         74                  81  ...                   88   \n",
       "5   28        181         70                  93  ...                   79   \n",
       "6   27        187         85                  18  ...                   25   \n",
       "7   27        193         92                  53  ...                   62   \n",
       "8   33        172         66                  86  ...                   82   \n",
       "9   27        175         71                  79  ...                   77   \n",
       "\n",
       "   mentality_composure  defending_marking  defending_standing_tackle   \n",
       "0                   96                 33                         37  \\\n",
       "1                   95                 28                         32   \n",
       "2                   94                 27                         26   \n",
       "3                   68                 27                         12   \n",
       "4                   91                 34                         27   \n",
       "5                   91                 68                         58   \n",
       "6                   70                 25                         13   \n",
       "7                   89                 91                         92   \n",
       "8                   92                 68                         76   \n",
       "9                   91                 38                         43   \n",
       "\n",
       "   defending_sliding_tackle  goalkeeping_diving  goalkeeping_handling   \n",
       "0                        26                   6                    11  \\\n",
       "1                        24                   7                    11   \n",
       "2                        29                   9                     9   \n",
       "3                        18                  87                    92   \n",
       "4                        22                  11                    12   \n",
       "5                        51                  15                    13   \n",
       "6                        10                  88                    85   \n",
       "7                        85                  13                    10   \n",
       "8                        71                  13                     9   \n",
       "9                        41                  14                    14   \n",
       "\n",
       "   goalkeeping_kicking  goalkeeping_positioning  goalkeeping_reflexes  \n",
       "0                   15                       14                     8  \n",
       "1                   15                       14                    11  \n",
       "2                   15                       15                    11  \n",
       "3                   78                       90                    89  \n",
       "4                    6                        8                     8  \n",
       "5                    5                       10                    13  \n",
       "6                   88                       88                    90  \n",
       "7                   13                       11                    11  \n",
       "8                    7                       14                     9  \n",
       "9                    9                       11                    14  \n",
       "\n",
       "[10 rows x 43 columns]"
      ]
     },
     "execution_count": 24,
     "metadata": {},
     "output_type": "execute_result"
    }
   ],
   "source": [
    "# Load the data\n",
    "data = pd.read_csv(\"/data/fifa.csv\")\n",
    "data.head(10)"
   ]
  },
  {
   "cell_type": "code",
   "execution_count": null,
   "id": "c6fb05b7",
   "metadata": {},
   "outputs": [],
   "source": [
    "type(y_train)"
   ]
  },
  {
   "cell_type": "code",
   "execution_count": 25,
   "id": "bb4e700a",
   "metadata": {},
   "outputs": [],
   "source": [
    "X = data[['age','height_cm','weight_kg','skill_dribbling','attacking_crossing','attacking_finishing','movement_acceleration','movement_sprint_speed','power_shot_power','mentality_aggression','defending_marking','defending_standing_tackle','goalkeeping_diving','goalkeeping_handling','overall','potential']]\n",
    "y = data['value_eur']\n",
    "ylog = np.log(y)\n",
    "\n",
    "# %matplotlib inline\n",
    "# import matplotlib.pyplot as plt\n",
    "# plt.hist(ylog, bins='auto')\n",
    "# plt.title(\"ln(value_eur)\")\n",
    "# plt.show()\n",
    "\n",
    "X_train, X_test, ylog_train, ylog_test, y_train, y_test = train_test_split(X, ylog, y, test_size=0.25, random_state=4)"
   ]
  },
  {
   "cell_type": "code",
   "execution_count": 26,
   "id": "9c6ee341",
   "metadata": {},
   "outputs": [
    {
     "data": {
      "text/html": [
       "<style>#sk-container-id-2 {color: black;}#sk-container-id-2 pre{padding: 0;}#sk-container-id-2 div.sk-toggleable {background-color: white;}#sk-container-id-2 label.sk-toggleable__label {cursor: pointer;display: block;width: 100%;margin-bottom: 0;padding: 0.3em;box-sizing: border-box;text-align: center;}#sk-container-id-2 label.sk-toggleable__label-arrow:before {content: \"▸\";float: left;margin-right: 0.25em;color: #696969;}#sk-container-id-2 label.sk-toggleable__label-arrow:hover:before {color: black;}#sk-container-id-2 div.sk-estimator:hover label.sk-toggleable__label-arrow:before {color: black;}#sk-container-id-2 div.sk-toggleable__content {max-height: 0;max-width: 0;overflow: hidden;text-align: left;background-color: #f0f8ff;}#sk-container-id-2 div.sk-toggleable__content pre {margin: 0.2em;color: black;border-radius: 0.25em;background-color: #f0f8ff;}#sk-container-id-2 input.sk-toggleable__control:checked~div.sk-toggleable__content {max-height: 200px;max-width: 100%;overflow: auto;}#sk-container-id-2 input.sk-toggleable__control:checked~label.sk-toggleable__label-arrow:before {content: \"▾\";}#sk-container-id-2 div.sk-estimator input.sk-toggleable__control:checked~label.sk-toggleable__label {background-color: #d4ebff;}#sk-container-id-2 div.sk-label input.sk-toggleable__control:checked~label.sk-toggleable__label {background-color: #d4ebff;}#sk-container-id-2 input.sk-hidden--visually {border: 0;clip: rect(1px 1px 1px 1px);clip: rect(1px, 1px, 1px, 1px);height: 1px;margin: -1px;overflow: hidden;padding: 0;position: absolute;width: 1px;}#sk-container-id-2 div.sk-estimator {font-family: monospace;background-color: #f0f8ff;border: 1px dotted black;border-radius: 0.25em;box-sizing: border-box;margin-bottom: 0.5em;}#sk-container-id-2 div.sk-estimator:hover {background-color: #d4ebff;}#sk-container-id-2 div.sk-parallel-item::after {content: \"\";width: 100%;border-bottom: 1px solid gray;flex-grow: 1;}#sk-container-id-2 div.sk-label:hover label.sk-toggleable__label {background-color: #d4ebff;}#sk-container-id-2 div.sk-serial::before {content: \"\";position: absolute;border-left: 1px solid gray;box-sizing: border-box;top: 0;bottom: 0;left: 50%;z-index: 0;}#sk-container-id-2 div.sk-serial {display: flex;flex-direction: column;align-items: center;background-color: white;padding-right: 0.2em;padding-left: 0.2em;position: relative;}#sk-container-id-2 div.sk-item {position: relative;z-index: 1;}#sk-container-id-2 div.sk-parallel {display: flex;align-items: stretch;justify-content: center;background-color: white;position: relative;}#sk-container-id-2 div.sk-item::before, #sk-container-id-2 div.sk-parallel-item::before {content: \"\";position: absolute;border-left: 1px solid gray;box-sizing: border-box;top: 0;bottom: 0;left: 50%;z-index: -1;}#sk-container-id-2 div.sk-parallel-item {display: flex;flex-direction: column;z-index: 1;position: relative;background-color: white;}#sk-container-id-2 div.sk-parallel-item:first-child::after {align-self: flex-end;width: 50%;}#sk-container-id-2 div.sk-parallel-item:last-child::after {align-self: flex-start;width: 50%;}#sk-container-id-2 div.sk-parallel-item:only-child::after {width: 0;}#sk-container-id-2 div.sk-dashed-wrapped {border: 1px dashed gray;margin: 0 0.4em 0.5em 0.4em;box-sizing: border-box;padding-bottom: 0.4em;background-color: white;}#sk-container-id-2 div.sk-label label {font-family: monospace;font-weight: bold;display: inline-block;line-height: 1.2em;}#sk-container-id-2 div.sk-label-container {text-align: center;}#sk-container-id-2 div.sk-container {/* jupyter's `normalize.less` sets `[hidden] { display: none; }` but bootstrap.min.css set `[hidden] { display: none !important; }` so we also need the `!important` here to be able to override the default hidden behavior on the sphinx rendered scikit-learn.org. See: https://github.com/scikit-learn/scikit-learn/issues/21755 */display: inline-block !important;position: relative;}#sk-container-id-2 div.sk-text-repr-fallback {display: none;}</style><div id=\"sk-container-id-2\" class=\"sk-top-container\"><div class=\"sk-text-repr-fallback\"><pre>GradientBoostingRegressor()</pre><b>In a Jupyter environment, please rerun this cell to show the HTML representation or trust the notebook. <br />On GitHub, the HTML representation is unable to render, please try loading this page with nbviewer.org.</b></div><div class=\"sk-container\" hidden><div class=\"sk-item\"><div class=\"sk-estimator sk-toggleable\"><input class=\"sk-toggleable__control sk-hidden--visually\" id=\"sk-estimator-id-2\" type=\"checkbox\" checked><label for=\"sk-estimator-id-2\" class=\"sk-toggleable__label sk-toggleable__label-arrow\">GradientBoostingRegressor</label><div class=\"sk-toggleable__content\"><pre>GradientBoostingRegressor()</pre></div></div></div></div></div>"
      ],
      "text/plain": [
       "GradientBoostingRegressor()"
      ]
     },
     "execution_count": 26,
     "metadata": {},
     "output_type": "execute_result"
    }
   ],
   "source": [
    "gbm_default = GradientBoostingRegressor()\n",
    "gbm_default.fit(X_train, y_train)"
   ]
  },
  {
   "cell_type": "code",
   "execution_count": null,
   "id": "e1d2819b",
   "metadata": {},
   "outputs": [],
   "source": [
    "gbm_default.head()"
   ]
  },
  {
   "cell_type": "code",
   "execution_count": null,
   "id": "7e1aa5b5",
   "metadata": {},
   "outputs": [],
   "source": [
    "import joblib\n",
    "def dump_model(model, path):\n",
    "    joblib.dump(model, path)"
   ]
  },
  {
   "cell_type": "code",
   "execution_count": null,
   "id": "82918f9b",
   "metadata": {},
   "outputs": [],
   "source": [
    "dump_model(gbm_default, \"/notebooks/notebooks/ml_model_4\")"
   ]
  },
  {
   "cell_type": "markdown",
   "id": "d2c04762",
   "metadata": {},
   "source": [
    "# Generating model signature"
   ]
  },
  {
   "cell_type": "code",
   "execution_count": null,
   "id": "ba7d91fd",
   "metadata": {},
   "outputs": [],
   "source": [
    "from snowflake.ml.model import model_signature"
   ]
  },
  {
   "cell_type": "code",
   "execution_count": null,
   "id": "0b236538",
   "metadata": {},
   "outputs": [],
   "source": [
    "sig = model_signature.infer_signature(\n",
    "    X_train.head(),\n",
    "    data['value_eur'],\n",
    "    input_feature_names=['age','height_cm','weight_kg','skill_dribbling',\n",
    "                         'attacking_crossing','attacking_finishing','movement_acceleration',\n",
    "                         'movement_sprint_speed','power_shot_power','mentality_aggression',\n",
    "                         'defending_marking','defending_standing_tackle','goalkeeping_diving',\n",
    "                         'goalkeeping_handling','overall','potential'],\n",
    "    output_feature_names=['value_eur'])"
   ]
  },
  {
   "cell_type": "code",
   "execution_count": 34,
   "id": "64ed2f11",
   "metadata": {},
   "outputs": [
    {
     "name": "stderr",
     "output_type": "stream",
     "text": [
      "/opt/conda/lib/python3.9/contextlib.py:119: UserWarning: `relax_version` is not set and therefore defaulted to True. Dependency version constraints relaxed from ==x.y.z to >=x.y, <(x+1). To use specific dependency versions for compatibility, reproducibility, etc., set `options={'relax_version': False}` when logging the model.\n",
      "  return next(self.gen)\n",
      "/tmp/pip_packages/snowflake/ml/model/model_signature.py:69: UserWarning: The sample input has 3750 rows, thus a truncation happened before inferring signature. This might cause inaccurate signature inference. If that happens, consider specifying signature manually.\n",
      "  warnings.warn(\n"
     ]
    }
   ],
   "source": [
    "mv = registry.log_model(gbm_default,\n",
    "                   model_name=\"sample_sklearn_model_5\",\n",
    "                   version_name=\"v1\",\n",
    "                   conda_dependencies=[\"scikit-learn==1.3.2\", \"scipy==1.13.1\", \"cloudpickle==2.2.1\"],\n",
    "                   comment=\"My awesome ML model\",\n",
    "                    python_version=\"3.9.19\",\n",
    "                   metrics={\"score\": 96},\n",
    "                   sample_input_data=X_train\n",
    "                       )"
   ]
  },
  {
   "cell_type": "code",
   "execution_count": 35,
   "id": "7e12c1a7",
   "metadata": {},
   "outputs": [],
   "source": [
    "import joblib\n",
    "def dump_model(model, path):\n",
    "    joblib.dump(model, path)"
   ]
  },
  {
   "cell_type": "code",
   "execution_count": 38,
   "id": "a135125b",
   "metadata": {},
   "outputs": [],
   "source": [
    "dump_model(gbm_default, \"/notebooks/notebooks/ml_model_5\")"
   ]
  },
  {
   "cell_type": "markdown",
   "id": "f81eaa4f",
   "metadata": {},
   "source": [
    "# Create stage in snowflake-model-registry"
   ]
  },
  {
   "cell_type": "code",
   "execution_count": null,
   "id": "273ae139",
   "metadata": {},
   "outputs": [],
   "source": [
    "# query = \"\"\"\n",
    "#         create or replace stage sample_model_serving_udf_stg\n",
    "#         directory = (enable = true)\n",
    "#         copy_options = (on_error='skip_file')\n",
    "#         \"\"\"\n",
    "\n",
    "# session.sql(query)\n",
    "\n"
   ]
  },
  {
   "cell_type": "code",
   "execution_count": null,
   "id": "36420f0d",
   "metadata": {},
   "outputs": [],
   "source": [
    "# To see the stages\n",
    "session.sql(\"show stages\")"
   ]
  },
  {
   "cell_type": "code",
   "execution_count": null,
   "id": "218f5d38",
   "metadata": {},
   "outputs": [],
   "source": [
    "from snowflake.snowpark.files import SnowflakeFile"
   ]
  },
  {
   "cell_type": "code",
   "execution_count": null,
   "id": "ca4e633c",
   "metadata": {},
   "outputs": [],
   "source": [
    "import cloudpickle\n",
    "with SnowflakeFile.open(\"@STG_ML_MODELS/ml_model_2\") as file:\n",
    "    m= cloudpickle.load(file)\n",
    "    print(type(m))"
   ]
  },
  {
   "cell_type": "markdown",
   "id": "27f1d9a9",
   "metadata": {},
   "source": [
    "# Upload model file on ML_MODELS stage "
   ]
  },
  {
   "cell_type": "code",
   "execution_count": null,
   "id": "1927ef45",
   "metadata": {},
   "outputs": [],
   "source": [
    "#create the stage for storing the ML models\n",
    "# session.sql(\"USE MODEL_REGISTRY_SNOWSIGHT;\")\n",
    "session.sql('CREATE OR REPLACE STAGE STG_ML_MODELS').show()"
   ]
  },
  {
   "cell_type": "code",
   "execution_count": 55,
   "id": "c094cac2",
   "metadata": {},
   "outputs": [],
   "source": [
    "X_train.to_csv(\"/data/X_train.csv\", index = False)"
   ]
  },
  {
   "cell_type": "code",
   "execution_count": 56,
   "id": "cdbe6e91",
   "metadata": {},
   "outputs": [
    {
     "data": {
      "text/plain": [
       "[PutResult(source='X_train.csv', target='X_train.csv', source_size=181236, target_size=181248, source_compression='NONE', target_compression='NONE', status='UPLOADED', message='')]"
      ]
     },
     "execution_count": 56,
     "metadata": {},
     "output_type": "execute_result"
    }
   ],
   "source": [
    "session.file.put(\n",
    "    \"/data/X_train.csv\", \"@STG_ML_MODELS\", auto_compress=False, overwrite=True\n",
    ")"
   ]
  },
  {
   "cell_type": "code",
   "execution_count": 39,
   "id": "36eb0de5",
   "metadata": {},
   "outputs": [
    {
     "data": {
      "text/plain": [
       "[PutResult(source='ml_model_5', target='ml_model_5', source_size=181708, target_size=181712, source_compression='NONE', target_compression='NONE', status='UPLOADED', message='')]"
      ]
     },
     "execution_count": 39,
     "metadata": {},
     "output_type": "execute_result"
    }
   ],
   "source": [
    "session.file.put(\n",
    "    \"/notebooks/notebooks/ml_model_5\", \"@STG_ML_MODELS\", auto_compress=False, overwrite=True\n",
    ")"
   ]
  },
  {
   "cell_type": "code",
   "execution_count": null,
   "id": "35257623",
   "metadata": {},
   "outputs": [],
   "source": [
    "session.file.put(\n",
    "    \"/data/ml_model_5\", \"@STG_ML_MODELS\", auto_compress=False, overwrite=True\n",
    ")"
   ]
  },
  {
   "cell_type": "markdown",
   "id": "ec8b6da7",
   "metadata": {},
   "source": [
    "# Read model file from stage"
   ]
  },
  {
   "cell_type": "code",
   "execution_count": null,
   "id": "899bfbdd",
   "metadata": {},
   "outputs": [],
   "source": [
    "session.clear_imports()\n",
    "session.clear_packages()\n",
    "\n",
    "#Register above uploded model as import of UDF\n",
    "session.add_import(\"@STG_ML_MODELS/ml_model_2\")\n",
    "\n",
    "#map packege dependancies\n",
    "session.add_packages(\"scikit-learn\", \"pandas\", \"cloudpickle==2.2.1\")"
   ]
  },
  {
   "cell_type": "code",
   "execution_count": null,
   "id": "a7a0a34f",
   "metadata": {},
   "outputs": [],
   "source": [
    "from snowflake.snowpark.types import PandasSeries, PandasDataFrame\n",
    "import snowflake.snowpark.functions as F\n",
    "from typing import  Optional\n",
    "\n",
    "\n",
    "\n",
    "def read_file(filename):\n",
    "    import cloudpickle\n",
    "    import sys\n",
    "    import os\n",
    "    \n",
    "    #where all imports located at\n",
    "    import_dir = sys._xoptions.get(\"snowflake_import_directory\")\n",
    "\n",
    "    if import_dir:\n",
    "        with open(os.path.join(import_dir, filename), 'rb') as file:\n",
    "            m = cloudpickle.load(file)\n",
    "            return m\n",
    "\n",
    "#register UDF\n",
    "@F.udf(name = 'READ_MODEL_FROM_FILE', is_permanent = True, replace = True, stage_location = '@STG_ML_MODELS')\n",
    "def read_model_from_file(file_name:Optional[str]) -> str:\n",
    "    import numpy as np\n",
    "    \n",
    "    # later we will input train data as JSON object\n",
    "    # hance, we have to convert JSON object as pandas DF\n",
    "    data_array = np.asarray(data_list)\n",
    "    pipeline = read_file(file_name)\n",
    "    print(\"type of pickle object =\", type(pipeline))\n",
    "#     dict_mod[\"model_obj\"] = pipeline\n",
    "    return \"pipeline\"\n",
    "#     return pipeline.predict(data_array).to_list()\n",
    "\n",
    "\n",
    "\n",
    "\n",
    "# @F.udf(name = 'READ_MODEL_FROM_FILE', is_permanent = True, replace = True, stage_location = '@STG_ML_MODELS')\n",
    "# def read_model_from_file(file_name:Optional[str]) -> str:\n",
    "#     import numpy as np\n",
    "    \n",
    "#     # later we will input train data as JSON object\n",
    "#     # hance, we have to convert JSON object as pandas DF\n",
    "#     data_array = np.asarray(data_list)\n",
    "#     pipeline = read_file(file_name)\n",
    "#     print(\"type of pickle object =\", type(pipeline))\n",
    "# #     dict_mod[\"model_obj\"] = pipeline\n",
    "#     return pipeline\n",
    "# #     return pipeline.predict(data_array).to_list()"
   ]
  },
  {
   "cell_type": "code",
   "execution_count": null,
   "id": "4deae998",
   "metadata": {},
   "outputs": [],
   "source": [
    "session.sql(\"DESC FUNCTION READ_MODEL_FROM_FILE(\"ml_model\")\").show()"
   ]
  },
  {
   "cell_type": "code",
   "execution_count": null,
   "id": "ac767dfa",
   "metadata": {},
   "outputs": [],
   "source": [
    "model_udf = read_model_from_file(\"ml_model_2\")\n",
    "# model_udf = read_file(\"ml_model_2\")"
   ]
  },
  {
   "cell_type": "code",
   "execution_count": null,
   "id": "87ca686a",
   "metadata": {},
   "outputs": [],
   "source": [
    "model_udf"
   ]
  },
  {
   "cell_type": "code",
   "execution_count": null,
   "id": "4061913f",
   "metadata": {},
   "outputs": [],
   "source": [
    "registry."
   ]
  },
  {
   "cell_type": "code",
   "execution_count": null,
   "id": "86657f39",
   "metadata": {},
   "outputs": [],
   "source": [
    "import joblib"
   ]
  },
  {
   "cell_type": "code",
   "execution_count": null,
   "id": "5bc1eb6d",
   "metadata": {},
   "outputs": [],
   "source": [
    "# model_obj = joblib.load(read_model_from_file(\"ml_model_2\"))\n",
    "import os\n",
    "model_file = os.path.join(\"/notebooks/notebooks\", \"ml_model_3\")\n",
    "model_obj = joblib.load(model_file)"
   ]
  },
  {
   "cell_type": "code",
   "execution_count": null,
   "id": "c40ed953",
   "metadata": {},
   "outputs": [],
   "source": [
    "X_train.to_csv(\"/data/X_train.csv\")"
   ]
  },
  {
   "cell_type": "code",
   "execution_count": null,
   "id": "fe078460",
   "metadata": {},
   "outputs": [],
   "source": [
    "import numpy as np"
   ]
  },
  {
   "cell_type": "code",
   "execution_count": null,
   "id": "f2a10e5e",
   "metadata": {},
   "outputs": [],
   "source": [
    "data_list = [[ 25, 185,  88,  78,  65,  81,  77,  75,  81,  63,  37,  26,   9, 10,  79,  82]]\n",
    "data_array = np.asarray(data_list)\n",
    "print(\"data_array =\", data_array)\n",
    "\n",
    "remote_prediction = model_obj.run(data_array, function_name=\"predict\")\n",
    "remote_prediction   # assuming test_features is Snowpark DataFrame\n",
    "remote_prediction"
   ]
  },
  {
   "cell_type": "code",
   "execution_count": null,
   "id": "9d312ad9",
   "metadata": {},
   "outputs": [],
   "source": [
    "from snowflake.snowpark import DataFrame"
   ]
  },
  {
   "cell_type": "code",
   "execution_count": 40,
   "id": "374bf208",
   "metadata": {},
   "outputs": [],
   "source": [
    "import pandas as pd"
   ]
  },
  {
   "cell_type": "code",
   "execution_count": 41,
   "id": "65091fd6",
   "metadata": {},
   "outputs": [],
   "source": [
    "from snowflake.snowpark.types import Variant\n",
    "def read_model_from_stage(session: Session, df_dict: dict) -> Variant:\n",
    "\n",
    "    # print(\"file_name =\", file_name)\n",
    "    # session.add_import(\"@STG_ML_MODELS/\"+file_name)\n",
    "    # map packege dependancies\n",
    "    # session.add_packages(\"scikit-learn\", \"pandas\", \"cloudpickle==2.2.1\")\n",
    "\n",
    "\n",
    "\n",
    "    # from snowflake.snowpark.types import PandasSeries, PandasDataFrame\n",
    "    # import snowflake.snowpark.functions as F\n",
    "    # from typing import Optional\n",
    "    from snowflake.snowpark.files import SnowflakeFile\n",
    "    from snowflake.ml.registry.registry import Registry\n",
    "\n",
    "    import joblib\n",
    "    df = pd.DataFrame(df_dict)\n",
    "    print(\"df ===\", df)\n",
    "\n",
    "    model_file = '@STG_ML_MODELS/ml_model_5'\n",
    "    # Specify 'mode = rb' to open the file in binary mode.\n",
    "    with SnowflakeFile.open(model_file, 'rb', require_scoped_url=False) as f:\n",
    "        model_obj = joblib.load(f)\n",
    "        # return str(model_obj)\n",
    "        # return str(model_obj)\n",
    "\n",
    "        reg = Registry(session=session)\n",
    "\n",
    "        mv = reg.log_model(model=model_obj,\n",
    "                           model_name=\"sample_model\",\n",
    "                           comment=\"test\",\n",
    "                           version_name=\"run1\",\n",
    "                           python_version=\"3.9.19\",\n",
    "                           conda_dependencies=[\"scikit-learn==1.3.2\"],\n",
    "                           metrics={\"model_metrics\": {\"score\": 96}, \"project_id\": \"0001\", \"type\": \"Model\"},\n",
    "                           sample_input_data=df\n",
    "                           )\n",
    "\n",
    "        print(\"model got registered successfully\")\n",
    "        return df_dict"
   ]
  },
  {
   "cell_type": "code",
   "execution_count": 42,
   "id": "72e7c3f2",
   "metadata": {},
   "outputs": [
    {
     "name": "stderr",
     "output_type": "stream",
     "text": [
      "WARNING:snowflake.snowpark.session:The version of package 'snowflake-snowpark-python' in the local environment is 1.18.0, which does not fit the criteria for the requirement 'snowflake-snowpark-python'. Your UDF might not work when the package version is different between the server and your local environment.\n",
      "WARNING:snowflake.snowpark.session:The version of package 'pandas' in the local environment is 2.0.0, which does not fit the criteria for the requirement 'pandas'. Your UDF might not work when the package version is different between the server and your local environment.\n",
      "WARNING:snowflake.snowpark.session:The version of package 'joblib' in the local environment is 1.3.2, which does not fit the criteria for the requirement 'joblib'. Your UDF might not work when the package version is different between the server and your local environment.\n"
     ]
    },
    {
     "data": {
      "text/plain": [
       "<snowflake.snowpark.stored_procedure.StoredProcedure at 0x7f83b9072e20>"
      ]
     },
     "execution_count": 42,
     "metadata": {},
     "output_type": "execute_result"
    }
   ],
   "source": [
    "session.sproc.register(func=read_model_from_stage,\n",
    "                           name=\"read_model_from_stage\",\n",
    "                           packages=[\"snowflake-snowpark-python\", \"snowflake-ml-python\",\"scikit-learn\", \"pandas\", \"cloudpickle==2.2.1\", \"joblib\"],\n",
    "                           isPermanant=True,\n",
    "                           stage_location=\"@STG_ML_MODELS\",\n",
    "                           replace=True,\n",
    "                       )"
   ]
  },
  {
   "cell_type": "code",
   "execution_count": 50,
   "id": "1cce4d2b",
   "metadata": {},
   "outputs": [],
   "source": [
    "dict_df = X_train.head().to_dict()"
   ]
  },
  {
   "cell_type": "code",
   "execution_count": 51,
   "id": "e2fa057b",
   "metadata": {},
   "outputs": [
    {
     "data": {
      "text/plain": [
       "{'age': {620: 25, 2193: 26, 1170: 32, 1863: 34, 4724: 24},\n",
       " 'height_cm': {620: 185, 2193: 184, 1170: 182, 1863: 183, 4724: 176},\n",
       " 'weight_kg': {620: 88, 2193: 77, 1170: 84, 1863: 73, 4724: 70},\n",
       " 'skill_dribbling': {620: 78, 2193: 64, 1170: 85, 1863: 73, 4724: 71},\n",
       " 'attacking_crossing': {620: 65, 2193: 47, 1170: 61, 1863: 63, 4724: 66},\n",
       " 'attacking_finishing': {620: 81, 2193: 41, 1170: 80, 1863: 79, 4724: 63},\n",
       " 'movement_acceleration': {620: 77, 2193: 65, 1170: 75, 1863: 76, 4724: 74},\n",
       " 'movement_sprint_speed': {620: 75, 2193: 64, 1170: 67, 1863: 49, 4724: 77},\n",
       " 'power_shot_power': {620: 81, 2193: 56, 1170: 77, 1863: 79, 4724: 70},\n",
       " 'mentality_aggression': {620: 63, 2193: 86, 1170: 51, 1863: 51, 4724: 61},\n",
       " 'defending_marking': {620: 37, 2193: 73, 1170: 25, 1863: 57, 4724: 64},\n",
       " 'defending_standing_tackle': {620: 26,\n",
       "  2193: 75,\n",
       "  1170: 30,\n",
       "  1863: 19,\n",
       "  4724: 71},\n",
       " 'goalkeeping_diving': {620: 9, 2193: 14, 1170: 6, 1863: 8, 4724: 10},\n",
       " 'goalkeeping_handling': {620: 10, 2193: 14, 1170: 16, 1863: 10, 4724: 8},\n",
       " 'overall': {620: 79, 2193: 74, 1170: 77, 1863: 75, 4724: 70},\n",
       " 'potential': {620: 82, 2193: 77, 1170: 77, 1863: 75, 4724: 76}}"
      ]
     },
     "execution_count": 51,
     "metadata": {},
     "output_type": "execute_result"
    }
   ],
   "source": [
    "dict_df"
   ]
  },
  {
   "cell_type": "code",
   "execution_count": 52,
   "id": "a9d0e098",
   "metadata": {},
   "outputs": [
    {
     "data": {
      "text/plain": [
       "Index(['age', 'height_cm', 'weight_kg', 'skill_dribbling',\n",
       "       'attacking_crossing', 'attacking_finishing', 'movement_acceleration',\n",
       "       'movement_sprint_speed', 'power_shot_power', 'mentality_aggression',\n",
       "       'defending_marking', 'defending_standing_tackle', 'goalkeeping_diving',\n",
       "       'goalkeeping_handling', 'overall', 'potential'],\n",
       "      dtype='object')"
      ]
     },
     "execution_count": 52,
     "metadata": {},
     "output_type": "execute_result"
    }
   ],
   "source": [
    "X_train.columns"
   ]
  },
  {
   "cell_type": "code",
   "execution_count": 45,
   "id": "b4bb6445",
   "metadata": {},
   "outputs": [],
   "source": [
    "df = pd.DataFrame(dict_df)"
   ]
  },
  {
   "cell_type": "code",
   "execution_count": 46,
   "id": "3b8fc860",
   "metadata": {},
   "outputs": [
    {
     "data": {
      "text/plain": [
       "Index(['age', 'height_cm', 'weight_kg', 'skill_dribbling',\n",
       "       'attacking_crossing', 'attacking_finishing', 'movement_acceleration',\n",
       "       'movement_sprint_speed', 'power_shot_power', 'mentality_aggression',\n",
       "       'defending_marking', 'defending_standing_tackle', 'goalkeeping_diving',\n",
       "       'goalkeeping_handling', 'overall', 'potential'],\n",
       "      dtype='object')"
      ]
     },
     "execution_count": 46,
     "metadata": {},
     "output_type": "execute_result"
    }
   ],
   "source": [
    "df.columns"
   ]
  },
  {
   "cell_type": "code",
   "execution_count": 53,
   "id": "bb9c989a",
   "metadata": {},
   "outputs": [
    {
     "ename": "SnowparkSQLException",
     "evalue": "(1304): 01b4c34b-0000-668b-0000-576d06cc8e22: 100357 (P0000): Python Interpreter Error:\nTraceback (most recent call last):\n  File \"_udf_code.py\", line 51, in compute\n  File \"<ipython-input-41-6d7549348a0d>\", line 30, in read_model_from_stage\n  File \"/usr/lib/python_udf/c9abc2f36199647a270d8ce824ea98bb92e1209b64d0ac5efb8c6c1d19a3e362/lib/python3.9/site-packages/snowflake/ml/_internal/telemetry.py\", line 352, in wrap\n    return update_stmt_params_if_snowpark_df(func(*args, **kwargs), statement_params)\n  File \"/usr/lib/python_udf/c9abc2f36199647a270d8ce824ea98bb92e1209b64d0ac5efb8c6c1d19a3e362/lib/python3.9/site-packages/snowflake/ml/registry/registry.py\", line 156, in log_model\n    return self._model_manager.log_model(\n  File \"/usr/lib/python_udf/c9abc2f36199647a270d8ce824ea98bb92e1209b64d0ac5efb8c6c1d19a3e362/lib/python3.9/site-packages/snowflake/ml/registry/_manager/model_manager.py\", line 71, in log_model\n    mc.save(\n  File \"/usr/lib/python_udf/c9abc2f36199647a270d8ce824ea98bb92e1209b64d0ac5efb8c6c1d19a3e362/lib/python3.9/site-packages/snowflake/ml/model/_model_composer/model_composer.py\", line 109, in save\n    self.packager.save(\n  File \"/usr/lib/python_udf/c9abc2f36199647a270d8ce824ea98bb92e1209b64d0ac5efb8c6c1d19a3e362/lib/python3.9/site-packages/snowflake/ml/model/_packager/model_packager.py\", line 92, in save\n    handler.save_model(\n  File \"/usr/lib/python_udf/c9abc2f36199647a270d8ce824ea98bb92e1209b64d0ac5efb8c6c1d19a3e362/lib/python3.9/site-packages/snowflake/ml/model/_packager/model_handlers/sklearn.py\", line 105, in save_model\n    model_meta = handlers_utils.validate_signature(\n  File \"/usr/lib/python_udf/c9abc2f36199647a270d8ce824ea98bb92e1209b64d0ac5efb8c6c1d19a3e362/lib/python3.9/site-packages/snowflake/ml/model/_packager/model_handlers/_utils.py\", line 36, in validate_signature\n    predictions_df = get_prediction_fn(target_method, local_sample_input)\n  File \"/usr/lib/python_udf/c9abc2f36199647a270d8ce824ea98bb92e1209b64d0ac5efb8c6c1d19a3e362/lib/python3.9/site-packages/snowflake/ml/model/_packager/model_handlers/sklearn.py\", line 102, in get_prediction\n    predictions_df = target_method(sample_input_data)\n  File \"/usr/lib/python_udf/c9abc2f36199647a270d8ce824ea98bb92e1209b64d0ac5efb8c6c1d19a3e362/lib/python3.9/site-packages/sklearn/ensemble/_gb.py\", line 1779, in predict\n    X = self._validate_data(\n  File \"/usr/lib/python_udf/c9abc2f36199647a270d8ce824ea98bb92e1209b64d0ac5efb8c6c1d19a3e362/lib/python3.9/site-packages/sklearn/base.py\", line 579, in _validate_data\n    self._check_feature_names(X, reset=reset)\n  File \"/usr/lib/python_udf/c9abc2f36199647a270d8ce824ea98bb92e1209b64d0ac5efb8c6c1d19a3e362/lib/python3.9/site-packages/sklearn/base.py\", line 506, in _check_feature_names\n    raise ValueError(message)\nValueError: The feature names should match those that were passed during fit.\nFeature names must be in the same order as they were in fit.\n\n in function READ_MODEL_FROM_STAGE with handler compute",
     "output_type": "error",
     "traceback": [
      "\u001b[0;31m---------------------------------------------------------------------------\u001b[0m",
      "\u001b[0;31mSnowparkSQLException\u001b[0m                      Traceback (most recent call last)",
      "Cell \u001b[0;32mIn[53], line 1\u001b[0m\n\u001b[0;32m----> 1\u001b[0m model_obj \u001b[38;5;241m=\u001b[39m \u001b[43msession\u001b[49m\u001b[38;5;241;43m.\u001b[39;49m\u001b[43mcall\u001b[49m\u001b[43m(\u001b[49m\u001b[38;5;124;43m\"\u001b[39;49m\u001b[38;5;124;43mread_model_from_stage\u001b[39;49m\u001b[38;5;124;43m\"\u001b[39;49m\u001b[43m,\u001b[49m\u001b[43m \u001b[49m\u001b[43mdict_df\u001b[49m\u001b[43m)\u001b[49m\n",
      "File \u001b[0;32m/tmp/pip_packages/snowflake/snowpark/session.py:3074\u001b[0m, in \u001b[0;36mSession.call\u001b[0;34m(self, sproc_name, statement_params, log_on_exception, *args)\u001b[0m\n\u001b[1;32m   3025\u001b[0m \u001b[38;5;28;01mdef\u001b[39;00m \u001b[38;5;21mcall\u001b[39m(\n\u001b[1;32m   3026\u001b[0m     \u001b[38;5;28mself\u001b[39m,\n\u001b[1;32m   3027\u001b[0m     sproc_name: \u001b[38;5;28mstr\u001b[39m,\n\u001b[0;32m   (...)\u001b[0m\n\u001b[1;32m   3030\u001b[0m     log_on_exception: \u001b[38;5;28mbool\u001b[39m \u001b[38;5;241m=\u001b[39m \u001b[38;5;28;01mFalse\u001b[39;00m,\n\u001b[1;32m   3031\u001b[0m ) \u001b[38;5;241m-\u001b[39m\u001b[38;5;241m>\u001b[39m Any:\n\u001b[1;32m   3032\u001b[0m \u001b[38;5;250m    \u001b[39m\u001b[38;5;124;03m\"\"\"Calls a stored procedure by name.\u001b[39;00m\n\u001b[1;32m   3033\u001b[0m \n\u001b[1;32m   3034\u001b[0m \u001b[38;5;124;03m    Args:\u001b[39;00m\n\u001b[0;32m   (...)\u001b[0m\n\u001b[1;32m   3072\u001b[0m \u001b[38;5;124;03m        <BLANKLINE>\u001b[39;00m\n\u001b[1;32m   3073\u001b[0m \u001b[38;5;124;03m    \"\"\"\u001b[39;00m\n\u001b[0;32m-> 3074\u001b[0m     \u001b[38;5;28;01mreturn\u001b[39;00m \u001b[38;5;28;43mself\u001b[39;49m\u001b[38;5;241;43m.\u001b[39;49m\u001b[43m_call\u001b[49m\u001b[43m(\u001b[49m\n\u001b[1;32m   3075\u001b[0m \u001b[43m        \u001b[49m\u001b[43msproc_name\u001b[49m\u001b[43m,\u001b[49m\n\u001b[1;32m   3076\u001b[0m \u001b[43m        \u001b[49m\u001b[38;5;241;43m*\u001b[39;49m\u001b[43margs\u001b[49m\u001b[43m,\u001b[49m\n\u001b[1;32m   3077\u001b[0m \u001b[43m        \u001b[49m\u001b[43mstatement_params\u001b[49m\u001b[38;5;241;43m=\u001b[39;49m\u001b[43mstatement_params\u001b[49m\u001b[43m,\u001b[49m\n\u001b[1;32m   3078\u001b[0m \u001b[43m        \u001b[49m\u001b[43mlog_on_exception\u001b[49m\u001b[38;5;241;43m=\u001b[39;49m\u001b[43mlog_on_exception\u001b[49m\u001b[43m,\u001b[49m\n\u001b[1;32m   3079\u001b[0m \u001b[43m    \u001b[49m\u001b[43m)\u001b[49m\n",
      "File \u001b[0;32m/tmp/pip_packages/snowflake/snowpark/session.py:3120\u001b[0m, in \u001b[0;36mSession._call\u001b[0;34m(self, sproc_name, statement_params, is_return_table, log_on_exception, *args)\u001b[0m\n\u001b[1;32m   3118\u001b[0m df \u001b[38;5;241m=\u001b[39m \u001b[38;5;28mself\u001b[39m\u001b[38;5;241m.\u001b[39msql(query)\n\u001b[1;32m   3119\u001b[0m set_api_call_source(df, \u001b[38;5;124m\"\u001b[39m\u001b[38;5;124mSession.call\u001b[39m\u001b[38;5;124m\"\u001b[39m)\n\u001b[0;32m-> 3120\u001b[0m \u001b[38;5;28;01mreturn\u001b[39;00m \u001b[43mdf\u001b[49m\u001b[38;5;241;43m.\u001b[39;49m\u001b[43mcollect\u001b[49m\u001b[43m(\u001b[49m\u001b[43mstatement_params\u001b[49m\u001b[38;5;241;43m=\u001b[39;49m\u001b[43mstatement_params\u001b[49m\u001b[43m)\u001b[49m[\u001b[38;5;241m0\u001b[39m][\u001b[38;5;241m0\u001b[39m]\n",
      "File \u001b[0;32m/tmp/pip_packages/snowflake/snowpark/_internal/telemetry.py:145\u001b[0m, in \u001b[0;36mdf_collect_api_telemetry.<locals>.wrap\u001b[0;34m(*args, **kwargs)\u001b[0m\n\u001b[1;32m    142\u001b[0m \u001b[38;5;129m@functools\u001b[39m\u001b[38;5;241m.\u001b[39mwraps(func)\n\u001b[1;32m    143\u001b[0m \u001b[38;5;28;01mdef\u001b[39;00m \u001b[38;5;21mwrap\u001b[39m(\u001b[38;5;241m*\u001b[39margs, \u001b[38;5;241m*\u001b[39m\u001b[38;5;241m*\u001b[39mkwargs):\n\u001b[1;32m    144\u001b[0m     \u001b[38;5;28;01mwith\u001b[39;00m args[\u001b[38;5;241m0\u001b[39m]\u001b[38;5;241m.\u001b[39m_session\u001b[38;5;241m.\u001b[39mquery_history() \u001b[38;5;28;01mas\u001b[39;00m query_history:\n\u001b[0;32m--> 145\u001b[0m         result \u001b[38;5;241m=\u001b[39m \u001b[43mfunc\u001b[49m\u001b[43m(\u001b[49m\u001b[38;5;241;43m*\u001b[39;49m\u001b[43margs\u001b[49m\u001b[43m,\u001b[49m\u001b[43m \u001b[49m\u001b[38;5;241;43m*\u001b[39;49m\u001b[38;5;241;43m*\u001b[39;49m\u001b[43mkwargs\u001b[49m\u001b[43m)\u001b[49m\n\u001b[1;32m    146\u001b[0m     plan \u001b[38;5;241m=\u001b[39m args[\u001b[38;5;241m0\u001b[39m]\u001b[38;5;241m.\u001b[39m_select_statement \u001b[38;5;129;01mor\u001b[39;00m args[\u001b[38;5;241m0\u001b[39m]\u001b[38;5;241m.\u001b[39m_plan\n\u001b[1;32m    147\u001b[0m     api_calls \u001b[38;5;241m=\u001b[39m [\n\u001b[1;32m    148\u001b[0m         \u001b[38;5;241m*\u001b[39mplan\u001b[38;5;241m.\u001b[39mapi_calls,\n\u001b[1;32m    149\u001b[0m         {TelemetryField\u001b[38;5;241m.\u001b[39mNAME\u001b[38;5;241m.\u001b[39mvalue: \u001b[38;5;124mf\u001b[39m\u001b[38;5;124m\"\u001b[39m\u001b[38;5;124mDataFrame.\u001b[39m\u001b[38;5;132;01m{\u001b[39;00mfunc\u001b[38;5;241m.\u001b[39m\u001b[38;5;18m__name__\u001b[39m\u001b[38;5;132;01m}\u001b[39;00m\u001b[38;5;124m\"\u001b[39m},\n\u001b[1;32m    150\u001b[0m     ]\n",
      "File \u001b[0;32m/tmp/pip_packages/snowflake/snowpark/dataframe.py:597\u001b[0m, in \u001b[0;36mDataFrame.collect\u001b[0;34m(self, statement_params, block, log_on_exception, case_sensitive)\u001b[0m\n\u001b[1;32m    582\u001b[0m \u001b[38;5;250m\u001b[39m\u001b[38;5;124;03m\"\"\"Executes the query representing this DataFrame and returns the result as a\u001b[39;00m\n\u001b[1;32m    583\u001b[0m \u001b[38;5;124;03mlist of :class:`Row` objects.\u001b[39;00m\n\u001b[1;32m    584\u001b[0m \n\u001b[0;32m   (...)\u001b[0m\n\u001b[1;32m    594\u001b[0m \u001b[38;5;124;03m    :meth:`collect_nowait()`\u001b[39;00m\n\u001b[1;32m    595\u001b[0m \u001b[38;5;124;03m\"\"\"\u001b[39;00m\n\u001b[1;32m    596\u001b[0m \u001b[38;5;28;01mwith\u001b[39;00m open_telemetry_context_manager(\u001b[38;5;28mself\u001b[39m\u001b[38;5;241m.\u001b[39mcollect, \u001b[38;5;28mself\u001b[39m):\n\u001b[0;32m--> 597\u001b[0m     \u001b[38;5;28;01mreturn\u001b[39;00m \u001b[38;5;28;43mself\u001b[39;49m\u001b[38;5;241;43m.\u001b[39;49m\u001b[43m_internal_collect_with_tag_no_telemetry\u001b[49m\u001b[43m(\u001b[49m\n\u001b[1;32m    598\u001b[0m \u001b[43m        \u001b[49m\u001b[43mstatement_params\u001b[49m\u001b[38;5;241;43m=\u001b[39;49m\u001b[43mstatement_params\u001b[49m\u001b[43m,\u001b[49m\n\u001b[1;32m    599\u001b[0m \u001b[43m        \u001b[49m\u001b[43mblock\u001b[49m\u001b[38;5;241;43m=\u001b[39;49m\u001b[43mblock\u001b[49m\u001b[43m,\u001b[49m\n\u001b[1;32m    600\u001b[0m \u001b[43m        \u001b[49m\u001b[43mlog_on_exception\u001b[49m\u001b[38;5;241;43m=\u001b[39;49m\u001b[43mlog_on_exception\u001b[49m\u001b[43m,\u001b[49m\n\u001b[1;32m    601\u001b[0m \u001b[43m        \u001b[49m\u001b[43mcase_sensitive\u001b[49m\u001b[38;5;241;43m=\u001b[39;49m\u001b[43mcase_sensitive\u001b[49m\u001b[43m,\u001b[49m\n\u001b[1;32m    602\u001b[0m \u001b[43m    \u001b[49m\u001b[43m)\u001b[49m\n",
      "File \u001b[0;32m/tmp/pip_packages/snowflake/snowpark/dataframe.py:645\u001b[0m, in \u001b[0;36mDataFrame._internal_collect_with_tag_no_telemetry\u001b[0;34m(self, statement_params, block, data_type, log_on_exception, case_sensitive)\u001b[0m\n\u001b[1;32m    633\u001b[0m \u001b[38;5;28;01mdef\u001b[39;00m \u001b[38;5;21m_internal_collect_with_tag_no_telemetry\u001b[39m(\n\u001b[1;32m    634\u001b[0m     \u001b[38;5;28mself\u001b[39m,\n\u001b[1;32m    635\u001b[0m     \u001b[38;5;241m*\u001b[39m,\n\u001b[0;32m   (...)\u001b[0m\n\u001b[1;32m    643\u001b[0m     \u001b[38;5;66;03m# we should always call this method instead of collect(), to make sure the\u001b[39;00m\n\u001b[1;32m    644\u001b[0m     \u001b[38;5;66;03m# query tag is set properly.\u001b[39;00m\n\u001b[0;32m--> 645\u001b[0m     \u001b[38;5;28;01mreturn\u001b[39;00m \u001b[38;5;28;43mself\u001b[39;49m\u001b[38;5;241;43m.\u001b[39;49m\u001b[43m_session\u001b[49m\u001b[38;5;241;43m.\u001b[39;49m\u001b[43m_conn\u001b[49m\u001b[38;5;241;43m.\u001b[39;49m\u001b[43mexecute\u001b[49m\u001b[43m(\u001b[49m\n\u001b[1;32m    646\u001b[0m \u001b[43m        \u001b[49m\u001b[38;5;28;43mself\u001b[39;49m\u001b[38;5;241;43m.\u001b[39;49m\u001b[43m_plan\u001b[49m\u001b[43m,\u001b[49m\n\u001b[1;32m    647\u001b[0m \u001b[43m        \u001b[49m\u001b[43mblock\u001b[49m\u001b[38;5;241;43m=\u001b[39;49m\u001b[43mblock\u001b[49m\u001b[43m,\u001b[49m\n\u001b[1;32m    648\u001b[0m \u001b[43m        \u001b[49m\u001b[43mdata_type\u001b[49m\u001b[38;5;241;43m=\u001b[39;49m\u001b[43mdata_type\u001b[49m\u001b[43m,\u001b[49m\n\u001b[1;32m    649\u001b[0m \u001b[43m        \u001b[49m\u001b[43m_statement_params\u001b[49m\u001b[38;5;241;43m=\u001b[39;49m\u001b[43mcreate_or_update_statement_params_with_query_tag\u001b[49m\u001b[43m(\u001b[49m\n\u001b[1;32m    650\u001b[0m \u001b[43m            \u001b[49m\u001b[43mstatement_params\u001b[49m\u001b[43m \u001b[49m\u001b[38;5;129;43;01mor\u001b[39;49;00m\u001b[43m \u001b[49m\u001b[38;5;28;43mself\u001b[39;49m\u001b[38;5;241;43m.\u001b[39;49m\u001b[43m_statement_params\u001b[49m\u001b[43m,\u001b[49m\n\u001b[1;32m    651\u001b[0m \u001b[43m            \u001b[49m\u001b[38;5;28;43mself\u001b[39;49m\u001b[38;5;241;43m.\u001b[39;49m\u001b[43m_session\u001b[49m\u001b[38;5;241;43m.\u001b[39;49m\u001b[43mquery_tag\u001b[49m\u001b[43m,\u001b[49m\n\u001b[1;32m    652\u001b[0m \u001b[43m            \u001b[49m\u001b[43mSKIP_LEVELS_THREE\u001b[49m\u001b[43m,\u001b[49m\n\u001b[1;32m    653\u001b[0m \u001b[43m        \u001b[49m\u001b[43m)\u001b[49m\u001b[43m,\u001b[49m\n\u001b[1;32m    654\u001b[0m \u001b[43m        \u001b[49m\u001b[43mlog_on_exception\u001b[49m\u001b[38;5;241;43m=\u001b[39;49m\u001b[43mlog_on_exception\u001b[49m\u001b[43m,\u001b[49m\n\u001b[1;32m    655\u001b[0m \u001b[43m        \u001b[49m\u001b[43mcase_sensitive\u001b[49m\u001b[38;5;241;43m=\u001b[39;49m\u001b[43mcase_sensitive\u001b[49m\u001b[43m,\u001b[49m\n\u001b[1;32m    656\u001b[0m \u001b[43m    \u001b[49m\u001b[43m)\u001b[49m\n",
      "File \u001b[0;32m/tmp/pip_packages/snowflake/snowpark/_internal/server_connection.py:510\u001b[0m, in \u001b[0;36mServerConnection.execute\u001b[0;34m(self, plan, to_pandas, to_iter, block, data_type, log_on_exception, case_sensitive, **kwargs)\u001b[0m\n\u001b[1;32m    500\u001b[0m \u001b[38;5;28;01mif\u001b[39;00m (\n\u001b[1;32m    501\u001b[0m     is_in_stored_procedure()\n\u001b[1;32m    502\u001b[0m     \u001b[38;5;129;01mand\u001b[39;00m \u001b[38;5;129;01mnot\u001b[39;00m block\n\u001b[0;32m   (...)\u001b[0m\n\u001b[1;32m    505\u001b[0m     )\n\u001b[1;32m    506\u001b[0m ):  \u001b[38;5;66;03m# pragma: no cover\u001b[39;00m\n\u001b[1;32m    507\u001b[0m     \u001b[38;5;28;01mraise\u001b[39;00m \u001b[38;5;167;01mNotImplementedError\u001b[39;00m(\n\u001b[1;32m    508\u001b[0m         \u001b[38;5;124m\"\u001b[39m\u001b[38;5;124mAsync query is not supported in stored procedure yet\u001b[39m\u001b[38;5;124m\"\u001b[39m\n\u001b[1;32m    509\u001b[0m     )\n\u001b[0;32m--> 510\u001b[0m result_set, result_meta \u001b[38;5;241m=\u001b[39m \u001b[38;5;28;43mself\u001b[39;49m\u001b[38;5;241;43m.\u001b[39;49m\u001b[43mget_result_set\u001b[49m\u001b[43m(\u001b[49m\n\u001b[1;32m    511\u001b[0m \u001b[43m    \u001b[49m\u001b[43mplan\u001b[49m\u001b[43m,\u001b[49m\n\u001b[1;32m    512\u001b[0m \u001b[43m    \u001b[49m\u001b[43mto_pandas\u001b[49m\u001b[43m,\u001b[49m\n\u001b[1;32m    513\u001b[0m \u001b[43m    \u001b[49m\u001b[43mto_iter\u001b[49m\u001b[43m,\u001b[49m\n\u001b[1;32m    514\u001b[0m \u001b[43m    \u001b[49m\u001b[38;5;241;43m*\u001b[39;49m\u001b[38;5;241;43m*\u001b[39;49m\u001b[43mkwargs\u001b[49m\u001b[43m,\u001b[49m\n\u001b[1;32m    515\u001b[0m \u001b[43m    \u001b[49m\u001b[43mblock\u001b[49m\u001b[38;5;241;43m=\u001b[39;49m\u001b[43mblock\u001b[49m\u001b[43m,\u001b[49m\n\u001b[1;32m    516\u001b[0m \u001b[43m    \u001b[49m\u001b[43mdata_type\u001b[49m\u001b[38;5;241;43m=\u001b[39;49m\u001b[43mdata_type\u001b[49m\u001b[43m,\u001b[49m\n\u001b[1;32m    517\u001b[0m \u001b[43m    \u001b[49m\u001b[43mlog_on_exception\u001b[49m\u001b[38;5;241;43m=\u001b[39;49m\u001b[43mlog_on_exception\u001b[49m\u001b[43m,\u001b[49m\n\u001b[1;32m    518\u001b[0m \u001b[43m    \u001b[49m\u001b[43mcase_sensitive\u001b[49m\u001b[38;5;241;43m=\u001b[39;49m\u001b[43mcase_sensitive\u001b[49m\u001b[43m,\u001b[49m\n\u001b[1;32m    519\u001b[0m \u001b[43m\u001b[49m\u001b[43m)\u001b[49m\n\u001b[1;32m    520\u001b[0m \u001b[38;5;28;01mif\u001b[39;00m \u001b[38;5;129;01mnot\u001b[39;00m block:\n\u001b[1;32m    521\u001b[0m     \u001b[38;5;28;01mreturn\u001b[39;00m result_set\n",
      "File \u001b[0;32m/tmp/pip_packages/snowflake/snowpark/_internal/analyzer/snowflake_plan.py:191\u001b[0m, in \u001b[0;36mSnowflakePlan.Decorator.wrap_exception.<locals>.wrap\u001b[0;34m(*args, **kwargs)\u001b[0m\n\u001b[1;32m    187\u001b[0m \u001b[38;5;28;01melse\u001b[39;00m:\n\u001b[1;32m    188\u001b[0m     ne \u001b[38;5;241m=\u001b[39m SnowparkClientExceptionMessages\u001b[38;5;241m.\u001b[39mSQL_EXCEPTION_FROM_PROGRAMMING_ERROR(\n\u001b[1;32m    189\u001b[0m         e\n\u001b[1;32m    190\u001b[0m     )\n\u001b[0;32m--> 191\u001b[0m     \u001b[38;5;28;01mraise\u001b[39;00m ne\u001b[38;5;241m.\u001b[39mwith_traceback(tb) \u001b[38;5;28;01mfrom\u001b[39;00m \u001b[38;5;28;01mNone\u001b[39;00m\n",
      "File \u001b[0;32m/tmp/pip_packages/snowflake/snowpark/_internal/analyzer/snowflake_plan.py:122\u001b[0m, in \u001b[0;36mSnowflakePlan.Decorator.wrap_exception.<locals>.wrap\u001b[0;34m(*args, **kwargs)\u001b[0m\n\u001b[1;32m    120\u001b[0m \u001b[38;5;28;01mdef\u001b[39;00m \u001b[38;5;21mwrap\u001b[39m(\u001b[38;5;241m*\u001b[39margs, \u001b[38;5;241m*\u001b[39m\u001b[38;5;241m*\u001b[39mkwargs):\n\u001b[1;32m    121\u001b[0m     \u001b[38;5;28;01mtry\u001b[39;00m:\n\u001b[0;32m--> 122\u001b[0m         \u001b[38;5;28;01mreturn\u001b[39;00m \u001b[43mfunc\u001b[49m\u001b[43m(\u001b[49m\u001b[38;5;241;43m*\u001b[39;49m\u001b[43margs\u001b[49m\u001b[43m,\u001b[49m\u001b[43m \u001b[49m\u001b[38;5;241;43m*\u001b[39;49m\u001b[38;5;241;43m*\u001b[39;49m\u001b[43mkwargs\u001b[49m\u001b[43m)\u001b[49m\n\u001b[1;32m    123\u001b[0m     \u001b[38;5;28;01mexcept\u001b[39;00m snowflake\u001b[38;5;241m.\u001b[39mconnector\u001b[38;5;241m.\u001b[39merrors\u001b[38;5;241m.\u001b[39mProgrammingError \u001b[38;5;28;01mas\u001b[39;00m e:\n\u001b[1;32m    124\u001b[0m         query \u001b[38;5;241m=\u001b[39m \u001b[38;5;28mgetattr\u001b[39m(e, \u001b[38;5;124m\"\u001b[39m\u001b[38;5;124mquery\u001b[39m\u001b[38;5;124m\"\u001b[39m, \u001b[38;5;28;01mNone\u001b[39;00m)\n",
      "File \u001b[0;32m/tmp/pip_packages/snowflake/snowpark/_internal/server_connection.py:612\u001b[0m, in \u001b[0;36mServerConnection.get_result_set\u001b[0;34m(self, plan, to_pandas, to_iter, block, data_type, log_on_exception, case_sensitive, **kwargs)\u001b[0m\n\u001b[1;32m    610\u001b[0m \u001b[38;5;28;01mfor\u001b[39;00m holder, id_ \u001b[38;5;129;01min\u001b[39;00m placeholders\u001b[38;5;241m.\u001b[39mitems():\n\u001b[1;32m    611\u001b[0m     final_query \u001b[38;5;241m=\u001b[39m final_query\u001b[38;5;241m.\u001b[39mreplace(holder, id_)\n\u001b[0;32m--> 612\u001b[0m result \u001b[38;5;241m=\u001b[39m \u001b[38;5;28;43mself\u001b[39;49m\u001b[38;5;241;43m.\u001b[39;49m\u001b[43mrun_query\u001b[49m\u001b[43m(\u001b[49m\n\u001b[1;32m    613\u001b[0m \u001b[43m    \u001b[49m\u001b[43mfinal_query\u001b[49m\u001b[43m,\u001b[49m\n\u001b[1;32m    614\u001b[0m \u001b[43m    \u001b[49m\u001b[43mto_pandas\u001b[49m\u001b[43m,\u001b[49m\n\u001b[1;32m    615\u001b[0m \u001b[43m    \u001b[49m\u001b[43mto_iter\u001b[49m\u001b[43m \u001b[49m\u001b[38;5;129;43;01mand\u001b[39;49;00m\u001b[43m \u001b[49m\u001b[43m(\u001b[49m\u001b[43mi\u001b[49m\u001b[43m \u001b[49m\u001b[38;5;241;43m==\u001b[39;49m\u001b[43m \u001b[49m\u001b[38;5;28;43mlen\u001b[39;49m\u001b[43m(\u001b[49m\u001b[43mplan\u001b[49m\u001b[38;5;241;43m.\u001b[39;49m\u001b[43mqueries\u001b[49m\u001b[43m)\u001b[49m\u001b[43m \u001b[49m\u001b[38;5;241;43m-\u001b[39;49m\u001b[43m \u001b[49m\u001b[38;5;241;43m1\u001b[39;49m\u001b[43m)\u001b[49m\u001b[43m,\u001b[49m\n\u001b[1;32m    616\u001b[0m \u001b[43m    \u001b[49m\u001b[43mis_ddl_on_temp_object\u001b[49m\u001b[38;5;241;43m=\u001b[39;49m\u001b[43mquery\u001b[49m\u001b[38;5;241;43m.\u001b[39;49m\u001b[43mis_ddl_on_temp_object\u001b[49m\u001b[43m,\u001b[49m\n\u001b[1;32m    617\u001b[0m \u001b[43m    \u001b[49m\u001b[43mblock\u001b[49m\u001b[38;5;241;43m=\u001b[39;49m\u001b[38;5;129;43;01mnot\u001b[39;49;00m\u001b[43m \u001b[49m\u001b[43mis_last\u001b[49m\u001b[43m,\u001b[49m\n\u001b[1;32m    618\u001b[0m \u001b[43m    \u001b[49m\u001b[43mdata_type\u001b[49m\u001b[38;5;241;43m=\u001b[39;49m\u001b[43mdata_type\u001b[49m\u001b[43m,\u001b[49m\n\u001b[1;32m    619\u001b[0m \u001b[43m    \u001b[49m\u001b[43masync_job_plan\u001b[49m\u001b[38;5;241;43m=\u001b[39;49m\u001b[43mplan\u001b[49m\u001b[43m,\u001b[49m\n\u001b[1;32m    620\u001b[0m \u001b[43m    \u001b[49m\u001b[43mlog_on_exception\u001b[49m\u001b[38;5;241;43m=\u001b[39;49m\u001b[43mlog_on_exception\u001b[49m\u001b[43m,\u001b[49m\n\u001b[1;32m    621\u001b[0m \u001b[43m    \u001b[49m\u001b[43mcase_sensitive\u001b[49m\u001b[38;5;241;43m=\u001b[39;49m\u001b[43mcase_sensitive\u001b[49m\u001b[43m,\u001b[49m\n\u001b[1;32m    622\u001b[0m \u001b[43m    \u001b[49m\u001b[43mparams\u001b[49m\u001b[38;5;241;43m=\u001b[39;49m\u001b[43mquery\u001b[49m\u001b[38;5;241;43m.\u001b[39;49m\u001b[43mparams\u001b[49m\u001b[43m,\u001b[49m\n\u001b[1;32m    623\u001b[0m \u001b[43m    \u001b[49m\u001b[38;5;241;43m*\u001b[39;49m\u001b[38;5;241;43m*\u001b[39;49m\u001b[43mkwargs\u001b[49m\u001b[43m,\u001b[49m\n\u001b[1;32m    624\u001b[0m \u001b[43m\u001b[49m\u001b[43m)\u001b[49m\n\u001b[1;32m    625\u001b[0m placeholders[query\u001b[38;5;241m.\u001b[39mquery_id_place_holder] \u001b[38;5;241m=\u001b[39m (\n\u001b[1;32m    626\u001b[0m     result[\u001b[38;5;124m\"\u001b[39m\u001b[38;5;124msfqid\u001b[39m\u001b[38;5;124m\"\u001b[39m] \u001b[38;5;28;01mif\u001b[39;00m \u001b[38;5;129;01mnot\u001b[39;00m is_last \u001b[38;5;28;01melse\u001b[39;00m result\u001b[38;5;241m.\u001b[39mquery_id\n\u001b[1;32m    627\u001b[0m )\n\u001b[1;32m    628\u001b[0m result_meta \u001b[38;5;241m=\u001b[39m get_new_description(\u001b[38;5;28mself\u001b[39m\u001b[38;5;241m.\u001b[39m_cursor)\n",
      "File \u001b[0;32m/tmp/pip_packages/snowflake/snowpark/_internal/server_connection.py:123\u001b[0m, in \u001b[0;36mServerConnection._Decorator.wrap_exception.<locals>.wrap\u001b[0;34m(*args, **kwargs)\u001b[0m\n\u001b[1;32m    119\u001b[0m     \u001b[38;5;28;01mraise\u001b[39;00m SnowparkClientExceptionMessages\u001b[38;5;241m.\u001b[39mSERVER_SESSION_EXPIRED(\n\u001b[1;32m    120\u001b[0m         ex\u001b[38;5;241m.\u001b[39mcause\n\u001b[1;32m    121\u001b[0m     )\n\u001b[1;32m    122\u001b[0m \u001b[38;5;28;01mexcept\u001b[39;00m \u001b[38;5;167;01mException\u001b[39;00m \u001b[38;5;28;01mas\u001b[39;00m ex:\n\u001b[0;32m--> 123\u001b[0m     \u001b[38;5;28;01mraise\u001b[39;00m ex\n",
      "File \u001b[0;32m/tmp/pip_packages/snowflake/snowpark/_internal/server_connection.py:117\u001b[0m, in \u001b[0;36mServerConnection._Decorator.wrap_exception.<locals>.wrap\u001b[0;34m(*args, **kwargs)\u001b[0m\n\u001b[1;32m    115\u001b[0m     \u001b[38;5;28;01mraise\u001b[39;00m SnowparkClientExceptionMessages\u001b[38;5;241m.\u001b[39mSERVER_SESSION_HAS_BEEN_CLOSED()\n\u001b[1;32m    116\u001b[0m \u001b[38;5;28;01mtry\u001b[39;00m:\n\u001b[0;32m--> 117\u001b[0m     \u001b[38;5;28;01mreturn\u001b[39;00m \u001b[43mfunc\u001b[49m\u001b[43m(\u001b[49m\u001b[38;5;241;43m*\u001b[39;49m\u001b[43margs\u001b[49m\u001b[43m,\u001b[49m\u001b[43m \u001b[49m\u001b[38;5;241;43m*\u001b[39;49m\u001b[38;5;241;43m*\u001b[39;49m\u001b[43mkwargs\u001b[49m\u001b[43m)\u001b[49m\n\u001b[1;32m    118\u001b[0m \u001b[38;5;28;01mexcept\u001b[39;00m ReauthenticationRequest \u001b[38;5;28;01mas\u001b[39;00m ex:\n\u001b[1;32m    119\u001b[0m     \u001b[38;5;28;01mraise\u001b[39;00m SnowparkClientExceptionMessages\u001b[38;5;241m.\u001b[39mSERVER_SESSION_EXPIRED(\n\u001b[1;32m    120\u001b[0m         ex\u001b[38;5;241m.\u001b[39mcause\n\u001b[1;32m    121\u001b[0m     )\n",
      "File \u001b[0;32m/tmp/pip_packages/snowflake/snowpark/_internal/server_connection.py:417\u001b[0m, in \u001b[0;36mServerConnection.run_query\u001b[0;34m(self, query, to_pandas, to_iter, is_ddl_on_temp_object, block, data_type, async_job_plan, log_on_exception, case_sensitive, params, num_statements, **kwargs)\u001b[0m\n\u001b[1;32m    415\u001b[0m         query_id_log \u001b[38;5;241m=\u001b[39m \u001b[38;5;124mf\u001b[39m\u001b[38;5;124m\"\u001b[39m\u001b[38;5;124m [queryID: \u001b[39m\u001b[38;5;132;01m{\u001b[39;00mex\u001b[38;5;241m.\u001b[39msfqid\u001b[38;5;132;01m}\u001b[39;00m\u001b[38;5;124m]\u001b[39m\u001b[38;5;124m\"\u001b[39m \u001b[38;5;28;01mif\u001b[39;00m \u001b[38;5;28mhasattr\u001b[39m(ex, \u001b[38;5;124m\"\u001b[39m\u001b[38;5;124msfqid\u001b[39m\u001b[38;5;124m\"\u001b[39m) \u001b[38;5;28;01melse\u001b[39;00m \u001b[38;5;124m\"\u001b[39m\u001b[38;5;124m\"\u001b[39m\n\u001b[1;32m    416\u001b[0m         logger\u001b[38;5;241m.\u001b[39merror(\u001b[38;5;124mf\u001b[39m\u001b[38;5;124m\"\u001b[39m\u001b[38;5;124mFailed to execute query\u001b[39m\u001b[38;5;132;01m{\u001b[39;00mquery_id_log\u001b[38;5;132;01m}\u001b[39;00m\u001b[38;5;124m \u001b[39m\u001b[38;5;132;01m{\u001b[39;00mquery\u001b[38;5;132;01m}\u001b[39;00m\u001b[38;5;130;01m\\n\u001b[39;00m\u001b[38;5;132;01m{\u001b[39;00mex\u001b[38;5;132;01m}\u001b[39;00m\u001b[38;5;124m\"\u001b[39m)\n\u001b[0;32m--> 417\u001b[0m     \u001b[38;5;28;01mraise\u001b[39;00m ex\n\u001b[1;32m    419\u001b[0m \u001b[38;5;66;03m# fetch_pandas_all/batches() only works for SELECT statements\u001b[39;00m\n\u001b[1;32m    420\u001b[0m \u001b[38;5;66;03m# We call fetchall() if fetch_pandas_all/batches() fails,\u001b[39;00m\n\u001b[1;32m    421\u001b[0m \u001b[38;5;66;03m# because when the query plan has multiple queries, it will\u001b[39;00m\n\u001b[1;32m    422\u001b[0m \u001b[38;5;66;03m# have non-select statements, and it shouldn't fail if the user\u001b[39;00m\n\u001b[1;32m    423\u001b[0m \u001b[38;5;66;03m# calls to_pandas() to execute the query.\u001b[39;00m\n\u001b[1;32m    424\u001b[0m \u001b[38;5;28;01mif\u001b[39;00m block:\n",
      "File \u001b[0;32m/tmp/pip_packages/snowflake/snowpark/_internal/server_connection.py:402\u001b[0m, in \u001b[0;36mServerConnection.run_query\u001b[0;34m(self, query, to_pandas, to_iter, is_ddl_on_temp_object, block, data_type, async_job_plan, log_on_exception, case_sensitive, params, num_statements, **kwargs)\u001b[0m\n\u001b[1;32m    400\u001b[0m     kwargs[\u001b[38;5;124m\"\u001b[39m\u001b[38;5;124m_statement_params\u001b[39m\u001b[38;5;124m\"\u001b[39m][\u001b[38;5;124m\"\u001b[39m\u001b[38;5;124mSNOWPARK_SKIP_TXN_COMMIT_IN_DDL\u001b[39m\u001b[38;5;124m\"\u001b[39m] \u001b[38;5;241m=\u001b[39m \u001b[38;5;28;01mTrue\u001b[39;00m\n\u001b[1;32m    401\u001b[0m \u001b[38;5;28;01mif\u001b[39;00m block:\n\u001b[0;32m--> 402\u001b[0m     results_cursor \u001b[38;5;241m=\u001b[39m \u001b[38;5;28;43mself\u001b[39;49m\u001b[38;5;241;43m.\u001b[39;49m\u001b[43mexecute_and_notify_query_listener\u001b[49m\u001b[43m(\u001b[49m\n\u001b[1;32m    403\u001b[0m \u001b[43m        \u001b[49m\u001b[43mquery\u001b[49m\u001b[43m,\u001b[49m\u001b[43m \u001b[49m\u001b[43mparams\u001b[49m\u001b[38;5;241;43m=\u001b[39;49m\u001b[43mparams\u001b[49m\u001b[43m,\u001b[49m\u001b[43m \u001b[49m\u001b[38;5;241;43m*\u001b[39;49m\u001b[38;5;241;43m*\u001b[39;49m\u001b[43mkwargs\u001b[49m\n\u001b[1;32m    404\u001b[0m \u001b[43m    \u001b[49m\u001b[43m)\u001b[49m\n\u001b[1;32m    405\u001b[0m     logger\u001b[38;5;241m.\u001b[39mdebug(\u001b[38;5;124mf\u001b[39m\u001b[38;5;124m\"\u001b[39m\u001b[38;5;124mExecute query [queryID: \u001b[39m\u001b[38;5;132;01m{\u001b[39;00mresults_cursor\u001b[38;5;241m.\u001b[39msfqid\u001b[38;5;132;01m}\u001b[39;00m\u001b[38;5;124m] \u001b[39m\u001b[38;5;132;01m{\u001b[39;00mquery\u001b[38;5;132;01m}\u001b[39;00m\u001b[38;5;124m\"\u001b[39m)\n\u001b[1;32m    406\u001b[0m \u001b[38;5;28;01melse\u001b[39;00m:\n",
      "File \u001b[0;32m/tmp/pip_packages/snowflake/snowpark/_internal/server_connection.py:354\u001b[0m, in \u001b[0;36mServerConnection.execute_and_notify_query_listener\u001b[0;34m(self, query, **kwargs)\u001b[0m\n\u001b[1;32m    351\u001b[0m \u001b[38;5;28;01mdef\u001b[39;00m \u001b[38;5;21mexecute_and_notify_query_listener\u001b[39m(\n\u001b[1;32m    352\u001b[0m     \u001b[38;5;28mself\u001b[39m, query: \u001b[38;5;28mstr\u001b[39m, \u001b[38;5;241m*\u001b[39m\u001b[38;5;241m*\u001b[39mkwargs: Any\n\u001b[1;32m    353\u001b[0m ) \u001b[38;5;241m-\u001b[39m\u001b[38;5;241m>\u001b[39m SnowflakeCursor:\n\u001b[0;32m--> 354\u001b[0m     results_cursor \u001b[38;5;241m=\u001b[39m \u001b[38;5;28;43mself\u001b[39;49m\u001b[38;5;241;43m.\u001b[39;49m\u001b[43m_cursor\u001b[49m\u001b[38;5;241;43m.\u001b[39;49m\u001b[43mexecute\u001b[49m\u001b[43m(\u001b[49m\u001b[43mquery\u001b[49m\u001b[43m,\u001b[49m\u001b[43m \u001b[49m\u001b[38;5;241;43m*\u001b[39;49m\u001b[38;5;241;43m*\u001b[39;49m\u001b[43mkwargs\u001b[49m\u001b[43m)\u001b[49m\n\u001b[1;32m    355\u001b[0m     \u001b[38;5;28mself\u001b[39m\u001b[38;5;241m.\u001b[39mnotify_query_listeners(\n\u001b[1;32m    356\u001b[0m         QueryRecord(results_cursor\u001b[38;5;241m.\u001b[39msfqid, results_cursor\u001b[38;5;241m.\u001b[39mquery)\n\u001b[1;32m    357\u001b[0m     )\n\u001b[1;32m    358\u001b[0m     \u001b[38;5;28;01mreturn\u001b[39;00m results_cursor\n",
      "File \u001b[0;32m/tmp/pip_packages/snowflake/connector/cursor.py:1080\u001b[0m, in \u001b[0;36mSnowflakeCursor.execute\u001b[0;34m(self, command, params, _bind_stage, timeout, _exec_async, _no_retry, _do_reset, _put_callback, _put_azure_callback, _put_callback_output_stream, _get_callback, _get_azure_callback, _get_callback_output_stream, _show_progress_bar, _statement_params, _is_internal, _describe_only, _no_results, _is_put_get, _raise_put_get_error, _force_put_overwrite, _skip_upload_on_content_match, file_stream, num_statements)\u001b[0m\n\u001b[1;32m   1076\u001b[0m     is_integrity_error \u001b[38;5;241m=\u001b[39m (\n\u001b[1;32m   1077\u001b[0m         code \u001b[38;5;241m==\u001b[39m \u001b[38;5;124m\"\u001b[39m\u001b[38;5;124m100072\u001b[39m\u001b[38;5;124m\"\u001b[39m\n\u001b[1;32m   1078\u001b[0m     )  \u001b[38;5;66;03m# NULL result in a non-nullable column\u001b[39;00m\n\u001b[1;32m   1079\u001b[0m     error_class \u001b[38;5;241m=\u001b[39m IntegrityError \u001b[38;5;28;01mif\u001b[39;00m is_integrity_error \u001b[38;5;28;01melse\u001b[39;00m ProgrammingError\n\u001b[0;32m-> 1080\u001b[0m     \u001b[43mError\u001b[49m\u001b[38;5;241;43m.\u001b[39;49m\u001b[43merrorhandler_wrapper\u001b[49m\u001b[43m(\u001b[49m\u001b[38;5;28;43mself\u001b[39;49m\u001b[38;5;241;43m.\u001b[39;49m\u001b[43mconnection\u001b[49m\u001b[43m,\u001b[49m\u001b[43m \u001b[49m\u001b[38;5;28;43mself\u001b[39;49m\u001b[43m,\u001b[49m\u001b[43m \u001b[49m\u001b[43merror_class\u001b[49m\u001b[43m,\u001b[49m\u001b[43m \u001b[49m\u001b[43merrvalue\u001b[49m\u001b[43m)\u001b[49m\n\u001b[1;32m   1081\u001b[0m \u001b[38;5;28;01mreturn\u001b[39;00m \u001b[38;5;28mself\u001b[39m\n",
      "File \u001b[0;32m/tmp/pip_packages/snowflake/connector/errors.py:290\u001b[0m, in \u001b[0;36mError.errorhandler_wrapper\u001b[0;34m(connection, cursor, error_class, error_value)\u001b[0m\n\u001b[1;32m    267\u001b[0m \u001b[38;5;129m@staticmethod\u001b[39m\n\u001b[1;32m    268\u001b[0m \u001b[38;5;28;01mdef\u001b[39;00m \u001b[38;5;21merrorhandler_wrapper\u001b[39m(\n\u001b[1;32m    269\u001b[0m     connection: SnowflakeConnection \u001b[38;5;241m|\u001b[39m \u001b[38;5;28;01mNone\u001b[39;00m,\n\u001b[0;32m   (...)\u001b[0m\n\u001b[1;32m    272\u001b[0m     error_value: \u001b[38;5;28mdict\u001b[39m[\u001b[38;5;28mstr\u001b[39m, Any],\n\u001b[1;32m    273\u001b[0m ) \u001b[38;5;241m-\u001b[39m\u001b[38;5;241m>\u001b[39m \u001b[38;5;28;01mNone\u001b[39;00m:\n\u001b[1;32m    274\u001b[0m \u001b[38;5;250m    \u001b[39m\u001b[38;5;124;03m\"\"\"Error handler wrapper that calls the errorhandler method.\u001b[39;00m\n\u001b[1;32m    275\u001b[0m \n\u001b[1;32m    276\u001b[0m \u001b[38;5;124;03m    Args:\u001b[39;00m\n\u001b[0;32m   (...)\u001b[0m\n\u001b[1;32m    287\u001b[0m \u001b[38;5;124;03m        exception to the first handler in that order.\u001b[39;00m\n\u001b[1;32m    288\u001b[0m \u001b[38;5;124;03m    \"\"\"\u001b[39;00m\n\u001b[0;32m--> 290\u001b[0m     handed_over \u001b[38;5;241m=\u001b[39m \u001b[43mError\u001b[49m\u001b[38;5;241;43m.\u001b[39;49m\u001b[43mhand_to_other_handler\u001b[49m\u001b[43m(\u001b[49m\n\u001b[1;32m    291\u001b[0m \u001b[43m        \u001b[49m\u001b[43mconnection\u001b[49m\u001b[43m,\u001b[49m\n\u001b[1;32m    292\u001b[0m \u001b[43m        \u001b[49m\u001b[43mcursor\u001b[49m\u001b[43m,\u001b[49m\n\u001b[1;32m    293\u001b[0m \u001b[43m        \u001b[49m\u001b[43merror_class\u001b[49m\u001b[43m,\u001b[49m\n\u001b[1;32m    294\u001b[0m \u001b[43m        \u001b[49m\u001b[43merror_value\u001b[49m\u001b[43m,\u001b[49m\n\u001b[1;32m    295\u001b[0m \u001b[43m    \u001b[49m\u001b[43m)\u001b[49m\n\u001b[1;32m    296\u001b[0m     \u001b[38;5;28;01mif\u001b[39;00m \u001b[38;5;129;01mnot\u001b[39;00m handed_over:\n\u001b[1;32m    297\u001b[0m         \u001b[38;5;28;01mraise\u001b[39;00m Error\u001b[38;5;241m.\u001b[39merrorhandler_make_exception(\n\u001b[1;32m    298\u001b[0m             error_class,\n\u001b[1;32m    299\u001b[0m             error_value,\n\u001b[1;32m    300\u001b[0m         )\n",
      "File \u001b[0;32m/tmp/pip_packages/snowflake/connector/errors.py:345\u001b[0m, in \u001b[0;36mError.hand_to_other_handler\u001b[0;34m(connection, cursor, error_class, error_value)\u001b[0m\n\u001b[1;32m    343\u001b[0m \u001b[38;5;28;01mif\u001b[39;00m cursor \u001b[38;5;129;01mis\u001b[39;00m \u001b[38;5;129;01mnot\u001b[39;00m \u001b[38;5;28;01mNone\u001b[39;00m:\n\u001b[1;32m    344\u001b[0m     cursor\u001b[38;5;241m.\u001b[39mmessages\u001b[38;5;241m.\u001b[39mappend((error_class, error_value))\n\u001b[0;32m--> 345\u001b[0m     \u001b[43mcursor\u001b[49m\u001b[38;5;241;43m.\u001b[39;49m\u001b[43merrorhandler\u001b[49m\u001b[43m(\u001b[49m\u001b[43mconnection\u001b[49m\u001b[43m,\u001b[49m\u001b[43m \u001b[49m\u001b[43mcursor\u001b[49m\u001b[43m,\u001b[49m\u001b[43m \u001b[49m\u001b[43merror_class\u001b[49m\u001b[43m,\u001b[49m\u001b[43m \u001b[49m\u001b[43merror_value\u001b[49m\u001b[43m)\u001b[49m\n\u001b[1;32m    346\u001b[0m     \u001b[38;5;28;01mreturn\u001b[39;00m \u001b[38;5;28;01mTrue\u001b[39;00m\n\u001b[1;32m    347\u001b[0m \u001b[38;5;28;01melif\u001b[39;00m connection \u001b[38;5;129;01mis\u001b[39;00m \u001b[38;5;129;01mnot\u001b[39;00m \u001b[38;5;28;01mNone\u001b[39;00m:\n",
      "File \u001b[0;32m/tmp/pip_packages/snowflake/connector/errors.py:221\u001b[0m, in \u001b[0;36mError.default_errorhandler\u001b[0;34m(connection, cursor, error_class, error_value)\u001b[0m\n\u001b[1;32m    219\u001b[0m errno \u001b[38;5;241m=\u001b[39m error_value\u001b[38;5;241m.\u001b[39mget(\u001b[38;5;124m\"\u001b[39m\u001b[38;5;124merrno\u001b[39m\u001b[38;5;124m\"\u001b[39m)\n\u001b[1;32m    220\u001b[0m done_format_msg \u001b[38;5;241m=\u001b[39m error_value\u001b[38;5;241m.\u001b[39mget(\u001b[38;5;124m\"\u001b[39m\u001b[38;5;124mdone_format_msg\u001b[39m\u001b[38;5;124m\"\u001b[39m)\n\u001b[0;32m--> 221\u001b[0m \u001b[38;5;28;01mraise\u001b[39;00m error_class(\n\u001b[1;32m    222\u001b[0m     msg\u001b[38;5;241m=\u001b[39merror_value\u001b[38;5;241m.\u001b[39mget(\u001b[38;5;124m\"\u001b[39m\u001b[38;5;124mmsg\u001b[39m\u001b[38;5;124m\"\u001b[39m),\n\u001b[1;32m    223\u001b[0m     errno\u001b[38;5;241m=\u001b[39m\u001b[38;5;28;01mNone\u001b[39;00m \u001b[38;5;28;01mif\u001b[39;00m errno \u001b[38;5;129;01mis\u001b[39;00m \u001b[38;5;28;01mNone\u001b[39;00m \u001b[38;5;28;01melse\u001b[39;00m \u001b[38;5;28mint\u001b[39m(errno),\n\u001b[1;32m    224\u001b[0m     sqlstate\u001b[38;5;241m=\u001b[39merror_value\u001b[38;5;241m.\u001b[39mget(\u001b[38;5;124m\"\u001b[39m\u001b[38;5;124msqlstate\u001b[39m\u001b[38;5;124m\"\u001b[39m),\n\u001b[1;32m    225\u001b[0m     sfqid\u001b[38;5;241m=\u001b[39merror_value\u001b[38;5;241m.\u001b[39mget(\u001b[38;5;124m\"\u001b[39m\u001b[38;5;124msfqid\u001b[39m\u001b[38;5;124m\"\u001b[39m),\n\u001b[1;32m    226\u001b[0m     query\u001b[38;5;241m=\u001b[39merror_value\u001b[38;5;241m.\u001b[39mget(\u001b[38;5;124m\"\u001b[39m\u001b[38;5;124mquery\u001b[39m\u001b[38;5;124m\"\u001b[39m),\n\u001b[1;32m    227\u001b[0m     done_format_msg\u001b[38;5;241m=\u001b[39m(\n\u001b[1;32m    228\u001b[0m         \u001b[38;5;28;01mNone\u001b[39;00m \u001b[38;5;28;01mif\u001b[39;00m done_format_msg \u001b[38;5;129;01mis\u001b[39;00m \u001b[38;5;28;01mNone\u001b[39;00m \u001b[38;5;28;01melse\u001b[39;00m \u001b[38;5;28mbool\u001b[39m(done_format_msg)\n\u001b[1;32m    229\u001b[0m     ),\n\u001b[1;32m    230\u001b[0m     connection\u001b[38;5;241m=\u001b[39mconnection,\n\u001b[1;32m    231\u001b[0m     cursor\u001b[38;5;241m=\u001b[39mcursor,\n\u001b[1;32m    232\u001b[0m )\n",
      "\u001b[0;31mSnowparkSQLException\u001b[0m: (1304): 01b4c34b-0000-668b-0000-576d06cc8e22: 100357 (P0000): Python Interpreter Error:\nTraceback (most recent call last):\n  File \"_udf_code.py\", line 51, in compute\n  File \"<ipython-input-41-6d7549348a0d>\", line 30, in read_model_from_stage\n  File \"/usr/lib/python_udf/c9abc2f36199647a270d8ce824ea98bb92e1209b64d0ac5efb8c6c1d19a3e362/lib/python3.9/site-packages/snowflake/ml/_internal/telemetry.py\", line 352, in wrap\n    return update_stmt_params_if_snowpark_df(func(*args, **kwargs), statement_params)\n  File \"/usr/lib/python_udf/c9abc2f36199647a270d8ce824ea98bb92e1209b64d0ac5efb8c6c1d19a3e362/lib/python3.9/site-packages/snowflake/ml/registry/registry.py\", line 156, in log_model\n    return self._model_manager.log_model(\n  File \"/usr/lib/python_udf/c9abc2f36199647a270d8ce824ea98bb92e1209b64d0ac5efb8c6c1d19a3e362/lib/python3.9/site-packages/snowflake/ml/registry/_manager/model_manager.py\", line 71, in log_model\n    mc.save(\n  File \"/usr/lib/python_udf/c9abc2f36199647a270d8ce824ea98bb92e1209b64d0ac5efb8c6c1d19a3e362/lib/python3.9/site-packages/snowflake/ml/model/_model_composer/model_composer.py\", line 109, in save\n    self.packager.save(\n  File \"/usr/lib/python_udf/c9abc2f36199647a270d8ce824ea98bb92e1209b64d0ac5efb8c6c1d19a3e362/lib/python3.9/site-packages/snowflake/ml/model/_packager/model_packager.py\", line 92, in save\n    handler.save_model(\n  File \"/usr/lib/python_udf/c9abc2f36199647a270d8ce824ea98bb92e1209b64d0ac5efb8c6c1d19a3e362/lib/python3.9/site-packages/snowflake/ml/model/_packager/model_handlers/sklearn.py\", line 105, in save_model\n    model_meta = handlers_utils.validate_signature(\n  File \"/usr/lib/python_udf/c9abc2f36199647a270d8ce824ea98bb92e1209b64d0ac5efb8c6c1d19a3e362/lib/python3.9/site-packages/snowflake/ml/model/_packager/model_handlers/_utils.py\", line 36, in validate_signature\n    predictions_df = get_prediction_fn(target_method, local_sample_input)\n  File \"/usr/lib/python_udf/c9abc2f36199647a270d8ce824ea98bb92e1209b64d0ac5efb8c6c1d19a3e362/lib/python3.9/site-packages/snowflake/ml/model/_packager/model_handlers/sklearn.py\", line 102, in get_prediction\n    predictions_df = target_method(sample_input_data)\n  File \"/usr/lib/python_udf/c9abc2f36199647a270d8ce824ea98bb92e1209b64d0ac5efb8c6c1d19a3e362/lib/python3.9/site-packages/sklearn/ensemble/_gb.py\", line 1779, in predict\n    X = self._validate_data(\n  File \"/usr/lib/python_udf/c9abc2f36199647a270d8ce824ea98bb92e1209b64d0ac5efb8c6c1d19a3e362/lib/python3.9/site-packages/sklearn/base.py\", line 579, in _validate_data\n    self._check_feature_names(X, reset=reset)\n  File \"/usr/lib/python_udf/c9abc2f36199647a270d8ce824ea98bb92e1209b64d0ac5efb8c6c1d19a3e362/lib/python3.9/site-packages/sklearn/base.py\", line 506, in _check_feature_names\n    raise ValueError(message)\nValueError: The feature names should match those that were passed during fit.\nFeature names must be in the same order as they were in fit.\n\n in function READ_MODEL_FROM_STAGE with handler compute"
     ]
    }
   ],
   "source": [
    "model_obj = session.call(\"read_model_from_stage\", dict_df)"
   ]
  },
  {
   "cell_type": "code",
   "execution_count": null,
   "id": "f75669dc",
   "metadata": {},
   "outputs": [],
   "source": []
  },
  {
   "cell_type": "code",
   "execution_count": 2,
   "id": "d2c6452a",
   "metadata": {},
   "outputs": [],
   "source": [
    "!pip freeze | grep -i categ"
   ]
  },
  {
   "cell_type": "code",
   "execution_count": null,
   "id": "85235431",
   "metadata": {},
   "outputs": [],
   "source": [
    "!pip install category_encoders"
   ]
  },
  {
   "cell_type": "code",
   "execution_count": 3,
   "id": "3148504e",
   "metadata": {},
   "outputs": [],
   "source": [
    "import pandas as pd\n",
    "import numpy as np\n",
    "# import category_encoders as ce\n",
    "from sklearn.model_selection import train_test_split\n",
    "from sklearn.tree import DecisionTreeClassifier\n",
    "import requests\n",
    "# from refractml import *\n",
    "# from refractml.constants import MLModelFlavours"
   ]
  },
  {
   "cell_type": "code",
   "execution_count": 4,
   "id": "b2e8c6b5",
   "metadata": {},
   "outputs": [
    {
     "data": {
      "text/html": [
       "<div>\n",
       "<style scoped>\n",
       "    .dataframe tbody tr th:only-of-type {\n",
       "        vertical-align: middle;\n",
       "    }\n",
       "\n",
       "    .dataframe tbody tr th {\n",
       "        vertical-align: top;\n",
       "    }\n",
       "\n",
       "    .dataframe thead th {\n",
       "        text-align: right;\n",
       "    }\n",
       "</style>\n",
       "<table border=\"1\" class=\"dataframe\">\n",
       "  <thead>\n",
       "    <tr style=\"text-align: right;\">\n",
       "      <th></th>\n",
       "      <th>buying_num</th>\n",
       "      <th>maintenance_num</th>\n",
       "      <th>doors_num</th>\n",
       "      <th>persons_num</th>\n",
       "      <th>lugboot_num</th>\n",
       "      <th>safety_num</th>\n",
       "      <th>class_num</th>\n",
       "    </tr>\n",
       "  </thead>\n",
       "  <tbody>\n",
       "    <tr>\n",
       "      <th>0</th>\n",
       "      <td>3</td>\n",
       "      <td>3</td>\n",
       "      <td>0</td>\n",
       "      <td>0</td>\n",
       "      <td>2</td>\n",
       "      <td>2</td>\n",
       "      <td>2</td>\n",
       "    </tr>\n",
       "    <tr>\n",
       "      <th>1</th>\n",
       "      <td>3</td>\n",
       "      <td>3</td>\n",
       "      <td>0</td>\n",
       "      <td>0</td>\n",
       "      <td>2</td>\n",
       "      <td>0</td>\n",
       "      <td>2</td>\n",
       "    </tr>\n",
       "    <tr>\n",
       "      <th>2</th>\n",
       "      <td>3</td>\n",
       "      <td>3</td>\n",
       "      <td>0</td>\n",
       "      <td>0</td>\n",
       "      <td>1</td>\n",
       "      <td>1</td>\n",
       "      <td>2</td>\n",
       "    </tr>\n",
       "    <tr>\n",
       "      <th>3</th>\n",
       "      <td>3</td>\n",
       "      <td>3</td>\n",
       "      <td>0</td>\n",
       "      <td>0</td>\n",
       "      <td>1</td>\n",
       "      <td>2</td>\n",
       "      <td>2</td>\n",
       "    </tr>\n",
       "    <tr>\n",
       "      <th>4</th>\n",
       "      <td>3</td>\n",
       "      <td>3</td>\n",
       "      <td>0</td>\n",
       "      <td>0</td>\n",
       "      <td>1</td>\n",
       "      <td>0</td>\n",
       "      <td>2</td>\n",
       "    </tr>\n",
       "    <tr>\n",
       "      <th>...</th>\n",
       "      <td>...</td>\n",
       "      <td>...</td>\n",
       "      <td>...</td>\n",
       "      <td>...</td>\n",
       "      <td>...</td>\n",
       "      <td>...</td>\n",
       "      <td>...</td>\n",
       "    </tr>\n",
       "    <tr>\n",
       "      <th>1722</th>\n",
       "      <td>1</td>\n",
       "      <td>1</td>\n",
       "      <td>3</td>\n",
       "      <td>2</td>\n",
       "      <td>1</td>\n",
       "      <td>2</td>\n",
       "      <td>1</td>\n",
       "    </tr>\n",
       "    <tr>\n",
       "      <th>1723</th>\n",
       "      <td>1</td>\n",
       "      <td>1</td>\n",
       "      <td>3</td>\n",
       "      <td>2</td>\n",
       "      <td>1</td>\n",
       "      <td>0</td>\n",
       "      <td>3</td>\n",
       "    </tr>\n",
       "    <tr>\n",
       "      <th>1724</th>\n",
       "      <td>1</td>\n",
       "      <td>1</td>\n",
       "      <td>3</td>\n",
       "      <td>2</td>\n",
       "      <td>0</td>\n",
       "      <td>1</td>\n",
       "      <td>2</td>\n",
       "    </tr>\n",
       "    <tr>\n",
       "      <th>1725</th>\n",
       "      <td>1</td>\n",
       "      <td>1</td>\n",
       "      <td>3</td>\n",
       "      <td>2</td>\n",
       "      <td>0</td>\n",
       "      <td>2</td>\n",
       "      <td>1</td>\n",
       "    </tr>\n",
       "    <tr>\n",
       "      <th>1726</th>\n",
       "      <td>1</td>\n",
       "      <td>1</td>\n",
       "      <td>3</td>\n",
       "      <td>2</td>\n",
       "      <td>0</td>\n",
       "      <td>0</td>\n",
       "      <td>3</td>\n",
       "    </tr>\n",
       "  </tbody>\n",
       "</table>\n",
       "<p>1727 rows × 7 columns</p>\n",
       "</div>"
      ],
      "text/plain": [
       "      buying_num  maintenance_num  doors_num  persons_num  lugboot_num   \n",
       "0              3                3          0            0            2  \\\n",
       "1              3                3          0            0            2   \n",
       "2              3                3          0            0            1   \n",
       "3              3                3          0            0            1   \n",
       "4              3                3          0            0            1   \n",
       "...          ...              ...        ...          ...          ...   \n",
       "1722           1                1          3            2            1   \n",
       "1723           1                1          3            2            1   \n",
       "1724           1                1          3            2            0   \n",
       "1725           1                1          3            2            0   \n",
       "1726           1                1          3            2            0   \n",
       "\n",
       "      safety_num  class_num  \n",
       "0              2          2  \n",
       "1              0          2  \n",
       "2              1          2  \n",
       "3              2          2  \n",
       "4              0          2  \n",
       "...          ...        ...  \n",
       "1722           2          1  \n",
       "1723           0          3  \n",
       "1724           1          2  \n",
       "1725           2          1  \n",
       "1726           0          3  \n",
       "\n",
       "[1727 rows x 7 columns]"
      ]
     },
     "execution_count": 4,
     "metadata": {},
     "output_type": "execute_result"
    }
   ],
   "source": [
    "cars = pd.read_csv(\"/data/car_new.csv\")\n",
    "cars"
   ]
  },
  {
   "cell_type": "code",
   "execution_count": 5,
   "id": "532f93f6",
   "metadata": {},
   "outputs": [
    {
     "name": "stdout",
     "output_type": "stream",
     "text": [
      "(1416, 6) (311, 6) (1416,) (311,)\n"
     ]
    }
   ],
   "source": [
    "Y = cars['class_num']\n",
    "X = cars.drop (['class_num'], axis=1)\n",
    "X_train, X_test, y_train, y_test = train_test_split(X, Y, test_size=0.18, shuffle=True, random_state=25)\n",
    "print (X_train.shape, X_test.shape, y_train.shape, y_test.shape)"
   ]
  },
  {
   "cell_type": "code",
   "execution_count": 6,
   "id": "83b124c5",
   "metadata": {},
   "outputs": [
    {
     "data": {
      "text/html": [
       "<style>#sk-container-id-1 {color: black;}#sk-container-id-1 pre{padding: 0;}#sk-container-id-1 div.sk-toggleable {background-color: white;}#sk-container-id-1 label.sk-toggleable__label {cursor: pointer;display: block;width: 100%;margin-bottom: 0;padding: 0.3em;box-sizing: border-box;text-align: center;}#sk-container-id-1 label.sk-toggleable__label-arrow:before {content: \"▸\";float: left;margin-right: 0.25em;color: #696969;}#sk-container-id-1 label.sk-toggleable__label-arrow:hover:before {color: black;}#sk-container-id-1 div.sk-estimator:hover label.sk-toggleable__label-arrow:before {color: black;}#sk-container-id-1 div.sk-toggleable__content {max-height: 0;max-width: 0;overflow: hidden;text-align: left;background-color: #f0f8ff;}#sk-container-id-1 div.sk-toggleable__content pre {margin: 0.2em;color: black;border-radius: 0.25em;background-color: #f0f8ff;}#sk-container-id-1 input.sk-toggleable__control:checked~div.sk-toggleable__content {max-height: 200px;max-width: 100%;overflow: auto;}#sk-container-id-1 input.sk-toggleable__control:checked~label.sk-toggleable__label-arrow:before {content: \"▾\";}#sk-container-id-1 div.sk-estimator input.sk-toggleable__control:checked~label.sk-toggleable__label {background-color: #d4ebff;}#sk-container-id-1 div.sk-label input.sk-toggleable__control:checked~label.sk-toggleable__label {background-color: #d4ebff;}#sk-container-id-1 input.sk-hidden--visually {border: 0;clip: rect(1px 1px 1px 1px);clip: rect(1px, 1px, 1px, 1px);height: 1px;margin: -1px;overflow: hidden;padding: 0;position: absolute;width: 1px;}#sk-container-id-1 div.sk-estimator {font-family: monospace;background-color: #f0f8ff;border: 1px dotted black;border-radius: 0.25em;box-sizing: border-box;margin-bottom: 0.5em;}#sk-container-id-1 div.sk-estimator:hover {background-color: #d4ebff;}#sk-container-id-1 div.sk-parallel-item::after {content: \"\";width: 100%;border-bottom: 1px solid gray;flex-grow: 1;}#sk-container-id-1 div.sk-label:hover label.sk-toggleable__label {background-color: #d4ebff;}#sk-container-id-1 div.sk-serial::before {content: \"\";position: absolute;border-left: 1px solid gray;box-sizing: border-box;top: 0;bottom: 0;left: 50%;z-index: 0;}#sk-container-id-1 div.sk-serial {display: flex;flex-direction: column;align-items: center;background-color: white;padding-right: 0.2em;padding-left: 0.2em;position: relative;}#sk-container-id-1 div.sk-item {position: relative;z-index: 1;}#sk-container-id-1 div.sk-parallel {display: flex;align-items: stretch;justify-content: center;background-color: white;position: relative;}#sk-container-id-1 div.sk-item::before, #sk-container-id-1 div.sk-parallel-item::before {content: \"\";position: absolute;border-left: 1px solid gray;box-sizing: border-box;top: 0;bottom: 0;left: 50%;z-index: -1;}#sk-container-id-1 div.sk-parallel-item {display: flex;flex-direction: column;z-index: 1;position: relative;background-color: white;}#sk-container-id-1 div.sk-parallel-item:first-child::after {align-self: flex-end;width: 50%;}#sk-container-id-1 div.sk-parallel-item:last-child::after {align-self: flex-start;width: 50%;}#sk-container-id-1 div.sk-parallel-item:only-child::after {width: 0;}#sk-container-id-1 div.sk-dashed-wrapped {border: 1px dashed gray;margin: 0 0.4em 0.5em 0.4em;box-sizing: border-box;padding-bottom: 0.4em;background-color: white;}#sk-container-id-1 div.sk-label label {font-family: monospace;font-weight: bold;display: inline-block;line-height: 1.2em;}#sk-container-id-1 div.sk-label-container {text-align: center;}#sk-container-id-1 div.sk-container {/* jupyter's `normalize.less` sets `[hidden] { display: none; }` but bootstrap.min.css set `[hidden] { display: none !important; }` so we also need the `!important` here to be able to override the default hidden behavior on the sphinx rendered scikit-learn.org. See: https://github.com/scikit-learn/scikit-learn/issues/21755 */display: inline-block !important;position: relative;}#sk-container-id-1 div.sk-text-repr-fallback {display: none;}</style><div id=\"sk-container-id-1\" class=\"sk-top-container\"><div class=\"sk-text-repr-fallback\"><pre>DecisionTreeClassifier()</pre><b>In a Jupyter environment, please rerun this cell to show the HTML representation or trust the notebook. <br />On GitHub, the HTML representation is unable to render, please try loading this page with nbviewer.org.</b></div><div class=\"sk-container\" hidden><div class=\"sk-item\"><div class=\"sk-estimator sk-toggleable\"><input class=\"sk-toggleable__control sk-hidden--visually\" id=\"sk-estimator-id-1\" type=\"checkbox\" checked><label for=\"sk-estimator-id-1\" class=\"sk-toggleable__label sk-toggleable__label-arrow\">DecisionTreeClassifier</label><div class=\"sk-toggleable__content\"><pre>DecisionTreeClassifier()</pre></div></div></div></div></div>"
      ],
      "text/plain": [
       "DecisionTreeClassifier()"
      ]
     },
     "execution_count": 6,
     "metadata": {},
     "output_type": "execute_result"
    }
   ],
   "source": [
    "first_tree = DecisionTreeClassifier()\n",
    "model=first_tree.fit(X_train, y_train)\n",
    "model"
   ]
  },
  {
   "cell_type": "code",
   "execution_count": 7,
   "id": "1b91b81b",
   "metadata": {},
   "outputs": [],
   "source": [
    "y_pred = model.predict(X_test)\n",
    "first_tree.score(X_test, y_test)\n",
    "y_prob = model.predict_proba(X_test)[:,1]"
   ]
  },
  {
   "cell_type": "code",
   "execution_count": 8,
   "id": "e00d7470",
   "metadata": {},
   "outputs": [
    {
     "data": {
      "text/plain": [
       "array([2])"
      ]
     },
     "execution_count": 8,
     "metadata": {},
     "output_type": "execute_result"
    }
   ],
   "source": [
    "model.predict(X_train.head(1))"
   ]
  },
  {
   "cell_type": "code",
   "execution_count": 9,
   "id": "81dc3242",
   "metadata": {},
   "outputs": [],
   "source": [
    "from snowflake.ml.model import model_signature"
   ]
  },
  {
   "cell_type": "code",
   "execution_count": 21,
   "id": "d7bef6e2",
   "metadata": {},
   "outputs": [
    {
     "data": {
      "text/plain": [
       "[2, 2, 0, 2, 2]"
      ]
     },
     "execution_count": 21,
     "metadata": {},
     "output_type": "execute_result"
    }
   ],
   "source": [
    "y_train.head().tolist()"
   ]
  },
  {
   "cell_type": "code",
   "execution_count": 22,
   "id": "4cfe61de",
   "metadata": {},
   "outputs": [],
   "source": [
    "sig = model_signature.infer_signature(\n",
    "    X_train.head(),\n",
    "    y_train.head().tolist(),\n",
    "    input_feature_names=X_train.columns.tolist(),\n",
    "    output_feature_names=['class_num'])"
   ]
  },
  {
   "cell_type": "markdown",
   "id": "d97f3dc5",
   "metadata": {},
   "source": [
    "# "
   ]
  }
 ],
 "metadata": {
  "kernelspec": {
   "display_name": "Python 3",
   "language": "python",
   "name": "python3"
  },
  "language_info": {
   "codemirror_mode": {
    "name": "ipython",
    "version": 3
   },
   "file_extension": ".py",
   "mimetype": "text/x-python",
   "name": "python",
   "nbconvert_exporter": "python",
   "pygments_lexer": "ipython3",
   "version": "3.9.18"
  }
 },
 "nbformat": 4,
 "nbformat_minor": 5
}
