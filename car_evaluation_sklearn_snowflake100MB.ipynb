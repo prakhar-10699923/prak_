{
 "cells": [
  {
   "cell_type": "code",
   "execution_count": null,
   "id": "584641c2",
   "metadata": {},
   "outputs": [],
   "source": [
    "!pip install fosforio[snowflake]"
   ]
  },
  {
   "cell_type": "code",
   "execution_count": 1,
   "id": "1fd0ad28",
   "metadata": {
    "scrolled": true
   },
   "outputs": [
    {
     "name": "stderr",
     "output_type": "stream",
     "text": [
      "/opt/conda/lib/python3.9/site-packages/_distutils_hack/__init__.py:33: UserWarning: Setuptools is replacing distutils.\n",
      "  warnings.warn(\"Setuptools is replacing distutils.\")\n"
     ]
    }
   ],
   "source": [
    "import pandas as pd\n",
    "import numpy as np\n",
    "import category_encoders as ce\n",
    "from sklearn.model_selection import train_test_split\n",
    "from sklearn.tree import DecisionTreeClassifier\n",
    "import requests\n",
    "from fosforml import *\n",
    "from fosforml.constants import MLModelFlavours"
   ]
  },
  {
   "cell_type": "code",
   "execution_count": 2,
   "id": "595b8c47",
   "metadata": {
    "scrolled": true
   },
   "outputs": [
    {
     "name": "stdout",
     "output_type": "stream",
     "text": [
      "Connection manager service url initialised to http://fdc-project-manager:80/project-manager\n",
      "If you need to update its value then update the variable CONNECTION_MANAGER_BASE_URL in os env.\n",
      "Connection details fetched: {'errorCode': 'CNM-404', 'message': 'Asset not found', 'detailMessage': 'Datasource not found by name CAR_NEW100MB', 'timeStamp': '2024-06-27 07:40:51.76', 'api': '/v1/external/getConnConfig/{dataSourceName}/{userId}/{projectId}'}\n",
      "Ex: 'params'\n",
      "Exception occurred in reading data_frame from snowflake connection: Exception occurred in creating snowflake connection: Datasource not found by name CAR_NEW100MB\n"
     ]
    }
   ],
   "source": [
    "from refractio import snowflake\n",
    "cars = snowflake.get_dataframe(\"CAR_NEW100MB\")\n",
    "cars"
   ]
  },
  {
   "cell_type": "code",
   "execution_count": null,
   "id": "48860c3b",
   "metadata": {},
   "outputs": [],
   "source": [
    "# cars = pd.read_csv(\"/data/car_new.csv\")\n",
    "# cars"
   ]
  },
  {
   "cell_type": "code",
   "execution_count": null,
   "id": "fe4e765d",
   "metadata": {
    "scrolled": true
   },
   "outputs": [],
   "source": [
    "Y = cars['CLASS_NUM']\n",
    "X = cars.drop (['CLASS_NUM'], axis=1)\n",
    "X_train, X_test, y_train, y_test = train_test_split(X, Y, test_size=0.18, shuffle=True, random_state=25)\n",
    "print (X_train.shape, X_test.shape, y_train.shape, y_test.shape)"
   ]
  },
  {
   "cell_type": "code",
   "execution_count": null,
   "id": "f3cd7a5e",
   "metadata": {},
   "outputs": [],
   "source": [
    "first_tree = DecisionTreeClassifier()\n",
    "model=first_tree.fit(X_train, y_train)\n",
    "model"
   ]
  },
  {
   "cell_type": "code",
   "execution_count": null,
   "id": "d0440e51",
   "metadata": {},
   "outputs": [],
   "source": [
    "y_pred = model.predict(X_test)\n",
    "first_tree.score(X_test, y_test)\n",
    "y_prob = model.predict_proba(X_test)[:,1]"
   ]
  },
  {
   "cell_type": "code",
   "execution_count": null,
   "id": "8442ecdd",
   "metadata": {},
   "outputs": [],
   "source": [
    "@scoring_func\n",
    "def score(model, request):\n",
    "    payload = request.json[\"payload\"]\n",
    "    data = pd.DataFrame(eval(payload))\n",
    "    prediction = pd.Series(model.predict(data))\n",
    "    return prediction.tolist()"
   ]
  },
  {
   "cell_type": "code",
   "execution_count": null,
   "id": "e02e374f",
   "metadata": {},
   "outputs": [],
   "source": [
    "req = requests.Request()\n",
    "req.json = {\"payload\":X_train.head(1).to_json()}\n",
    "\n",
    "sch = generate_schema(score,(model, req), X_train)\n",
    "print(sch)"
   ]
  },
  {
   "cell_type": "code",
   "execution_count": null,
   "id": "d82a1543",
   "metadata": {},
   "outputs": [],
   "source": [
    "register_model(model, \n",
    "               score, \n",
    "               name='car_evaluation_new2', \n",
    "               description='car evaluation classification model using sklearn', \n",
    "               flavour=MLModelFlavours.sklearn,\n",
    "               schema=sch,\n",
    "               y_true=y_test, \n",
    "               y_pred=y_pred,\n",
    "               y_train=y_train, \n",
    "               y_test=y_test,\n",
    "               x_train=X_train, \n",
    "               x_test=X_test, \n",
    "               prob=y_prob,\n",
    "               labels=[0,1], \n",
    "               init_script=\"\",\n",
    "               model_type=\"classification\",\n",
    "               input_type=\"json\", \n",
    "               explain_ai=True, \n",
    "               feature_names=list(X_train), \n",
    "               feature_ids=list(X_train),\n",
    "               target_names=[0,1,2,3], \n",
    "               kyd=False, \n",
    "               kyd_score = False\n",
    "              )"
   ]
  },
  {
   "cell_type": "code",
   "execution_count": null,
   "id": "44b237c3",
   "metadata": {},
   "outputs": [],
   "source": []
  }
 ],
 "metadata": {
  "kernelspec": {
   "display_name": "Python 3",
   "language": "python",
   "name": "python3"
  },
  "language_info": {
   "codemirror_mode": {
    "name": "ipython",
    "version": 3
   },
   "file_extension": ".py",
   "mimetype": "text/x-python",
   "name": "python",
   "nbconvert_exporter": "python",
   "pygments_lexer": "ipython3",
   "version": "3.9.18"
  }
 },
 "nbformat": 4,
 "nbformat_minor": 5
}
