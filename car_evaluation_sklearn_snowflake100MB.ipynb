{
 "cells": [
  {
   "cell_type": "code",
   "execution_count": null,
   "id": "584641c2",
   "metadata": {},
   "outputs": [],
   "source": [
    "!pip install matplotlib==3.7.5"
   ]
  },
  {
   "cell_type": "code",
   "execution_count": null,
   "id": "1fd0ad28",
   "metadata": {
    "scrolled": true
   },
   "outputs": [],
   "source": [
    "import pandas as pd\n",
    "import numpy as np\n",
    "import category_encoders as ce\n",
    "from sklearn.model_selection import train_test_split\n",
    "from sklearn.tree import DecisionTreeClassifier\n",
    "import requests\n",
    "from fosforml import *\n",
    "from fosforml.constants import MLModelFlavours"
   ]
  },
  {
   "cell_type": "code",
   "execution_count": 2,
   "id": "595b8c47",
   "metadata": {
    "scrolled": false
   },
   "outputs": [
    {
     "name": "stdout",
     "output_type": "stream",
     "text": [
      "Connection manager service url initialised to http://fdc-project-manager:80/project-manager\n",
      "If you need to update its value then update the variable CONNECTION_MANAGER_BASE_URL in os env.\n"
     ]
    },
    {
     "data": {
      "text/html": [
       "<div>\n",
       "<style scoped>\n",
       "    .dataframe tbody tr th:only-of-type {\n",
       "        vertical-align: middle;\n",
       "    }\n",
       "\n",
       "    .dataframe tbody tr th {\n",
       "        vertical-align: top;\n",
       "    }\n",
       "\n",
       "    .dataframe thead th {\n",
       "        text-align: right;\n",
       "    }\n",
       "</style>\n",
       "<table border=\"1\" class=\"dataframe\">\n",
       "  <thead>\n",
       "    <tr style=\"text-align: right;\">\n",
       "      <th></th>\n",
       "      <th>BUYING_NUM</th>\n",
       "      <th>MAINTENANCE_NUM</th>\n",
       "      <th>DOORS_NUM</th>\n",
       "      <th>PERSONS_NUM</th>\n",
       "      <th>LUGBOOT_NUM</th>\n",
       "      <th>SAFETY_NUM</th>\n",
       "      <th>CLASS_NUM</th>\n",
       "    </tr>\n",
       "  </thead>\n",
       "  <tbody>\n",
       "    <tr>\n",
       "      <th>0</th>\n",
       "      <td>0</td>\n",
       "      <td>2</td>\n",
       "      <td>2</td>\n",
       "      <td>1</td>\n",
       "      <td>2</td>\n",
       "      <td>1</td>\n",
       "      <td>0</td>\n",
       "    </tr>\n",
       "    <tr>\n",
       "      <th>1</th>\n",
       "      <td>1</td>\n",
       "      <td>1</td>\n",
       "      <td>1</td>\n",
       "      <td>1</td>\n",
       "      <td>2</td>\n",
       "      <td>2</td>\n",
       "      <td>0</td>\n",
       "    </tr>\n",
       "    <tr>\n",
       "      <th>2</th>\n",
       "      <td>3</td>\n",
       "      <td>1</td>\n",
       "      <td>3</td>\n",
       "      <td>0</td>\n",
       "      <td>1</td>\n",
       "      <td>2</td>\n",
       "      <td>1</td>\n",
       "    </tr>\n",
       "    <tr>\n",
       "      <th>3</th>\n",
       "      <td>0</td>\n",
       "      <td>3</td>\n",
       "      <td>1</td>\n",
       "      <td>2</td>\n",
       "      <td>2</td>\n",
       "      <td>0</td>\n",
       "      <td>3</td>\n",
       "    </tr>\n",
       "    <tr>\n",
       "      <th>4</th>\n",
       "      <td>3</td>\n",
       "      <td>0</td>\n",
       "      <td>3</td>\n",
       "      <td>1</td>\n",
       "      <td>0</td>\n",
       "      <td>1</td>\n",
       "      <td>0</td>\n",
       "    </tr>\n",
       "    <tr>\n",
       "      <th>...</th>\n",
       "      <td>...</td>\n",
       "      <td>...</td>\n",
       "      <td>...</td>\n",
       "      <td>...</td>\n",
       "      <td>...</td>\n",
       "      <td>...</td>\n",
       "      <td>...</td>\n",
       "    </tr>\n",
       "    <tr>\n",
       "      <th>119699995</th>\n",
       "      <td>3</td>\n",
       "      <td>1</td>\n",
       "      <td>1</td>\n",
       "      <td>0</td>\n",
       "      <td>0</td>\n",
       "      <td>1</td>\n",
       "      <td>0</td>\n",
       "    </tr>\n",
       "    <tr>\n",
       "      <th>119699996</th>\n",
       "      <td>0</td>\n",
       "      <td>0</td>\n",
       "      <td>0</td>\n",
       "      <td>0</td>\n",
       "      <td>0</td>\n",
       "      <td>2</td>\n",
       "      <td>1</td>\n",
       "    </tr>\n",
       "    <tr>\n",
       "      <th>119699997</th>\n",
       "      <td>2</td>\n",
       "      <td>2</td>\n",
       "      <td>0</td>\n",
       "      <td>2</td>\n",
       "      <td>2</td>\n",
       "      <td>0</td>\n",
       "      <td>3</td>\n",
       "    </tr>\n",
       "    <tr>\n",
       "      <th>119699998</th>\n",
       "      <td>3</td>\n",
       "      <td>3</td>\n",
       "      <td>2</td>\n",
       "      <td>0</td>\n",
       "      <td>2</td>\n",
       "      <td>0</td>\n",
       "      <td>3</td>\n",
       "    </tr>\n",
       "    <tr>\n",
       "      <th>119699999</th>\n",
       "      <td>1</td>\n",
       "      <td>1</td>\n",
       "      <td>0</td>\n",
       "      <td>2</td>\n",
       "      <td>2</td>\n",
       "      <td>0</td>\n",
       "      <td>3</td>\n",
       "    </tr>\n",
       "  </tbody>\n",
       "</table>\n",
       "<p>119700000 rows × 7 columns</p>\n",
       "</div>"
      ],
      "text/plain": [
       "           BUYING_NUM  MAINTENANCE_NUM  DOORS_NUM  PERSONS_NUM  LUGBOOT_NUM  \\\n",
       "0                   0                2          2            1            2   \n",
       "1                   1                1          1            1            2   \n",
       "2                   3                1          3            0            1   \n",
       "3                   0                3          1            2            2   \n",
       "4                   3                0          3            1            0   \n",
       "...               ...              ...        ...          ...          ...   \n",
       "119699995           3                1          1            0            0   \n",
       "119699996           0                0          0            0            0   \n",
       "119699997           2                2          0            2            2   \n",
       "119699998           3                3          2            0            2   \n",
       "119699999           1                1          0            2            2   \n",
       "\n",
       "           SAFETY_NUM  CLASS_NUM  \n",
       "0                   1          0  \n",
       "1                   2          0  \n",
       "2                   2          1  \n",
       "3                   0          3  \n",
       "4                   1          0  \n",
       "...               ...        ...  \n",
       "119699995           1          0  \n",
       "119699996           2          1  \n",
       "119699997           0          3  \n",
       "119699998           0          3  \n",
       "119699999           0          3  \n",
       "\n",
       "[119700000 rows x 7 columns]"
      ]
     },
     "execution_count": 2,
     "metadata": {},
     "output_type": "execute_result"
    }
   ],
   "source": [
    "from refractio import snowflake\n",
    "cars = snowflake.get_dataframe(\"CAR_NEW200MB\")\n",
    "cars"
   ]
  },
  {
   "cell_type": "code",
   "execution_count": null,
   "id": "48860c3b",
   "metadata": {},
   "outputs": [],
   "source": [
    "# cars = pd.read_csv(\"/data/car_new.csv\")\n",
    "# cars"
   ]
  },
  {
   "cell_type": "code",
   "execution_count": null,
   "id": "fe4e765d",
   "metadata": {
    "scrolled": true
   },
   "outputs": [],
   "source": [
    "Y = cars['CLASS_NUM']\n",
    "X = cars.drop (['CLASS_NUM'], axis=1)\n",
    "X_train, X_test, y_train, y_test = train_test_split(X, Y, test_size=0.18, shuffle=True, random_state=25)\n",
    "print (X_train.shape, X_test.shape, y_train.shape, y_test.shape)"
   ]
  },
  {
   "cell_type": "code",
   "execution_count": null,
   "id": "f3cd7a5e",
   "metadata": {},
   "outputs": [],
   "source": [
    "first_tree = DecisionTreeClassifier()\n",
    "model=first_tree.fit(X_train, y_train)\n",
    "model"
   ]
  },
  {
   "cell_type": "code",
   "execution_count": null,
   "id": "3c7499ad",
   "metadata": {},
   "outputs": [],
   "source": [
    "import sys\n",
    "m_size = sys.getsizeof(model)\n",
    "m_size"
   ]
  },
  {
   "cell_type": "code",
   "execution_count": null,
   "id": "f4e0f7b7",
   "metadata": {},
   "outputs": [],
   "source": [
    "import joblib\n",
    "def dump_model(model, path):\n",
    "    joblib.dump(model, path)"
   ]
  },
  {
   "cell_type": "code",
   "execution_count": null,
   "id": "7acece05",
   "metadata": {},
   "outputs": [],
   "source": [
    "dump_model(model, \"/notebooks/notebooks/CAR_NEW200MB\")"
   ]
  },
  {
   "cell_type": "code",
   "execution_count": null,
   "id": "27d26aa8",
   "metadata": {},
   "outputs": [],
   "source": [
    "X_train.head(1)"
   ]
  },
  {
   "cell_type": "code",
   "execution_count": null,
   "id": "d0440e51",
   "metadata": {},
   "outputs": [],
   "source": [
    "y_pred = model.predict(X_test)\n",
    "first_tree.score(X_test, y_test)\n",
    "y_prob = model.predict_proba(X_test)[:,1]"
   ]
  },
  {
   "cell_type": "code",
   "execution_count": null,
   "id": "8442ecdd",
   "metadata": {},
   "outputs": [],
   "source": [
    "@scoring_func\n",
    "def score(model, request):\n",
    "    payload = request.json[\"payload\"]\n",
    "    data = pd.DataFrame(eval(payload))\n",
    "    prediction = pd.Series(model.predict(data))\n",
    "    return prediction.tolist()"
   ]
  },
  {
   "cell_type": "code",
   "execution_count": null,
   "id": "e02e374f",
   "metadata": {},
   "outputs": [],
   "source": [
    "req = requests.Request()\n",
    "req.json = {\"payload\":X_train.head(1).to_json()}\n",
    "\n",
    "sch = generate_schema(score,(model, req), X_train)\n",
    "print(sch)"
   ]
  },
  {
   "cell_type": "code",
   "execution_count": null,
   "id": "d82a1543",
   "metadata": {},
   "outputs": [],
   "source": [
    "register_model(model, \n",
    "               score, \n",
    "               name='car_evaluation_new2', \n",
    "               description='car evaluation classification model using sklearn', \n",
    "               flavour=MLModelFlavours.sklearn,\n",
    "               schema=sch,\n",
    "               y_true=y_test, \n",
    "               y_pred=y_pred,\n",
    "               y_train=y_train, \n",
    "               y_test=y_test,\n",
    "               x_train=X_train, \n",
    "               x_test=X_test, \n",
    "               prob=y_prob,\n",
    "               labels=[0,1], \n",
    "               init_script=\"\",\n",
    "               model_type=\"classification\",\n",
    "               input_type=\"json\", \n",
    "               explain_ai=True, \n",
    "               feature_names=list(X_train), \n",
    "               feature_ids=list(X_train),\n",
    "               target_names=[0,1,2,3], \n",
    "               kyd=False, \n",
    "               kyd_score = False\n",
    "              )"
   ]
  },
  {
   "cell_type": "code",
   "execution_count": null,
   "id": "77c7d9d7",
   "metadata": {},
   "outputs": [],
   "source": [
    "!pip install snowflake[ml]==0.8.0"
   ]
  },
  {
   "cell_type": "code",
   "execution_count": 1,
   "id": "a2a7b6c7",
   "metadata": {},
   "outputs": [
    {
     "ename": "ModuleNotFoundError",
     "evalue": "No module named 'snowflake.snowpark'",
     "output_type": "error",
     "traceback": [
      "\u001b[0;31m---------------------------------------------------------------------------\u001b[0m",
      "\u001b[0;31mModuleNotFoundError\u001b[0m                       Traceback (most recent call last)",
      "Cell \u001b[0;32mIn[1], line 1\u001b[0m\n\u001b[0;32m----> 1\u001b[0m \u001b[38;5;28;01mfrom\u001b[39;00m \u001b[38;5;21;01msnowflake\u001b[39;00m\u001b[38;5;21;01m.\u001b[39;00m\u001b[38;5;21;01msnowpark\u001b[39;00m \u001b[38;5;28;01mimport\u001b[39;00m Session\n\u001b[1;32m      2\u001b[0m \u001b[38;5;28;01mfrom\u001b[39;00m \u001b[38;5;21;01msnowflake\u001b[39;00m\u001b[38;5;21;01m.\u001b[39;00m\u001b[38;5;21;01mml\u001b[39;00m\u001b[38;5;21;01m.\u001b[39;00m\u001b[38;5;21;01mregistry\u001b[39;00m \u001b[38;5;28;01mimport\u001b[39;00m Registry \u001b[38;5;28;01mas\u001b[39;00m model_registry\n\u001b[1;32m      3\u001b[0m \u001b[38;5;28;01mimport\u001b[39;00m \u001b[38;5;21;01mtime\u001b[39;00m\n",
      "\u001b[0;31mModuleNotFoundError\u001b[0m: No module named 'snowflake.snowpark'"
     ]
    }
   ],
   "source": [
    "from snowflake.snowpark import Session\n",
    "from snowflake.ml.registry import Registry as model_registry\n",
    "import time"
   ]
  }
 ],
 "metadata": {
  "kernelspec": {
   "display_name": "Python 3",
   "language": "python",
   "name": "python3"
  },
  "language_info": {
   "codemirror_mode": {
    "name": "ipython",
    "version": 3
   },
   "file_extension": ".py",
   "mimetype": "text/x-python",
   "name": "python",
   "nbconvert_exporter": "python",
   "pygments_lexer": "ipython3",
   "version": "3.9.18"
  }
 },
 "nbformat": 4,
 "nbformat_minor": 5
}
