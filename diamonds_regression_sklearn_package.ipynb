{
 "cells": [
  {
   "cell_type": "markdown",
   "id": "wooden-shame",
   "metadata": {
    "_cell_guid": "b1076dfc-b9ad-4769-8c92-a6c4dae69d19",
    "_uuid": "8f2839f25d086af736a60e9eeb907d3b93b6e0e5",
    "papermill": {
     "duration": 0.072313,
     "end_time": "2021-04-19T20:14:02.759997",
     "exception": false,
     "start_time": "2021-04-19T20:14:02.687684",
     "status": "completed"
    },
    "tags": []
   },
   "source": [
    "# EDA and Linear Regression with Evaluation Metrics on Diamonds Dataset"
   ]
  },
  {
   "cell_type": "markdown",
   "id": "warming-territory",
   "metadata": {
    "papermill": {
     "duration": 0.069627,
     "end_time": "2021-04-19T20:14:03.346106",
     "exception": false,
     "start_time": "2021-04-19T20:14:03.276479",
     "status": "completed"
    },
    "tags": []
   },
   "source": [
    "<a id = \"1\"></a>\n",
    "# Importing the Necessary Libraries"
   ]
  },
  {
   "cell_type": "code",
   "execution_count": 1,
   "id": "naval-marine",
   "metadata": {
    "papermill": {
     "duration": 2.803317,
     "end_time": "2021-04-19T20:14:06.219593",
     "exception": false,
     "start_time": "2021-04-19T20:14:03.416276",
     "status": "completed"
    },
    "tags": []
   },
   "outputs": [],
   "source": [
    "import numpy as np \n",
    "import pandas as pd\n",
    "import pandas\n",
    "#import seaborn as sns\n",
    "#import matplotlib.pyplot as plt\n",
    "from collections import Counter\n",
    "#%matplotlib inline\n",
    "#import seaborn as sns; sns.set()\n",
    "\n",
    "#import graphviz \n",
    "\n",
    "#from pandas_profiling import ProfileReport\n",
    "\n",
    "#from scipy.stats import norm, skew, boxcox\n",
    "from sklearn.model_selection import KFold\n",
    "\n",
    "\n",
    "from sklearn.model_selection import cross_val_score\n",
    "from sklearn.model_selection import cross_val_predict\n",
    "\n",
    "from sklearn.preprocessing import normalize\n",
    "from sklearn.preprocessing import StandardScaler, LabelEncoder, OneHotEncoder\n",
    "from sklearn.model_selection import train_test_split\n",
    "\n",
    "from sklearn.pipeline import Pipeline, make_pipeline\n",
    "from sklearn.decomposition import PCA\n",
    "\n",
    "from sklearn.linear_model import LinearRegression\n",
    "from sklearn.preprocessing import StandardScaler\n",
    "\n",
    "from sklearn.metrics import confusion_matrix, accuracy_score\n",
    "from sklearn.metrics import precision_score, recall_score, f1_score\n",
    "from sklearn.metrics import classification_report\n",
    "\n",
    "from sklearn.model_selection import GridSearchCV, cross_val_score\n",
    "\n",
    "\n",
    "from sklearn.metrics import confusion_matrix, accuracy_score, roc_auc_score, roc_curve\n",
    "from sklearn import preprocessing\n",
    "from sklearn.model_selection import train_test_split\n",
    "from sklearn.feature_selection import RFE\n",
    "\n",
    "from sklearn import metrics\n",
    "\n",
    "\n",
    "import warnings\n",
    "warnings.filterwarnings(\"ignore\")"
   ]
  },
  {
   "cell_type": "code",
   "execution_count": 2,
   "id": "matched-citizen",
   "metadata": {
    "papermill": {
     "duration": 0.23826,
     "end_time": "2021-04-19T20:14:06.674688",
     "exception": false,
     "start_time": "2021-04-19T20:14:06.436428",
     "status": "completed"
    },
    "tags": []
   },
   "outputs": [
    {
     "data": {
      "text/html": [
       "<div>\n",
       "<style scoped>\n",
       "    .dataframe tbody tr th:only-of-type {\n",
       "        vertical-align: middle;\n",
       "    }\n",
       "\n",
       "    .dataframe tbody tr th {\n",
       "        vertical-align: top;\n",
       "    }\n",
       "\n",
       "    .dataframe thead th {\n",
       "        text-align: right;\n",
       "    }\n",
       "</style>\n",
       "<table border=\"1\" class=\"dataframe\">\n",
       "  <thead>\n",
       "    <tr style=\"text-align: right;\">\n",
       "      <th></th>\n",
       "      <th>carat</th>\n",
       "      <th>cut</th>\n",
       "      <th>color</th>\n",
       "      <th>clarity</th>\n",
       "      <th>depth</th>\n",
       "      <th>table</th>\n",
       "      <th>price</th>\n",
       "      <th>x</th>\n",
       "      <th>y</th>\n",
       "      <th>z</th>\n",
       "    </tr>\n",
       "  </thead>\n",
       "  <tbody>\n",
       "    <tr>\n",
       "      <th>1097</th>\n",
       "      <td>1.00</td>\n",
       "      <td>Fair</td>\n",
       "      <td>I</td>\n",
       "      <td>SI1</td>\n",
       "      <td>66.0</td>\n",
       "      <td>56.0</td>\n",
       "      <td>2912</td>\n",
       "      <td>6.31</td>\n",
       "      <td>6.24</td>\n",
       "      <td>4.13</td>\n",
       "    </tr>\n",
       "    <tr>\n",
       "      <th>23253</th>\n",
       "      <td>1.78</td>\n",
       "      <td>Premium</td>\n",
       "      <td>H</td>\n",
       "      <td>SI2</td>\n",
       "      <td>59.1</td>\n",
       "      <td>60.0</td>\n",
       "      <td>11262</td>\n",
       "      <td>7.93</td>\n",
       "      <td>7.87</td>\n",
       "      <td>4.67</td>\n",
       "    </tr>\n",
       "    <tr>\n",
       "      <th>35981</th>\n",
       "      <td>0.42</td>\n",
       "      <td>Premium</td>\n",
       "      <td>G</td>\n",
       "      <td>VS1</td>\n",
       "      <td>60.9</td>\n",
       "      <td>58.0</td>\n",
       "      <td>921</td>\n",
       "      <td>4.81</td>\n",
       "      <td>4.84</td>\n",
       "      <td>2.94</td>\n",
       "    </tr>\n",
       "    <tr>\n",
       "      <th>13849</th>\n",
       "      <td>1.20</td>\n",
       "      <td>Very Good</td>\n",
       "      <td>E</td>\n",
       "      <td>SI2</td>\n",
       "      <td>63.3</td>\n",
       "      <td>55.0</td>\n",
       "      <td>5645</td>\n",
       "      <td>6.77</td>\n",
       "      <td>6.73</td>\n",
       "      <td>4.27</td>\n",
       "    </tr>\n",
       "    <tr>\n",
       "      <th>40400</th>\n",
       "      <td>0.34</td>\n",
       "      <td>Ideal</td>\n",
       "      <td>D</td>\n",
       "      <td>VVS1</td>\n",
       "      <td>61.5</td>\n",
       "      <td>56.0</td>\n",
       "      <td>1133</td>\n",
       "      <td>4.47</td>\n",
       "      <td>4.50</td>\n",
       "      <td>2.76</td>\n",
       "    </tr>\n",
       "    <tr>\n",
       "      <th>8840</th>\n",
       "      <td>1.01</td>\n",
       "      <td>Ideal</td>\n",
       "      <td>E</td>\n",
       "      <td>SI2</td>\n",
       "      <td>60.9</td>\n",
       "      <td>57.0</td>\n",
       "      <td>4479</td>\n",
       "      <td>6.47</td>\n",
       "      <td>6.51</td>\n",
       "      <td>3.95</td>\n",
       "    </tr>\n",
       "    <tr>\n",
       "      <th>41763</th>\n",
       "      <td>0.38</td>\n",
       "      <td>Ideal</td>\n",
       "      <td>E</td>\n",
       "      <td>VVS1</td>\n",
       "      <td>62.4</td>\n",
       "      <td>53.2</td>\n",
       "      <td>1245</td>\n",
       "      <td>4.62</td>\n",
       "      <td>4.66</td>\n",
       "      <td>2.90</td>\n",
       "    </tr>\n",
       "    <tr>\n",
       "      <th>32400</th>\n",
       "      <td>0.37</td>\n",
       "      <td>Premium</td>\n",
       "      <td>F</td>\n",
       "      <td>SI1</td>\n",
       "      <td>62.4</td>\n",
       "      <td>59.0</td>\n",
       "      <td>791</td>\n",
       "      <td>4.60</td>\n",
       "      <td>4.56</td>\n",
       "      <td>2.86</td>\n",
       "    </tr>\n",
       "    <tr>\n",
       "      <th>19642</th>\n",
       "      <td>1.24</td>\n",
       "      <td>Ideal</td>\n",
       "      <td>H</td>\n",
       "      <td>VS2</td>\n",
       "      <td>60.8</td>\n",
       "      <td>56.0</td>\n",
       "      <td>8257</td>\n",
       "      <td>6.92</td>\n",
       "      <td>6.96</td>\n",
       "      <td>4.22</td>\n",
       "    </tr>\n",
       "    <tr>\n",
       "      <th>24338</th>\n",
       "      <td>1.50</td>\n",
       "      <td>Fair</td>\n",
       "      <td>D</td>\n",
       "      <td>VS2</td>\n",
       "      <td>65.4</td>\n",
       "      <td>53.0</td>\n",
       "      <td>12606</td>\n",
       "      <td>7.12</td>\n",
       "      <td>7.10</td>\n",
       "      <td>4.65</td>\n",
       "    </tr>\n",
       "  </tbody>\n",
       "</table>\n",
       "</div>"
      ],
      "text/plain": [
       "       carat        cut color clarity  depth  table  price     x     y     z\n",
       "1097    1.00       Fair     I     SI1   66.0   56.0   2912  6.31  6.24  4.13\n",
       "23253   1.78    Premium     H     SI2   59.1   60.0  11262  7.93  7.87  4.67\n",
       "35981   0.42    Premium     G     VS1   60.9   58.0    921  4.81  4.84  2.94\n",
       "13849   1.20  Very Good     E     SI2   63.3   55.0   5645  6.77  6.73  4.27\n",
       "40400   0.34      Ideal     D    VVS1   61.5   56.0   1133  4.47  4.50  2.76\n",
       "8840    1.01      Ideal     E     SI2   60.9   57.0   4479  6.47  6.51  3.95\n",
       "41763   0.38      Ideal     E    VVS1   62.4   53.2   1245  4.62  4.66  2.90\n",
       "32400   0.37    Premium     F     SI1   62.4   59.0    791  4.60  4.56  2.86\n",
       "19642   1.24      Ideal     H     VS2   60.8   56.0   8257  6.92  6.96  4.22\n",
       "24338   1.50       Fair     D     VS2   65.4   53.0  12606  7.12  7.10  4.65"
      ]
     },
     "execution_count": 2,
     "metadata": {},
     "output_type": "execute_result"
    }
   ],
   "source": [
    "dataset = pandas.read_csv('/notebooks/notebooks/diamonds.csv', usecols=['carat','cut','color','clarity','depth','table','price','x','y','z'])\n",
    "dataset.sample(10)"
   ]
  },
  {
   "cell_type": "code",
   "execution_count": 3,
   "id": "closed-powell",
   "metadata": {
    "papermill": {
     "duration": 0.0912,
     "end_time": "2021-04-19T20:14:06.837723",
     "exception": false,
     "start_time": "2021-04-19T20:14:06.746523",
     "status": "completed"
    },
    "tags": []
   },
   "outputs": [
    {
     "data": {
      "text/plain": [
       "carat      0\n",
       "cut        0\n",
       "color      0\n",
       "clarity    0\n",
       "depth      0\n",
       "table      0\n",
       "price      0\n",
       "x          0\n",
       "y          0\n",
       "z          0\n",
       "dtype: int64"
      ]
     },
     "execution_count": 3,
     "metadata": {},
     "output_type": "execute_result"
    }
   ],
   "source": [
    "dataset.isnull().sum()"
   ]
  },
  {
   "cell_type": "code",
   "execution_count": 4,
   "id": "mediterranean-patch",
   "metadata": {
    "papermill": {
     "duration": 0.118673,
     "end_time": "2021-04-19T20:14:07.695106",
     "exception": false,
     "start_time": "2021-04-19T20:14:07.576433",
     "status": "completed"
    },
    "tags": []
   },
   "outputs": [
    {
     "data": {
      "text/html": [
       "<div>\n",
       "<style scoped>\n",
       "    .dataframe tbody tr th:only-of-type {\n",
       "        vertical-align: middle;\n",
       "    }\n",
       "\n",
       "    .dataframe tbody tr th {\n",
       "        vertical-align: top;\n",
       "    }\n",
       "\n",
       "    .dataframe thead th {\n",
       "        text-align: right;\n",
       "    }\n",
       "</style>\n",
       "<table border=\"1\" class=\"dataframe\">\n",
       "  <thead>\n",
       "    <tr style=\"text-align: right;\">\n",
       "      <th></th>\n",
       "      <th>carat</th>\n",
       "      <th>depth</th>\n",
       "      <th>table</th>\n",
       "      <th>price</th>\n",
       "      <th>x</th>\n",
       "      <th>y</th>\n",
       "      <th>z</th>\n",
       "    </tr>\n",
       "  </thead>\n",
       "  <tbody>\n",
       "    <tr>\n",
       "      <th>count</th>\n",
       "      <td>53940.000000</td>\n",
       "      <td>53940.000000</td>\n",
       "      <td>53940.000000</td>\n",
       "      <td>53940.000000</td>\n",
       "      <td>53940.000000</td>\n",
       "      <td>53940.000000</td>\n",
       "      <td>53940.000000</td>\n",
       "    </tr>\n",
       "    <tr>\n",
       "      <th>mean</th>\n",
       "      <td>0.797940</td>\n",
       "      <td>61.749405</td>\n",
       "      <td>57.457184</td>\n",
       "      <td>3932.799722</td>\n",
       "      <td>5.731157</td>\n",
       "      <td>5.734526</td>\n",
       "      <td>3.538734</td>\n",
       "    </tr>\n",
       "    <tr>\n",
       "      <th>std</th>\n",
       "      <td>0.474011</td>\n",
       "      <td>1.432621</td>\n",
       "      <td>2.234491</td>\n",
       "      <td>3989.439738</td>\n",
       "      <td>1.121761</td>\n",
       "      <td>1.142135</td>\n",
       "      <td>0.705699</td>\n",
       "    </tr>\n",
       "    <tr>\n",
       "      <th>min</th>\n",
       "      <td>0.200000</td>\n",
       "      <td>43.000000</td>\n",
       "      <td>43.000000</td>\n",
       "      <td>326.000000</td>\n",
       "      <td>0.000000</td>\n",
       "      <td>0.000000</td>\n",
       "      <td>0.000000</td>\n",
       "    </tr>\n",
       "    <tr>\n",
       "      <th>25%</th>\n",
       "      <td>0.400000</td>\n",
       "      <td>61.000000</td>\n",
       "      <td>56.000000</td>\n",
       "      <td>950.000000</td>\n",
       "      <td>4.710000</td>\n",
       "      <td>4.720000</td>\n",
       "      <td>2.910000</td>\n",
       "    </tr>\n",
       "    <tr>\n",
       "      <th>50%</th>\n",
       "      <td>0.700000</td>\n",
       "      <td>61.800000</td>\n",
       "      <td>57.000000</td>\n",
       "      <td>2401.000000</td>\n",
       "      <td>5.700000</td>\n",
       "      <td>5.710000</td>\n",
       "      <td>3.530000</td>\n",
       "    </tr>\n",
       "    <tr>\n",
       "      <th>75%</th>\n",
       "      <td>1.040000</td>\n",
       "      <td>62.500000</td>\n",
       "      <td>59.000000</td>\n",
       "      <td>5324.250000</td>\n",
       "      <td>6.540000</td>\n",
       "      <td>6.540000</td>\n",
       "      <td>4.040000</td>\n",
       "    </tr>\n",
       "    <tr>\n",
       "      <th>max</th>\n",
       "      <td>5.010000</td>\n",
       "      <td>79.000000</td>\n",
       "      <td>95.000000</td>\n",
       "      <td>18823.000000</td>\n",
       "      <td>10.740000</td>\n",
       "      <td>58.900000</td>\n",
       "      <td>31.800000</td>\n",
       "    </tr>\n",
       "  </tbody>\n",
       "</table>\n",
       "</div>"
      ],
      "text/plain": [
       "              carat         depth         table         price             x  \\\n",
       "count  53940.000000  53940.000000  53940.000000  53940.000000  53940.000000   \n",
       "mean       0.797940     61.749405     57.457184   3932.799722      5.731157   \n",
       "std        0.474011      1.432621      2.234491   3989.439738      1.121761   \n",
       "min        0.200000     43.000000     43.000000    326.000000      0.000000   \n",
       "25%        0.400000     61.000000     56.000000    950.000000      4.710000   \n",
       "50%        0.700000     61.800000     57.000000   2401.000000      5.700000   \n",
       "75%        1.040000     62.500000     59.000000   5324.250000      6.540000   \n",
       "max        5.010000     79.000000     95.000000  18823.000000     10.740000   \n",
       "\n",
       "                  y             z  \n",
       "count  53940.000000  53940.000000  \n",
       "mean       5.734526      3.538734  \n",
       "std        1.142135      0.705699  \n",
       "min        0.000000      0.000000  \n",
       "25%        4.720000      2.910000  \n",
       "50%        5.710000      3.530000  \n",
       "75%        6.540000      4.040000  \n",
       "max       58.900000     31.800000  "
      ]
     },
     "execution_count": 4,
     "metadata": {},
     "output_type": "execute_result"
    }
   ],
   "source": [
    "dataset.describe()"
   ]
  },
  {
   "cell_type": "markdown",
   "id": "played-pattern",
   "metadata": {
    "papermill": {
     "duration": 0.085413,
     "end_time": "2021-04-19T20:14:16.526171",
     "exception": false,
     "start_time": "2021-04-19T20:14:16.440758",
     "status": "completed"
    },
    "tags": []
   },
   "source": [
    "<a id = \"7\"></a>\n",
    "# Basic Data Analysis"
   ]
  },
  {
   "cell_type": "code",
   "execution_count": 5,
   "id": "perfect-survey",
   "metadata": {
    "papermill": {
     "duration": 0.118679,
     "end_time": "2021-04-19T20:14:16.914877",
     "exception": false,
     "start_time": "2021-04-19T20:14:16.796198",
     "status": "completed"
    },
    "tags": []
   },
   "outputs": [
    {
     "data": {
      "text/html": [
       "<div>\n",
       "<style scoped>\n",
       "    .dataframe tbody tr th:only-of-type {\n",
       "        vertical-align: middle;\n",
       "    }\n",
       "\n",
       "    .dataframe tbody tr th {\n",
       "        vertical-align: top;\n",
       "    }\n",
       "\n",
       "    .dataframe thead th {\n",
       "        text-align: right;\n",
       "    }\n",
       "</style>\n",
       "<table border=\"1\" class=\"dataframe\">\n",
       "  <thead>\n",
       "    <tr style=\"text-align: right;\">\n",
       "      <th></th>\n",
       "      <th>cut</th>\n",
       "      <th>price</th>\n",
       "    </tr>\n",
       "  </thead>\n",
       "  <tbody>\n",
       "    <tr>\n",
       "      <th>3</th>\n",
       "      <td>Premium</td>\n",
       "      <td>4584.257704</td>\n",
       "    </tr>\n",
       "    <tr>\n",
       "      <th>0</th>\n",
       "      <td>Fair</td>\n",
       "      <td>4358.757764</td>\n",
       "    </tr>\n",
       "    <tr>\n",
       "      <th>4</th>\n",
       "      <td>Very Good</td>\n",
       "      <td>3981.759891</td>\n",
       "    </tr>\n",
       "    <tr>\n",
       "      <th>1</th>\n",
       "      <td>Good</td>\n",
       "      <td>3928.864452</td>\n",
       "    </tr>\n",
       "    <tr>\n",
       "      <th>2</th>\n",
       "      <td>Ideal</td>\n",
       "      <td>3457.541970</td>\n",
       "    </tr>\n",
       "  </tbody>\n",
       "</table>\n",
       "</div>"
      ],
      "text/plain": [
       "         cut        price\n",
       "3    Premium  4584.257704\n",
       "0       Fair  4358.757764\n",
       "4  Very Good  3981.759891\n",
       "1       Good  3928.864452\n",
       "2      Ideal  3457.541970"
      ]
     },
     "execution_count": 5,
     "metadata": {},
     "output_type": "execute_result"
    }
   ],
   "source": [
    "dataset[[\"cut\",\"price\"]].groupby([\"cut\"], as_index = False).mean().sort_values(by=\"price\",ascending = False)"
   ]
  },
  {
   "cell_type": "code",
   "execution_count": 6,
   "id": "personalized-poker",
   "metadata": {
    "papermill": {
     "duration": 0.100955,
     "end_time": "2021-04-19T20:14:17.098693",
     "exception": false,
     "start_time": "2021-04-19T20:14:16.997738",
     "status": "completed"
    },
    "tags": []
   },
   "outputs": [],
   "source": [
    "mean_price_by_cut = dataset[[\"cut\",\"price\"]].groupby([\"cut\"], as_index = False).mean().sort_values(by=\"price\",ascending = False)"
   ]
  },
  {
   "cell_type": "markdown",
   "id": "roman-twins",
   "metadata": {
    "papermill": {
     "duration": 0.082762,
     "end_time": "2021-04-19T20:14:18.087639",
     "exception": false,
     "start_time": "2021-04-19T20:14:18.004877",
     "status": "completed"
    },
    "tags": []
   },
   "source": [
    "<a id = \"9\"></a>\n",
    "## Color - Price"
   ]
  },
  {
   "cell_type": "code",
   "execution_count": 7,
   "id": "cultural-flour",
   "metadata": {
    "papermill": {
     "duration": 0.114919,
     "end_time": "2021-04-19T20:14:18.287256",
     "exception": false,
     "start_time": "2021-04-19T20:14:18.172337",
     "status": "completed"
    },
    "tags": []
   },
   "outputs": [
    {
     "data": {
      "text/html": [
       "<div>\n",
       "<style scoped>\n",
       "    .dataframe tbody tr th:only-of-type {\n",
       "        vertical-align: middle;\n",
       "    }\n",
       "\n",
       "    .dataframe tbody tr th {\n",
       "        vertical-align: top;\n",
       "    }\n",
       "\n",
       "    .dataframe thead th {\n",
       "        text-align: right;\n",
       "    }\n",
       "</style>\n",
       "<table border=\"1\" class=\"dataframe\">\n",
       "  <thead>\n",
       "    <tr style=\"text-align: right;\">\n",
       "      <th></th>\n",
       "      <th>color</th>\n",
       "      <th>price</th>\n",
       "    </tr>\n",
       "  </thead>\n",
       "  <tbody>\n",
       "    <tr>\n",
       "      <th>6</th>\n",
       "      <td>J</td>\n",
       "      <td>5323.818020</td>\n",
       "    </tr>\n",
       "    <tr>\n",
       "      <th>5</th>\n",
       "      <td>I</td>\n",
       "      <td>5091.874954</td>\n",
       "    </tr>\n",
       "    <tr>\n",
       "      <th>4</th>\n",
       "      <td>H</td>\n",
       "      <td>4486.669196</td>\n",
       "    </tr>\n",
       "    <tr>\n",
       "      <th>3</th>\n",
       "      <td>G</td>\n",
       "      <td>3999.135671</td>\n",
       "    </tr>\n",
       "    <tr>\n",
       "      <th>2</th>\n",
       "      <td>F</td>\n",
       "      <td>3724.886397</td>\n",
       "    </tr>\n",
       "    <tr>\n",
       "      <th>0</th>\n",
       "      <td>D</td>\n",
       "      <td>3169.954096</td>\n",
       "    </tr>\n",
       "    <tr>\n",
       "      <th>1</th>\n",
       "      <td>E</td>\n",
       "      <td>3076.752475</td>\n",
       "    </tr>\n",
       "  </tbody>\n",
       "</table>\n",
       "</div>"
      ],
      "text/plain": [
       "  color        price\n",
       "6     J  5323.818020\n",
       "5     I  5091.874954\n",
       "4     H  4486.669196\n",
       "3     G  3999.135671\n",
       "2     F  3724.886397\n",
       "0     D  3169.954096\n",
       "1     E  3076.752475"
      ]
     },
     "execution_count": 7,
     "metadata": {},
     "output_type": "execute_result"
    }
   ],
   "source": [
    "dataset[[\"color\",\"price\"]].groupby([\"color\"], as_index = False).mean().sort_values(by=\"price\",ascending = False)"
   ]
  },
  {
   "cell_type": "code",
   "execution_count": 8,
   "id": "precise-russia",
   "metadata": {
    "papermill": {
     "duration": 0.102403,
     "end_time": "2021-04-19T20:14:18.486475",
     "exception": false,
     "start_time": "2021-04-19T20:14:18.384072",
     "status": "completed"
    },
    "tags": []
   },
   "outputs": [],
   "source": [
    "mean_price_by_color = dataset[[\"color\",\"price\"]].groupby([\"color\"], as_index = False).mean().sort_values(by=\"price\",ascending = False)"
   ]
  },
  {
   "cell_type": "markdown",
   "id": "suited-camera",
   "metadata": {
    "papermill": {
     "duration": 0.084958,
     "end_time": "2021-04-19T20:14:19.532827",
     "exception": false,
     "start_time": "2021-04-19T20:14:19.447869",
     "status": "completed"
    },
    "tags": []
   },
   "source": [
    "<a id = \"10\"></a>\n",
    "## Clarity - Price"
   ]
  },
  {
   "cell_type": "code",
   "execution_count": 9,
   "id": "measured-cylinder",
   "metadata": {
    "papermill": {
     "duration": 0.107837,
     "end_time": "2021-04-19T20:14:19.727591",
     "exception": false,
     "start_time": "2021-04-19T20:14:19.619754",
     "status": "completed"
    },
    "tags": []
   },
   "outputs": [],
   "source": [
    "mean_price_by_clarity = dataset[[\"clarity\",\"price\"]].groupby([\"clarity\"], as_index = False).mean().sort_values(by=\"price\",ascending = False)"
   ]
  },
  {
   "cell_type": "code",
   "execution_count": 10,
   "id": "ruled-likelihood",
   "metadata": {
    "papermill": {
     "duration": 0.1089,
     "end_time": "2021-04-19T20:14:19.921947",
     "exception": false,
     "start_time": "2021-04-19T20:14:19.813047",
     "status": "completed"
    },
    "tags": []
   },
   "outputs": [
    {
     "data": {
      "text/html": [
       "<div>\n",
       "<style scoped>\n",
       "    .dataframe tbody tr th:only-of-type {\n",
       "        vertical-align: middle;\n",
       "    }\n",
       "\n",
       "    .dataframe tbody tr th {\n",
       "        vertical-align: top;\n",
       "    }\n",
       "\n",
       "    .dataframe thead th {\n",
       "        text-align: right;\n",
       "    }\n",
       "</style>\n",
       "<table border=\"1\" class=\"dataframe\">\n",
       "  <thead>\n",
       "    <tr style=\"text-align: right;\">\n",
       "      <th></th>\n",
       "      <th>clarity</th>\n",
       "      <th>price</th>\n",
       "    </tr>\n",
       "  </thead>\n",
       "  <tbody>\n",
       "    <tr>\n",
       "      <th>3</th>\n",
       "      <td>SI2</td>\n",
       "      <td>5063.028606</td>\n",
       "    </tr>\n",
       "    <tr>\n",
       "      <th>2</th>\n",
       "      <td>SI1</td>\n",
       "      <td>3996.001148</td>\n",
       "    </tr>\n",
       "    <tr>\n",
       "      <th>5</th>\n",
       "      <td>VS2</td>\n",
       "      <td>3924.989395</td>\n",
       "    </tr>\n",
       "    <tr>\n",
       "      <th>0</th>\n",
       "      <td>I1</td>\n",
       "      <td>3924.168691</td>\n",
       "    </tr>\n",
       "    <tr>\n",
       "      <th>4</th>\n",
       "      <td>VS1</td>\n",
       "      <td>3839.455391</td>\n",
       "    </tr>\n",
       "    <tr>\n",
       "      <th>7</th>\n",
       "      <td>VVS2</td>\n",
       "      <td>3283.737071</td>\n",
       "    </tr>\n",
       "    <tr>\n",
       "      <th>1</th>\n",
       "      <td>IF</td>\n",
       "      <td>2864.839106</td>\n",
       "    </tr>\n",
       "    <tr>\n",
       "      <th>6</th>\n",
       "      <td>VVS1</td>\n",
       "      <td>2523.114637</td>\n",
       "    </tr>\n",
       "  </tbody>\n",
       "</table>\n",
       "</div>"
      ],
      "text/plain": [
       "  clarity        price\n",
       "3     SI2  5063.028606\n",
       "2     SI1  3996.001148\n",
       "5     VS2  3924.989395\n",
       "0      I1  3924.168691\n",
       "4     VS1  3839.455391\n",
       "7    VVS2  3283.737071\n",
       "1      IF  2864.839106\n",
       "6    VVS1  2523.114637"
      ]
     },
     "execution_count": 10,
     "metadata": {},
     "output_type": "execute_result"
    }
   ],
   "source": [
    "dataset[[\"clarity\",\"price\"]].groupby([\"clarity\"], as_index = False).mean().sort_values(by=\"price\",ascending = False)"
   ]
  },
  {
   "cell_type": "markdown",
   "id": "infectious-differential",
   "metadata": {
    "papermill": {
     "duration": 0.088647,
     "end_time": "2021-04-19T20:14:20.844697",
     "exception": false,
     "start_time": "2021-04-19T20:14:20.756050",
     "status": "completed"
    },
    "tags": []
   },
   "source": [
    "**There are 8 different 'Clarity' values. Uneven distribution is not observed.**"
   ]
  },
  {
   "cell_type": "markdown",
   "id": "altered-trinidad",
   "metadata": {
    "papermill": {
     "duration": 0.090001,
     "end_time": "2021-04-19T20:14:21.024112",
     "exception": false,
     "start_time": "2021-04-19T20:14:20.934111",
     "status": "completed"
    },
    "tags": []
   },
   "source": [
    "<a id = \"11\"></a>\n",
    "## Carat - Price"
   ]
  },
  {
   "cell_type": "code",
   "execution_count": 11,
   "id": "sustainable-narrative",
   "metadata": {
    "papermill": {
     "duration": 0.115198,
     "end_time": "2021-04-19T20:14:21.229188",
     "exception": false,
     "start_time": "2021-04-19T20:14:21.113990",
     "status": "completed"
    },
    "tags": []
   },
   "outputs": [
    {
     "data": {
      "text/html": [
       "<div>\n",
       "<style scoped>\n",
       "    .dataframe tbody tr th:only-of-type {\n",
       "        vertical-align: middle;\n",
       "    }\n",
       "\n",
       "    .dataframe tbody tr th {\n",
       "        vertical-align: top;\n",
       "    }\n",
       "\n",
       "    .dataframe thead th {\n",
       "        text-align: right;\n",
       "    }\n",
       "</style>\n",
       "<table border=\"1\" class=\"dataframe\">\n",
       "  <thead>\n",
       "    <tr style=\"text-align: right;\">\n",
       "      <th></th>\n",
       "      <th>carat</th>\n",
       "      <th>price</th>\n",
       "    </tr>\n",
       "  </thead>\n",
       "  <tbody>\n",
       "    <tr>\n",
       "      <th>265</th>\n",
       "      <td>3.51</td>\n",
       "      <td>18701.000000</td>\n",
       "    </tr>\n",
       "    <tr>\n",
       "      <th>246</th>\n",
       "      <td>2.67</td>\n",
       "      <td>18686.000000</td>\n",
       "    </tr>\n",
       "    <tr>\n",
       "      <th>271</th>\n",
       "      <td>4.50</td>\n",
       "      <td>18531.000000</td>\n",
       "    </tr>\n",
       "    <tr>\n",
       "      <th>272</th>\n",
       "      <td>5.01</td>\n",
       "      <td>18018.000000</td>\n",
       "    </tr>\n",
       "    <tr>\n",
       "      <th>237</th>\n",
       "      <td>2.57</td>\n",
       "      <td>17841.666667</td>\n",
       "    </tr>\n",
       "    <tr>\n",
       "      <th>...</th>\n",
       "      <td>...</td>\n",
       "      <td>...</td>\n",
       "    </tr>\n",
       "    <tr>\n",
       "      <th>4</th>\n",
       "      <td>0.24</td>\n",
       "      <td>505.185039</td>\n",
       "    </tr>\n",
       "    <tr>\n",
       "      <th>3</th>\n",
       "      <td>0.23</td>\n",
       "      <td>486.143345</td>\n",
       "    </tr>\n",
       "    <tr>\n",
       "      <th>2</th>\n",
       "      <td>0.22</td>\n",
       "      <td>391.400000</td>\n",
       "    </tr>\n",
       "    <tr>\n",
       "      <th>1</th>\n",
       "      <td>0.21</td>\n",
       "      <td>380.222222</td>\n",
       "    </tr>\n",
       "    <tr>\n",
       "      <th>0</th>\n",
       "      <td>0.20</td>\n",
       "      <td>365.166667</td>\n",
       "    </tr>\n",
       "  </tbody>\n",
       "</table>\n",
       "<p>273 rows × 2 columns</p>\n",
       "</div>"
      ],
      "text/plain": [
       "     carat         price\n",
       "265   3.51  18701.000000\n",
       "246   2.67  18686.000000\n",
       "271   4.50  18531.000000\n",
       "272   5.01  18018.000000\n",
       "237   2.57  17841.666667\n",
       "..     ...           ...\n",
       "4     0.24    505.185039\n",
       "3     0.23    486.143345\n",
       "2     0.22    391.400000\n",
       "1     0.21    380.222222\n",
       "0     0.20    365.166667\n",
       "\n",
       "[273 rows x 2 columns]"
      ]
     },
     "execution_count": 11,
     "metadata": {},
     "output_type": "execute_result"
    }
   ],
   "source": [
    "dataset[[\"carat\",\"price\"]].groupby([\"carat\"], as_index = False).mean().sort_values(by=\"price\",ascending = False)"
   ]
  },
  {
   "cell_type": "markdown",
   "id": "interested-teddy",
   "metadata": {
    "papermill": {
     "duration": 0.093834,
     "end_time": "2021-04-19T20:14:23.772084",
     "exception": false,
     "start_time": "2021-04-19T20:14:23.678250",
     "status": "completed"
    },
    "tags": []
   },
   "source": [
    "<a id = \"12\"></a>\n",
    "## Depth - Price"
   ]
  },
  {
   "cell_type": "code",
   "execution_count": 12,
   "id": "coastal-genetics",
   "metadata": {
    "papermill": {
     "duration": 0.1195,
     "end_time": "2021-04-19T20:14:23.987342",
     "exception": false,
     "start_time": "2021-04-19T20:14:23.867842",
     "status": "completed"
    },
    "tags": []
   },
   "outputs": [
    {
     "data": {
      "text/html": [
       "<div>\n",
       "<style scoped>\n",
       "    .dataframe tbody tr th:only-of-type {\n",
       "        vertical-align: middle;\n",
       "    }\n",
       "\n",
       "    .dataframe tbody tr th {\n",
       "        vertical-align: top;\n",
       "    }\n",
       "\n",
       "    .dataframe thead th {\n",
       "        text-align: right;\n",
       "    }\n",
       "</style>\n",
       "<table border=\"1\" class=\"dataframe\">\n",
       "  <thead>\n",
       "    <tr style=\"text-align: right;\">\n",
       "      <th></th>\n",
       "      <th>depth</th>\n",
       "      <th>price</th>\n",
       "    </tr>\n",
       "  </thead>\n",
       "  <tbody>\n",
       "    <tr>\n",
       "      <th>159</th>\n",
       "      <td>69.1</td>\n",
       "      <td>8736.000000</td>\n",
       "    </tr>\n",
       "    <tr>\n",
       "      <th>172</th>\n",
       "      <td>70.6</td>\n",
       "      <td>8266.666667</td>\n",
       "    </tr>\n",
       "    <tr>\n",
       "      <th>170</th>\n",
       "      <td>70.2</td>\n",
       "      <td>7997.333333</td>\n",
       "    </tr>\n",
       "    <tr>\n",
       "      <th>143</th>\n",
       "      <td>67.5</td>\n",
       "      <td>7276.200000</td>\n",
       "    </tr>\n",
       "    <tr>\n",
       "      <th>171</th>\n",
       "      <td>70.5</td>\n",
       "      <td>6860.000000</td>\n",
       "    </tr>\n",
       "    <tr>\n",
       "      <th>...</th>\n",
       "      <td>...</td>\n",
       "      <td>...</td>\n",
       "    </tr>\n",
       "    <tr>\n",
       "      <th>13</th>\n",
       "      <td>54.0</td>\n",
       "      <td>1012.000000</td>\n",
       "    </tr>\n",
       "    <tr>\n",
       "      <th>17</th>\n",
       "      <td>54.6</td>\n",
       "      <td>1011.000000</td>\n",
       "    </tr>\n",
       "    <tr>\n",
       "      <th>3</th>\n",
       "      <td>51.0</td>\n",
       "      <td>945.000000</td>\n",
       "    </tr>\n",
       "    <tr>\n",
       "      <th>14</th>\n",
       "      <td>54.2</td>\n",
       "      <td>905.500000</td>\n",
       "    </tr>\n",
       "    <tr>\n",
       "      <th>174</th>\n",
       "      <td>71.0</td>\n",
       "      <td>613.000000</td>\n",
       "    </tr>\n",
       "  </tbody>\n",
       "</table>\n",
       "<p>184 rows × 2 columns</p>\n",
       "</div>"
      ],
      "text/plain": [
       "     depth        price\n",
       "159   69.1  8736.000000\n",
       "172   70.6  8266.666667\n",
       "170   70.2  7997.333333\n",
       "143   67.5  7276.200000\n",
       "171   70.5  6860.000000\n",
       "..     ...          ...\n",
       "13    54.0  1012.000000\n",
       "17    54.6  1011.000000\n",
       "3     51.0   945.000000\n",
       "14    54.2   905.500000\n",
       "174   71.0   613.000000\n",
       "\n",
       "[184 rows x 2 columns]"
      ]
     },
     "execution_count": 12,
     "metadata": {},
     "output_type": "execute_result"
    }
   ],
   "source": [
    "dataset[[\"depth\",\"price\"]].groupby([\"depth\"], as_index = False).mean().sort_values(by=\"price\",ascending = False)"
   ]
  },
  {
   "cell_type": "markdown",
   "id": "worse-stephen",
   "metadata": {
    "papermill": {
     "duration": 0.098153,
     "end_time": "2021-04-19T20:14:26.388173",
     "exception": false,
     "start_time": "2021-04-19T20:14:26.290020",
     "status": "completed"
    },
    "tags": []
   },
   "source": [
    "<a id = \"13\"></a>\n",
    "## Table - Price"
   ]
  },
  {
   "cell_type": "code",
   "execution_count": 13,
   "id": "directed-partition",
   "metadata": {
    "papermill": {
     "duration": 0.123867,
     "end_time": "2021-04-19T20:14:26.610169",
     "exception": false,
     "start_time": "2021-04-19T20:14:26.486302",
     "status": "completed"
    },
    "tags": []
   },
   "outputs": [
    {
     "data": {
      "text/html": [
       "<div>\n",
       "<style scoped>\n",
       "    .dataframe tbody tr th:only-of-type {\n",
       "        vertical-align: middle;\n",
       "    }\n",
       "\n",
       "    .dataframe tbody tr th {\n",
       "        vertical-align: top;\n",
       "    }\n",
       "\n",
       "    .dataframe thead th {\n",
       "        text-align: right;\n",
       "    }\n",
       "</style>\n",
       "<table border=\"1\" class=\"dataframe\">\n",
       "  <thead>\n",
       "    <tr style=\"text-align: right;\">\n",
       "      <th></th>\n",
       "      <th>table</th>\n",
       "      <th>price</th>\n",
       "    </tr>\n",
       "  </thead>\n",
       "  <tbody>\n",
       "    <tr>\n",
       "      <th>126</th>\n",
       "      <td>95.0</td>\n",
       "      <td>13387.000000</td>\n",
       "    </tr>\n",
       "    <tr>\n",
       "      <th>6</th>\n",
       "      <td>51.6</td>\n",
       "      <td>13203.000000</td>\n",
       "    </tr>\n",
       "    <tr>\n",
       "      <th>3</th>\n",
       "      <td>50.0</td>\n",
       "      <td>8995.500000</td>\n",
       "    </tr>\n",
       "    <tr>\n",
       "      <th>65</th>\n",
       "      <td>58.5</td>\n",
       "      <td>6499.700000</td>\n",
       "    </tr>\n",
       "    <tr>\n",
       "      <th>120</th>\n",
       "      <td>69.0</td>\n",
       "      <td>6272.222222</td>\n",
       "    </tr>\n",
       "    <tr>\n",
       "      <th>...</th>\n",
       "      <td>...</td>\n",
       "      <td>...</td>\n",
       "    </tr>\n",
       "    <tr>\n",
       "      <th>98</th>\n",
       "      <td>61.8</td>\n",
       "      <td>1262.000000</td>\n",
       "    </tr>\n",
       "    <tr>\n",
       "      <th>11</th>\n",
       "      <td>53.1</td>\n",
       "      <td>1146.666667</td>\n",
       "    </tr>\n",
       "    <tr>\n",
       "      <th>93</th>\n",
       "      <td>61.3</td>\n",
       "      <td>929.000000</td>\n",
       "    </tr>\n",
       "    <tr>\n",
       "      <th>9</th>\n",
       "      <td>52.8</td>\n",
       "      <td>652.500000</td>\n",
       "    </tr>\n",
       "    <tr>\n",
       "      <th>1</th>\n",
       "      <td>44.0</td>\n",
       "      <td>474.000000</td>\n",
       "    </tr>\n",
       "  </tbody>\n",
       "</table>\n",
       "<p>127 rows × 2 columns</p>\n",
       "</div>"
      ],
      "text/plain": [
       "     table         price\n",
       "126   95.0  13387.000000\n",
       "6     51.6  13203.000000\n",
       "3     50.0   8995.500000\n",
       "65    58.5   6499.700000\n",
       "120   69.0   6272.222222\n",
       "..     ...           ...\n",
       "98    61.8   1262.000000\n",
       "11    53.1   1146.666667\n",
       "93    61.3    929.000000\n",
       "9     52.8    652.500000\n",
       "1     44.0    474.000000\n",
       "\n",
       "[127 rows x 2 columns]"
      ]
     },
     "execution_count": 13,
     "metadata": {},
     "output_type": "execute_result"
    }
   ],
   "source": [
    "dataset[[\"table\",\"price\"]].groupby([\"table\"], as_index = False).mean().sort_values(by=\"price\",ascending = False)"
   ]
  },
  {
   "cell_type": "markdown",
   "id": "pointed-attraction",
   "metadata": {
    "papermill": {
     "duration": 0.252564,
     "end_time": "2021-04-19T20:15:07.380673",
     "exception": false,
     "start_time": "2021-04-19T20:15:07.128109",
     "status": "completed"
    },
    "tags": []
   },
   "source": [
    "<a id = \"19\"></a>\n",
    "# Anomaly Detection"
   ]
  },
  {
   "cell_type": "code",
   "execution_count": 14,
   "id": "metallic-advisory",
   "metadata": {
    "papermill": {
     "duration": 0.260638,
     "end_time": "2021-04-19T20:15:08.439517",
     "exception": false,
     "start_time": "2021-04-19T20:15:08.178879",
     "status": "completed"
    },
    "tags": []
   },
   "outputs": [],
   "source": [
    "#This code is retrieved from here: https://www.kaggle.com/kanncaa1/dataiteam-titanic-eda#Introduction\n",
    "\n",
    "def detect_outliers(df,features):\n",
    "    outlier_indices = []\n",
    "    \n",
    "    for c in features:\n",
    "        # 1st quartile\n",
    "        Q1 = np.percentile(df[c],25)\n",
    "        # 3rd quartile\n",
    "        Q3 = np.percentile(df[c],75)\n",
    "        # IQR\n",
    "        IQR = Q3 - Q1\n",
    "        # Outlier step\n",
    "        outlier_step = IQR * 1.5\n",
    "        # detect outlier and their indeces\n",
    "        outlier_list_col = df[(df[c] < Q1 - outlier_step) | (df[c] > Q3 + outlier_step)].index\n",
    "        # store indeces\n",
    "        outlier_indices.extend(outlier_list_col)\n",
    "    \n",
    "    outlier_indices = Counter(outlier_indices)\n",
    "    multiple_outliers = list(i for i, v in outlier_indices.items() if v > 2)\n",
    "    \n",
    "    return multiple_outliers"
   ]
  },
  {
   "cell_type": "code",
   "execution_count": 15,
   "id": "found-version",
   "metadata": {
    "papermill": {
     "duration": 0.302044,
     "end_time": "2021-04-19T20:15:08.992918",
     "exception": false,
     "start_time": "2021-04-19T20:15:08.690874",
     "status": "completed"
    },
    "tags": []
   },
   "outputs": [
    {
     "data": {
      "text/html": [
       "<div>\n",
       "<style scoped>\n",
       "    .dataframe tbody tr th:only-of-type {\n",
       "        vertical-align: middle;\n",
       "    }\n",
       "\n",
       "    .dataframe tbody tr th {\n",
       "        vertical-align: top;\n",
       "    }\n",
       "\n",
       "    .dataframe thead th {\n",
       "        text-align: right;\n",
       "    }\n",
       "</style>\n",
       "<table border=\"1\" class=\"dataframe\">\n",
       "  <thead>\n",
       "    <tr style=\"text-align: right;\">\n",
       "      <th></th>\n",
       "      <th>carat</th>\n",
       "      <th>cut</th>\n",
       "      <th>color</th>\n",
       "      <th>clarity</th>\n",
       "      <th>depth</th>\n",
       "      <th>table</th>\n",
       "      <th>price</th>\n",
       "      <th>x</th>\n",
       "      <th>y</th>\n",
       "      <th>z</th>\n",
       "    </tr>\n",
       "  </thead>\n",
       "  <tbody>\n",
       "    <tr>\n",
       "      <th>13992</th>\n",
       "      <td>2.01</td>\n",
       "      <td>Fair</td>\n",
       "      <td>I</td>\n",
       "      <td>I1</td>\n",
       "      <td>55.9</td>\n",
       "      <td>64.0</td>\n",
       "      <td>5696</td>\n",
       "      <td>8.48</td>\n",
       "      <td>8.39</td>\n",
       "      <td>4.71</td>\n",
       "    </tr>\n",
       "    <tr>\n",
       "      <th>17196</th>\n",
       "      <td>2.72</td>\n",
       "      <td>Fair</td>\n",
       "      <td>J</td>\n",
       "      <td>I1</td>\n",
       "      <td>68.2</td>\n",
       "      <td>56.0</td>\n",
       "      <td>6870</td>\n",
       "      <td>8.46</td>\n",
       "      <td>8.43</td>\n",
       "      <td>5.76</td>\n",
       "    </tr>\n",
       "    <tr>\n",
       "      <th>18067</th>\n",
       "      <td>2.01</td>\n",
       "      <td>Fair</td>\n",
       "      <td>F</td>\n",
       "      <td>I1</td>\n",
       "      <td>58.7</td>\n",
       "      <td>66.0</td>\n",
       "      <td>7294</td>\n",
       "      <td>8.30</td>\n",
       "      <td>8.19</td>\n",
       "      <td>4.84</td>\n",
       "    </tr>\n",
       "    <tr>\n",
       "      <th>19346</th>\n",
       "      <td>3.00</td>\n",
       "      <td>Fair</td>\n",
       "      <td>H</td>\n",
       "      <td>I1</td>\n",
       "      <td>67.1</td>\n",
       "      <td>57.0</td>\n",
       "      <td>8044</td>\n",
       "      <td>8.93</td>\n",
       "      <td>8.84</td>\n",
       "      <td>5.97</td>\n",
       "    </tr>\n",
       "    <tr>\n",
       "      <th>21758</th>\n",
       "      <td>3.11</td>\n",
       "      <td>Fair</td>\n",
       "      <td>J</td>\n",
       "      <td>I1</td>\n",
       "      <td>65.9</td>\n",
       "      <td>57.0</td>\n",
       "      <td>9823</td>\n",
       "      <td>9.15</td>\n",
       "      <td>9.02</td>\n",
       "      <td>5.98</td>\n",
       "    </tr>\n",
       "    <tr>\n",
       "      <th>...</th>\n",
       "      <td>...</td>\n",
       "      <td>...</td>\n",
       "      <td>...</td>\n",
       "      <td>...</td>\n",
       "      <td>...</td>\n",
       "      <td>...</td>\n",
       "      <td>...</td>\n",
       "      <td>...</td>\n",
       "      <td>...</td>\n",
       "      <td>...</td>\n",
       "    </tr>\n",
       "    <tr>\n",
       "      <th>24520</th>\n",
       "      <td>1.56</td>\n",
       "      <td>Ideal</td>\n",
       "      <td>G</td>\n",
       "      <td>VS2</td>\n",
       "      <td>62.2</td>\n",
       "      <td>54.0</td>\n",
       "      <td>12800</td>\n",
       "      <td>0.00</td>\n",
       "      <td>0.00</td>\n",
       "      <td>0.00</td>\n",
       "    </tr>\n",
       "    <tr>\n",
       "      <th>26243</th>\n",
       "      <td>1.20</td>\n",
       "      <td>Premium</td>\n",
       "      <td>D</td>\n",
       "      <td>VVS1</td>\n",
       "      <td>62.1</td>\n",
       "      <td>59.0</td>\n",
       "      <td>15686</td>\n",
       "      <td>0.00</td>\n",
       "      <td>0.00</td>\n",
       "      <td>0.00</td>\n",
       "    </tr>\n",
       "    <tr>\n",
       "      <th>49556</th>\n",
       "      <td>0.71</td>\n",
       "      <td>Good</td>\n",
       "      <td>F</td>\n",
       "      <td>SI2</td>\n",
       "      <td>64.1</td>\n",
       "      <td>60.0</td>\n",
       "      <td>2130</td>\n",
       "      <td>0.00</td>\n",
       "      <td>0.00</td>\n",
       "      <td>0.00</td>\n",
       "    </tr>\n",
       "    <tr>\n",
       "      <th>49557</th>\n",
       "      <td>0.71</td>\n",
       "      <td>Good</td>\n",
       "      <td>F</td>\n",
       "      <td>SI2</td>\n",
       "      <td>64.1</td>\n",
       "      <td>60.0</td>\n",
       "      <td>2130</td>\n",
       "      <td>0.00</td>\n",
       "      <td>0.00</td>\n",
       "      <td>0.00</td>\n",
       "    </tr>\n",
       "    <tr>\n",
       "      <th>24067</th>\n",
       "      <td>2.00</td>\n",
       "      <td>Premium</td>\n",
       "      <td>H</td>\n",
       "      <td>SI2</td>\n",
       "      <td>58.9</td>\n",
       "      <td>57.0</td>\n",
       "      <td>12210</td>\n",
       "      <td>8.09</td>\n",
       "      <td>58.90</td>\n",
       "      <td>8.06</td>\n",
       "    </tr>\n",
       "  </tbody>\n",
       "</table>\n",
       "<p>184 rows × 10 columns</p>\n",
       "</div>"
      ],
      "text/plain": [
       "       carat      cut color clarity  depth  table  price     x      y     z\n",
       "13992   2.01     Fair     I      I1   55.9   64.0   5696  8.48   8.39  4.71\n",
       "17196   2.72     Fair     J      I1   68.2   56.0   6870  8.46   8.43  5.76\n",
       "18067   2.01     Fair     F      I1   58.7   66.0   7294  8.30   8.19  4.84\n",
       "19346   3.00     Fair     H      I1   67.1   57.0   8044  8.93   8.84  5.97\n",
       "21758   3.11     Fair     J      I1   65.9   57.0   9823  9.15   9.02  5.98\n",
       "...      ...      ...   ...     ...    ...    ...    ...   ...    ...   ...\n",
       "24520   1.56    Ideal     G     VS2   62.2   54.0  12800  0.00   0.00  0.00\n",
       "26243   1.20  Premium     D    VVS1   62.1   59.0  15686  0.00   0.00  0.00\n",
       "49556   0.71     Good     F     SI2   64.1   60.0   2130  0.00   0.00  0.00\n",
       "49557   0.71     Good     F     SI2   64.1   60.0   2130  0.00   0.00  0.00\n",
       "24067   2.00  Premium     H     SI2   58.9   57.0  12210  8.09  58.90  8.06\n",
       "\n",
       "[184 rows x 10 columns]"
      ]
     },
     "execution_count": 15,
     "metadata": {},
     "output_type": "execute_result"
    }
   ],
   "source": [
    "dataset.loc[detect_outliers(dataset,['carat', 'depth', 'table', 'x', 'y', 'z', 'price'])]"
   ]
  },
  {
   "cell_type": "code",
   "execution_count": 16,
   "id": "abstract-superior",
   "metadata": {
    "papermill": {
     "duration": 0.290402,
     "end_time": "2021-04-19T20:15:09.532623",
     "exception": false,
     "start_time": "2021-04-19T20:15:09.242221",
     "status": "completed"
    },
    "tags": []
   },
   "outputs": [],
   "source": [
    "# drop outliers\n",
    "dataset = dataset.drop(detect_outliers(dataset,['carat', 'depth', 'table', 'x', 'y', 'z', 'price']),axis = 0).reset_index(drop = True)"
   ]
  },
  {
   "cell_type": "code",
   "execution_count": 17,
   "id": "connected-nickname",
   "metadata": {
    "papermill": {
     "duration": 0.283413,
     "end_time": "2021-04-19T20:15:10.066421",
     "exception": false,
     "start_time": "2021-04-19T20:15:09.783008",
     "status": "completed"
    },
    "tags": []
   },
   "outputs": [],
   "source": [
    "dataset = dataset.dropna()"
   ]
  },
  {
   "cell_type": "code",
   "execution_count": 18,
   "id": "regular-living",
   "metadata": {
    "papermill": {
     "duration": 0.273841,
     "end_time": "2021-04-19T20:15:10.590767",
     "exception": false,
     "start_time": "2021-04-19T20:15:10.316926",
     "status": "completed"
    },
    "tags": []
   },
   "outputs": [],
   "source": [
    "dataset = dataset[dataset.x != 0]\n",
    "dataset = dataset[dataset.y != 0]\n",
    "dataset = dataset[dataset.z != 0]"
   ]
  },
  {
   "cell_type": "code",
   "execution_count": 19,
   "id": "annual-potter",
   "metadata": {
    "papermill": {
     "duration": 0.262702,
     "end_time": "2021-04-19T20:15:11.106572",
     "exception": false,
     "start_time": "2021-04-19T20:15:10.843870",
     "status": "completed"
    },
    "tags": []
   },
   "outputs": [
    {
     "data": {
      "text/plain": [
       "0"
      ]
     },
     "execution_count": 19,
     "metadata": {},
     "output_type": "execute_result"
    }
   ],
   "source": [
    "(dataset['x'] == 0).sum().sum()"
   ]
  },
  {
   "cell_type": "code",
   "execution_count": 20,
   "id": "coordinate-coast",
   "metadata": {
    "papermill": {
     "duration": 0.264602,
     "end_time": "2021-04-19T20:15:11.620018",
     "exception": false,
     "start_time": "2021-04-19T20:15:11.355416",
     "status": "completed"
    },
    "tags": []
   },
   "outputs": [
    {
     "data": {
      "text/plain": [
       "0"
      ]
     },
     "execution_count": 20,
     "metadata": {},
     "output_type": "execute_result"
    }
   ],
   "source": [
    "(dataset['y'] == 0).sum().sum()"
   ]
  },
  {
   "cell_type": "code",
   "execution_count": 21,
   "id": "quiet-milan",
   "metadata": {
    "papermill": {
     "duration": 0.262247,
     "end_time": "2021-04-19T20:15:12.129702",
     "exception": false,
     "start_time": "2021-04-19T20:15:11.867455",
     "status": "completed"
    },
    "tags": []
   },
   "outputs": [
    {
     "data": {
      "text/plain": [
       "0"
      ]
     },
     "execution_count": 21,
     "metadata": {},
     "output_type": "execute_result"
    }
   ],
   "source": [
    "(dataset['z'] == 0).sum().sum()"
   ]
  },
  {
   "cell_type": "markdown",
   "id": "equivalent-aquarium",
   "metadata": {
    "papermill": {
     "duration": 0.251376,
     "end_time": "2021-04-19T20:15:12.640847",
     "exception": false,
     "start_time": "2021-04-19T20:15:12.389471",
     "status": "completed"
    },
    "tags": []
   },
   "source": [
    "<a id = \"20\"></a>\n",
    "# Skewness"
   ]
  },
  {
   "cell_type": "code",
   "execution_count": 22,
   "id": "dense-burke",
   "metadata": {
    "papermill": {
     "duration": 0.290232,
     "end_time": "2021-04-19T20:15:15.712399",
     "exception": false,
     "start_time": "2021-04-19T20:15:15.422167",
     "status": "completed"
    },
    "tags": []
   },
   "outputs": [
    {
     "data": {
      "text/html": [
       "<div>\n",
       "<style scoped>\n",
       "    .dataframe tbody tr th:only-of-type {\n",
       "        vertical-align: middle;\n",
       "    }\n",
       "\n",
       "    .dataframe tbody tr th {\n",
       "        vertical-align: top;\n",
       "    }\n",
       "\n",
       "    .dataframe thead th {\n",
       "        text-align: right;\n",
       "    }\n",
       "</style>\n",
       "<table border=\"1\" class=\"dataframe\">\n",
       "  <thead>\n",
       "    <tr style=\"text-align: right;\">\n",
       "      <th></th>\n",
       "      <th>skew</th>\n",
       "      <th>kurtosis</th>\n",
       "    </tr>\n",
       "  </thead>\n",
       "  <tbody>\n",
       "    <tr>\n",
       "      <th>carat</th>\n",
       "      <td>1.036670</td>\n",
       "      <td>0.723671</td>\n",
       "    </tr>\n",
       "    <tr>\n",
       "      <th>depth</th>\n",
       "      <td>-0.086166</td>\n",
       "      <td>5.877811</td>\n",
       "    </tr>\n",
       "    <tr>\n",
       "      <th>table</th>\n",
       "      <td>0.704607</td>\n",
       "      <td>1.346901</td>\n",
       "    </tr>\n",
       "    <tr>\n",
       "      <th>price</th>\n",
       "      <td>1.625238</td>\n",
       "      <td>2.237933</td>\n",
       "    </tr>\n",
       "    <tr>\n",
       "      <th>x</th>\n",
       "      <td>0.376546</td>\n",
       "      <td>-0.768652</td>\n",
       "    </tr>\n",
       "    <tr>\n",
       "      <th>y</th>\n",
       "      <td>0.608223</td>\n",
       "      <td>4.895099</td>\n",
       "    </tr>\n",
       "    <tr>\n",
       "      <th>z</th>\n",
       "      <td>1.595547</td>\n",
       "      <td>49.509723</td>\n",
       "    </tr>\n",
       "  </tbody>\n",
       "</table>\n",
       "</div>"
      ],
      "text/plain": [
       "           skew   kurtosis\n",
       "carat  1.036670   0.723671\n",
       "depth -0.086166   5.877811\n",
       "table  0.704607   1.346901\n",
       "price  1.625238   2.237933\n",
       "x      0.376546  -0.768652\n",
       "y      0.608223   4.895099\n",
       "z      1.595547  49.509723"
      ]
     },
     "execution_count": 22,
     "metadata": {},
     "output_type": "execute_result"
    }
   ],
   "source": [
    "dataset.agg(['skew', 'kurtosis']).transpose()"
   ]
  },
  {
   "cell_type": "markdown",
   "id": "spectacular-enterprise",
   "metadata": {
    "papermill": {
     "duration": 0.259146,
     "end_time": "2021-04-19T20:15:31.313776",
     "exception": false,
     "start_time": "2021-04-19T20:15:31.054630",
     "status": "completed"
    },
    "tags": []
   },
   "source": [
    "<a id = \"26\"></a>\n",
    "# One-Hot Encoding"
   ]
  },
  {
   "cell_type": "code",
   "execution_count": 23,
   "id": "lightweight-combination",
   "metadata": {
    "papermill": {
     "duration": 0.283039,
     "end_time": "2021-04-19T20:15:32.374426",
     "exception": false,
     "start_time": "2021-04-19T20:15:32.091387",
     "status": "completed"
    },
    "tags": []
   },
   "outputs": [
    {
     "name": "stdout",
     "output_type": "stream",
     "text": [
      "Unique Values for cut ['Ideal' 'Premium' 'Good' 'Very Good' 'Fair']\n",
      "Unique Values for color ['E' 'I' 'J' 'H' 'F' 'G' 'D']\n",
      "Unique Values for clarity ['SI2' 'SI1' 'VS1' 'VS2' 'VVS2' 'VVS1' 'I1' 'IF']\n"
     ]
    }
   ],
   "source": [
    "cat_var =  ['cut', 'color', 'clarity']\n",
    "\n",
    "for i in range (0, len(cat_var)):\n",
    "    print(f'Unique Values for {cat_var[i]}', dataset[f'{cat_var[i]}'].unique())"
   ]
  },
  {
   "cell_type": "code",
   "execution_count": 24,
   "id": "dried-property",
   "metadata": {
    "papermill": {
     "duration": 0.269473,
     "end_time": "2021-04-19T20:15:32.910657",
     "exception": false,
     "start_time": "2021-04-19T20:15:32.641184",
     "status": "completed"
    },
    "tags": []
   },
   "outputs": [],
   "source": [
    "onehotencoder = OneHotEncoder()"
   ]
  },
  {
   "cell_type": "code",
   "execution_count": 25,
   "id": "offensive-visibility",
   "metadata": {
    "papermill": {
     "duration": 0.306037,
     "end_time": "2021-04-19T20:15:33.484290",
     "exception": false,
     "start_time": "2021-04-19T20:15:33.178253",
     "status": "completed"
    },
    "tags": []
   },
   "outputs": [],
   "source": [
    "one_hot = ['cut', 'color', 'clarity']\n",
    "\n",
    "for i in range(0, len(one_hot)):\n",
    "    dataset[f'{one_hot[i]}'] = pd.Categorical(dataset[f'{one_hot[i]}'])\n",
    "    dummies = pd.get_dummies(dataset[f'{one_hot[i]}'], prefix = f'{one_hot[i]}_encoded')\n",
    "    dataset.drop([f'{one_hot[i]}'], axis=1, inplace=True)\n",
    "    dataset = pd.concat([dataset, dummies], axis=1)"
   ]
  },
  {
   "cell_type": "code",
   "execution_count": 26,
   "id": "positive-karaoke",
   "metadata": {
    "papermill": {
     "duration": 0.304637,
     "end_time": "2021-04-19T20:15:34.048618",
     "exception": false,
     "start_time": "2021-04-19T20:15:33.743981",
     "status": "completed"
    },
    "tags": []
   },
   "outputs": [
    {
     "data": {
      "text/html": [
       "<div>\n",
       "<style scoped>\n",
       "    .dataframe tbody tr th:only-of-type {\n",
       "        vertical-align: middle;\n",
       "    }\n",
       "\n",
       "    .dataframe tbody tr th {\n",
       "        vertical-align: top;\n",
       "    }\n",
       "\n",
       "    .dataframe thead th {\n",
       "        text-align: right;\n",
       "    }\n",
       "</style>\n",
       "<table border=\"1\" class=\"dataframe\">\n",
       "  <thead>\n",
       "    <tr style=\"text-align: right;\">\n",
       "      <th></th>\n",
       "      <th>carat</th>\n",
       "      <th>depth</th>\n",
       "      <th>table</th>\n",
       "      <th>price</th>\n",
       "      <th>x</th>\n",
       "      <th>y</th>\n",
       "      <th>z</th>\n",
       "      <th>cut_encoded_Fair</th>\n",
       "      <th>cut_encoded_Good</th>\n",
       "      <th>cut_encoded_Ideal</th>\n",
       "      <th>...</th>\n",
       "      <th>color_encoded_I</th>\n",
       "      <th>color_encoded_J</th>\n",
       "      <th>clarity_encoded_I1</th>\n",
       "      <th>clarity_encoded_IF</th>\n",
       "      <th>clarity_encoded_SI1</th>\n",
       "      <th>clarity_encoded_SI2</th>\n",
       "      <th>clarity_encoded_VS1</th>\n",
       "      <th>clarity_encoded_VS2</th>\n",
       "      <th>clarity_encoded_VVS1</th>\n",
       "      <th>clarity_encoded_VVS2</th>\n",
       "    </tr>\n",
       "  </thead>\n",
       "  <tbody>\n",
       "    <tr>\n",
       "      <th>0</th>\n",
       "      <td>0.23</td>\n",
       "      <td>61.5</td>\n",
       "      <td>55.0</td>\n",
       "      <td>326</td>\n",
       "      <td>3.95</td>\n",
       "      <td>3.98</td>\n",
       "      <td>2.43</td>\n",
       "      <td>0</td>\n",
       "      <td>0</td>\n",
       "      <td>1</td>\n",
       "      <td>...</td>\n",
       "      <td>0</td>\n",
       "      <td>0</td>\n",
       "      <td>0</td>\n",
       "      <td>0</td>\n",
       "      <td>0</td>\n",
       "      <td>1</td>\n",
       "      <td>0</td>\n",
       "      <td>0</td>\n",
       "      <td>0</td>\n",
       "      <td>0</td>\n",
       "    </tr>\n",
       "    <tr>\n",
       "      <th>1</th>\n",
       "      <td>0.21</td>\n",
       "      <td>59.8</td>\n",
       "      <td>61.0</td>\n",
       "      <td>326</td>\n",
       "      <td>3.89</td>\n",
       "      <td>3.84</td>\n",
       "      <td>2.31</td>\n",
       "      <td>0</td>\n",
       "      <td>0</td>\n",
       "      <td>0</td>\n",
       "      <td>...</td>\n",
       "      <td>0</td>\n",
       "      <td>0</td>\n",
       "      <td>0</td>\n",
       "      <td>0</td>\n",
       "      <td>1</td>\n",
       "      <td>0</td>\n",
       "      <td>0</td>\n",
       "      <td>0</td>\n",
       "      <td>0</td>\n",
       "      <td>0</td>\n",
       "    </tr>\n",
       "    <tr>\n",
       "      <th>2</th>\n",
       "      <td>0.23</td>\n",
       "      <td>56.9</td>\n",
       "      <td>65.0</td>\n",
       "      <td>327</td>\n",
       "      <td>4.05</td>\n",
       "      <td>4.07</td>\n",
       "      <td>2.31</td>\n",
       "      <td>0</td>\n",
       "      <td>1</td>\n",
       "      <td>0</td>\n",
       "      <td>...</td>\n",
       "      <td>0</td>\n",
       "      <td>0</td>\n",
       "      <td>0</td>\n",
       "      <td>0</td>\n",
       "      <td>0</td>\n",
       "      <td>0</td>\n",
       "      <td>1</td>\n",
       "      <td>0</td>\n",
       "      <td>0</td>\n",
       "      <td>0</td>\n",
       "    </tr>\n",
       "    <tr>\n",
       "      <th>3</th>\n",
       "      <td>0.29</td>\n",
       "      <td>62.4</td>\n",
       "      <td>58.0</td>\n",
       "      <td>334</td>\n",
       "      <td>4.20</td>\n",
       "      <td>4.23</td>\n",
       "      <td>2.63</td>\n",
       "      <td>0</td>\n",
       "      <td>0</td>\n",
       "      <td>0</td>\n",
       "      <td>...</td>\n",
       "      <td>1</td>\n",
       "      <td>0</td>\n",
       "      <td>0</td>\n",
       "      <td>0</td>\n",
       "      <td>0</td>\n",
       "      <td>0</td>\n",
       "      <td>0</td>\n",
       "      <td>1</td>\n",
       "      <td>0</td>\n",
       "      <td>0</td>\n",
       "    </tr>\n",
       "    <tr>\n",
       "      <th>4</th>\n",
       "      <td>0.31</td>\n",
       "      <td>63.3</td>\n",
       "      <td>58.0</td>\n",
       "      <td>335</td>\n",
       "      <td>4.34</td>\n",
       "      <td>4.35</td>\n",
       "      <td>2.75</td>\n",
       "      <td>0</td>\n",
       "      <td>1</td>\n",
       "      <td>0</td>\n",
       "      <td>...</td>\n",
       "      <td>0</td>\n",
       "      <td>1</td>\n",
       "      <td>0</td>\n",
       "      <td>0</td>\n",
       "      <td>0</td>\n",
       "      <td>1</td>\n",
       "      <td>0</td>\n",
       "      <td>0</td>\n",
       "      <td>0</td>\n",
       "      <td>0</td>\n",
       "    </tr>\n",
       "    <tr>\n",
       "      <th>...</th>\n",
       "      <td>...</td>\n",
       "      <td>...</td>\n",
       "      <td>...</td>\n",
       "      <td>...</td>\n",
       "      <td>...</td>\n",
       "      <td>...</td>\n",
       "      <td>...</td>\n",
       "      <td>...</td>\n",
       "      <td>...</td>\n",
       "      <td>...</td>\n",
       "      <td>...</td>\n",
       "      <td>...</td>\n",
       "      <td>...</td>\n",
       "      <td>...</td>\n",
       "      <td>...</td>\n",
       "      <td>...</td>\n",
       "      <td>...</td>\n",
       "      <td>...</td>\n",
       "      <td>...</td>\n",
       "      <td>...</td>\n",
       "      <td>...</td>\n",
       "    </tr>\n",
       "    <tr>\n",
       "      <th>53751</th>\n",
       "      <td>0.72</td>\n",
       "      <td>60.8</td>\n",
       "      <td>57.0</td>\n",
       "      <td>2757</td>\n",
       "      <td>5.75</td>\n",
       "      <td>5.76</td>\n",
       "      <td>3.50</td>\n",
       "      <td>0</td>\n",
       "      <td>0</td>\n",
       "      <td>1</td>\n",
       "      <td>...</td>\n",
       "      <td>0</td>\n",
       "      <td>0</td>\n",
       "      <td>0</td>\n",
       "      <td>0</td>\n",
       "      <td>1</td>\n",
       "      <td>0</td>\n",
       "      <td>0</td>\n",
       "      <td>0</td>\n",
       "      <td>0</td>\n",
       "      <td>0</td>\n",
       "    </tr>\n",
       "    <tr>\n",
       "      <th>53752</th>\n",
       "      <td>0.72</td>\n",
       "      <td>63.1</td>\n",
       "      <td>55.0</td>\n",
       "      <td>2757</td>\n",
       "      <td>5.69</td>\n",
       "      <td>5.75</td>\n",
       "      <td>3.61</td>\n",
       "      <td>0</td>\n",
       "      <td>1</td>\n",
       "      <td>0</td>\n",
       "      <td>...</td>\n",
       "      <td>0</td>\n",
       "      <td>0</td>\n",
       "      <td>0</td>\n",
       "      <td>0</td>\n",
       "      <td>1</td>\n",
       "      <td>0</td>\n",
       "      <td>0</td>\n",
       "      <td>0</td>\n",
       "      <td>0</td>\n",
       "      <td>0</td>\n",
       "    </tr>\n",
       "    <tr>\n",
       "      <th>53753</th>\n",
       "      <td>0.70</td>\n",
       "      <td>62.8</td>\n",
       "      <td>60.0</td>\n",
       "      <td>2757</td>\n",
       "      <td>5.66</td>\n",
       "      <td>5.68</td>\n",
       "      <td>3.56</td>\n",
       "      <td>0</td>\n",
       "      <td>0</td>\n",
       "      <td>0</td>\n",
       "      <td>...</td>\n",
       "      <td>0</td>\n",
       "      <td>0</td>\n",
       "      <td>0</td>\n",
       "      <td>0</td>\n",
       "      <td>1</td>\n",
       "      <td>0</td>\n",
       "      <td>0</td>\n",
       "      <td>0</td>\n",
       "      <td>0</td>\n",
       "      <td>0</td>\n",
       "    </tr>\n",
       "    <tr>\n",
       "      <th>53754</th>\n",
       "      <td>0.86</td>\n",
       "      <td>61.0</td>\n",
       "      <td>58.0</td>\n",
       "      <td>2757</td>\n",
       "      <td>6.15</td>\n",
       "      <td>6.12</td>\n",
       "      <td>3.74</td>\n",
       "      <td>0</td>\n",
       "      <td>0</td>\n",
       "      <td>0</td>\n",
       "      <td>...</td>\n",
       "      <td>0</td>\n",
       "      <td>0</td>\n",
       "      <td>0</td>\n",
       "      <td>0</td>\n",
       "      <td>0</td>\n",
       "      <td>1</td>\n",
       "      <td>0</td>\n",
       "      <td>0</td>\n",
       "      <td>0</td>\n",
       "      <td>0</td>\n",
       "    </tr>\n",
       "    <tr>\n",
       "      <th>53755</th>\n",
       "      <td>0.75</td>\n",
       "      <td>62.2</td>\n",
       "      <td>55.0</td>\n",
       "      <td>2757</td>\n",
       "      <td>5.83</td>\n",
       "      <td>5.87</td>\n",
       "      <td>3.64</td>\n",
       "      <td>0</td>\n",
       "      <td>0</td>\n",
       "      <td>1</td>\n",
       "      <td>...</td>\n",
       "      <td>0</td>\n",
       "      <td>0</td>\n",
       "      <td>0</td>\n",
       "      <td>0</td>\n",
       "      <td>0</td>\n",
       "      <td>1</td>\n",
       "      <td>0</td>\n",
       "      <td>0</td>\n",
       "      <td>0</td>\n",
       "      <td>0</td>\n",
       "    </tr>\n",
       "  </tbody>\n",
       "</table>\n",
       "<p>53748 rows × 27 columns</p>\n",
       "</div>"
      ],
      "text/plain": [
       "       carat  depth  table  price     x     y     z  cut_encoded_Fair  \\\n",
       "0       0.23   61.5   55.0    326  3.95  3.98  2.43                 0   \n",
       "1       0.21   59.8   61.0    326  3.89  3.84  2.31                 0   \n",
       "2       0.23   56.9   65.0    327  4.05  4.07  2.31                 0   \n",
       "3       0.29   62.4   58.0    334  4.20  4.23  2.63                 0   \n",
       "4       0.31   63.3   58.0    335  4.34  4.35  2.75                 0   \n",
       "...      ...    ...    ...    ...   ...   ...   ...               ...   \n",
       "53751   0.72   60.8   57.0   2757  5.75  5.76  3.50                 0   \n",
       "53752   0.72   63.1   55.0   2757  5.69  5.75  3.61                 0   \n",
       "53753   0.70   62.8   60.0   2757  5.66  5.68  3.56                 0   \n",
       "53754   0.86   61.0   58.0   2757  6.15  6.12  3.74                 0   \n",
       "53755   0.75   62.2   55.0   2757  5.83  5.87  3.64                 0   \n",
       "\n",
       "       cut_encoded_Good  cut_encoded_Ideal  ...  color_encoded_I  \\\n",
       "0                     0                  1  ...                0   \n",
       "1                     0                  0  ...                0   \n",
       "2                     1                  0  ...                0   \n",
       "3                     0                  0  ...                1   \n",
       "4                     1                  0  ...                0   \n",
       "...                 ...                ...  ...              ...   \n",
       "53751                 0                  1  ...                0   \n",
       "53752                 1                  0  ...                0   \n",
       "53753                 0                  0  ...                0   \n",
       "53754                 0                  0  ...                0   \n",
       "53755                 0                  1  ...                0   \n",
       "\n",
       "       color_encoded_J  clarity_encoded_I1  clarity_encoded_IF  \\\n",
       "0                    0                   0                   0   \n",
       "1                    0                   0                   0   \n",
       "2                    0                   0                   0   \n",
       "3                    0                   0                   0   \n",
       "4                    1                   0                   0   \n",
       "...                ...                 ...                 ...   \n",
       "53751                0                   0                   0   \n",
       "53752                0                   0                   0   \n",
       "53753                0                   0                   0   \n",
       "53754                0                   0                   0   \n",
       "53755                0                   0                   0   \n",
       "\n",
       "       clarity_encoded_SI1  clarity_encoded_SI2  clarity_encoded_VS1  \\\n",
       "0                        0                    1                    0   \n",
       "1                        1                    0                    0   \n",
       "2                        0                    0                    1   \n",
       "3                        0                    0                    0   \n",
       "4                        0                    1                    0   \n",
       "...                    ...                  ...                  ...   \n",
       "53751                    1                    0                    0   \n",
       "53752                    1                    0                    0   \n",
       "53753                    1                    0                    0   \n",
       "53754                    0                    1                    0   \n",
       "53755                    0                    1                    0   \n",
       "\n",
       "       clarity_encoded_VS2  clarity_encoded_VVS1  clarity_encoded_VVS2  \n",
       "0                        0                     0                     0  \n",
       "1                        0                     0                     0  \n",
       "2                        0                     0                     0  \n",
       "3                        1                     0                     0  \n",
       "4                        0                     0                     0  \n",
       "...                    ...                   ...                   ...  \n",
       "53751                    0                     0                     0  \n",
       "53752                    0                     0                     0  \n",
       "53753                    0                     0                     0  \n",
       "53754                    0                     0                     0  \n",
       "53755                    0                     0                     0  \n",
       "\n",
       "[53748 rows x 27 columns]"
      ]
     },
     "execution_count": 26,
     "metadata": {},
     "output_type": "execute_result"
    }
   ],
   "source": [
    "dataset"
   ]
  },
  {
   "cell_type": "markdown",
   "id": "advised-arthritis",
   "metadata": {
    "papermill": {
     "duration": 0.26386,
     "end_time": "2021-04-19T20:15:36.080765",
     "exception": false,
     "start_time": "2021-04-19T20:15:35.816905",
     "status": "completed"
    },
    "tags": []
   },
   "source": [
    "<a id = \"27\"></a>\n",
    "# Train-Test Split"
   ]
  },
  {
   "cell_type": "code",
   "execution_count": 27,
   "id": "centered-maryland",
   "metadata": {
    "papermill": {
     "duration": 0.275532,
     "end_time": "2021-04-19T20:15:36.621789",
     "exception": false,
     "start_time": "2021-04-19T20:15:36.346257",
     "status": "completed"
    },
    "tags": []
   },
   "outputs": [],
   "source": [
    "X = dataset.drop([\"price\"],axis =1)\n",
    "y = dataset[\"price\"]"
   ]
  },
  {
   "cell_type": "code",
   "execution_count": 28,
   "id": "swiss-begin",
   "metadata": {
    "papermill": {
     "duration": 0.292897,
     "end_time": "2021-04-19T20:15:37.179737",
     "exception": false,
     "start_time": "2021-04-19T20:15:36.886840",
     "status": "completed"
    },
    "tags": []
   },
   "outputs": [
    {
     "name": "stdout",
     "output_type": "stream",
     "text": [
      "Total # of sample in whole dataset: 53748\n",
      "Total # of sample in train dataset: 36011\n",
      "Total # of sample in test dataset: 17737\n"
     ]
    }
   ],
   "source": [
    "X_train, X_test, y_train, y_test = train_test_split(X, y, test_size = 0.33, random_state = 101)\n",
    "\n",
    "print(f'Total # of sample in whole dataset: {len(X)}')\n",
    "print(f'Total # of sample in train dataset: {len(X_train)}')\n",
    "print(f'Total # of sample in test dataset: {len(X_test)}')"
   ]
  },
  {
   "cell_type": "code",
   "execution_count": 29,
   "id": "blocked-orientation",
   "metadata": {
    "papermill": {
     "duration": 0.301468,
     "end_time": "2021-04-19T20:15:37.745061",
     "exception": false,
     "start_time": "2021-04-19T20:15:37.443593",
     "status": "completed"
    },
    "tags": []
   },
   "outputs": [],
   "source": [
    "sc=StandardScaler()\n",
    "\n",
    "X_train = sc.fit_transform(X_train)\n",
    "X_test = sc.transform(X_test)"
   ]
  },
  {
   "cell_type": "markdown",
   "id": "sunset-offering",
   "metadata": {
    "papermill": {
     "duration": 0.266134,
     "end_time": "2021-04-19T20:15:38.278228",
     "exception": false,
     "start_time": "2021-04-19T20:15:38.012094",
     "status": "completed"
    },
    "tags": []
   },
   "source": [
    "<a id = \"28\"></a>\n",
    "# Linear Regression"
   ]
  },
  {
   "cell_type": "markdown",
   "id": "cloudy-incentive",
   "metadata": {
    "papermill": {
     "duration": 0.264561,
     "end_time": "2021-04-19T20:15:38.808440",
     "exception": false,
     "start_time": "2021-04-19T20:15:38.543879",
     "status": "completed"
    },
    "tags": []
   },
   "source": [
    "<a id = \"29\"></a>\n",
    "## Hyper-Parameter Optimization"
   ]
  },
  {
   "cell_type": "code",
   "execution_count": 30,
   "id": "unsigned-animation",
   "metadata": {
    "papermill": {
     "duration": 0.275909,
     "end_time": "2021-04-19T20:15:39.350421",
     "exception": false,
     "start_time": "2021-04-19T20:15:39.074512",
     "status": "completed"
    },
    "tags": []
   },
   "outputs": [
    {
     "data": {
      "text/plain": [
       "dict_keys(['copy_X', 'fit_intercept', 'n_jobs', 'normalize', 'positive'])"
      ]
     },
     "execution_count": 30,
     "metadata": {},
     "output_type": "execute_result"
    }
   ],
   "source": [
    "LinearRegression().get_params().keys()"
   ]
  },
  {
   "cell_type": "code",
   "execution_count": 31,
   "id": "unable-associate",
   "metadata": {
    "papermill": {
     "duration": 6.552883,
     "end_time": "2021-04-19T20:15:46.167391",
     "exception": false,
     "start_time": "2021-04-19T20:15:39.614508",
     "status": "completed"
    },
    "tags": []
   },
   "outputs": [
    {
     "name": "stdout",
     "output_type": "stream",
     "text": [
      "Fitting 15 folds for each of 4 candidates, totalling 60 fits\n",
      "GridSearchView Best Score: 92.26738240745381\n",
      "GridSearchView Best Estimator: LinearRegression(copy_X='True', fit_intercept='True')\n",
      "GridSearchView Best Params: {'copy_X': 'True', 'fit_intercept': 'True'}\n"
     ]
    }
   ],
   "source": [
    "parameters = {'fit_intercept': ['True', 'False'],\n",
    "             'copy_X': ['True', 'False']\n",
    "             }\n",
    "\n",
    "gcv = GridSearchCV(LinearRegression(), parameters, cv=15, verbose = 1, n_jobs = -1).fit(X_train, y_train)\n",
    "print(f'GridSearchView Best Score: {gcv.best_score_*100}')\n",
    "print(f'GridSearchView Best Estimator: {gcv.best_estimator_}')\n",
    "print(f'GridSearchView Best Params: {gcv.best_params_}')"
   ]
  },
  {
   "cell_type": "markdown",
   "id": "happy-booking",
   "metadata": {
    "papermill": {
     "duration": 0.268126,
     "end_time": "2021-04-19T20:15:46.727293",
     "exception": false,
     "start_time": "2021-04-19T20:15:46.459167",
     "status": "completed"
    },
    "tags": []
   },
   "source": [
    "<a id = \"30\"></a>\n",
    "## Model"
   ]
  },
  {
   "cell_type": "code",
   "execution_count": 32,
   "id": "south-concrete",
   "metadata": {
    "papermill": {
     "duration": 0.358598,
     "end_time": "2021-04-19T20:15:47.355338",
     "exception": false,
     "start_time": "2021-04-19T20:15:46.996740",
     "status": "completed"
    },
    "tags": []
   },
   "outputs": [
    {
     "name": "stdout",
     "output_type": "stream",
     "text": [
      "Train score of trained model: 92.4792526824141\n",
      "Test score of trained model: 91.86644661952487\n"
     ]
    }
   ],
   "source": [
    "model_lr = LinearRegression(copy_X='True', fit_intercept='True', n_jobs = -1)\n",
    "model_lr.fit(X_train, y_train)\n",
    "pred = model_lr.predict(X_test)\n",
    " \n",
    "train_score = model_lr.score(X_train, y_train)\n",
    "print(f'Train score of trained model: {train_score*100}')\n",
    "\n",
    "test_score = model_lr.score(X_test, y_test)\n",
    "print(f'Test score of trained model: {test_score*100}')"
   ]
  },
  {
   "cell_type": "markdown",
   "id": "stone-minnesota",
   "metadata": {
    "papermill": {
     "duration": 0.268518,
     "end_time": "2021-04-19T20:15:50.347236",
     "exception": false,
     "start_time": "2021-04-19T20:15:50.078718",
     "status": "completed"
    },
    "tags": []
   },
   "source": [
    "<a id = \"31\"></a>\n",
    "## Evaluation Metrics"
   ]
  },
  {
   "cell_type": "code",
   "execution_count": 33,
   "id": "authentic-ensemble",
   "metadata": {
    "papermill": {
     "duration": 0.276819,
     "end_time": "2021-04-19T20:15:52.546299",
     "exception": false,
     "start_time": "2021-04-19T20:15:52.269480",
     "status": "completed"
    },
    "tags": []
   },
   "outputs": [
    {
     "name": "stdout",
     "output_type": "stream",
     "text": [
      "Explained Variance: 0.9186652872943553\n"
     ]
    }
   ],
   "source": [
    "print(\"Explained Variance:\",metrics.explained_variance_score(y_test, pred))"
   ]
  },
  {
   "cell_type": "code",
   "execution_count": 34,
   "id": "located-boards",
   "metadata": {
    "papermill": {
     "duration": 0.288955,
     "end_time": "2021-04-19T20:15:54.243912",
     "exception": false,
     "start_time": "2021-04-19T20:15:53.954957",
     "status": "completed"
    },
    "tags": []
   },
   "outputs": [
    {
     "name": "stdout",
     "output_type": "stream",
     "text": [
      "Max Error: 31276.00080626523\n"
     ]
    }
   ],
   "source": [
    "print(\"Max Error:\",metrics.max_error(y_test, pred))"
   ]
  },
  {
   "cell_type": "code",
   "execution_count": 35,
   "id": "satisfactory-pepper",
   "metadata": {
    "papermill": {
     "duration": 0.294153,
     "end_time": "2021-04-19T20:15:57.094258",
     "exception": false,
     "start_time": "2021-04-19T20:15:56.800105",
     "status": "completed"
    },
    "tags": []
   },
   "outputs": [
    {
     "name": "stdout",
     "output_type": "stream",
     "text": [
      "Mean Squared Error: 1265301.981993359\n"
     ]
    }
   ],
   "source": [
    "print(\"Mean Squared Error:\",metrics.mean_squared_error(y_test, pred))"
   ]
  },
  {
   "cell_type": "code",
   "execution_count": 36,
   "id": "theoretical-greek",
   "metadata": {
    "papermill": {
     "duration": 0.289697,
     "end_time": "2021-04-19T20:15:59.870843",
     "exception": false,
     "start_time": "2021-04-19T20:15:59.581146",
     "status": "completed"
    },
    "tags": []
   },
   "outputs": [
    {
     "name": "stdout",
     "output_type": "stream",
     "text": [
      "Mean Absolute Error: 720.4312196999747\n"
     ]
    }
   ],
   "source": [
    "print(\"Mean Absolute Error:\",metrics.mean_absolute_error(y_test, pred))"
   ]
  },
  {
   "cell_type": "code",
   "execution_count": 37,
   "id": "corrected-hierarchy",
   "metadata": {
    "papermill": {
     "duration": 0.284199,
     "end_time": "2021-04-19T20:16:04.298678",
     "exception": false,
     "start_time": "2021-04-19T20:16:04.014479",
     "status": "completed"
    },
    "tags": []
   },
   "outputs": [
    {
     "name": "stdout",
     "output_type": "stream",
     "text": [
      "Median Absolute Error: 498.6575598041354\n"
     ]
    }
   ],
   "source": [
    "print(\"Median Absolute Error:\",metrics.median_absolute_error(y_test, pred))"
   ]
  },
  {
   "cell_type": "code",
   "execution_count": 38,
   "id": "black-married",
   "metadata": {
    "papermill": {
     "duration": 0.368584,
     "end_time": "2021-04-19T20:16:07.108323",
     "exception": false,
     "start_time": "2021-04-19T20:16:06.739739",
     "status": "completed"
    },
    "tags": []
   },
   "outputs": [
    {
     "name": "stdout",
     "output_type": "stream",
     "text": [
      "R^2: 0.9186644661952487\n"
     ]
    }
   ],
   "source": [
    "print(\"R^2:\",metrics.r2_score(y_test, pred))"
   ]
  },
  {
   "cell_type": "code",
   "execution_count": 39,
   "id": "fitted-teacher",
   "metadata": {
    "papermill": {
     "duration": 0.28381,
     "end_time": "2021-04-19T20:16:09.325967",
     "exception": false,
     "start_time": "2021-04-19T20:16:09.042157",
     "status": "completed"
    },
    "tags": []
   },
   "outputs": [
    {
     "name": "stdout",
     "output_type": "stream",
     "text": [
      "Adjusted R Squared: 0.918549656848226\n"
     ]
    }
   ],
   "source": [
    "n=X_test.shape[0]\n",
    "p=X_test.shape[1] - 1\n",
    "R2 = metrics.r2_score(y_test, pred)\n",
    "\n",
    "adj_rsquared = 1 - (1 - R2) * ((n - 1)/(n-p-1))\n",
    "print('Adjusted R Squared: {}'.format(adj_rsquared))"
   ]
  },
  {
   "cell_type": "code",
   "execution_count": 40,
   "id": "brief-devices",
   "metadata": {
    "papermill": {
     "duration": 0.281446,
     "end_time": "2021-04-19T20:16:11.513637",
     "exception": false,
     "start_time": "2021-04-19T20:16:11.232191",
     "status": "completed"
    },
    "tags": []
   },
   "outputs": [
    {
     "name": "stdout",
     "output_type": "stream",
     "text": [
      "Root Mean Squared Error: 1124.8564272801036\n"
     ]
    }
   ],
   "source": [
    "print(\"Root Mean Squared Error:\",np.sqrt(metrics.mean_squared_error(y_test, pred)))"
   ]
  },
  {
   "cell_type": "code",
   "execution_count": 41,
   "id": "c35f6c06",
   "metadata": {},
   "outputs": [],
   "source": [
    "#Model function\n",
    "def model(algorithm,dtrain_X,dtrain_Y,dtest_X,dtest_Y,cols=None):\n",
    "\n",
    "    algorithm.fit(dtrain_X,dtrain_Y)\n",
    "    predictions = algorithm.predict(dtest_X)\n",
    "    prediction_probabilities = algorithm.predict(dtest_X)\n",
    "    print (algorithm)\n",
    "    \n",
    "    return predictions,prediction_probabilities,algorithm"
   ]
  },
  {
   "cell_type": "code",
   "execution_count": 42,
   "id": "ef4b8af8",
   "metadata": {},
   "outputs": [
    {
     "name": "stdout",
     "output_type": "stream",
     "text": [
      "LinearRegression(copy_X='True', fit_intercept='True', n_jobs=-1)\n"
     ]
    }
   ],
   "source": [
    "y_pred,y_prob,model_obj=model(model_lr,X_train,y_train,X_test,y_test,X.columns)"
   ]
  },
  {
   "cell_type": "code",
   "execution_count": 43,
   "id": "e78b9b8f",
   "metadata": {},
   "outputs": [],
   "source": [
    "from mosaicml import *\n",
    "from mosaicml.constants import MLModelFlavours"
   ]
  },
  {
   "cell_type": "code",
   "execution_count": 44,
   "id": "733e7645",
   "metadata": {},
   "outputs": [],
   "source": [
    "@scoring_func\n",
    "def score(model, request):\n",
    "    import sanic\n",
    "    sanic.__file__\n",
    "    sanic.__version__\n",
    "    payload = request.json[\"payload\"]\n",
    "    data = pd.DataFrame(eval(payload))\n",
    "    prediction = pd.Series(model.predict(data))\n",
    "    return prediction.tolist()"
   ]
  },
  {
   "cell_type": "code",
   "execution_count": 45,
   "id": "968c7e18",
   "metadata": {},
   "outputs": [],
   "source": [
    "import requests\n",
    "req = requests.Request()\n",
    "req.json = {\"payload\":X.head(1).to_json()}"
   ]
  },
  {
   "cell_type": "code",
   "execution_count": 46,
   "id": "24f308ea",
   "metadata": {},
   "outputs": [],
   "source": [
    "import scipy"
   ]
  },
  {
   "cell_type": "code",
   "execution_count": 47,
   "id": "b23aeeb6",
   "metadata": {},
   "outputs": [
    {
     "data": {
      "text/plain": [
       "'/opt/conda/lib/python3.7/site-packages/scipy/__init__.py'"
      ]
     },
     "execution_count": 47,
     "metadata": {},
     "output_type": "execute_result"
    }
   ],
   "source": [
    "scipy.__file__"
   ]
  },
  {
   "cell_type": "code",
   "execution_count": 48,
   "id": "7f735b43",
   "metadata": {},
   "outputs": [
    {
     "data": {
      "text/plain": [
       "'1.7.3'"
      ]
     },
     "execution_count": 48,
     "metadata": {},
     "output_type": "execute_result"
    }
   ],
   "source": [
    "scipy.__version__"
   ]
  },
  {
   "cell_type": "code",
   "execution_count": 49,
   "id": "d975ca33",
   "metadata": {
    "scrolled": true
   },
   "outputs": [
    {
     "name": "stdout",
     "output_type": "stream",
     "text": [
      "{'input': {'type': 'pd.core.frame.DataFrame', 'items': {'type': 'object', 'properties': {'carat': {'type': 'number', 'format': 'double'}, 'depth': {'type': 'number', 'format': 'double'}, 'table': {'type': 'number', 'format': 'double'}, 'x': {'type': 'number', 'format': 'double'}, 'y': {'type': 'number', 'format': 'double'}, 'z': {'type': 'number', 'format': 'double'}, 'cut_encoded_Fair': {'type': 'integer', 'format': 'uint8'}, 'cut_encoded_Good': {'type': 'integer', 'format': 'uint8'}, 'cut_encoded_Ideal': {'type': 'integer', 'format': 'uint8'}, 'cut_encoded_Premium': {'type': 'integer', 'format': 'uint8'}, 'cut_encoded_Very Good': {'type': 'integer', 'format': 'uint8'}, 'color_encoded_D': {'type': 'integer', 'format': 'uint8'}, 'color_encoded_E': {'type': 'integer', 'format': 'uint8'}, 'color_encoded_F': {'type': 'integer', 'format': 'uint8'}, 'color_encoded_G': {'type': 'integer', 'format': 'uint8'}, 'color_encoded_H': {'type': 'integer', 'format': 'uint8'}, 'color_encoded_I': {'type': 'integer', 'format': 'uint8'}, 'color_encoded_J': {'type': 'integer', 'format': 'uint8'}, 'clarity_encoded_I1': {'type': 'integer', 'format': 'uint8'}, 'clarity_encoded_IF': {'type': 'integer', 'format': 'uint8'}, 'clarity_encoded_SI1': {'type': 'integer', 'format': 'uint8'}, 'clarity_encoded_SI2': {'type': 'integer', 'format': 'uint8'}, 'clarity_encoded_VS1': {'type': 'integer', 'format': 'uint8'}, 'clarity_encoded_VS2': {'type': 'integer', 'format': 'uint8'}, 'clarity_encoded_VVS1': {'type': 'integer', 'format': 'uint8'}, 'clarity_encoded_VVS2': {'type': 'integer', 'format': 'uint8'}}}, 'example': [{'carat': 0.23, 'depth': 61.5, 'table': 55.0, 'x': 3.95, 'y': 3.98, 'z': 2.43, 'cut_encoded_Fair': 0, 'cut_encoded_Good': 0, 'cut_encoded_Ideal': 1, 'cut_encoded_Premium': 0, 'cut_encoded_Very Good': 0, 'color_encoded_D': 0, 'color_encoded_E': 1, 'color_encoded_F': 0, 'color_encoded_G': 0, 'color_encoded_H': 0, 'color_encoded_I': 0, 'color_encoded_J': 0, 'clarity_encoded_I1': 0, 'clarity_encoded_IF': 0, 'clarity_encoded_SI1': 0, 'clarity_encoded_SI2': 1, 'clarity_encoded_VS1': 0, 'clarity_encoded_VS2': 0, 'clarity_encoded_VVS1': 0, 'clarity_encoded_VVS2': 0}, {'carat': 0.21, 'depth': 59.8, 'table': 61.0, 'x': 3.89, 'y': 3.84, 'z': 2.31, 'cut_encoded_Fair': 0, 'cut_encoded_Good': 0, 'cut_encoded_Ideal': 0, 'cut_encoded_Premium': 1, 'cut_encoded_Very Good': 0, 'color_encoded_D': 0, 'color_encoded_E': 1, 'color_encoded_F': 0, 'color_encoded_G': 0, 'color_encoded_H': 0, 'color_encoded_I': 0, 'color_encoded_J': 0, 'clarity_encoded_I1': 0, 'clarity_encoded_IF': 0, 'clarity_encoded_SI1': 1, 'clarity_encoded_SI2': 0, 'clarity_encoded_VS1': 0, 'clarity_encoded_VS2': 0, 'clarity_encoded_VVS1': 0, 'clarity_encoded_VVS2': 0}]}, 'output': {'type': 'array', 'items': {'type': 'object'}, 'example': [-6579.554393085389]}}\n"
     ]
    }
   ],
   "source": [
    "sch = generate_schema(score,(model_obj, req),X)\n",
    "print(sch)"
   ]
  },
  {
   "cell_type": "code",
   "execution_count": 50,
   "id": "74f0aaae",
   "metadata": {},
   "outputs": [
    {
     "name": "stdout",
     "output_type": "stream",
     "text": [
      "Calculating build time metrics\n",
      "\n",
      "Progress: ██████████████████████████████████████████████████████████████████████ 100.0%\n"
     ]
    },
    {
     "data": {
      "application/vnd.jupyter.widget-view+json": {
       "model_id": "62e221ec8c474942a58c6314b6dae1b5",
       "version_major": 2,
       "version_minor": 0
      },
      "text/plain": [
       "VBox(children=(HTML(value='<style>.grad_1{background: #2468a4;} .grad_2{ color:white; background: #2468a4;}</s…"
      ]
     },
     "metadata": {},
     "output_type": "display_data"
    },
    {
     "name": "stdout",
     "output_type": "stream",
     "text": [
      "Registering model\n"
     ]
    }
   ],
   "source": [
    "register_model(model_obj, score, name=\"Sklearn_Model_With_Package\", \n",
    "                description=\"Predict Diamond Price\",\n",
    "                flavour=MLModelFlavours.sklearn, schema=sch,\n",
    "                y_true=y_test, y_pred=pd.Series(y_pred), \n",
    "                prob=y_pred, features=X.columns, labels=[\"price\"], init_script=\"\" ,\n",
    "                model_type=\"regression\", \n",
    "                input_type=\"json\", explain_ai=True, x_train=X_train, x_test=X_test, \n",
    "                y_train=y_train, y_test=y_test,\n",
    "                feature_names=list(X.columns),feature_ids=list(X.columns),\n",
    "                target_names=[\"price\"], \n",
    "                kyd=False, kyd_score =False\n",
    "              )\n",
    "print(\"Registering model\")"
   ]
  },
  {
   "cell_type": "code",
   "execution_count": null,
   "id": "d87bc317",
   "metadata": {},
   "outputs": [],
   "source": []
  }
 ],
 "metadata": {
  "kernelspec": {
   "display_name": "Python 3",
   "language": "python",
   "name": "python3"
  },
  "language_info": {
   "codemirror_mode": {
    "name": "ipython",
    "version": 3
   },
   "file_extension": ".py",
   "mimetype": "text/x-python",
   "name": "python",
   "nbconvert_exporter": "python",
   "pygments_lexer": "ipython3",
   "version": "3.7.12"
  },
  "papermill": {
   "default_parameters": {},
   "duration": 138.011551,
   "end_time": "2021-04-19T20:16:14.606467",
   "environment_variables": {},
   "exception": null,
   "input_path": "__notebook__.ipynb",
   "output_path": "__notebook__.ipynb",
   "parameters": {},
   "start_time": "2021-04-19T20:13:56.594916",
   "version": "2.3.2"
  },
  "widgets": {
   "application/vnd.jupyter.widget-state+json": {
    "state": {
     "07d07cda7be940e28ccee6a297ec3b3f": {
      "model_module": "@jupyter-widgets/controls",
      "model_module_version": "1.5.0",
      "model_name": "ProgressStyleModel",
      "state": {
       "_model_module": "@jupyter-widgets/controls",
       "_model_module_version": "1.5.0",
       "_model_name": "ProgressStyleModel",
       "_view_count": null,
       "_view_module": "@jupyter-widgets/base",
       "_view_module_version": "1.2.0",
       "_view_name": "StyleView",
       "bar_color": null,
       "description_width": ""
      }
     },
     "0a3a991d57d544a4b40da14d6572b31f": {
      "model_module": "@jupyter-widgets/controls",
      "model_module_version": "1.5.0",
      "model_name": "HTMLModel",
      "state": {
       "_dom_classes": [],
       "_model_module": "@jupyter-widgets/controls",
       "_model_module_version": "1.5.0",
       "_model_name": "HTMLModel",
       "_view_count": null,
       "_view_module": "@jupyter-widgets/controls",
       "_view_module_version": "1.5.0",
       "_view_name": "HTMLView",
       "description": "",
       "description_tooltip": null,
       "layout": "IPY_MODEL_e9ff345ed5894a45a4ab5540048fa71d",
       "placeholder": "​",
       "style": "IPY_MODEL_be1959973d754429b0fc2609b46efb32",
       "value": "Render HTML: 100%"
      }
     },
     "13b7fb6873e74d06ade8127d5b5bb8fb": {
      "model_module": "@jupyter-widgets/controls",
      "model_module_version": "1.5.0",
      "model_name": "DescriptionStyleModel",
      "state": {
       "_model_module": "@jupyter-widgets/controls",
       "_model_module_version": "1.5.0",
       "_model_name": "DescriptionStyleModel",
       "_view_count": null,
       "_view_module": "@jupyter-widgets/base",
       "_view_module_version": "1.2.0",
       "_view_name": "StyleView",
       "description_width": ""
      }
     },
     "1fb15402b5414fbea11ba956bf2557a0": {
      "model_module": "@jupyter-widgets/controls",
      "model_module_version": "1.5.0",
      "model_name": "DescriptionStyleModel",
      "state": {
       "_model_module": "@jupyter-widgets/controls",
       "_model_module_version": "1.5.0",
       "_model_name": "DescriptionStyleModel",
       "_view_count": null,
       "_view_module": "@jupyter-widgets/base",
       "_view_module_version": "1.2.0",
       "_view_name": "StyleView",
       "description_width": ""
      }
     },
     "2ade226b8ac0412cbacc097f71787c64": {
      "model_module": "@jupyter-widgets/controls",
      "model_module_version": "1.5.0",
      "model_name": "HBoxModel",
      "state": {
       "_dom_classes": [],
       "_model_module": "@jupyter-widgets/controls",
       "_model_module_version": "1.5.0",
       "_model_name": "HBoxModel",
       "_view_count": null,
       "_view_module": "@jupyter-widgets/controls",
       "_view_module_version": "1.5.0",
       "_view_name": "HBoxView",
       "box_style": "",
       "children": [
        "IPY_MODEL_2bd15bdac68b41b2882b9d9b474c05a3",
        "IPY_MODEL_609cffa4a85143c1a8e94414de49ca62",
        "IPY_MODEL_d06bd548854345d7831f15cc1ac89aad"
       ],
       "layout": "IPY_MODEL_6efb08941f374055b48ae5a5861487a9"
      }
     },
     "2bd15bdac68b41b2882b9d9b474c05a3": {
      "model_module": "@jupyter-widgets/controls",
      "model_module_version": "1.5.0",
      "model_name": "HTMLModel",
      "state": {
       "_dom_classes": [],
       "_model_module": "@jupyter-widgets/controls",
       "_model_module_version": "1.5.0",
       "_model_name": "HTMLModel",
       "_view_count": null,
       "_view_module": "@jupyter-widgets/controls",
       "_view_module_version": "1.5.0",
       "_view_name": "HTMLView",
       "description": "",
       "description_tooltip": null,
       "layout": "IPY_MODEL_9473433e73554ecdaed036d4d5bc6be7",
       "placeholder": "​",
       "style": "IPY_MODEL_52867cdbc7e249ba941f22cabc4bcdde",
       "value": "Generate report structure: 100%"
      }
     },
     "33094bca35234db4875fc9570b1142d4": {
      "model_module": "@jupyter-widgets/controls",
      "model_module_version": "1.5.0",
      "model_name": "HTMLModel",
      "state": {
       "_dom_classes": [],
       "_model_module": "@jupyter-widgets/controls",
       "_model_module_version": "1.5.0",
       "_model_name": "HTMLModel",
       "_view_count": null,
       "_view_module": "@jupyter-widgets/controls",
       "_view_module_version": "1.5.0",
       "_view_name": "HTMLView",
       "description": "",
       "description_tooltip": null,
       "layout": "IPY_MODEL_572ba95c8ae84453a5420411072aa877",
       "placeholder": "​",
       "style": "IPY_MODEL_fefd51cfcc9b4c638272ba217dd47eac",
       "value": "Summarize dataset: 100%"
      }
     },
     "38dab37f07f74fa2863e7777d62f307d": {
      "model_module": "@jupyter-widgets/controls",
      "model_module_version": "1.5.0",
      "model_name": "HBoxModel",
      "state": {
       "_dom_classes": [],
       "_model_module": "@jupyter-widgets/controls",
       "_model_module_version": "1.5.0",
       "_model_name": "HBoxModel",
       "_view_count": null,
       "_view_module": "@jupyter-widgets/controls",
       "_view_module_version": "1.5.0",
       "_view_name": "HBoxView",
       "box_style": "",
       "children": [
        "IPY_MODEL_0a3a991d57d544a4b40da14d6572b31f",
        "IPY_MODEL_d1c36c0e33a949fbb2e47ea4af75bc36",
        "IPY_MODEL_ab678df34a26485c99a32993f18dd7a7"
       ],
       "layout": "IPY_MODEL_5fc7bf0419114b21b2624a6f3781a123"
      }
     },
     "4ff00a86a8e44de79b2424fbd48c06bd": {
      "model_module": "@jupyter-widgets/base",
      "model_module_version": "1.2.0",
      "model_name": "LayoutModel",
      "state": {
       "_model_module": "@jupyter-widgets/base",
       "_model_module_version": "1.2.0",
       "_model_name": "LayoutModel",
       "_view_count": null,
       "_view_module": "@jupyter-widgets/base",
       "_view_module_version": "1.2.0",
       "_view_name": "LayoutView",
       "align_content": null,
       "align_items": null,
       "align_self": null,
       "border": null,
       "bottom": null,
       "display": null,
       "flex": null,
       "flex_flow": null,
       "grid_area": null,
       "grid_auto_columns": null,
       "grid_auto_flow": null,
       "grid_auto_rows": null,
       "grid_column": null,
       "grid_gap": null,
       "grid_row": null,
       "grid_template_areas": null,
       "grid_template_columns": null,
       "grid_template_rows": null,
       "height": null,
       "justify_content": null,
       "justify_items": null,
       "left": null,
       "margin": null,
       "max_height": null,
       "max_width": null,
       "min_height": null,
       "min_width": null,
       "object_fit": null,
       "object_position": null,
       "order": null,
       "overflow": null,
       "overflow_x": null,
       "overflow_y": null,
       "padding": null,
       "right": null,
       "top": null,
       "visibility": null,
       "width": null
      }
     },
     "52867cdbc7e249ba941f22cabc4bcdde": {
      "model_module": "@jupyter-widgets/controls",
      "model_module_version": "1.5.0",
      "model_name": "DescriptionStyleModel",
      "state": {
       "_model_module": "@jupyter-widgets/controls",
       "_model_module_version": "1.5.0",
       "_model_name": "DescriptionStyleModel",
       "_view_count": null,
       "_view_module": "@jupyter-widgets/base",
       "_view_module_version": "1.2.0",
       "_view_name": "StyleView",
       "description_width": ""
      }
     },
     "572ba95c8ae84453a5420411072aa877": {
      "model_module": "@jupyter-widgets/base",
      "model_module_version": "1.2.0",
      "model_name": "LayoutModel",
      "state": {
       "_model_module": "@jupyter-widgets/base",
       "_model_module_version": "1.2.0",
       "_model_name": "LayoutModel",
       "_view_count": null,
       "_view_module": "@jupyter-widgets/base",
       "_view_module_version": "1.2.0",
       "_view_name": "LayoutView",
       "align_content": null,
       "align_items": null,
       "align_self": null,
       "border": null,
       "bottom": null,
       "display": null,
       "flex": null,
       "flex_flow": null,
       "grid_area": null,
       "grid_auto_columns": null,
       "grid_auto_flow": null,
       "grid_auto_rows": null,
       "grid_column": null,
       "grid_gap": null,
       "grid_row": null,
       "grid_template_areas": null,
       "grid_template_columns": null,
       "grid_template_rows": null,
       "height": null,
       "justify_content": null,
       "justify_items": null,
       "left": null,
       "margin": null,
       "max_height": null,
       "max_width": null,
       "min_height": null,
       "min_width": null,
       "object_fit": null,
       "object_position": null,
       "order": null,
       "overflow": null,
       "overflow_x": null,
       "overflow_y": null,
       "padding": null,
       "right": null,
       "top": null,
       "visibility": null,
       "width": null
      }
     },
     "5fc7bf0419114b21b2624a6f3781a123": {
      "model_module": "@jupyter-widgets/base",
      "model_module_version": "1.2.0",
      "model_name": "LayoutModel",
      "state": {
       "_model_module": "@jupyter-widgets/base",
       "_model_module_version": "1.2.0",
       "_model_name": "LayoutModel",
       "_view_count": null,
       "_view_module": "@jupyter-widgets/base",
       "_view_module_version": "1.2.0",
       "_view_name": "LayoutView",
       "align_content": null,
       "align_items": null,
       "align_self": null,
       "border": null,
       "bottom": null,
       "display": null,
       "flex": null,
       "flex_flow": null,
       "grid_area": null,
       "grid_auto_columns": null,
       "grid_auto_flow": null,
       "grid_auto_rows": null,
       "grid_column": null,
       "grid_gap": null,
       "grid_row": null,
       "grid_template_areas": null,
       "grid_template_columns": null,
       "grid_template_rows": null,
       "height": null,
       "justify_content": null,
       "justify_items": null,
       "left": null,
       "margin": null,
       "max_height": null,
       "max_width": null,
       "min_height": null,
       "min_width": null,
       "object_fit": null,
       "object_position": null,
       "order": null,
       "overflow": null,
       "overflow_x": null,
       "overflow_y": null,
       "padding": null,
       "right": null,
       "top": null,
       "visibility": null,
       "width": null
      }
     },
     "609cffa4a85143c1a8e94414de49ca62": {
      "model_module": "@jupyter-widgets/controls",
      "model_module_version": "1.5.0",
      "model_name": "FloatProgressModel",
      "state": {
       "_dom_classes": [],
       "_model_module": "@jupyter-widgets/controls",
       "_model_module_version": "1.5.0",
       "_model_name": "FloatProgressModel",
       "_view_count": null,
       "_view_module": "@jupyter-widgets/controls",
       "_view_module_version": "1.5.0",
       "_view_name": "ProgressView",
       "bar_style": "success",
       "description": "",
       "description_tooltip": null,
       "layout": "IPY_MODEL_cb215ea9dafc4c10a42c938ef267053a",
       "max": 1,
       "min": 0,
       "orientation": "horizontal",
       "style": "IPY_MODEL_07d07cda7be940e28ccee6a297ec3b3f",
       "value": 1
      }
     },
     "6b2753a3adb5401c9d2d2f3954da01b9": {
      "model_module": "@jupyter-widgets/base",
      "model_module_version": "1.2.0",
      "model_name": "LayoutModel",
      "state": {
       "_model_module": "@jupyter-widgets/base",
       "_model_module_version": "1.2.0",
       "_model_name": "LayoutModel",
       "_view_count": null,
       "_view_module": "@jupyter-widgets/base",
       "_view_module_version": "1.2.0",
       "_view_name": "LayoutView",
       "align_content": null,
       "align_items": null,
       "align_self": null,
       "border": null,
       "bottom": null,
       "display": null,
       "flex": null,
       "flex_flow": null,
       "grid_area": null,
       "grid_auto_columns": null,
       "grid_auto_flow": null,
       "grid_auto_rows": null,
       "grid_column": null,
       "grid_gap": null,
       "grid_row": null,
       "grid_template_areas": null,
       "grid_template_columns": null,
       "grid_template_rows": null,
       "height": null,
       "justify_content": null,
       "justify_items": null,
       "left": null,
       "margin": null,
       "max_height": null,
       "max_width": null,
       "min_height": null,
       "min_width": null,
       "object_fit": null,
       "object_position": null,
       "order": null,
       "overflow": null,
       "overflow_x": null,
       "overflow_y": null,
       "padding": null,
       "right": null,
       "top": null,
       "visibility": null,
       "width": null
      }
     },
     "6efb08941f374055b48ae5a5861487a9": {
      "model_module": "@jupyter-widgets/base",
      "model_module_version": "1.2.0",
      "model_name": "LayoutModel",
      "state": {
       "_model_module": "@jupyter-widgets/base",
       "_model_module_version": "1.2.0",
       "_model_name": "LayoutModel",
       "_view_count": null,
       "_view_module": "@jupyter-widgets/base",
       "_view_module_version": "1.2.0",
       "_view_name": "LayoutView",
       "align_content": null,
       "align_items": null,
       "align_self": null,
       "border": null,
       "bottom": null,
       "display": null,
       "flex": null,
       "flex_flow": null,
       "grid_area": null,
       "grid_auto_columns": null,
       "grid_auto_flow": null,
       "grid_auto_rows": null,
       "grid_column": null,
       "grid_gap": null,
       "grid_row": null,
       "grid_template_areas": null,
       "grid_template_columns": null,
       "grid_template_rows": null,
       "height": null,
       "justify_content": null,
       "justify_items": null,
       "left": null,
       "margin": null,
       "max_height": null,
       "max_width": null,
       "min_height": null,
       "min_width": null,
       "object_fit": null,
       "object_position": null,
       "order": null,
       "overflow": null,
       "overflow_x": null,
       "overflow_y": null,
       "padding": null,
       "right": null,
       "top": null,
       "visibility": null,
       "width": null
      }
     },
     "7759c090071e4b9d9c8e80e6d0288997": {
      "model_module": "@jupyter-widgets/controls",
      "model_module_version": "1.5.0",
      "model_name": "HBoxModel",
      "state": {
       "_dom_classes": [],
       "_model_module": "@jupyter-widgets/controls",
       "_model_module_version": "1.5.0",
       "_model_name": "HBoxModel",
       "_view_count": null,
       "_view_module": "@jupyter-widgets/controls",
       "_view_module_version": "1.5.0",
       "_view_name": "HBoxView",
       "box_style": "",
       "children": [
        "IPY_MODEL_33094bca35234db4875fc9570b1142d4",
        "IPY_MODEL_79d026be6e864f9b87fcd31eeee1839d",
        "IPY_MODEL_990d3991981d4432bfabe0d52559c764"
       ],
       "layout": "IPY_MODEL_4ff00a86a8e44de79b2424fbd48c06bd"
      }
     },
     "79d026be6e864f9b87fcd31eeee1839d": {
      "model_module": "@jupyter-widgets/controls",
      "model_module_version": "1.5.0",
      "model_name": "FloatProgressModel",
      "state": {
       "_dom_classes": [],
       "_model_module": "@jupyter-widgets/controls",
       "_model_module_version": "1.5.0",
       "_model_name": "FloatProgressModel",
       "_view_count": null,
       "_view_module": "@jupyter-widgets/controls",
       "_view_module_version": "1.5.0",
       "_view_name": "ProgressView",
       "bar_style": "success",
       "description": "",
       "description_tooltip": null,
       "layout": "IPY_MODEL_e70b8ede9b504142b647b5e967fe6a61",
       "max": 24,
       "min": 0,
       "orientation": "horizontal",
       "style": "IPY_MODEL_e7e45f80d9364412baa0002f6f852112",
       "value": 24
      }
     },
     "9473433e73554ecdaed036d4d5bc6be7": {
      "model_module": "@jupyter-widgets/base",
      "model_module_version": "1.2.0",
      "model_name": "LayoutModel",
      "state": {
       "_model_module": "@jupyter-widgets/base",
       "_model_module_version": "1.2.0",
       "_model_name": "LayoutModel",
       "_view_count": null,
       "_view_module": "@jupyter-widgets/base",
       "_view_module_version": "1.2.0",
       "_view_name": "LayoutView",
       "align_content": null,
       "align_items": null,
       "align_self": null,
       "border": null,
       "bottom": null,
       "display": null,
       "flex": null,
       "flex_flow": null,
       "grid_area": null,
       "grid_auto_columns": null,
       "grid_auto_flow": null,
       "grid_auto_rows": null,
       "grid_column": null,
       "grid_gap": null,
       "grid_row": null,
       "grid_template_areas": null,
       "grid_template_columns": null,
       "grid_template_rows": null,
       "height": null,
       "justify_content": null,
       "justify_items": null,
       "left": null,
       "margin": null,
       "max_height": null,
       "max_width": null,
       "min_height": null,
       "min_width": null,
       "object_fit": null,
       "object_position": null,
       "order": null,
       "overflow": null,
       "overflow_x": null,
       "overflow_y": null,
       "padding": null,
       "right": null,
       "top": null,
       "visibility": null,
       "width": null
      }
     },
     "990d3991981d4432bfabe0d52559c764": {
      "model_module": "@jupyter-widgets/controls",
      "model_module_version": "1.5.0",
      "model_name": "HTMLModel",
      "state": {
       "_dom_classes": [],
       "_model_module": "@jupyter-widgets/controls",
       "_model_module_version": "1.5.0",
       "_model_name": "HTMLModel",
       "_view_count": null,
       "_view_module": "@jupyter-widgets/controls",
       "_view_module_version": "1.5.0",
       "_view_name": "HTMLView",
       "description": "",
       "description_tooltip": null,
       "layout": "IPY_MODEL_e585dd86dd9b45d3b37cddaac5b35c9f",
       "placeholder": "​",
       "style": "IPY_MODEL_1fb15402b5414fbea11ba956bf2557a0",
       "value": " 24/24 [00:13&lt;00:00,  1.13it/s, Completed]"
      }
     },
     "9e1641e07d834e55afebfcc423149a61": {
      "model_module": "@jupyter-widgets/base",
      "model_module_version": "1.2.0",
      "model_name": "LayoutModel",
      "state": {
       "_model_module": "@jupyter-widgets/base",
       "_model_module_version": "1.2.0",
       "_model_name": "LayoutModel",
       "_view_count": null,
       "_view_module": "@jupyter-widgets/base",
       "_view_module_version": "1.2.0",
       "_view_name": "LayoutView",
       "align_content": null,
       "align_items": null,
       "align_self": null,
       "border": null,
       "bottom": null,
       "display": null,
       "flex": null,
       "flex_flow": null,
       "grid_area": null,
       "grid_auto_columns": null,
       "grid_auto_flow": null,
       "grid_auto_rows": null,
       "grid_column": null,
       "grid_gap": null,
       "grid_row": null,
       "grid_template_areas": null,
       "grid_template_columns": null,
       "grid_template_rows": null,
       "height": null,
       "justify_content": null,
       "justify_items": null,
       "left": null,
       "margin": null,
       "max_height": null,
       "max_width": null,
       "min_height": null,
       "min_width": null,
       "object_fit": null,
       "object_position": null,
       "order": null,
       "overflow": null,
       "overflow_x": null,
       "overflow_y": null,
       "padding": null,
       "right": null,
       "top": null,
       "visibility": null,
       "width": null
      }
     },
     "a1fe48f2c44f43e8b01595d23e71cb50": {
      "model_module": "@jupyter-widgets/base",
      "model_module_version": "1.2.0",
      "model_name": "LayoutModel",
      "state": {
       "_model_module": "@jupyter-widgets/base",
       "_model_module_version": "1.2.0",
       "_model_name": "LayoutModel",
       "_view_count": null,
       "_view_module": "@jupyter-widgets/base",
       "_view_module_version": "1.2.0",
       "_view_name": "LayoutView",
       "align_content": null,
       "align_items": null,
       "align_self": null,
       "border": null,
       "bottom": null,
       "display": null,
       "flex": null,
       "flex_flow": null,
       "grid_area": null,
       "grid_auto_columns": null,
       "grid_auto_flow": null,
       "grid_auto_rows": null,
       "grid_column": null,
       "grid_gap": null,
       "grid_row": null,
       "grid_template_areas": null,
       "grid_template_columns": null,
       "grid_template_rows": null,
       "height": null,
       "justify_content": null,
       "justify_items": null,
       "left": null,
       "margin": null,
       "max_height": null,
       "max_width": null,
       "min_height": null,
       "min_width": null,
       "object_fit": null,
       "object_position": null,
       "order": null,
       "overflow": null,
       "overflow_x": null,
       "overflow_y": null,
       "padding": null,
       "right": null,
       "top": null,
       "visibility": null,
       "width": null
      }
     },
     "ab678df34a26485c99a32993f18dd7a7": {
      "model_module": "@jupyter-widgets/controls",
      "model_module_version": "1.5.0",
      "model_name": "HTMLModel",
      "state": {
       "_dom_classes": [],
       "_model_module": "@jupyter-widgets/controls",
       "_model_module_version": "1.5.0",
       "_model_name": "HTMLModel",
       "_view_count": null,
       "_view_module": "@jupyter-widgets/controls",
       "_view_module_version": "1.5.0",
       "_view_name": "HTMLView",
       "description": "",
       "description_tooltip": null,
       "layout": "IPY_MODEL_6b2753a3adb5401c9d2d2f3954da01b9",
       "placeholder": "​",
       "style": "IPY_MODEL_dcf5285e2b4444028198b15c2b0f8cbb",
       "value": " 1/1 [00:01&lt;00:00,  1.88s/it]"
      }
     },
     "b5bba69e6cb74be68ccce91e5ed38d7a": {
      "model_module": "@jupyter-widgets/controls",
      "model_module_version": "1.5.0",
      "model_name": "ProgressStyleModel",
      "state": {
       "_model_module": "@jupyter-widgets/controls",
       "_model_module_version": "1.5.0",
       "_model_name": "ProgressStyleModel",
       "_view_count": null,
       "_view_module": "@jupyter-widgets/base",
       "_view_module_version": "1.2.0",
       "_view_name": "StyleView",
       "bar_color": null,
       "description_width": ""
      }
     },
     "be1959973d754429b0fc2609b46efb32": {
      "model_module": "@jupyter-widgets/controls",
      "model_module_version": "1.5.0",
      "model_name": "DescriptionStyleModel",
      "state": {
       "_model_module": "@jupyter-widgets/controls",
       "_model_module_version": "1.5.0",
       "_model_name": "DescriptionStyleModel",
       "_view_count": null,
       "_view_module": "@jupyter-widgets/base",
       "_view_module_version": "1.2.0",
       "_view_name": "StyleView",
       "description_width": ""
      }
     },
     "cb215ea9dafc4c10a42c938ef267053a": {
      "model_module": "@jupyter-widgets/base",
      "model_module_version": "1.2.0",
      "model_name": "LayoutModel",
      "state": {
       "_model_module": "@jupyter-widgets/base",
       "_model_module_version": "1.2.0",
       "_model_name": "LayoutModel",
       "_view_count": null,
       "_view_module": "@jupyter-widgets/base",
       "_view_module_version": "1.2.0",
       "_view_name": "LayoutView",
       "align_content": null,
       "align_items": null,
       "align_self": null,
       "border": null,
       "bottom": null,
       "display": null,
       "flex": null,
       "flex_flow": null,
       "grid_area": null,
       "grid_auto_columns": null,
       "grid_auto_flow": null,
       "grid_auto_rows": null,
       "grid_column": null,
       "grid_gap": null,
       "grid_row": null,
       "grid_template_areas": null,
       "grid_template_columns": null,
       "grid_template_rows": null,
       "height": null,
       "justify_content": null,
       "justify_items": null,
       "left": null,
       "margin": null,
       "max_height": null,
       "max_width": null,
       "min_height": null,
       "min_width": null,
       "object_fit": null,
       "object_position": null,
       "order": null,
       "overflow": null,
       "overflow_x": null,
       "overflow_y": null,
       "padding": null,
       "right": null,
       "top": null,
       "visibility": null,
       "width": null
      }
     },
     "d06bd548854345d7831f15cc1ac89aad": {
      "model_module": "@jupyter-widgets/controls",
      "model_module_version": "1.5.0",
      "model_name": "HTMLModel",
      "state": {
       "_dom_classes": [],
       "_model_module": "@jupyter-widgets/controls",
       "_model_module_version": "1.5.0",
       "_model_name": "HTMLModel",
       "_view_count": null,
       "_view_module": "@jupyter-widgets/controls",
       "_view_module_version": "1.5.0",
       "_view_name": "HTMLView",
       "description": "",
       "description_tooltip": null,
       "layout": "IPY_MODEL_a1fe48f2c44f43e8b01595d23e71cb50",
       "placeholder": "​",
       "style": "IPY_MODEL_13b7fb6873e74d06ade8127d5b5bb8fb",
       "value": " 1/1 [00:03&lt;00:00,  3.89s/it]"
      }
     },
     "d1c36c0e33a949fbb2e47ea4af75bc36": {
      "model_module": "@jupyter-widgets/controls",
      "model_module_version": "1.5.0",
      "model_name": "FloatProgressModel",
      "state": {
       "_dom_classes": [],
       "_model_module": "@jupyter-widgets/controls",
       "_model_module_version": "1.5.0",
       "_model_name": "FloatProgressModel",
       "_view_count": null,
       "_view_module": "@jupyter-widgets/controls",
       "_view_module_version": "1.5.0",
       "_view_name": "ProgressView",
       "bar_style": "success",
       "description": "",
       "description_tooltip": null,
       "layout": "IPY_MODEL_9e1641e07d834e55afebfcc423149a61",
       "max": 1,
       "min": 0,
       "orientation": "horizontal",
       "style": "IPY_MODEL_b5bba69e6cb74be68ccce91e5ed38d7a",
       "value": 1
      }
     },
     "dcf5285e2b4444028198b15c2b0f8cbb": {
      "model_module": "@jupyter-widgets/controls",
      "model_module_version": "1.5.0",
      "model_name": "DescriptionStyleModel",
      "state": {
       "_model_module": "@jupyter-widgets/controls",
       "_model_module_version": "1.5.0",
       "_model_name": "DescriptionStyleModel",
       "_view_count": null,
       "_view_module": "@jupyter-widgets/base",
       "_view_module_version": "1.2.0",
       "_view_name": "StyleView",
       "description_width": ""
      }
     },
     "e585dd86dd9b45d3b37cddaac5b35c9f": {
      "model_module": "@jupyter-widgets/base",
      "model_module_version": "1.2.0",
      "model_name": "LayoutModel",
      "state": {
       "_model_module": "@jupyter-widgets/base",
       "_model_module_version": "1.2.0",
       "_model_name": "LayoutModel",
       "_view_count": null,
       "_view_module": "@jupyter-widgets/base",
       "_view_module_version": "1.2.0",
       "_view_name": "LayoutView",
       "align_content": null,
       "align_items": null,
       "align_self": null,
       "border": null,
       "bottom": null,
       "display": null,
       "flex": null,
       "flex_flow": null,
       "grid_area": null,
       "grid_auto_columns": null,
       "grid_auto_flow": null,
       "grid_auto_rows": null,
       "grid_column": null,
       "grid_gap": null,
       "grid_row": null,
       "grid_template_areas": null,
       "grid_template_columns": null,
       "grid_template_rows": null,
       "height": null,
       "justify_content": null,
       "justify_items": null,
       "left": null,
       "margin": null,
       "max_height": null,
       "max_width": null,
       "min_height": null,
       "min_width": null,
       "object_fit": null,
       "object_position": null,
       "order": null,
       "overflow": null,
       "overflow_x": null,
       "overflow_y": null,
       "padding": null,
       "right": null,
       "top": null,
       "visibility": null,
       "width": null
      }
     },
     "e70b8ede9b504142b647b5e967fe6a61": {
      "model_module": "@jupyter-widgets/base",
      "model_module_version": "1.2.0",
      "model_name": "LayoutModel",
      "state": {
       "_model_module": "@jupyter-widgets/base",
       "_model_module_version": "1.2.0",
       "_model_name": "LayoutModel",
       "_view_count": null,
       "_view_module": "@jupyter-widgets/base",
       "_view_module_version": "1.2.0",
       "_view_name": "LayoutView",
       "align_content": null,
       "align_items": null,
       "align_self": null,
       "border": null,
       "bottom": null,
       "display": null,
       "flex": null,
       "flex_flow": null,
       "grid_area": null,
       "grid_auto_columns": null,
       "grid_auto_flow": null,
       "grid_auto_rows": null,
       "grid_column": null,
       "grid_gap": null,
       "grid_row": null,
       "grid_template_areas": null,
       "grid_template_columns": null,
       "grid_template_rows": null,
       "height": null,
       "justify_content": null,
       "justify_items": null,
       "left": null,
       "margin": null,
       "max_height": null,
       "max_width": null,
       "min_height": null,
       "min_width": null,
       "object_fit": null,
       "object_position": null,
       "order": null,
       "overflow": null,
       "overflow_x": null,
       "overflow_y": null,
       "padding": null,
       "right": null,
       "top": null,
       "visibility": null,
       "width": null
      }
     },
     "e7e45f80d9364412baa0002f6f852112": {
      "model_module": "@jupyter-widgets/controls",
      "model_module_version": "1.5.0",
      "model_name": "ProgressStyleModel",
      "state": {
       "_model_module": "@jupyter-widgets/controls",
       "_model_module_version": "1.5.0",
       "_model_name": "ProgressStyleModel",
       "_view_count": null,
       "_view_module": "@jupyter-widgets/base",
       "_view_module_version": "1.2.0",
       "_view_name": "StyleView",
       "bar_color": null,
       "description_width": ""
      }
     },
     "e9ff345ed5894a45a4ab5540048fa71d": {
      "model_module": "@jupyter-widgets/base",
      "model_module_version": "1.2.0",
      "model_name": "LayoutModel",
      "state": {
       "_model_module": "@jupyter-widgets/base",
       "_model_module_version": "1.2.0",
       "_model_name": "LayoutModel",
       "_view_count": null,
       "_view_module": "@jupyter-widgets/base",
       "_view_module_version": "1.2.0",
       "_view_name": "LayoutView",
       "align_content": null,
       "align_items": null,
       "align_self": null,
       "border": null,
       "bottom": null,
       "display": null,
       "flex": null,
       "flex_flow": null,
       "grid_area": null,
       "grid_auto_columns": null,
       "grid_auto_flow": null,
       "grid_auto_rows": null,
       "grid_column": null,
       "grid_gap": null,
       "grid_row": null,
       "grid_template_areas": null,
       "grid_template_columns": null,
       "grid_template_rows": null,
       "height": null,
       "justify_content": null,
       "justify_items": null,
       "left": null,
       "margin": null,
       "max_height": null,
       "max_width": null,
       "min_height": null,
       "min_width": null,
       "object_fit": null,
       "object_position": null,
       "order": null,
       "overflow": null,
       "overflow_x": null,
       "overflow_y": null,
       "padding": null,
       "right": null,
       "top": null,
       "visibility": null,
       "width": null
      }
     },
     "fefd51cfcc9b4c638272ba217dd47eac": {
      "model_module": "@jupyter-widgets/controls",
      "model_module_version": "1.5.0",
      "model_name": "DescriptionStyleModel",
      "state": {
       "_model_module": "@jupyter-widgets/controls",
       "_model_module_version": "1.5.0",
       "_model_name": "DescriptionStyleModel",
       "_view_count": null,
       "_view_module": "@jupyter-widgets/base",
       "_view_module_version": "1.2.0",
       "_view_name": "StyleView",
       "description_width": ""
      }
     }
    },
    "version_major": 2,
    "version_minor": 0
   }
  }
 },
 "nbformat": 4,
 "nbformat_minor": 5
}
